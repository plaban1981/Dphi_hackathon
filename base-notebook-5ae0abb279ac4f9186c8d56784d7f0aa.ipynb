{
  "nbformat": 4,
  "nbformat_minor": 0,
  "metadata": {
    "colab": {
      "name": "food classifier.ipynb",
      "provenance": []
    },
    "kernelspec": {
      "name": "python3",
      "display_name": "Python 3"
    },
    "accelerator": "GPU"
  },
  "cells": [
    {
      "cell_type": "code",
      "metadata": {
        "colab": {
          "base_uri": "https://localhost:8080/"
        },
        "id": "yBTReXOl1_ck",
        "outputId": "58bcdf63-d73f-42d7-fb7d-ca6eca3541b0"
      },
      "source": [
        "!unzip /content/drive/MyDrive/food_classifier_data.zip"
      ],
      "execution_count": null,
      "outputs": [
        {
          "output_type": "stream",
          "text": [
            "Archive:  /content/drive/MyDrive/food_classifier_data.zip\n",
            "replace food_classifier_data/sample_submission.csv? [y]es, [n]o, [A]ll, [N]one, [r]ename: "
          ],
          "name": "stdout"
        }
      ]
    },
    {
      "cell_type": "code",
      "metadata": {
        "colab": {
          "base_uri": "https://localhost:8080/"
        },
        "id": "WYSt5Ggs3-Y7",
        "outputId": "37b61f92-8b5a-4d05-c4d9-210fe766d45c"
      },
      "source": [
        "import pandas as pd\r\n",
        "train = pd.read_csv('/content/food_classifier_data/Training_set_food.csv')\r\n",
        "#test = pd.read_csv('dataset/test.csv')\r\n",
        "print(train.head())"
      ],
      "execution_count": null,
      "outputs": [
        {
          "output_type": "stream",
          "text": [
            "      filename    label\n",
            "0  Image_1.jpg  burgers\n",
            "1  Image_2.jpg  burgers\n",
            "2  Image_3.jpg  burgers\n",
            "3  Image_4.jpg  burgers\n",
            "4  Image_5.jpg  burgers\n"
          ],
          "name": "stdout"
        }
      ]
    },
    {
      "cell_type": "code",
      "metadata": {
        "id": "WPGYpGX44Gn0"
      },
      "source": [
        "\r\n",
        "from fastai.imports import *\r\n",
        "from fastai import *\r\n",
        "from fastai.vision import *\r\n",
        "from torchvision.models import *"
      ],
      "execution_count": null,
      "outputs": []
    },
    {
      "cell_type": "code",
      "metadata": {
        "colab": {
          "base_uri": "https://localhost:8080/"
        },
        "id": "5RrPfJug4LHj",
        "outputId": "2dc49f92-bc6d-4167-fec9-261372ec1840"
      },
      "source": [
        "path='/content/food_classifier_data'\r\n",
        "tfms = get_transforms(do_flip = True, max_lighting = 0.2, max_zoom= 1.1, max_warp = 0.15, max_rotate = 45)\r\n",
        "data = ImageDataBunch.from_csv(path, folder= 'train', \r\n",
        "                              valid_pct = 0.0,\r\n",
        "                              csv_labels = 'Training_set_food.csv',\r\n",
        "                              ds_tfms = tfms, \r\n",
        "                              fn_col = 'filename',\r\n",
        "                              test = '/content/food_classifier_data/test', \r\n",
        "                              label_col = 'label',\r\n",
        "                              bs = 32,\r\n",
        "                              size = 224).normalize(imagenet_stats)"
      ],
      "execution_count": null,
      "outputs": [
        {
          "output_type": "stream",
          "text": [
            "/usr/local/lib/python3.6/dist-packages/torch/nn/functional.py:3103: UserWarning: The default behavior for interpolate/upsample with float scale_factor changed in 1.6.0 to align with other frameworks/libraries, and now uses scale_factor directly, instead of relying on the computed output size. If you wish to restore the old behavior, please set recompute_scale_factor=True. See the documentation of nn.Upsample for details. \n",
            "  warnings.warn(\"The default behavior for interpolate/upsample with float scale_factor changed \"\n",
            "/usr/local/lib/python3.6/dist-packages/torch/nn/functional.py:3103: UserWarning: The default behavior for interpolate/upsample with float scale_factor changed in 1.6.0 to align with other frameworks/libraries, and now uses scale_factor directly, instead of relying on the computed output size. If you wish to restore the old behavior, please set recompute_scale_factor=True. See the documentation of nn.Upsample for details. \n",
            "  warnings.warn(\"The default behavior for interpolate/upsample with float scale_factor changed \"\n",
            "/usr/local/lib/python3.6/dist-packages/torch/nn/functional.py:3103: UserWarning: The default behavior for interpolate/upsample with float scale_factor changed in 1.6.0 to align with other frameworks/libraries, and now uses scale_factor directly, instead of relying on the computed output size. If you wish to restore the old behavior, please set recompute_scale_factor=True. See the documentation of nn.Upsample for details. \n",
            "  warnings.warn(\"The default behavior for interpolate/upsample with float scale_factor changed \"\n",
            "/usr/local/lib/python3.6/dist-packages/torch/nn/functional.py:3103: UserWarning: The default behavior for interpolate/upsample with float scale_factor changed in 1.6.0 to align with other frameworks/libraries, and now uses scale_factor directly, instead of relying on the computed output size. If you wish to restore the old behavior, please set recompute_scale_factor=True. See the documentation of nn.Upsample for details. \n",
            "  warnings.warn(\"The default behavior for interpolate/upsample with float scale_factor changed \"\n",
            "/usr/local/lib/python3.6/dist-packages/torch/nn/functional.py:3103: UserWarning: The default behavior for interpolate/upsample with float scale_factor changed in 1.6.0 to align with other frameworks/libraries, and now uses scale_factor directly, instead of relying on the computed output size. If you wish to restore the old behavior, please set recompute_scale_factor=True. See the documentation of nn.Upsample for details. \n",
            "  warnings.warn(\"The default behavior for interpolate/upsample with float scale_factor changed \"\n"
          ],
          "name": "stderr"
        }
      ]
    },
    {
      "cell_type": "code",
      "metadata": {
        "colab": {
          "base_uri": "https://localhost:8080/",
          "height": 225
        },
        "id": "LgYrzSVa4aQi",
        "outputId": "2e9cf8b7-72b8-4957-83d1-07d46be06216"
      },
      "source": [
        "import warnings\r\n",
        "warnings.filterwarnings('ignore')\r\n",
        "fbeta = FBeta(average='weighted', beta = 1)\r\n",
        "learn = cnn_learner(data, models.densenet121, metrics=[accuracy, fbeta])\r\n",
        "learn.fit_one_cycle(6, max_lr =[8e-6, 8e-4, 8e-3] )#slice(8e-6, 8e-3)\r\n",
        "  #Finding learning rate based on the training"
      ],
      "execution_count": null,
      "outputs": [
        {
          "output_type": "display_data",
          "data": {
            "text/html": [
              "<table border=\"1\" class=\"dataframe\">\n",
              "  <thead>\n",
              "    <tr style=\"text-align: left;\">\n",
              "      <th>epoch</th>\n",
              "      <th>train_loss</th>\n",
              "      <th>valid_loss</th>\n",
              "      <th>accuracy</th>\n",
              "      <th>f_beta</th>\n",
              "      <th>time</th>\n",
              "    </tr>\n",
              "  </thead>\n",
              "  <tbody>\n",
              "    <tr>\n",
              "      <td>0</td>\n",
              "      <td>0.283926</td>\n",
              "      <td>#na#</td>\n",
              "      <td>01:37</td>\n",
              "    </tr>\n",
              "    <tr>\n",
              "      <td>1</td>\n",
              "      <td>0.253509</td>\n",
              "      <td>#na#</td>\n",
              "      <td>01:38</td>\n",
              "    </tr>\n",
              "    <tr>\n",
              "      <td>2</td>\n",
              "      <td>0.199278</td>\n",
              "      <td>#na#</td>\n",
              "      <td>01:38</td>\n",
              "    </tr>\n",
              "    <tr>\n",
              "      <td>3</td>\n",
              "      <td>0.113069</td>\n",
              "      <td>#na#</td>\n",
              "      <td>01:39</td>\n",
              "    </tr>\n",
              "    <tr>\n",
              "      <td>4</td>\n",
              "      <td>0.093817</td>\n",
              "      <td>#na#</td>\n",
              "      <td>01:40</td>\n",
              "    </tr>\n",
              "    <tr>\n",
              "      <td>5</td>\n",
              "      <td>0.066003</td>\n",
              "      <td>#na#</td>\n",
              "      <td>01:39</td>\n",
              "    </tr>\n",
              "  </tbody>\n",
              "</table>"
            ],
            "text/plain": [
              "<IPython.core.display.HTML object>"
            ]
          },
          "metadata": {
            "tags": []
          }
        }
      ]
    },
    {
      "cell_type": "code",
      "metadata": {
        "id": "Mp5hfIX-6-Qr"
      },
      "source": [
        "test=pd.read_csv(\"/content/food_classifier_data/Testing_set_food.csv\")"
      ],
      "execution_count": null,
      "outputs": []
    },
    {
      "cell_type": "code",
      "metadata": {
        "colab": {
          "base_uri": "https://localhost:8080/",
          "height": 402
        },
        "id": "gqiu2VRQ7Bj7",
        "outputId": "fc8a7542-a220-4eb1-87a5-fb324803c0bb"
      },
      "source": [
        "test"
      ],
      "execution_count": null,
      "outputs": [
        {
          "output_type": "execute_result",
          "data": {
            "text/html": [
              "<div>\n",
              "<style scoped>\n",
              "    .dataframe tbody tr th:only-of-type {\n",
              "        vertical-align: middle;\n",
              "    }\n",
              "\n",
              "    .dataframe tbody tr th {\n",
              "        vertical-align: top;\n",
              "    }\n",
              "\n",
              "    .dataframe thead th {\n",
              "        text-align: right;\n",
              "    }\n",
              "</style>\n",
              "<table border=\"1\" class=\"dataframe\">\n",
              "  <thead>\n",
              "    <tr style=\"text-align: right;\">\n",
              "      <th></th>\n",
              "      <th>filename</th>\n",
              "    </tr>\n",
              "  </thead>\n",
              "  <tbody>\n",
              "    <tr>\n",
              "      <th>0</th>\n",
              "      <td>Image_1.jpg</td>\n",
              "    </tr>\n",
              "    <tr>\n",
              "      <th>1</th>\n",
              "      <td>Image_2.jpg</td>\n",
              "    </tr>\n",
              "    <tr>\n",
              "      <th>2</th>\n",
              "      <td>Image_3.jpg</td>\n",
              "    </tr>\n",
              "    <tr>\n",
              "      <th>3</th>\n",
              "      <td>Image_4.jpg</td>\n",
              "    </tr>\n",
              "    <tr>\n",
              "      <th>4</th>\n",
              "      <td>Image_5.jpg</td>\n",
              "    </tr>\n",
              "    <tr>\n",
              "      <th>...</th>\n",
              "      <td>...</td>\n",
              "    </tr>\n",
              "    <tr>\n",
              "      <th>1795</th>\n",
              "      <td>Image_1796.jpg</td>\n",
              "    </tr>\n",
              "    <tr>\n",
              "      <th>1796</th>\n",
              "      <td>Image_1797.jpg</td>\n",
              "    </tr>\n",
              "    <tr>\n",
              "      <th>1797</th>\n",
              "      <td>Image_1798.jpg</td>\n",
              "    </tr>\n",
              "    <tr>\n",
              "      <th>1798</th>\n",
              "      <td>Image_1799.jpg</td>\n",
              "    </tr>\n",
              "    <tr>\n",
              "      <th>1799</th>\n",
              "      <td>Image_1800.jpg</td>\n",
              "    </tr>\n",
              "  </tbody>\n",
              "</table>\n",
              "<p>1800 rows × 1 columns</p>\n",
              "</div>"
            ],
            "text/plain": [
              "            filename\n",
              "0        Image_1.jpg\n",
              "1        Image_2.jpg\n",
              "2        Image_3.jpg\n",
              "3        Image_4.jpg\n",
              "4        Image_5.jpg\n",
              "...              ...\n",
              "1795  Image_1796.jpg\n",
              "1796  Image_1797.jpg\n",
              "1797  Image_1798.jpg\n",
              "1798  Image_1799.jpg\n",
              "1799  Image_1800.jpg\n",
              "\n",
              "[1800 rows x 1 columns]"
            ]
          },
          "metadata": {
            "tags": []
          },
          "execution_count": 42
        }
      ]
    },
    {
      "cell_type": "code",
      "metadata": {
        "colab": {
          "base_uri": "https://localhost:8080/"
        },
        "id": "h6RVg5wrOlsx",
        "outputId": "4de0be2b-c73d-434d-b736-cf374587190e"
      },
      "source": [
        "learn.predict(img)"
      ],
      "execution_count": null,
      "outputs": [
        {
          "output_type": "execute_result",
          "data": {
            "text/plain": [
              "(Category tensor(1), tensor(1), tensor([1.1475e-08, 1.0000e+00, 2.0113e-07]))"
            ]
          },
          "metadata": {
            "tags": []
          },
          "execution_count": 32
        }
      ]
    },
    {
      "cell_type": "code",
      "metadata": {
        "colab": {
          "base_uri": "https://localhost:8080/"
        },
        "id": "oo8XP4Nj60Ov",
        "outputId": "a915484a-3815-4d16-c6b2-0f4af33c8d9c"
      },
      "source": [
        "import tqdm,os,numpy\r\n",
        "\r\n",
        "test['1']=np.nan\r\n",
        "test['2']=np.nan\r\n",
        "test['3']=np.nan\r\n",
        "for count,rows in tqdm.tqdm(enumerate(test['filename'])):\r\n",
        "  img=open_image(os.path.join('/content/food_classifier_data/test',test['filename'][count]))\r\n",
        "  test['1'][count]=learn.predict(img)[-1].numpy()[0]\r\n",
        "  test['2'][count]=learn.predict(img)[-1].numpy()[1]\r\n",
        "  test['3'][count]=learn.predict(img)[-1].numpy()[2]\r\n",
        "  #print(learn.predict(img))"
      ],
      "execution_count": null,
      "outputs": [
        {
          "output_type": "stream",
          "text": [
            "1800it [02:56, 10.21it/s]\n"
          ],
          "name": "stderr"
        }
      ]
    },
    {
      "cell_type": "code",
      "metadata": {
        "id": "zQM_4vFAPhCS"
      },
      "source": [
        "test.to_csv(\"d121.csv\",index=False)"
      ],
      "execution_count": null,
      "outputs": []
    },
    {
      "cell_type": "code",
      "metadata": {
        "colab": {
          "base_uri": "https://localhost:8080/",
          "height": 17
        },
        "id": "M_v1J5gaJWmC",
        "outputId": "a98fad07-29ef-4c85-8a25-f5421c111ab7"
      },
      "source": [
        "l2=learn.get_preds(DatasetType.Test)[0].numpy()"
      ],
      "execution_count": null,
      "outputs": [
        {
          "output_type": "display_data",
          "data": {
            "text/html": [
              ""
            ],
            "text/plain": [
              "<IPython.core.display.HTML object>"
            ]
          },
          "metadata": {
            "tags": []
          }
        }
      ]
    },
    {
      "cell_type": "code",
      "metadata": {
        "id": "apFOSxtgKZrp"
      },
      "source": [
        "import pickle\r\n",
        "with open('r34.pb','wb') as f:\r\n",
        "  pickle.dump(l1,f)"
      ],
      "execution_count": null,
      "outputs": []
    },
    {
      "cell_type": "code",
      "metadata": {
        "id": "xTIYNpro7rff"
      },
      "source": [
        "test['prediction'].to_csv(\"submit_food.csv\",index=False)"
      ],
      "execution_count": null,
      "outputs": []
    },
    {
      "cell_type": "code",
      "metadata": {
        "colab": {
          "base_uri": "https://localhost:8080/"
        },
        "id": "dXrysvEOBq4d",
        "outputId": "7f7911f5-7838-4225-854a-41c853188240"
      },
      "source": [
        "data.classes"
      ],
      "execution_count": null,
      "outputs": [
        {
          "output_type": "execute_result",
          "data": {
            "text/plain": [
              "['Pizza', 'Softdrinks', 'burgers']"
            ]
          },
          "metadata": {
            "tags": []
          },
          "execution_count": 32
        }
      ]
    },
    {
      "cell_type": "code",
      "metadata": {
        "colab": {
          "base_uri": "https://localhost:8080/"
        },
        "id": "CKcCXv2qC-Vl",
        "outputId": "4b8a97a7-d668-41b9-8924-86799498dc58"
      },
      "source": [
        "test['prediction']=np.nan\r\n",
        "for count,rows in tqdm.tqdm(enumerate(test['filename'])):\r\n",
        "  test['1'][count]=data.classes[np.argmax(l[count])]"
      ],
      "execution_count": null,
      "outputs": [
        {
          "output_type": "stream",
          "text": [
            "1800it [00:00, 13108.77it/s]\n"
          ],
          "name": "stderr"
        }
      ]
    },
    {
      "cell_type": "code",
      "metadata": {
        "colab": {
          "base_uri": "https://localhost:8080/",
          "height": 402
        },
        "id": "Wgtdb5gPDpEQ",
        "outputId": "0d1e4d24-da4f-4b09-a86b-547c3018662f"
      },
      "source": [
        "test"
      ],
      "execution_count": null,
      "outputs": [
        {
          "output_type": "execute_result",
          "data": {
            "text/html": [
              "<div>\n",
              "<style scoped>\n",
              "    .dataframe tbody tr th:only-of-type {\n",
              "        vertical-align: middle;\n",
              "    }\n",
              "\n",
              "    .dataframe tbody tr th {\n",
              "        vertical-align: top;\n",
              "    }\n",
              "\n",
              "    .dataframe thead th {\n",
              "        text-align: right;\n",
              "    }\n",
              "</style>\n",
              "<table border=\"1\" class=\"dataframe\">\n",
              "  <thead>\n",
              "    <tr style=\"text-align: right;\">\n",
              "      <th></th>\n",
              "      <th>filename</th>\n",
              "      <th>prediction</th>\n",
              "    </tr>\n",
              "  </thead>\n",
              "  <tbody>\n",
              "    <tr>\n",
              "      <th>0</th>\n",
              "      <td>Image_1.jpg</td>\n",
              "      <td>Softdrinks</td>\n",
              "    </tr>\n",
              "    <tr>\n",
              "      <th>1</th>\n",
              "      <td>Image_2.jpg</td>\n",
              "      <td>Softdrinks</td>\n",
              "    </tr>\n",
              "    <tr>\n",
              "      <th>2</th>\n",
              "      <td>Image_3.jpg</td>\n",
              "      <td>Pizza</td>\n",
              "    </tr>\n",
              "    <tr>\n",
              "      <th>3</th>\n",
              "      <td>Image_4.jpg</td>\n",
              "      <td>Pizza</td>\n",
              "    </tr>\n",
              "    <tr>\n",
              "      <th>4</th>\n",
              "      <td>Image_5.jpg</td>\n",
              "      <td>Pizza</td>\n",
              "    </tr>\n",
              "    <tr>\n",
              "      <th>...</th>\n",
              "      <td>...</td>\n",
              "      <td>...</td>\n",
              "    </tr>\n",
              "    <tr>\n",
              "      <th>1795</th>\n",
              "      <td>Image_1796.jpg</td>\n",
              "      <td>burgers</td>\n",
              "    </tr>\n",
              "    <tr>\n",
              "      <th>1796</th>\n",
              "      <td>Image_1797.jpg</td>\n",
              "      <td>burgers</td>\n",
              "    </tr>\n",
              "    <tr>\n",
              "      <th>1797</th>\n",
              "      <td>Image_1798.jpg</td>\n",
              "      <td>Pizza</td>\n",
              "    </tr>\n",
              "    <tr>\n",
              "      <th>1798</th>\n",
              "      <td>Image_1799.jpg</td>\n",
              "      <td>burgers</td>\n",
              "    </tr>\n",
              "    <tr>\n",
              "      <th>1799</th>\n",
              "      <td>Image_1800.jpg</td>\n",
              "      <td>Softdrinks</td>\n",
              "    </tr>\n",
              "  </tbody>\n",
              "</table>\n",
              "<p>1800 rows × 2 columns</p>\n",
              "</div>"
            ],
            "text/plain": [
              "            filename  prediction\n",
              "0        Image_1.jpg  Softdrinks\n",
              "1        Image_2.jpg  Softdrinks\n",
              "2        Image_3.jpg       Pizza\n",
              "3        Image_4.jpg       Pizza\n",
              "4        Image_5.jpg       Pizza\n",
              "...              ...         ...\n",
              "1795  Image_1796.jpg     burgers\n",
              "1796  Image_1797.jpg     burgers\n",
              "1797  Image_1798.jpg       Pizza\n",
              "1798  Image_1799.jpg     burgers\n",
              "1799  Image_1800.jpg  Softdrinks\n",
              "\n",
              "[1800 rows x 2 columns]"
            ]
          },
          "metadata": {
            "tags": []
          },
          "execution_count": 43
        }
      ]
    },
    {
      "cell_type": "code",
      "metadata": {
        "id": "Rp-1RCBhBKm0"
      },
      "source": [
        "test['prediction'].to_csv('tta.csv',index=False)"
      ],
      "execution_count": null,
      "outputs": []
    }
  ]
}