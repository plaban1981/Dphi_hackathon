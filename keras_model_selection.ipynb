{
  "nbformat": 4,
  "nbformat_minor": 0,
  "metadata": {
    "kernelspec": {
      "display_name": "Python 3",
      "language": "python",
      "name": "python3"
    },
    "language_info": {
      "codemirror_mode": {
        "name": "ipython",
        "version": 3
      },
      "file_extension": ".py",
      "mimetype": "text/x-python",
      "name": "python",
      "nbconvert_exporter": "python",
      "pygments_lexer": "ipython3",
      "version": "3.7.9"
    },
    "colab": {
      "name": "keras_model_selection.ipynb",
      "provenance": []
    }
  },
  "cells": [
    {
      "cell_type": "markdown",
      "metadata": {
        "id": "qBTwEvFBiWUu"
      },
      "source": [
        "# Best Keras Pre-Trained Model for Image Classification\n",
        "[![Open In Colab](https://colab.research.google.com/assets/colab-badge.svg)](https://colab.research.google.com/github/stephenleo/keras-model-selection/blob/main/keras_model_selection.ipynb)\n",
        "\n",
        "When in doubt, use data to decide!\n",
        "\n",
        "![Choice Overload](images/choice_overload.jpg \"Choice Overload\")\n",
        "\n",
        "Overchoice or choice overload is a cognitive impairment in which people have difficulty making a decision when faced with many options [[Reference]](https://en.wikipedia.org/wiki/Overchoice). Deciding which pre-trained model to use in your Deep Learning task ranks at the same level of classical dilemmas like what movie to watch on Netflix and what cereal to buy at the supermarket (P.S. buy the one with the least sugar and highest fiber content). This post will use a data-driven approach in Python to find out the best Keras Pre-Trained model for the `cats_vs_dogs` dataset. This post and the code provided will also help you easily choose the best Pre-Trained model for your problem's dataset."
      ]
    },
    {
      "cell_type": "markdown",
      "metadata": {
        "id": "MQn_4hFLiWUu"
      },
      "source": [
        "## Background\n",
        "Transfer learning is a technique in machine learning where we can take a model developed on one task and use it as a starting point in some other similar but different tasks. Transfer learning is extremely popular in Deep Learning since the \"transfer\" of knowledge from one \"parent\" model to a \"child\" model means that the \"child\" model can be trained to high accuracies with a much smaller dataset compared to the \"parent\" model. You can find more details about Transfer Learning at this excellent [Medium post](https://towardsdatascience.com/a-comprehensive-hands-on-guide-to-transfer-learning-with-real-world-applications-in-deep-learning-212bf3b2f27a)\n",
        "\n",
        "High-level Deep Learning frameworks like TensorFlow and Pytorch have made it incredibly easy to leverage the power of Transfer learning by including several pre-trained models within the package itself. For example, the [TensorFlow Keras API](https://www.tensorflow.org/api_docs/python/tf/keras) includes 18 highly advanced model architectures pre-trained on the [\"ImageNet\"](https://en.wikipedia.org/wiki/ImageNet) dataset. You can think of \"ImageNet\" like the SAT of image classification datasets.\n",
        "\n",
        "Most Image Classification Deep Learning tasks today will start by downloading one of these 18 pre-trained models, modify the model slightly to suit the task on hand, and train only the custom modifications while freezing the layers in the pre-trained model. This approach gives very high accuracy on real-world image classification tasks since \"ImageNet\" collects many real-world images.\n",
        "\n",
        "However, choosing which of the 18 pre-trained models to use is not always an exact science. Many developers stick to the models they are familiar with and gave them good results in the past. As a Data Scientist, I wondered whether there is a better, data-driven approach to selecting a pre-trained model, free from personal biases. Indeed there is! The rest of this post talks about my process with code you can directly use in your projects."
      ]
    },
    {
      "cell_type": "markdown",
      "metadata": {
        "id": "27wSGaZoiWUv"
      },
      "source": [
        "## Criteria for selecting models\n",
        "In general, there are two competing criteria while doing any machine learning task in the industry:\n",
        "1. Accuracy of the model: Higher Better\n",
        "2. Speed of Model Training and Predictions: Faster Better\n",
        "\n",
        "The two criteria are pretty straightforward. We want the model that gives us the highest accuracy on validation data since it can make useful predictions. We also want the model to train and predict as fast as possible because, in production, we might need to serve hundreds or thousands of predictions every second. \n",
        "\n",
        "Simple enough? Well, like everything in life, we can't have our cake and eat it too! In general, to get higher accuracy, we need to use a \"deeper\" or larger model. But a larger model has many more parameters that make it slower to execute. We can see the tradeoff between the accuracy and size/number of operations of the model from the below graph [Reference](https://arxiv.org/pdf/1810.00736.pdf).\n",
        "\n",
        "![accuracy vs model size](images/acc_vs_size.png \"Image Classification Accuracy vs Model Size\")\n",
        "\n",
        "So, this is a balance we need to strike. For most of the Deep Learning deployments in the industry, we choose the smallest model that provides us with good enough accuracy. Thus, we need to experiment among many available models to pick the one that meets these criteria.\n",
        "\n",
        "On a side note, if you only care about achieving the highest accuracy no matter the impact to speed, then your approach could be to combine all these models using ensembling techniques! Indeed, ensembling is quite popular in academia and ML competitions."
      ]
    },
    {
      "cell_type": "markdown",
      "metadata": {
        "id": "kCAvUGgliWUv"
      },
      "source": [
        "## Code\n",
        "My approach is straightforward, as shown in the image below. We will use Python to find all the pre-trained models in Keras and then loop over them one by one. We'll train the models on the TensorFlow [cats_vs_dogs](https://www.tensorflow.org/datasets/catalog/cats_vs_dogs) dataset in this post. You can replace it with any other dataset, including your own custom dataset.\n",
        "\n",
        "![steps to choose the best pre-trained Keras model](images/steps.png \"Steps to choose the best pre-trained Keras model\")"
      ]
    },
    {
      "cell_type": "markdown",
      "metadata": {
        "id": "9-SKPtvAiWUv"
      },
      "source": [
        "### Step 1\n",
        "The first step is to import the necessary packages. If you lack these packages, you can install them using `pip install <package-name>.` We'll also set a `batch_size` for subsequent model training. Since I'm using a low-cost GPU, I'll put a small batch_size of 32 only."
      ]
    },
    {
      "cell_type": "code",
      "metadata": {
        "id": "hLh-t4zNiWUv"
      },
      "source": [
        "# Imports\n",
        "import tensorflow as tf\n",
        "import tensorflow_datasets as tfds\n",
        "\n",
        "import pandas as pd\n",
        "import matplotlib.pyplot as plt\n",
        "import inspect\n",
        "from tqdm import tqdm\n",
        "\n",
        "# Set batch size for training and validation\n",
        "batch_size = 32"
      ],
      "execution_count": null,
      "outputs": []
    },
    {
      "cell_type": "markdown",
      "metadata": {
        "id": "YF_WJky7iWUv"
      },
      "source": [
        "### Step 2\n",
        "Automatically get a list of all available pre-trained models from Keras by listing all the functions inside `tf.keras.applications`. Since each model is instantiated by calling a function from `tf.keras.applications`, when we list all the functions within this module using `inspect.isfunction`, we get a list of all the models. As of this writing, in [Tensorflow 2.2](https://www.tensorflow.org/versions/r2.2/api_docs/python/tf/keras/applications), there are a total of 18 models that we can use. \n",
        "\n",
        "You can add any other custom pre-trained models into the experiments by manually adding elements into the `model_dictionary` as well by following the syntax \n",
        "`model_dictionary[\"new_model_name\"] = new_model_function()`, where `new_model_function()` should return the custom pre-trained model without the final output `Dense` layer. The model's input shape should be (224,224,3) if you don't want to change any other code below."
      ]
    },
    {
      "cell_type": "code",
      "metadata": {
        "id": "M5LUVLT8iWUv"
      },
      "source": [
        "# List all available models\n",
        "model_dictionary = {m[0]:m[1] for m in inspect.getmembers(tf.keras.applications, inspect.isfunction)}"
      ],
      "execution_count": null,
      "outputs": []
    },
    {
      "cell_type": "markdown",
      "metadata": {
        "id": "0-DOq1Q8iWUw"
      },
      "source": [
        "### Step 3\n",
        "Download some images to run the experiment. You should modify this step to load your data when you run the experiment for your use case."
      ]
    },
    {
      "cell_type": "code",
      "metadata": {
        "id": "5iS2DN9EiWUw",
        "outputId": "9eff29fd-7e74-49d7-83d2-408dc5285ca0"
      },
      "source": [
        "# Download the training and validation data\n",
        "(train, validation), metadata = tfds.load('cats_vs_dogs', split=['train[:70%]', 'train[70%:]'], \n",
        "                                          with_info=True, as_supervised=True)\n",
        "\n",
        "# Number of training examples and labels\n",
        "num_train = len(list(train))\n",
        "num_validation = len(list(validation))\n",
        "num_classes = len(metadata.features['label'].names)\n",
        "num_iterations = int(num_train/batch_size)\n",
        "\n",
        "# Print important info\n",
        "print(f'Num train images: {num_train} \\\n",
        "        \\nNum validation images: {num_validation} \\\n",
        "        \\nNum classes: {num_classes} \\\n",
        "        \\nNum iterations per epoch: {num_iterations}')"
      ],
      "execution_count": null,
      "outputs": [
        {
          "output_type": "stream",
          "text": [
            "Num train images: 16283         \n",
            "Num validation images: 6979         \n",
            "Num classes: 2         \n",
            "Num iterations per epoch: 508\n"
          ],
          "name": "stdout"
        }
      ]
    },
    {
      "cell_type": "markdown",
      "metadata": {
        "id": "q6g0YDi-iWUx"
      },
      "source": [
        "### Step 4\n",
        "Preprocess the input images. Some pre-trained models require images to be of size (224,224,3) while some require (331,331,3). We use this step to prepare both sizes of images and normalize them by dividing each pixel by 255. We also one-hot encode the labels so that we can use `categorical_crossentropy` loss during training."
      ]
    },
    {
      "cell_type": "code",
      "metadata": {
        "id": "c-IXEhpYiWUx"
      },
      "source": [
        "def normalize_img(image, label, img_size):\n",
        "    # Resize image to the desired img_size and normalize it\n",
        "    # One hot encode the label\n",
        "    image = tf.image.resize(image, img_size)\n",
        "    image = tf.cast(image, tf.float32) / 255.\n",
        "    label = tf.one_hot(label, depth=num_classes)\n",
        "    return image, label\n",
        "\n",
        "def preprocess_data(train, validation, batch_size, img_size):\n",
        "    # Apply the normalize_img function on all train and validation data and create batches\n",
        "    train_processed = train.map(lambda image, label: normalize_img(image, label, img_size))\n",
        "    train_processed = train_processed.batch(batch_size).repeat()\n",
        "\n",
        "    validation_processed = validation.map(lambda image, label: normalize_img(image, label, img_size))\n",
        "    validation_processed = validation_processed.batch(batch_size)\n",
        "\n",
        "    return train_processed, validation_processed\n",
        "\n",
        "# Run preprocessing\n",
        "train_processed_224, validation_processed_224 = preprocess_data(train, validation, batch_size, img_size=[224,224])\n",
        "train_processed_331, validation_processed_331 = preprocess_data(train, validation, batch_size, img_size=[331,331])"
      ],
      "execution_count": null,
      "outputs": []
    },
    {
      "cell_type": "markdown",
      "metadata": {
        "id": "Kqs3zB8viWUx"
      },
      "source": [
        "### Step 5\n",
        "Loop over each model by downloading the pre-trained model without the output layers and freeze the weights. We then construct an empty `Sequential` model and first add the pre-trained model to it. We then add a single output Dense layer with `softmax` activation and compile it with `categorical_crossentropy` loss. Finally, we train the model by calling `model.fit` for `3 epochs`. We log the number of parameters (size of the model) and each model's final accuracy into a dictionary to visualize the results. If you get the following error during the model download `AttributeError: 'str' object has no attribute 'decode'`, install a lower version of `h5py` [[source]](https://github.com/tensorflow/tensorflow/issues/44467)\n",
        "\n",
        "```\n",
        "pip uninstall h5py\n",
        "pip install h5py<'3.0.0'\n",
        "```\n",
        "\n",
        "The whole process takes ~3 hours on an `n1-standard-4`(4 vCPUs, 15 GB RAM) with one `NVIDIA Tesla T4` GPU on Google Cloud Platform."
      ]
    },
    {
      "cell_type": "code",
      "metadata": {
        "scrolled": true,
        "id": "VUGBfZfRiWUx"
      },
      "source": [
        "# Loop over each model available in Keras\n",
        "model_benchmarks = {'model_name': [], 'num_model_params': [], 'validation_accuracy': []}\n",
        "for model_name, model in tqdm(model_dictionary.items()):\n",
        "    # Special handling for \"NASNetLarge\" since it requires input images with size (331,331)\n",
        "    if 'NASNetLarge' in model_name:\n",
        "        input_shape=(331,331,3)\n",
        "        train_processed = train_processed_331\n",
        "        validation_processed = validation_processed_331\n",
        "    else:\n",
        "        input_shape=(224,224,3)\n",
        "        train_processed = train_processed_224\n",
        "        validation_processed = validation_processed_224\n",
        "\n",
        "    # load the pre-trained model with global average pooling as the last layer and freeze the model weights\n",
        "    pre_trained_model = model(include_top=False, pooling='avg', input_shape=input_shape)\n",
        "    pre_trained_model.trainable = False\n",
        "\n",
        "    # custom modifications on top of pre-trained model\n",
        "    clf_model = tf.keras.models.Sequential()\n",
        "    clf_model.add(pre_trained_model)\n",
        "    clf_model.add(tf.keras.layers.Dense(num_classes, activation='softmax'))\n",
        "    clf_model.compile(loss='categorical_crossentropy', metrics=['accuracy'])\n",
        "    history = clf_model.fit(train_processed, epochs=3, validation_data=validation_processed, \n",
        "                            steps_per_epoch=num_iterations)\n",
        "\n",
        "    # Calculate all relevant metrics\n",
        "    model_benchmarks['model_name'].append(model_name)\n",
        "    model_benchmarks['num_model_params'].append(pre_trained_model.count_params())\n",
        "    model_benchmarks['validation_accuracy'].append(history.history['val_accuracy'][-1])"
      ],
      "execution_count": null,
      "outputs": []
    },
    {
      "cell_type": "markdown",
      "metadata": {
        "id": "LoW_daP5iWUx"
      },
      "source": [
        "### Step 6\n",
        "Let's visualize the results by converting it to a DataFrame and sorting in ascending order for `num_model_params` since our goal is to select the smallest model with good enough accuracy. In this example, the `MobileNet` model already provides `97%` accuracy; thus, we can directly use it. `MobileNetV2` and `NASNetMobile` are two other models we can consider for fine-tuning experiments. If our selected model's accuracy is still insufficient for our task, we can experiment by fine-tuning these selected models further, adding data augmentation, etc. We will apply the typical Deep Learning model improvement experiments on a model that is already proven to be close to our requirements. "
      ]
    },
    {
      "cell_type": "code",
      "metadata": {
        "id": "9wcHA0gKiWUx",
        "outputId": "30b24c71-560d-43b5-d7b3-4e173ba5a4ca"
      },
      "source": [
        "# Convert Results to DataFrame for easy viewing\n",
        "benchmark_df = pd.DataFrame(model_benchmarks)\n",
        "benchmark_df.sort_values('num_model_params', inplace=True) # sort in ascending order of num_model_params column\n",
        "benchmark_df.to_csv('benchmark_df.csv', index=False) # write results to csv file\n",
        "benchmark_df"
      ],
      "execution_count": null,
      "outputs": [
        {
          "output_type": "execute_result",
          "data": {
            "text/html": [
              "<div>\n",
              "<style scoped>\n",
              "    .dataframe tbody tr th:only-of-type {\n",
              "        vertical-align: middle;\n",
              "    }\n",
              "\n",
              "    .dataframe tbody tr th {\n",
              "        vertical-align: top;\n",
              "    }\n",
              "\n",
              "    .dataframe thead th {\n",
              "        text-align: right;\n",
              "    }\n",
              "</style>\n",
              "<table border=\"1\" class=\"dataframe\">\n",
              "  <thead>\n",
              "    <tr style=\"text-align: right;\">\n",
              "      <th></th>\n",
              "      <th>model_name</th>\n",
              "      <th>num_model_params</th>\n",
              "      <th>validation_accuracy</th>\n",
              "    </tr>\n",
              "  </thead>\n",
              "  <tbody>\n",
              "    <tr>\n",
              "      <th>0</th>\n",
              "      <td>MobileNetV2</td>\n",
              "      <td>2257984</td>\n",
              "      <td>0.947557</td>\n",
              "    </tr>\n",
              "    <tr>\n",
              "      <th>1</th>\n",
              "      <td>MobileNet</td>\n",
              "      <td>3228864</td>\n",
              "      <td>0.977361</td>\n",
              "    </tr>\n",
              "    <tr>\n",
              "      <th>2</th>\n",
              "      <td>NASNetMobile</td>\n",
              "      <td>4269716</td>\n",
              "      <td>0.975355</td>\n",
              "    </tr>\n",
              "    <tr>\n",
              "      <th>3</th>\n",
              "      <td>DenseNet121</td>\n",
              "      <td>7037504</td>\n",
              "      <td>0.927354</td>\n",
              "    </tr>\n",
              "    <tr>\n",
              "      <th>4</th>\n",
              "      <td>DenseNet169</td>\n",
              "      <td>12642880</td>\n",
              "      <td>0.955724</td>\n",
              "    </tr>\n",
              "    <tr>\n",
              "      <th>5</th>\n",
              "      <td>VGG16</td>\n",
              "      <td>14714688</td>\n",
              "      <td>0.910732</td>\n",
              "    </tr>\n",
              "    <tr>\n",
              "      <th>6</th>\n",
              "      <td>DenseNet201</td>\n",
              "      <td>18321984</td>\n",
              "      <td>0.941969</td>\n",
              "    </tr>\n",
              "    <tr>\n",
              "      <th>7</th>\n",
              "      <td>VGG19</td>\n",
              "      <td>20024384</td>\n",
              "      <td>0.894827</td>\n",
              "    </tr>\n",
              "    <tr>\n",
              "      <th>8</th>\n",
              "      <td>Xception</td>\n",
              "      <td>20861480</td>\n",
              "      <td>0.955008</td>\n",
              "    </tr>\n",
              "    <tr>\n",
              "      <th>9</th>\n",
              "      <td>InceptionV3</td>\n",
              "      <td>21802784</td>\n",
              "      <td>0.985958</td>\n",
              "    </tr>\n",
              "    <tr>\n",
              "      <th>10</th>\n",
              "      <td>ResNet50V2</td>\n",
              "      <td>23564800</td>\n",
              "      <td>0.980226</td>\n",
              "    </tr>\n",
              "    <tr>\n",
              "      <th>11</th>\n",
              "      <td>ResNet50</td>\n",
              "      <td>23587712</td>\n",
              "      <td>0.496203</td>\n",
              "    </tr>\n",
              "    <tr>\n",
              "      <th>12</th>\n",
              "      <td>ResNet101V2</td>\n",
              "      <td>42626560</td>\n",
              "      <td>0.987821</td>\n",
              "    </tr>\n",
              "    <tr>\n",
              "      <th>13</th>\n",
              "      <td>ResNet101</td>\n",
              "      <td>42658176</td>\n",
              "      <td>0.496203</td>\n",
              "    </tr>\n",
              "    <tr>\n",
              "      <th>14</th>\n",
              "      <td>InceptionResNetV2</td>\n",
              "      <td>54336736</td>\n",
              "      <td>0.988537</td>\n",
              "    </tr>\n",
              "    <tr>\n",
              "      <th>15</th>\n",
              "      <td>ResNet152V2</td>\n",
              "      <td>58331648</td>\n",
              "      <td>0.984095</td>\n",
              "    </tr>\n",
              "    <tr>\n",
              "      <th>16</th>\n",
              "      <td>ResNet152</td>\n",
              "      <td>58370944</td>\n",
              "      <td>0.496203</td>\n",
              "    </tr>\n",
              "    <tr>\n",
              "      <th>17</th>\n",
              "      <td>NASNetLarge</td>\n",
              "      <td>84916818</td>\n",
              "      <td>0.979510</td>\n",
              "    </tr>\n",
              "  </tbody>\n",
              "</table>\n",
              "</div>"
            ],
            "text/plain": [
              "           model_name  num_model_params  validation_accuracy\n",
              "0         MobileNetV2           2257984             0.947557\n",
              "1           MobileNet           3228864             0.977361\n",
              "2        NASNetMobile           4269716             0.975355\n",
              "3         DenseNet121           7037504             0.927354\n",
              "4         DenseNet169          12642880             0.955724\n",
              "5               VGG16          14714688             0.910732\n",
              "6         DenseNet201          18321984             0.941969\n",
              "7               VGG19          20024384             0.894827\n",
              "8            Xception          20861480             0.955008\n",
              "9         InceptionV3          21802784             0.985958\n",
              "10         ResNet50V2          23564800             0.980226\n",
              "11           ResNet50          23587712             0.496203\n",
              "12        ResNet101V2          42626560             0.987821\n",
              "13          ResNet101          42658176             0.496203\n",
              "14  InceptionResNetV2          54336736             0.988537\n",
              "15        ResNet152V2          58331648             0.984095\n",
              "16          ResNet152          58370944             0.496203\n",
              "17        NASNetLarge          84916818             0.979510"
            ]
          },
          "metadata": {
            "tags": []
          },
          "execution_count": 12
        }
      ]
    },
    {
      "cell_type": "code",
      "metadata": {
        "id": "tvxHLRsyiWUy",
        "outputId": "d83b0149-0f13-4313-fe9d-492a321e9330"
      },
      "source": [
        "# Loop over each row and plot the num_model_params vs validation_accuracy\n",
        "markers=[\".\",\",\",\"o\",\"v\",\"^\",\"<\",\">\",\"1\",\"2\",\"3\",\"4\",\"8\",\"s\",\"p\",\"P\",\"*\",\"h\",\"H\",\"+\",\"x\",\"X\",\"D\",\"d\",\"|\",\"_\",4,5,6,7,8,9,10,11]\n",
        "plt.figure(figsize=(7,5))\n",
        "for row in benchmark_df.itertuples():\n",
        "    plt.scatter(row.num_model_params, row.validation_accuracy, label=row.model_name, marker=markers[row.Index], s=150, linewidths=2)\n",
        "plt.xscale('log')\n",
        "plt.xlabel('Number of Parameters in Model')\n",
        "plt.ylabel('Validation Accuracy after 3 Epochs')\n",
        "plt.title('Accuracy vs Model Size')\n",
        "plt.legend(bbox_to_anchor=(1, 1), loc='upper left'); # Move legend out of the plot"
      ],
      "execution_count": null,
      "outputs": [
        {
          "output_type": "display_data",
          "data": {
            "image/png": "[encoded data removed]",
            "text/plain": [
              "<Figure size 504x360 with 1 Axes>"
            ]
          },
          "metadata": {
            "tags": [],
            "needs_background": "light"
          }
        }
      ]
    },
    {
      "cell_type": "markdown",
      "metadata": {
        "id": "id0JnLsziWUy"
      },
      "source": [
        "## Conclusion\n",
        "In conclusion, I've presented a data-driven approach to choose the most suitable model from among a group of pre-trained models in the Tensorflow Keras API. In most industrial applications, we would select the model with the least number of parameters that provided good enough accuracy for further exploration. We can easily extend this approach to include other models not offered by Keras by manually adding items into the `model_dictionary` in [Step 2](#Step-2). \n",
        "\n",
        "Finally, extensive experimentation and data-driven decision making are the keys to success in all Machine Learning applications. I hope this post stimulates you to think of ways to make more data-driven decisions in your daily work. \n",
        "\n",
        "- You can find all the code used in this post at [GitHub](https://github.com/stephenleo/keras-model-selection/blob/main/keras_model_selection.ipynb). \n",
        "- You can also use Google Colab to run the code without any setup directly. Just remember to go to Edit --> Notebook Settings and select a `GPU` Hardware Accelerator: \n",
        "\n",
        "[![Open In Colab](https://colab.research.google.com/assets/colab-badge.svg)](https://colab.research.google.com/github/stephenleo/keras-model-selection/blob/main/keras_model_selection.ipynb)\n",
        "\n",
        "Please like this post on Medium if you found it useful. Please also check out my YouTube channel for video content: [https://youtube.com/agnidata](https://youtube.com/agnidata)\n",
        "\n",
        "Thank you for reading!"
      ]
    },
    {
      "cell_type": "code",
      "metadata": {
        "id": "P73rSQBViWUy"
      },
      "source": [
        ""
      ],
      "execution_count": null,
      "outputs": []
    }
  ]
}