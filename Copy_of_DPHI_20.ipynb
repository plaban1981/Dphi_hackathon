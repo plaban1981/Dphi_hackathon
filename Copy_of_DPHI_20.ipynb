{
  "nbformat": 4,
  "nbformat_minor": 0,
  "metadata": {
    "colab": {
      "name": "Copy of DPHI - 20",
      "provenance": [],
      "collapsed_sections": [],
      "include_colab_link": true
    },
    "kernelspec": {
      "name": "python3",
      "display_name": "Python 3"
    }
  },
  "cells": [
    {
      "cell_type": "markdown",
      "metadata": {
        "id": "view-in-github",
        "colab_type": "text"
      },
      "source": [
        "<a href=\"https://colab.research.google.com/github/plaban1981/Dphi_hackathon/blob/main/Copy_of_DPHI_20.ipynb\" target=\"_parent\"><img src=\"https://colab.research.google.com/assets/colab-badge.svg\" alt=\"Open In Colab\"/></a>"
      ]
    },
    {
      "cell_type": "code",
      "metadata": {
        "id": "u9T9VFbv1K7g"
      },
      "source": [
        "import pandas as pd\r\n",
        "import numpy as np\r\n",
        "import seaborn as sns\r\n",
        "\r\n",
        "\r\n",
        "\r\n",
        "\r\n",
        "import warnings\r\n",
        "\r\n",
        "warnings.filterwarnings('ignore')"
      ],
      "execution_count": 3,
      "outputs": []
    },
    {
      "cell_type": "code",
      "metadata": {
        "colab": {
          "base_uri": "https://localhost:8080/",
          "height": 684
        },
        "id": "4S2KIjJv1iQE",
        "outputId": "6611d09f-2c08-4796-aed7-899fb4516807"
      },
      "source": [
        "df = pd.read_csv(\"https://raw.githubusercontent.com/dphi-official/Datasets/master/hippocorpus/train_set_label.csv\" )\r\n",
        "test = pd.read_csv('https://raw.githubusercontent.com/dphi-official/Datasets/master/hippocorpus/test_set_label.csv')\r\n",
        "\r\n",
        "df.head()"
      ],
      "execution_count": 4,
      "outputs": [
        {
          "output_type": "execute_result",
          "data": {
            "text/html": [
              "<div>\n",
              "<style scoped>\n",
              "    .dataframe tbody tr th:only-of-type {\n",
              "        vertical-align: middle;\n",
              "    }\n",
              "\n",
              "    .dataframe tbody tr th {\n",
              "        vertical-align: top;\n",
              "    }\n",
              "\n",
              "    .dataframe thead th {\n",
              "        text-align: right;\n",
              "    }\n",
              "</style>\n",
              "<table border=\"1\" class=\"dataframe\">\n",
              "  <thead>\n",
              "    <tr style=\"text-align: right;\">\n",
              "      <th></th>\n",
              "      <th>AssignmentId</th>\n",
              "      <th>WorkTimeInSeconds</th>\n",
              "      <th>WorkerId</th>\n",
              "      <th>annotatorAge</th>\n",
              "      <th>annotatorGender</th>\n",
              "      <th>annotatorRace</th>\n",
              "      <th>distracted</th>\n",
              "      <th>draining</th>\n",
              "      <th>frequency</th>\n",
              "      <th>importance</th>\n",
              "      <th>logTimeSinceEvent</th>\n",
              "      <th>mainEvent</th>\n",
              "      <th>mostSurprising</th>\n",
              "      <th>openness</th>\n",
              "      <th>recAgnPairId</th>\n",
              "      <th>recImgPairId</th>\n",
              "      <th>similarity</th>\n",
              "      <th>similarityReason</th>\n",
              "      <th>story</th>\n",
              "      <th>stressful</th>\n",
              "      <th>summary</th>\n",
              "      <th>timeSinceEvent</th>\n",
              "      <th>memType</th>\n",
              "    </tr>\n",
              "  </thead>\n",
              "  <tbody>\n",
              "    <tr>\n",
              "      <th>0</th>\n",
              "      <td>39DD6S19JQXBBJGPFEBWSF4G1TQEZJ</td>\n",
              "      <td>1025</td>\n",
              "      <td>YGROBIBW</td>\n",
              "      <td>35.0</td>\n",
              "      <td>Man</td>\n",
              "      <td>white</td>\n",
              "      <td>one</td>\n",
              "      <td>3.0</td>\n",
              "      <td>2.0</td>\n",
              "      <td>3.0</td>\n",
              "      <td>4.094345</td>\n",
              "      <td>my friend's death and how our group of friends...</td>\n",
              "      <td>the mourning process had a kind of positive si...</td>\n",
              "      <td>0.375</td>\n",
              "      <td>3RKNTXVS3NKSI9BOEGJK201G4H2A46</td>\n",
              "      <td>NaN</td>\n",
              "      <td>NaN</td>\n",
              "      <td>NaN</td>\n",
              "      <td>We were friends from high school. I got a call...</td>\n",
              "      <td>3.0</td>\n",
              "      <td>my friend's death. Old friends reunited to sha...</td>\n",
              "      <td>60.0</td>\n",
              "      <td>retold</td>\n",
              "    </tr>\n",
              "    <tr>\n",
              "      <th>1</th>\n",
              "      <td>3WQQ9FUS6BGYKK3IWX9TEN1R8RLB87</td>\n",
              "      <td>1987</td>\n",
              "      <td>KK89LEHY</td>\n",
              "      <td>35.0</td>\n",
              "      <td>woman</td>\n",
              "      <td>indian</td>\n",
              "      <td>one</td>\n",
              "      <td>5.0</td>\n",
              "      <td>3.0</td>\n",
              "      <td>5.0</td>\n",
              "      <td>5.010635</td>\n",
              "      <td>the loss of my father and the impact he had on...</td>\n",
              "      <td>he died very suddenly and within minutes</td>\n",
              "      <td>0.625</td>\n",
              "      <td>NaN</td>\n",
              "      <td>3WQQ9FUS6BGYKK3IWX9TEN1R8RLB87</td>\n",
              "      <td>NaN</td>\n",
              "      <td>NaN</td>\n",
              "      <td>Five months ago, my father passed away from a ...</td>\n",
              "      <td>2.0</td>\n",
              "      <td>My dad, who was a significant person in my lif...</td>\n",
              "      <td>150.0</td>\n",
              "      <td>recalled</td>\n",
              "    </tr>\n",
              "    <tr>\n",
              "      <th>2</th>\n",
              "      <td>3YDTZAI2WY2WOLYOIXQRRZ8DKXB14S</td>\n",
              "      <td>1604</td>\n",
              "      <td>JIWFAU5T</td>\n",
              "      <td>35.0</td>\n",
              "      <td>man</td>\n",
              "      <td>White</td>\n",
              "      <td>one</td>\n",
              "      <td>one</td>\n",
              "      <td>5.0</td>\n",
              "      <td>5.0</td>\n",
              "      <td>4.787492</td>\n",
              "      <td>how I met my wife.</td>\n",
              "      <td>when I got my unreserved kind of love.</td>\n",
              "      <td>1.000</td>\n",
              "      <td>NaN</td>\n",
              "      <td>3YDTZAI2WY2WOLYOIXQRRZ8DKXB14S</td>\n",
              "      <td>NaN</td>\n",
              "      <td>NaN</td>\n",
              "      <td>My Most Memorable Day of My Life! I found my o...</td>\n",
              "      <td>1.0</td>\n",
              "      <td>The best thing may be difficult to find. I was...</td>\n",
              "      <td>120.0</td>\n",
              "      <td>recalled</td>\n",
              "    </tr>\n",
              "    <tr>\n",
              "      <th>3</th>\n",
              "      <td>3Q8GYXHFEQOY77CMCZYLDNXJ2YBC58</td>\n",
              "      <td>6369</td>\n",
              "      <td>1NHCDDOJ</td>\n",
              "      <td>40.0</td>\n",
              "      <td>woman</td>\n",
              "      <td>white</td>\n",
              "      <td>one</td>\n",
              "      <td>one</td>\n",
              "      <td>NaN</td>\n",
              "      <td>4.0</td>\n",
              "      <td>5.480639</td>\n",
              "      <td>the events leading up to my wedding</td>\n",
              "      <td>a surprise flash mob wedding proposal</td>\n",
              "      <td>0.875</td>\n",
              "      <td>NaN</td>\n",
              "      <td>3WLEIWSYHP3XPI4FG8AOQ7RM04VH26</td>\n",
              "      <td>1.0</td>\n",
              "      <td>This was not at all how I got engaged, but a w...</td>\n",
              "      <td>It has been such a whirlwind these past 8 mont...</td>\n",
              "      <td>1.0</td>\n",
              "      <td>The event described details my wedding which o...</td>\n",
              "      <td>240.0</td>\n",
              "      <td>imagined</td>\n",
              "    </tr>\n",
              "    <tr>\n",
              "      <th>4</th>\n",
              "      <td>32AT8R96GMVVZ3RXAMWT04TG9CISU0</td>\n",
              "      <td>1083</td>\n",
              "      <td>A5SWJWSQ</td>\n",
              "      <td>30.0</td>\n",
              "      <td>MAN</td>\n",
              "      <td>white</td>\n",
              "      <td>one</td>\n",
              "      <td>5.0</td>\n",
              "      <td>3.0</td>\n",
              "      <td>5.0</td>\n",
              "      <td>4.094345</td>\n",
              "      <td>Attending a funeral for my cousin.</td>\n",
              "      <td>How emotional I felt during at the cemetery.</td>\n",
              "      <td>1.000</td>\n",
              "      <td>NaN</td>\n",
              "      <td>32AT8R96GMVVZ3RXAMWT04TG9CISU0</td>\n",
              "      <td>NaN</td>\n",
              "      <td>NaN</td>\n",
              "      <td>Today was one of the saddest days of my life. ...</td>\n",
              "      <td>4.0</td>\n",
              "      <td>My cousin recently passed away due to brain ca...</td>\n",
              "      <td>60.0</td>\n",
              "      <td>recalled</td>\n",
              "    </tr>\n",
              "  </tbody>\n",
              "</table>\n",
              "</div>"
            ],
            "text/plain": [
              "                     AssignmentId  WorkTimeInSeconds  ... timeSinceEvent   memType\n",
              "0  39DD6S19JQXBBJGPFEBWSF4G1TQEZJ               1025  ...           60.0    retold\n",
              "1  3WQQ9FUS6BGYKK3IWX9TEN1R8RLB87               1987  ...          150.0  recalled\n",
              "2  3YDTZAI2WY2WOLYOIXQRRZ8DKXB14S               1604  ...          120.0  recalled\n",
              "3  3Q8GYXHFEQOY77CMCZYLDNXJ2YBC58               6369  ...          240.0  imagined\n",
              "4  32AT8R96GMVVZ3RXAMWT04TG9CISU0               1083  ...           60.0  recalled\n",
              "\n",
              "[5 rows x 23 columns]"
            ]
          },
          "metadata": {
            "tags": []
          },
          "execution_count": 4
        }
      ]
    },
    {
      "cell_type": "code",
      "metadata": {
        "id": "5eMxPiEX7rEC"
      },
      "source": [
        "from sklearn.preprocessing import LabelEncoder\r\n",
        "\r\n",
        "lb = LabelEncoder()\r\n",
        "\r\n",
        "for col in ['recAgnPairId','recImgPairId','WorkerId']:\r\n",
        "  \r\n",
        "  mode = df[col].mode()[0]\r\n",
        "\r\n",
        "  df[col].fillna(mode,inplace=True)\r\n",
        "  test[col].fillna(mode,inplace=True)\r\n",
        "\r\n",
        "  df[col] = lb.fit_transform(df[col])\r\n",
        "\r\n",
        "  mapper = dict(zip(lb.classes_,lb.transform(lb.classes_)))\r\n",
        "  test[col] = test[col].map(mapper)\r\n",
        "\r\n",
        "  test[col].fillna(-1,inplace=True)\r\n",
        "  \r\n",
        "  df[col] = df[col].astype('float')\r\n",
        "  test[col] = test[col].astype('float')"
      ],
      "execution_count": 5,
      "outputs": []
    },
    {
      "cell_type": "code",
      "metadata": {
        "colab": {
          "base_uri": "https://localhost:8080/",
          "height": 406
        },
        "id": "L0OwUKjK13Qx",
        "outputId": "838682e2-87c6-4bfb-a398-c1f3f6958329"
      },
      "source": [
        "five_likert_points = ['distracted','draining','frequency','importance','similarity','stressful']\r\n",
        "\r\n",
        "df[five_likert_points]"
      ],
      "execution_count": 6,
      "outputs": [
        {
          "output_type": "execute_result",
          "data": {
            "text/html": [
              "<div>\n",
              "<style scoped>\n",
              "    .dataframe tbody tr th:only-of-type {\n",
              "        vertical-align: middle;\n",
              "    }\n",
              "\n",
              "    .dataframe tbody tr th {\n",
              "        vertical-align: top;\n",
              "    }\n",
              "\n",
              "    .dataframe thead th {\n",
              "        text-align: right;\n",
              "    }\n",
              "</style>\n",
              "<table border=\"1\" class=\"dataframe\">\n",
              "  <thead>\n",
              "    <tr style=\"text-align: right;\">\n",
              "      <th></th>\n",
              "      <th>distracted</th>\n",
              "      <th>draining</th>\n",
              "      <th>frequency</th>\n",
              "      <th>importance</th>\n",
              "      <th>similarity</th>\n",
              "      <th>stressful</th>\n",
              "    </tr>\n",
              "  </thead>\n",
              "  <tbody>\n",
              "    <tr>\n",
              "      <th>0</th>\n",
              "      <td>one</td>\n",
              "      <td>3.0</td>\n",
              "      <td>2.0</td>\n",
              "      <td>3.0</td>\n",
              "      <td>NaN</td>\n",
              "      <td>3.0</td>\n",
              "    </tr>\n",
              "    <tr>\n",
              "      <th>1</th>\n",
              "      <td>one</td>\n",
              "      <td>5.0</td>\n",
              "      <td>3.0</td>\n",
              "      <td>5.0</td>\n",
              "      <td>NaN</td>\n",
              "      <td>2.0</td>\n",
              "    </tr>\n",
              "    <tr>\n",
              "      <th>2</th>\n",
              "      <td>one</td>\n",
              "      <td>one</td>\n",
              "      <td>5.0</td>\n",
              "      <td>5.0</td>\n",
              "      <td>NaN</td>\n",
              "      <td>1.0</td>\n",
              "    </tr>\n",
              "    <tr>\n",
              "      <th>3</th>\n",
              "      <td>one</td>\n",
              "      <td>one</td>\n",
              "      <td>NaN</td>\n",
              "      <td>4.0</td>\n",
              "      <td>1.0</td>\n",
              "      <td>1.0</td>\n",
              "    </tr>\n",
              "    <tr>\n",
              "      <th>4</th>\n",
              "      <td>one</td>\n",
              "      <td>5.0</td>\n",
              "      <td>3.0</td>\n",
              "      <td>5.0</td>\n",
              "      <td>NaN</td>\n",
              "      <td>4.0</td>\n",
              "    </tr>\n",
              "    <tr>\n",
              "      <th>...</th>\n",
              "      <td>...</td>\n",
              "      <td>...</td>\n",
              "      <td>...</td>\n",
              "      <td>...</td>\n",
              "      <td>...</td>\n",
              "      <td>...</td>\n",
              "    </tr>\n",
              "    <tr>\n",
              "      <th>6792</th>\n",
              "      <td>one</td>\n",
              "      <td>3.0</td>\n",
              "      <td>3.0</td>\n",
              "      <td>5.0</td>\n",
              "      <td>NaN</td>\n",
              "      <td>5.0</td>\n",
              "    </tr>\n",
              "    <tr>\n",
              "      <th>6793</th>\n",
              "      <td>one</td>\n",
              "      <td>2.0</td>\n",
              "      <td>3.0</td>\n",
              "      <td>5.0</td>\n",
              "      <td>NaN</td>\n",
              "      <td>3.0</td>\n",
              "    </tr>\n",
              "    <tr>\n",
              "      <th>6794</th>\n",
              "      <td>one</td>\n",
              "      <td>2.0</td>\n",
              "      <td>NaN</td>\n",
              "      <td>4.0</td>\n",
              "      <td>4.0</td>\n",
              "      <td>1.0</td>\n",
              "    </tr>\n",
              "    <tr>\n",
              "      <th>6795</th>\n",
              "      <td>one</td>\n",
              "      <td>5.0</td>\n",
              "      <td>NaN</td>\n",
              "      <td>5.0</td>\n",
              "      <td>5.0</td>\n",
              "      <td>3.0</td>\n",
              "    </tr>\n",
              "    <tr>\n",
              "      <th>6796</th>\n",
              "      <td>one</td>\n",
              "      <td>one</td>\n",
              "      <td>4.0</td>\n",
              "      <td>4.0</td>\n",
              "      <td>NaN</td>\n",
              "      <td>1.0</td>\n",
              "    </tr>\n",
              "  </tbody>\n",
              "</table>\n",
              "<p>6797 rows × 6 columns</p>\n",
              "</div>"
            ],
            "text/plain": [
              "     distracted draining  frequency  importance  similarity  stressful\n",
              "0           one      3.0        2.0         3.0         NaN        3.0\n",
              "1           one      5.0        3.0         5.0         NaN        2.0\n",
              "2           one      one        5.0         5.0         NaN        1.0\n",
              "3           one      one        NaN         4.0         1.0        1.0\n",
              "4           one      5.0        3.0         5.0         NaN        4.0\n",
              "...         ...      ...        ...         ...         ...        ...\n",
              "6792        one      3.0        3.0         5.0         NaN        5.0\n",
              "6793        one      2.0        3.0         5.0         NaN        3.0\n",
              "6794        one      2.0        NaN         4.0         4.0        1.0\n",
              "6795        one      5.0        NaN         5.0         5.0        3.0\n",
              "6796        one      one        4.0         4.0         NaN        1.0\n",
              "\n",
              "[6797 rows x 6 columns]"
            ]
          },
          "metadata": {
            "tags": []
          },
          "execution_count": 6
        }
      ]
    },
    {
      "cell_type": "code",
      "metadata": {
        "id": "XHR39KYI3AKL"
      },
      "source": [
        "df['distracted'] = np.where(df['distracted'] == 'one',1.0,df['distracted'])\r\n",
        "df['distracted'] = df['distracted'].astype(float)\r\n",
        "\r\n",
        "df['draining'] = np.where(df['draining'] == 'one',1.0,df['draining'])\r\n",
        "df['draining'] = df['draining'].astype(float)"
      ],
      "execution_count": 7,
      "outputs": []
    },
    {
      "cell_type": "code",
      "metadata": {
        "id": "1gVZQVMSD1QJ"
      },
      "source": [
        "test['distracted'] = np.where(test['distracted'] == 'one',1.0,test['distracted'])\r\n",
        "test['distracted'] = test['distracted'].astype(float)\r\n",
        "\r\n",
        "test['draining'] = np.where(test['draining'] == 'one',1.0,test['draining'])\r\n",
        "test['draining'] = test['draining'].astype(float)"
      ],
      "execution_count": 8,
      "outputs": []
    },
    {
      "cell_type": "code",
      "metadata": {
        "colab": {
          "base_uri": "https://localhost:8080/"
        },
        "id": "vnwf9Bt14VoR",
        "outputId": "a9fb066f-7508-41b5-c17e-dd6100291fe1"
      },
      "source": [
        "for col in five_likert_points:\r\n",
        "  \r\n",
        "  mode = df[col].mode()[0]\r\n",
        "  df[col].fillna(mode,inplace=True)\r\n",
        "  test[col].fillna(mode,inplace=True)\r\n",
        "\r\n",
        "\r\n",
        "df[five_likert_points].isnull().sum()"
      ],
      "execution_count": 9,
      "outputs": [
        {
          "output_type": "execute_result",
          "data": {
            "text/plain": [
              "distracted    0\n",
              "draining      0\n",
              "frequency     0\n",
              "importance    0\n",
              "similarity    0\n",
              "stressful     0\n",
              "dtype: int64"
            ]
          },
          "metadata": {
            "tags": []
          },
          "execution_count": 9
        }
      ]
    },
    {
      "cell_type": "code",
      "metadata": {
        "colab": {
          "base_uri": "https://localhost:8080/"
        },
        "id": "r5h4400g4hnV",
        "outputId": "4fcde937-11eb-41ae-f98d-9accd9d32e33"
      },
      "source": [
        "df['memType'].value_counts()"
      ],
      "execution_count": 10,
      "outputs": [
        {
          "output_type": "execute_result",
          "data": {
            "text/plain": [
              "recalled    2760\n",
              "imagined    2745\n",
              "retold      1292\n",
              "Name: memType, dtype: int64"
            ]
          },
          "metadata": {
            "tags": []
          },
          "execution_count": 10
        }
      ]
    },
    {
      "cell_type": "code",
      "metadata": {
        "id": "8nIQI_ji5Q_k"
      },
      "source": [
        "target_mapper = {'recalled':0,\r\n",
        "                 'imagined':1,\r\n",
        "                 'retold':2}\r\n",
        "\r\n",
        "df['memType'] = df['memType'].map(target_mapper)"
      ],
      "execution_count": 11,
      "outputs": []
    },
    {
      "cell_type": "code",
      "metadata": {
        "colab": {
          "base_uri": "https://localhost:8080/"
        },
        "id": "DPHKP-sc-74H",
        "outputId": "6fd747a7-2918-4343-902a-136d9ecf44b3"
      },
      "source": [
        "df.corr().loc['memType',:]"
      ],
      "execution_count": 12,
      "outputs": [
        {
          "output_type": "execute_result",
          "data": {
            "text/plain": [
              "WorkTimeInSeconds    0.085427\n",
              "WorkerId            -0.010686\n",
              "annotatorAge         0.038015\n",
              "distracted          -0.118669\n",
              "draining            -0.083118\n",
              "frequency           -0.168703\n",
              "importance          -0.169015\n",
              "logTimeSinceEvent   -0.208512\n",
              "openness             0.050327\n",
              "recAgnPairId         0.195039\n",
              "recImgPairId         0.213688\n",
              "similarity           0.172066\n",
              "stressful           -0.094833\n",
              "timeSinceEvent      -0.047780\n",
              "memType              1.000000\n",
              "Name: memType, dtype: float64"
            ]
          },
          "metadata": {
            "tags": []
          },
          "execution_count": 12
        }
      ]
    },
    {
      "cell_type": "code",
      "metadata": {
        "colab": {
          "base_uri": "https://localhost:8080/"
        },
        "id": "IuU4419p6C9-",
        "outputId": "f32089bd-a02d-42ef-963a-d14096d7561a"
      },
      "source": [
        "pip install catboost"
      ],
      "execution_count": 13,
      "outputs": [
        {
          "output_type": "stream",
          "text": [
            "Collecting catboost\n",
            "\u001b[?25l  Downloading https://files.pythonhosted.org/packages/20/37/bc4e0ddc30c07a96482abf1de7ed1ca54e59bba2026a33bca6d2ef286e5b/catboost-0.24.4-cp36-none-manylinux1_x86_64.whl (65.7MB)\n",
            "\u001b[K     |████████████████████████████████| 65.8MB 66kB/s \n",
            "\u001b[?25hRequirement already satisfied: six in /usr/local/lib/python3.6/dist-packages (from catboost) (1.15.0)\n",
            "Requirement already satisfied: numpy>=1.16.0 in /usr/local/lib/python3.6/dist-packages (from catboost) (1.19.4)\n",
            "Requirement already satisfied: scipy in /usr/local/lib/python3.6/dist-packages (from catboost) (1.4.1)\n",
            "Requirement already satisfied: matplotlib in /usr/local/lib/python3.6/dist-packages (from catboost) (3.2.2)\n",
            "Requirement already satisfied: pandas>=0.24.0 in /usr/local/lib/python3.6/dist-packages (from catboost) (1.1.5)\n",
            "Requirement already satisfied: plotly in /usr/local/lib/python3.6/dist-packages (from catboost) (4.4.1)\n",
            "Requirement already satisfied: graphviz in /usr/local/lib/python3.6/dist-packages (from catboost) (0.10.1)\n",
            "Requirement already satisfied: pyparsing!=2.0.4,!=2.1.2,!=2.1.6,>=2.0.1 in /usr/local/lib/python3.6/dist-packages (from matplotlib->catboost) (2.4.7)\n",
            "Requirement already satisfied: kiwisolver>=1.0.1 in /usr/local/lib/python3.6/dist-packages (from matplotlib->catboost) (1.3.1)\n",
            "Requirement already satisfied: python-dateutil>=2.1 in /usr/local/lib/python3.6/dist-packages (from matplotlib->catboost) (2.8.1)\n",
            "Requirement already satisfied: cycler>=0.10 in /usr/local/lib/python3.6/dist-packages (from matplotlib->catboost) (0.10.0)\n",
            "Requirement already satisfied: pytz>=2017.2 in /usr/local/lib/python3.6/dist-packages (from pandas>=0.24.0->catboost) (2018.9)\n",
            "Requirement already satisfied: retrying>=1.3.3 in /usr/local/lib/python3.6/dist-packages (from plotly->catboost) (1.3.3)\n",
            "Installing collected packages: catboost\n",
            "Successfully installed catboost-0.24.4\n"
          ],
          "name": "stdout"
        }
      ]
    },
    {
      "cell_type": "code",
      "metadata": {
        "colab": {
          "base_uri": "https://localhost:8080/"
        },
        "id": "89a4wd6mGP-9",
        "outputId": "caf8db1d-211d-4ba0-e2ad-4ead91589e5d"
      },
      "source": [
        "df['annotatorGender'] = df['annotatorGender'].apply(lambda x:str(x).lower())\r\n",
        "\r\n",
        "\r\n",
        "def handle_gender(value):\r\n",
        "  if value not in ['woman','man','nonbinary','transman']:\r\n",
        "    return 'OTHERS'\r\n",
        "  else:\r\n",
        "    return value\r\n",
        "\r\n",
        "df['annotatorGender'] =  df['annotatorGender'].apply(handle_gender)\r\n",
        "df['annotatorGender'].value_counts()"
      ],
      "execution_count": 14,
      "outputs": [
        {
          "output_type": "execute_result",
          "data": {
            "text/plain": [
              "woman        3417\n",
              "man          3314\n",
              "OTHERS         35\n",
              "nonbinary      19\n",
              "transman       12\n",
              "Name: annotatorGender, dtype: int64"
            ]
          },
          "metadata": {
            "tags": []
          },
          "execution_count": 14
        }
      ]
    },
    {
      "cell_type": "code",
      "metadata": {
        "id": "4lfqSqBzGTYe"
      },
      "source": [
        "df['annotatorRace'] = df['annotatorRace'].apply(lambda x:str(x).lower())\r\n",
        "\r\n",
        "def handle_race(value):\r\n",
        "  if value not in ['white','black','hisp','asian']:\r\n",
        "    return 'OTHERS'\r\n",
        "\r\n",
        "  else:\r\n",
        "    return value\r\n",
        "\r\n",
        "df['annotatorRace'] = df['annotatorRace'].apply(handle_race)"
      ],
      "execution_count": 15,
      "outputs": []
    },
    {
      "cell_type": "code",
      "metadata": {
        "id": "s0w63SwPJUsO"
      },
      "source": [
        "test['annotatorGender'] = test['annotatorGender'].apply(lambda x:str(x).lower())\r\n",
        "test['annotatorGender'] =  test['annotatorGender'].apply(handle_gender)\r\n",
        "\r\n",
        "\r\n",
        "test['annotatorRace'] = test['annotatorRace'].apply(lambda x:str(x).lower())\r\n",
        "test['annotatorRace'] = test['annotatorRace'].apply(handle_race)"
      ],
      "execution_count": 16,
      "outputs": []
    },
    {
      "cell_type": "code",
      "metadata": {
        "id": "MntnoxN0IECq"
      },
      "source": [
        "for col in ['annotatorGender','annotatorRace']:\r\n",
        "  df[col] = lb.fit_transform(df[col])\r\n",
        "\r\n",
        "  mapper = dict(zip(lb.classes_,lb.transform(lb.classes_)))\r\n",
        "  test[col] = test[col].map(mapper)\r\n",
        "  "
      ],
      "execution_count": 17,
      "outputs": []
    },
    {
      "cell_type": "code",
      "metadata": {
        "id": "aT1AAIS75kTR"
      },
      "source": [
        "from sklearn.ensemble import RandomForestClassifier,ExtraTreesClassifier,GradientBoostingClassifier\r\n",
        "from sklearn.model_selection import StratifiedKFold\r\n",
        "from sklearn.metrics import f1_score,log_loss\r\n",
        "from sklearn.ensemble import VotingClassifier\r\n",
        "from sklearn.neighbors import KNeighborsClassifier\r\n",
        "from sklearn.linear_model import LogisticRegression\r\n",
        "from sklearn.svm import SVC\r\n",
        "from mlxtend.classifier import StackingClassifier\r\n",
        "from sklearn.tree import DecisionTreeClassifier\r\n",
        "from sklearn.naive_bayes import GaussianNB,ComplementNB\r\n",
        "import warnings\r\n",
        "from catboost import CatBoostClassifier\r\n",
        "import lightgbm as lgb\r\n",
        "import xgboost as xgb"
      ],
      "execution_count": 18,
      "outputs": []
    },
    {
      "cell_type": "code",
      "metadata": {
        "colab": {
          "base_uri": "https://localhost:8080/"
        },
        "id": "A0nVRvelCpRB",
        "outputId": "8db2bfb4-7704-4d30-ddc9-f2832986df81"
      },
      "source": [
        "df.corr().columns"
      ],
      "execution_count": 19,
      "outputs": [
        {
          "output_type": "execute_result",
          "data": {
            "text/plain": [
              "Index(['WorkTimeInSeconds', 'WorkerId', 'annotatorAge', 'annotatorGender',\n",
              "       'annotatorRace', 'distracted', 'draining', 'frequency', 'importance',\n",
              "       'logTimeSinceEvent', 'openness', 'recAgnPairId', 'recImgPairId',\n",
              "       'similarity', 'stressful', 'timeSinceEvent', 'memType'],\n",
              "      dtype='object')"
            ]
          },
          "metadata": {
            "tags": []
          },
          "execution_count": 19
        }
      ]
    },
    {
      "cell_type": "code",
      "metadata": {
        "id": "4KW_e7FPB68e"
      },
      "source": [
        "list_of_cols = [col for col in df.columns if col!='memType']\r\n",
        "\r\n",
        "highly_corr = []\r\n",
        "\r\n",
        "for i in range(len(list_of_cols)):\r\n",
        "  if list_of_cols[i] not in df.corr().columns:\r\n",
        "    continue\r\n",
        "  \r\n",
        "  for j in range(i+1,len(list_of_cols)):\r\n",
        "    if list_of_cols[j] not in df.corr().columns:\r\n",
        "      continue\r\n",
        "    \r\n",
        "    if df.corr().loc[list_of_cols[i],list_of_cols[j]] > 0.6:\r\n",
        "      highly_corr.append((list_of_cols[i],list_of_cols[j]))"
      ],
      "execution_count": 20,
      "outputs": []
    },
    {
      "cell_type": "code",
      "metadata": {
        "colab": {
          "base_uri": "https://localhost:8080/"
        },
        "id": "-CyAEfJFC8hI",
        "outputId": "0edf4223-6a81-4fcf-e822-40c589ba7d6b"
      },
      "source": [
        "highly_corr"
      ],
      "execution_count": 21,
      "outputs": [
        {
          "output_type": "execute_result",
          "data": {
            "text/plain": [
              "[('draining', 'stressful')]"
            ]
          },
          "metadata": {
            "tags": []
          },
          "execution_count": 21
        }
      ]
    },
    {
      "cell_type": "code",
      "metadata": {
        "colab": {
          "base_uri": "https://localhost:8080/"
        },
        "id": "6Q6H_EuSJh8G",
        "outputId": "b43d6cb8-ec83-4b12-afe4-46ed8ca126d8"
      },
      "source": [
        "df.corr().loc['memType',:]"
      ],
      "execution_count": 22,
      "outputs": [
        {
          "output_type": "execute_result",
          "data": {
            "text/plain": [
              "WorkTimeInSeconds    0.085427\n",
              "WorkerId            -0.010686\n",
              "annotatorAge         0.038015\n",
              "annotatorGender     -0.010332\n",
              "annotatorRace        0.010526\n",
              "distracted          -0.118669\n",
              "draining            -0.083118\n",
              "frequency           -0.168703\n",
              "importance          -0.169015\n",
              "logTimeSinceEvent   -0.208512\n",
              "openness             0.050327\n",
              "recAgnPairId         0.195039\n",
              "recImgPairId         0.213688\n",
              "similarity           0.172066\n",
              "stressful           -0.094833\n",
              "timeSinceEvent      -0.047780\n",
              "memType              1.000000\n",
              "Name: memType, dtype: float64"
            ]
          },
          "metadata": {
            "tags": []
          },
          "execution_count": 22
        }
      ]
    },
    {
      "cell_type": "code",
      "metadata": {
        "id": "Scm271qdOshl"
      },
      "source": [
        "df['combo_1'] = df['distracted'] * df['frequency']\r\n",
        "df['combo_2'] = df['frequency'] * df['importance']\r\n",
        "df['combo_3'] = df['importance'] * df['similarity']\r\n",
        "df['combo_4'] = df['similarity'] * df['logTimeSinceEvent']"
      ],
      "execution_count": 23,
      "outputs": []
    },
    {
      "cell_type": "code",
      "metadata": {
        "id": "scvdzPSMPV_T"
      },
      "source": [
        "test['combo_1'] = test['distracted'] * test['frequency']\r\n",
        "test['combo_2'] = test['frequency'] * test['importance']\r\n",
        "test['combo_3'] = test['importance'] * test['similarity']\r\n",
        "test['combo_4'] = test['similarity'] * test['logTimeSinceEvent']"
      ],
      "execution_count": 24,
      "outputs": []
    },
    {
      "cell_type": "code",
      "metadata": {
        "colab": {
          "base_uri": "https://localhost:8080/"
        },
        "id": "4j1a5nL_O8Mv",
        "outputId": "92da7552-1471-41ed-bcf8-e03cd0a83cb0"
      },
      "source": [
        "df.columns"
      ],
      "execution_count": 25,
      "outputs": [
        {
          "output_type": "execute_result",
          "data": {
            "text/plain": [
              "Index(['AssignmentId', 'WorkTimeInSeconds', 'WorkerId', 'annotatorAge',\n",
              "       'annotatorGender', 'annotatorRace', 'distracted', 'draining',\n",
              "       'frequency', 'importance', 'logTimeSinceEvent', 'mainEvent',\n",
              "       'mostSurprising', 'openness', 'recAgnPairId', 'recImgPairId',\n",
              "       'similarity', 'similarityReason', 'story', 'stressful', 'summary',\n",
              "       'timeSinceEvent', 'memType', 'combo_1', 'combo_2', 'combo_3',\n",
              "       'combo_4'],\n",
              "      dtype='object')"
            ]
          },
          "metadata": {
            "tags": []
          },
          "execution_count": 25
        }
      ]
    },
    {
      "cell_type": "code",
      "metadata": {
        "colab": {
          "base_uri": "https://localhost:8080/"
        },
        "id": "Z1PCtsgj6Arl",
        "outputId": "621c29a4-fb22-4102-92de-892f954f70c4"
      },
      "source": [
        "selected = ['distracted','frequency','importance','similarity','recAgnPairId','recImgPairId',\r\n",
        "            'combo_1', 'combo_2', 'combo_3',\r\n",
        "       'combo_4','draining','stressful','openness']\r\n",
        "\r\n",
        "X = df[selected]\r\n",
        "y = df['memType']\r\n",
        "\r\n",
        "\r\n",
        "print(X.shape,y.shape)"
      ],
      "execution_count": 26,
      "outputs": [
        {
          "output_type": "stream",
          "text": [
            "(6797, 13) (6797,)\n"
          ],
          "name": "stdout"
        }
      ]
    },
    {
      "cell_type": "code",
      "metadata": {
        "colab": {
          "base_uri": "https://localhost:8080/"
        },
        "id": "NWyiDv5L6tRy",
        "outputId": "e37a4454-e2c0-44bd-ce26-909c1464ef80"
      },
      "source": [
        "X.dtypes"
      ],
      "execution_count": 27,
      "outputs": [
        {
          "output_type": "execute_result",
          "data": {
            "text/plain": [
              "distracted      float64\n",
              "frequency       float64\n",
              "importance      float64\n",
              "similarity      float64\n",
              "recAgnPairId    float64\n",
              "recImgPairId    float64\n",
              "combo_1         float64\n",
              "combo_2         float64\n",
              "combo_3         float64\n",
              "combo_4         float64\n",
              "draining        float64\n",
              "stressful       float64\n",
              "openness        float64\n",
              "dtype: object"
            ]
          },
          "metadata": {
            "tags": []
          },
          "execution_count": 27
        }
      ]
    },
    {
      "cell_type": "code",
      "metadata": {
        "colab": {
          "base_uri": "https://localhost:8080/"
        },
        "id": "7447PkKlFgSw",
        "outputId": "85730517-f2b2-4d77-830f-6c0d0a4b0b17"
      },
      "source": [
        "X.isnull().sum()"
      ],
      "execution_count": 28,
      "outputs": [
        {
          "output_type": "execute_result",
          "data": {
            "text/plain": [
              "distracted      0\n",
              "frequency       0\n",
              "importance      0\n",
              "similarity      0\n",
              "recAgnPairId    0\n",
              "recImgPairId    0\n",
              "combo_1         0\n",
              "combo_2         0\n",
              "combo_3         0\n",
              "combo_4         0\n",
              "draining        0\n",
              "stressful       0\n",
              "openness        0\n",
              "dtype: int64"
            ]
          },
          "metadata": {
            "tags": []
          },
          "execution_count": 28
        }
      ]
    },
    {
      "cell_type": "code",
      "metadata": {
        "colab": {
          "base_uri": "https://localhost:8080/"
        },
        "id": "Dv_JnSmy_pll",
        "outputId": "afac6aab-4ae4-4ec7-987d-bf8478bf0882"
      },
      "source": [
        "y.value_counts(normalize=True)"
      ],
      "execution_count": 29,
      "outputs": [
        {
          "output_type": "execute_result",
          "data": {
            "text/plain": [
              "0    0.406061\n",
              "1    0.403855\n",
              "2    0.190084\n",
              "Name: memType, dtype: float64"
            ]
          },
          "metadata": {
            "tags": []
          },
          "execution_count": 29
        }
      ]
    },
    {
      "cell_type": "code",
      "metadata": {
        "colab": {
          "base_uri": "https://localhost:8080/",
          "height": 424
        },
        "id": "cmn5DdyZ6XzX",
        "outputId": "7236d8a9-2c78-46a4-d439-002d37fb612c"
      },
      "source": [
        "iterations = 2\r\n",
        "scores = []\r\n",
        "scores_val = []\r\n",
        "target = y\r\n",
        "temp = X\r\n",
        "for i in range(iterations):\r\n",
        "    print(f'Running {i+1} iteration')\r\n",
        "    \r\n",
        "    kfold = StratifiedKFold(n_splits = 2, shuffle=True)\r\n",
        "    \r\n",
        "    for train_index,test_index in kfold.split(temp,target):\r\n",
        "        xtrain,xtest = temp[temp.index.isin(train_index)],temp[temp.index.isin(test_index)]\r\n",
        "        ytrain,ytest = target[train_index],target[test_index]\r\n",
        "        \r\n",
        "        model  = lgb.LGBMClassifier(max_depth = 6, n_estimators=300,random_state=60,n_jobs=-1,class_weight='balanced')    \r\n",
        "\r\n",
        "        model.fit(xtrain,ytrain)\r\n",
        "            \r\n",
        "        preds = model.predict(xtest)\r\n",
        "        \r\n",
        "        print(f1_score(ytest,preds,average='weighted'))\r\n",
        "        scores.append(f1_score(ytest,preds,average='weighted'))\r\n",
        "\r\n",
        "        \r\n",
        "print('-----------KFOLD--------------')\r\n",
        "print(sns.lineplot(x=[i for i in range(len(scores))],y=scores))\r\n",
        "print(min(scores),max(scores),np.mean(scores))"
      ],
      "execution_count": 30,
      "outputs": [
        {
          "output_type": "stream",
          "text": [
            "Running 1 iteration\n",
            "0.9723530303935652\n",
            "0.9720444979419978\n",
            "Running 2 iteration\n",
            "0.970579789084452\n",
            "0.9661560107132038\n",
            "-----------KFOLD--------------\n",
            "AxesSubplot(0.125,0.125;0.775x0.755)\n",
            "0.9661560107132038 0.9723530303935652 0.9702833320333047\n"
          ],
          "name": "stdout"
        },
        {
          "output_type": "display_data",
          "data": {
            "image/png": "[encoded data removed]",
            "text/plain": [
              "<Figure size 432x288 with 1 Axes>"
            ]
          },
          "metadata": {
            "tags": [],
            "needs_background": "light"
          }
        }
      ]
    },
    {
      "cell_type": "code",
      "metadata": {
        "colab": {
          "base_uri": "https://localhost:8080/"
        },
        "id": "iOPB9QG_AYFz",
        "outputId": "82b62eb2-85be-4a9f-8e59-ab4abb1496d7"
      },
      "source": [
        "model = lgb.LGBMClassifier(max_depth = 6, n_estimators=300,random_state=60,n_jobs=-1)\r\n",
        "model.fit(X,y)"
      ],
      "execution_count": 31,
      "outputs": [
        {
          "output_type": "execute_result",
          "data": {
            "text/plain": [
              "LGBMClassifier(boosting_type='gbdt', class_weight=None, colsample_bytree=1.0,\n",
              "               importance_type='split', learning_rate=0.1, max_depth=6,\n",
              "               min_child_samples=20, min_child_weight=0.001, min_split_gain=0.0,\n",
              "               n_estimators=300, n_jobs=-1, num_leaves=31, objective=None,\n",
              "               random_state=60, reg_alpha=0.0, reg_lambda=0.0, silent=True,\n",
              "               subsample=1.0, subsample_for_bin=200000, subsample_freq=0)"
            ]
          },
          "metadata": {
            "tags": []
          },
          "execution_count": 31
        }
      ]
    },
    {
      "cell_type": "code",
      "metadata": {
        "id": "nKWwSUyt6qGN"
      },
      "source": [
        "preds = model.predict(test[selected])"
      ],
      "execution_count": 32,
      "outputs": []
    },
    {
      "cell_type": "code",
      "metadata": {
        "id": "YQEV8wSpE8_z"
      },
      "source": [
        "inv_mapper = {v: k for k, v in target_mapper.items()}"
      ],
      "execution_count": 33,
      "outputs": []
    },
    {
      "cell_type": "code",
      "metadata": {
        "id": "e1sllCbG6r0o",
        "colab": {
          "base_uri": "https://localhost:8080/",
          "height": 197
        },
        "outputId": "a1010e7c-bbfe-4751-f179-5d08b528ce19"
      },
      "source": [
        "result = pd.DataFrame(preds,columns=['prediction'])\r\n",
        "\r\n",
        "result['prediction'] = result['prediction'].map(inv_mapper)\r\n",
        "\r\n",
        "result.head()"
      ],
      "execution_count": 34,
      "outputs": [
        {
          "output_type": "execute_result",
          "data": {
            "text/html": [
              "<div>\n",
              "<style scoped>\n",
              "    .dataframe tbody tr th:only-of-type {\n",
              "        vertical-align: middle;\n",
              "    }\n",
              "\n",
              "    .dataframe tbody tr th {\n",
              "        vertical-align: top;\n",
              "    }\n",
              "\n",
              "    .dataframe thead th {\n",
              "        text-align: right;\n",
              "    }\n",
              "</style>\n",
              "<table border=\"1\" class=\"dataframe\">\n",
              "  <thead>\n",
              "    <tr style=\"text-align: right;\">\n",
              "      <th></th>\n",
              "      <th>prediction</th>\n",
              "    </tr>\n",
              "  </thead>\n",
              "  <tbody>\n",
              "    <tr>\n",
              "      <th>0</th>\n",
              "      <td>imagined</td>\n",
              "    </tr>\n",
              "    <tr>\n",
              "      <th>1</th>\n",
              "      <td>retold</td>\n",
              "    </tr>\n",
              "    <tr>\n",
              "      <th>2</th>\n",
              "      <td>recalled</td>\n",
              "    </tr>\n",
              "    <tr>\n",
              "      <th>3</th>\n",
              "      <td>retold</td>\n",
              "    </tr>\n",
              "    <tr>\n",
              "      <th>4</th>\n",
              "      <td>imagined</td>\n",
              "    </tr>\n",
              "  </tbody>\n",
              "</table>\n",
              "</div>"
            ],
            "text/plain": [
              "  prediction\n",
              "0   imagined\n",
              "1     retold\n",
              "2   recalled\n",
              "3     retold\n",
              "4   imagined"
            ]
          },
          "metadata": {
            "tags": []
          },
          "execution_count": 34
        }
      ]
    },
    {
      "cell_type": "code",
      "metadata": {
        "colab": {
          "base_uri": "https://localhost:8080/"
        },
        "id": "qJPOM7uOacds",
        "outputId": "3da19658-7872-4a0c-ff74-1ef26a0508b2"
      },
      "source": [
        "result.value_counts(normalize=True)"
      ],
      "execution_count": 35,
      "outputs": [
        {
          "output_type": "execute_result",
          "data": {
            "text/plain": [
              "prediction\n",
              "recalled      0.404473\n",
              "imagined      0.394750\n",
              "retold        0.200778\n",
              "dtype: float64"
            ]
          },
          "metadata": {
            "tags": []
          },
          "execution_count": 35
        }
      ]
    },
    {
      "cell_type": "code",
      "metadata": {
        "id": "rORU7jczEnPG"
      },
      "source": [
        "result.to_csv('dphi20_2.csv',index=False)"
      ],
      "execution_count": 36,
      "outputs": []
    }
  ]
}