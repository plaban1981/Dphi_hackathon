{
  "nbformat": 4,
  "nbformat_minor": 0,
  "metadata": {
    "colab": {
      "name": "Hyperparameter_optimization_technique.ipynb",
      "provenance": [],
      "toc_visible": true,
      "machine_shape": "hm",
      "include_colab_link": true
    },
    "kernelspec": {
      "name": "python3",
      "display_name": "Python 3"
    },
    "accelerator": "GPU"
  },
  "cells": [
    {
      "cell_type": "markdown",
      "metadata": {
        "id": "view-in-github",
        "colab_type": "text"
      },
      "source": [
        "<a href=\"https://colab.research.google.com/github/plaban1981/Dphi_hackathon/blob/main/Hyperparameter_optimization_technique.ipynb\" target=\"_parent\"><img src=\"https://colab.research.google.com/assets/colab-badge.svg\" alt=\"Open In Colab\"/></a>"
      ]
    },
    {
      "cell_type": "markdown",
      "metadata": {
        "id": "ztUgmykqvcHd"
      },
      "source": [
        "Dataset : https://www.kaggle.com/iabhishekofficial/mobile-price-classification\r\n"
      ]
    },
    {
      "cell_type": "code",
      "metadata": {
        "colab": {
          "base_uri": "https://localhost:8080/"
        },
        "id": "Te9PtVsNvSGW",
        "outputId": "112832e9-7a04-4f9b-f17f-204a287bed89"
      },
      "source": [
        "!unzip \"/content/archive (1).zip\""
      ],
      "execution_count": 1,
      "outputs": [
        {
          "output_type": "stream",
          "text": [
            "Archive:  /content/archive (1).zip\n",
            "  inflating: test.csv                \n",
            "  inflating: train.csv               \n"
          ],
          "name": "stdout"
        }
      ]
    },
    {
      "cell_type": "markdown",
      "metadata": {
        "id": "SLSOC-F_xURH"
      },
      "source": [
        "## Load Libraries"
      ]
    },
    {
      "cell_type": "code",
      "metadata": {
        "id": "YQ-dN6yXv8rk"
      },
      "source": [
        "import pandas as pd\r\n",
        "import numpy as np\r\n",
        "import seaborn as sns\r\n",
        "import matplotlib.pyplot as plt\r\n",
        "%matplotlib inline"
      ],
      "execution_count": 2,
      "outputs": []
    },
    {
      "cell_type": "code",
      "metadata": {
        "id": "0svsoY0ZwIBy"
      },
      "source": [
        "train = pd.read_csv(\"/content/train.csv\")\r\n",
        "test = pd.read_csv(\"/content/test.csv\")"
      ],
      "execution_count": 3,
      "outputs": []
    },
    {
      "cell_type": "code",
      "metadata": {
        "colab": {
          "base_uri": "https://localhost:8080/",
          "height": 224
        },
        "id": "NUmF4FE6x-Sa",
        "outputId": "64814c82-4a8a-4e74-eba3-9e7dabe61b6b"
      },
      "source": [
        "train.head()"
      ],
      "execution_count": 4,
      "outputs": [
        {
          "output_type": "execute_result",
          "data": {
            "text/html": [
              "<div>\n",
              "<style scoped>\n",
              "    .dataframe tbody tr th:only-of-type {\n",
              "        vertical-align: middle;\n",
              "    }\n",
              "\n",
              "    .dataframe tbody tr th {\n",
              "        vertical-align: top;\n",
              "    }\n",
              "\n",
              "    .dataframe thead th {\n",
              "        text-align: right;\n",
              "    }\n",
              "</style>\n",
              "<table border=\"1\" class=\"dataframe\">\n",
              "  <thead>\n",
              "    <tr style=\"text-align: right;\">\n",
              "      <th></th>\n",
              "      <th>battery_power</th>\n",
              "      <th>blue</th>\n",
              "      <th>clock_speed</th>\n",
              "      <th>dual_sim</th>\n",
              "      <th>fc</th>\n",
              "      <th>four_g</th>\n",
              "      <th>int_memory</th>\n",
              "      <th>m_dep</th>\n",
              "      <th>mobile_wt</th>\n",
              "      <th>n_cores</th>\n",
              "      <th>pc</th>\n",
              "      <th>px_height</th>\n",
              "      <th>px_width</th>\n",
              "      <th>ram</th>\n",
              "      <th>sc_h</th>\n",
              "      <th>sc_w</th>\n",
              "      <th>talk_time</th>\n",
              "      <th>three_g</th>\n",
              "      <th>touch_screen</th>\n",
              "      <th>wifi</th>\n",
              "      <th>price_range</th>\n",
              "    </tr>\n",
              "  </thead>\n",
              "  <tbody>\n",
              "    <tr>\n",
              "      <th>0</th>\n",
              "      <td>842</td>\n",
              "      <td>0</td>\n",
              "      <td>2.2</td>\n",
              "      <td>0</td>\n",
              "      <td>1</td>\n",
              "      <td>0</td>\n",
              "      <td>7</td>\n",
              "      <td>0.6</td>\n",
              "      <td>188</td>\n",
              "      <td>2</td>\n",
              "      <td>2</td>\n",
              "      <td>20</td>\n",
              "      <td>756</td>\n",
              "      <td>2549</td>\n",
              "      <td>9</td>\n",
              "      <td>7</td>\n",
              "      <td>19</td>\n",
              "      <td>0</td>\n",
              "      <td>0</td>\n",
              "      <td>1</td>\n",
              "      <td>1</td>\n",
              "    </tr>\n",
              "    <tr>\n",
              "      <th>1</th>\n",
              "      <td>1021</td>\n",
              "      <td>1</td>\n",
              "      <td>0.5</td>\n",
              "      <td>1</td>\n",
              "      <td>0</td>\n",
              "      <td>1</td>\n",
              "      <td>53</td>\n",
              "      <td>0.7</td>\n",
              "      <td>136</td>\n",
              "      <td>3</td>\n",
              "      <td>6</td>\n",
              "      <td>905</td>\n",
              "      <td>1988</td>\n",
              "      <td>2631</td>\n",
              "      <td>17</td>\n",
              "      <td>3</td>\n",
              "      <td>7</td>\n",
              "      <td>1</td>\n",
              "      <td>1</td>\n",
              "      <td>0</td>\n",
              "      <td>2</td>\n",
              "    </tr>\n",
              "    <tr>\n",
              "      <th>2</th>\n",
              "      <td>563</td>\n",
              "      <td>1</td>\n",
              "      <td>0.5</td>\n",
              "      <td>1</td>\n",
              "      <td>2</td>\n",
              "      <td>1</td>\n",
              "      <td>41</td>\n",
              "      <td>0.9</td>\n",
              "      <td>145</td>\n",
              "      <td>5</td>\n",
              "      <td>6</td>\n",
              "      <td>1263</td>\n",
              "      <td>1716</td>\n",
              "      <td>2603</td>\n",
              "      <td>11</td>\n",
              "      <td>2</td>\n",
              "      <td>9</td>\n",
              "      <td>1</td>\n",
              "      <td>1</td>\n",
              "      <td>0</td>\n",
              "      <td>2</td>\n",
              "    </tr>\n",
              "    <tr>\n",
              "      <th>3</th>\n",
              "      <td>615</td>\n",
              "      <td>1</td>\n",
              "      <td>2.5</td>\n",
              "      <td>0</td>\n",
              "      <td>0</td>\n",
              "      <td>0</td>\n",
              "      <td>10</td>\n",
              "      <td>0.8</td>\n",
              "      <td>131</td>\n",
              "      <td>6</td>\n",
              "      <td>9</td>\n",
              "      <td>1216</td>\n",
              "      <td>1786</td>\n",
              "      <td>2769</td>\n",
              "      <td>16</td>\n",
              "      <td>8</td>\n",
              "      <td>11</td>\n",
              "      <td>1</td>\n",
              "      <td>0</td>\n",
              "      <td>0</td>\n",
              "      <td>2</td>\n",
              "    </tr>\n",
              "    <tr>\n",
              "      <th>4</th>\n",
              "      <td>1821</td>\n",
              "      <td>1</td>\n",
              "      <td>1.2</td>\n",
              "      <td>0</td>\n",
              "      <td>13</td>\n",
              "      <td>1</td>\n",
              "      <td>44</td>\n",
              "      <td>0.6</td>\n",
              "      <td>141</td>\n",
              "      <td>2</td>\n",
              "      <td>14</td>\n",
              "      <td>1208</td>\n",
              "      <td>1212</td>\n",
              "      <td>1411</td>\n",
              "      <td>8</td>\n",
              "      <td>2</td>\n",
              "      <td>15</td>\n",
              "      <td>1</td>\n",
              "      <td>1</td>\n",
              "      <td>0</td>\n",
              "      <td>1</td>\n",
              "    </tr>\n",
              "  </tbody>\n",
              "</table>\n",
              "</div>"
            ],
            "text/plain": [
              "   battery_power  blue  clock_speed  ...  touch_screen  wifi  price_range\n",
              "0            842     0          2.2  ...             0     1            1\n",
              "1           1021     1          0.5  ...             1     0            2\n",
              "2            563     1          0.5  ...             1     0            2\n",
              "3            615     1          2.5  ...             0     0            2\n",
              "4           1821     1          1.2  ...             1     0            1\n",
              "\n",
              "[5 rows x 21 columns]"
            ]
          },
          "metadata": {
            "tags": []
          },
          "execution_count": 4
        }
      ]
    },
    {
      "cell_type": "markdown",
      "metadata": {
        "id": "BWy0jahUyG72"
      },
      "source": [
        "##  Training Stats"
      ]
    },
    {
      "cell_type": "code",
      "metadata": {
        "colab": {
          "base_uri": "https://localhost:8080/"
        },
        "id": "Q3iXd_8VyKCu",
        "outputId": "8d4d9b90-f7c4-4034-aff0-e98df72875ca"
      },
      "source": [
        "train.shape"
      ],
      "execution_count": 5,
      "outputs": [
        {
          "output_type": "execute_result",
          "data": {
            "text/plain": [
              "(2000, 21)"
            ]
          },
          "metadata": {
            "tags": []
          },
          "execution_count": 5
        }
      ]
    },
    {
      "cell_type": "code",
      "metadata": {
        "colab": {
          "base_uri": "https://localhost:8080/",
          "height": 317
        },
        "id": "SkfDcfd5yNY1",
        "outputId": "d51694a1-c12d-4499-ab15-b014a7f26288"
      },
      "source": [
        "train.describe()"
      ],
      "execution_count": null,
      "outputs": [
        {
          "output_type": "execute_result",
          "data": {
            "text/html": [
              "<div>\n",
              "<style scoped>\n",
              "    .dataframe tbody tr th:only-of-type {\n",
              "        vertical-align: middle;\n",
              "    }\n",
              "\n",
              "    .dataframe tbody tr th {\n",
              "        vertical-align: top;\n",
              "    }\n",
              "\n",
              "    .dataframe thead th {\n",
              "        text-align: right;\n",
              "    }\n",
              "</style>\n",
              "<table border=\"1\" class=\"dataframe\">\n",
              "  <thead>\n",
              "    <tr style=\"text-align: right;\">\n",
              "      <th></th>\n",
              "      <th>battery_power</th>\n",
              "      <th>blue</th>\n",
              "      <th>clock_speed</th>\n",
              "      <th>dual_sim</th>\n",
              "      <th>fc</th>\n",
              "      <th>four_g</th>\n",
              "      <th>int_memory</th>\n",
              "      <th>m_dep</th>\n",
              "      <th>mobile_wt</th>\n",
              "      <th>n_cores</th>\n",
              "      <th>pc</th>\n",
              "      <th>px_height</th>\n",
              "      <th>px_width</th>\n",
              "      <th>ram</th>\n",
              "      <th>sc_h</th>\n",
              "      <th>sc_w</th>\n",
              "      <th>talk_time</th>\n",
              "      <th>three_g</th>\n",
              "      <th>touch_screen</th>\n",
              "      <th>wifi</th>\n",
              "      <th>price_range</th>\n",
              "    </tr>\n",
              "  </thead>\n",
              "  <tbody>\n",
              "    <tr>\n",
              "      <th>count</th>\n",
              "      <td>2000.000000</td>\n",
              "      <td>2000.0000</td>\n",
              "      <td>2000.000000</td>\n",
              "      <td>2000.000000</td>\n",
              "      <td>2000.000000</td>\n",
              "      <td>2000.000000</td>\n",
              "      <td>2000.000000</td>\n",
              "      <td>2000.000000</td>\n",
              "      <td>2000.000000</td>\n",
              "      <td>2000.000000</td>\n",
              "      <td>2000.000000</td>\n",
              "      <td>2000.000000</td>\n",
              "      <td>2000.000000</td>\n",
              "      <td>2000.000000</td>\n",
              "      <td>2000.000000</td>\n",
              "      <td>2000.000000</td>\n",
              "      <td>2000.000000</td>\n",
              "      <td>2000.000000</td>\n",
              "      <td>2000.000000</td>\n",
              "      <td>2000.000000</td>\n",
              "      <td>2000.000000</td>\n",
              "    </tr>\n",
              "    <tr>\n",
              "      <th>mean</th>\n",
              "      <td>1238.518500</td>\n",
              "      <td>0.4950</td>\n",
              "      <td>1.522250</td>\n",
              "      <td>0.509500</td>\n",
              "      <td>4.309500</td>\n",
              "      <td>0.521500</td>\n",
              "      <td>32.046500</td>\n",
              "      <td>0.501750</td>\n",
              "      <td>140.249000</td>\n",
              "      <td>4.520500</td>\n",
              "      <td>9.916500</td>\n",
              "      <td>645.108000</td>\n",
              "      <td>1251.515500</td>\n",
              "      <td>2124.213000</td>\n",
              "      <td>12.306500</td>\n",
              "      <td>5.767000</td>\n",
              "      <td>11.011000</td>\n",
              "      <td>0.761500</td>\n",
              "      <td>0.503000</td>\n",
              "      <td>0.507000</td>\n",
              "      <td>1.500000</td>\n",
              "    </tr>\n",
              "    <tr>\n",
              "      <th>std</th>\n",
              "      <td>439.418206</td>\n",
              "      <td>0.5001</td>\n",
              "      <td>0.816004</td>\n",
              "      <td>0.500035</td>\n",
              "      <td>4.341444</td>\n",
              "      <td>0.499662</td>\n",
              "      <td>18.145715</td>\n",
              "      <td>0.288416</td>\n",
              "      <td>35.399655</td>\n",
              "      <td>2.287837</td>\n",
              "      <td>6.064315</td>\n",
              "      <td>443.780811</td>\n",
              "      <td>432.199447</td>\n",
              "      <td>1084.732044</td>\n",
              "      <td>4.213245</td>\n",
              "      <td>4.356398</td>\n",
              "      <td>5.463955</td>\n",
              "      <td>0.426273</td>\n",
              "      <td>0.500116</td>\n",
              "      <td>0.500076</td>\n",
              "      <td>1.118314</td>\n",
              "    </tr>\n",
              "    <tr>\n",
              "      <th>min</th>\n",
              "      <td>501.000000</td>\n",
              "      <td>0.0000</td>\n",
              "      <td>0.500000</td>\n",
              "      <td>0.000000</td>\n",
              "      <td>0.000000</td>\n",
              "      <td>0.000000</td>\n",
              "      <td>2.000000</td>\n",
              "      <td>0.100000</td>\n",
              "      <td>80.000000</td>\n",
              "      <td>1.000000</td>\n",
              "      <td>0.000000</td>\n",
              "      <td>0.000000</td>\n",
              "      <td>500.000000</td>\n",
              "      <td>256.000000</td>\n",
              "      <td>5.000000</td>\n",
              "      <td>0.000000</td>\n",
              "      <td>2.000000</td>\n",
              "      <td>0.000000</td>\n",
              "      <td>0.000000</td>\n",
              "      <td>0.000000</td>\n",
              "      <td>0.000000</td>\n",
              "    </tr>\n",
              "    <tr>\n",
              "      <th>25%</th>\n",
              "      <td>851.750000</td>\n",
              "      <td>0.0000</td>\n",
              "      <td>0.700000</td>\n",
              "      <td>0.000000</td>\n",
              "      <td>1.000000</td>\n",
              "      <td>0.000000</td>\n",
              "      <td>16.000000</td>\n",
              "      <td>0.200000</td>\n",
              "      <td>109.000000</td>\n",
              "      <td>3.000000</td>\n",
              "      <td>5.000000</td>\n",
              "      <td>282.750000</td>\n",
              "      <td>874.750000</td>\n",
              "      <td>1207.500000</td>\n",
              "      <td>9.000000</td>\n",
              "      <td>2.000000</td>\n",
              "      <td>6.000000</td>\n",
              "      <td>1.000000</td>\n",
              "      <td>0.000000</td>\n",
              "      <td>0.000000</td>\n",
              "      <td>0.750000</td>\n",
              "    </tr>\n",
              "    <tr>\n",
              "      <th>50%</th>\n",
              "      <td>1226.000000</td>\n",
              "      <td>0.0000</td>\n",
              "      <td>1.500000</td>\n",
              "      <td>1.000000</td>\n",
              "      <td>3.000000</td>\n",
              "      <td>1.000000</td>\n",
              "      <td>32.000000</td>\n",
              "      <td>0.500000</td>\n",
              "      <td>141.000000</td>\n",
              "      <td>4.000000</td>\n",
              "      <td>10.000000</td>\n",
              "      <td>564.000000</td>\n",
              "      <td>1247.000000</td>\n",
              "      <td>2146.500000</td>\n",
              "      <td>12.000000</td>\n",
              "      <td>5.000000</td>\n",
              "      <td>11.000000</td>\n",
              "      <td>1.000000</td>\n",
              "      <td>1.000000</td>\n",
              "      <td>1.000000</td>\n",
              "      <td>1.500000</td>\n",
              "    </tr>\n",
              "    <tr>\n",
              "      <th>75%</th>\n",
              "      <td>1615.250000</td>\n",
              "      <td>1.0000</td>\n",
              "      <td>2.200000</td>\n",
              "      <td>1.000000</td>\n",
              "      <td>7.000000</td>\n",
              "      <td>1.000000</td>\n",
              "      <td>48.000000</td>\n",
              "      <td>0.800000</td>\n",
              "      <td>170.000000</td>\n",
              "      <td>7.000000</td>\n",
              "      <td>15.000000</td>\n",
              "      <td>947.250000</td>\n",
              "      <td>1633.000000</td>\n",
              "      <td>3064.500000</td>\n",
              "      <td>16.000000</td>\n",
              "      <td>9.000000</td>\n",
              "      <td>16.000000</td>\n",
              "      <td>1.000000</td>\n",
              "      <td>1.000000</td>\n",
              "      <td>1.000000</td>\n",
              "      <td>2.250000</td>\n",
              "    </tr>\n",
              "    <tr>\n",
              "      <th>max</th>\n",
              "      <td>1998.000000</td>\n",
              "      <td>1.0000</td>\n",
              "      <td>3.000000</td>\n",
              "      <td>1.000000</td>\n",
              "      <td>19.000000</td>\n",
              "      <td>1.000000</td>\n",
              "      <td>64.000000</td>\n",
              "      <td>1.000000</td>\n",
              "      <td>200.000000</td>\n",
              "      <td>8.000000</td>\n",
              "      <td>20.000000</td>\n",
              "      <td>1960.000000</td>\n",
              "      <td>1998.000000</td>\n",
              "      <td>3998.000000</td>\n",
              "      <td>19.000000</td>\n",
              "      <td>18.000000</td>\n",
              "      <td>20.000000</td>\n",
              "      <td>1.000000</td>\n",
              "      <td>1.000000</td>\n",
              "      <td>1.000000</td>\n",
              "      <td>3.000000</td>\n",
              "    </tr>\n",
              "  </tbody>\n",
              "</table>\n",
              "</div>"
            ],
            "text/plain": [
              "       battery_power       blue  ...         wifi  price_range\n",
              "count    2000.000000  2000.0000  ...  2000.000000  2000.000000\n",
              "mean     1238.518500     0.4950  ...     0.507000     1.500000\n",
              "std       439.418206     0.5001  ...     0.500076     1.118314\n",
              "min       501.000000     0.0000  ...     0.000000     0.000000\n",
              "25%       851.750000     0.0000  ...     0.000000     0.750000\n",
              "50%      1226.000000     0.0000  ...     1.000000     1.500000\n",
              "75%      1615.250000     1.0000  ...     1.000000     2.250000\n",
              "max      1998.000000     1.0000  ...     1.000000     3.000000\n",
              "\n",
              "[8 rows x 21 columns]"
            ]
          },
          "metadata": {
            "tags": []
          },
          "execution_count": 6
        }
      ]
    },
    {
      "cell_type": "markdown",
      "metadata": {
        "id": "AEueZrXryCgH"
      },
      "source": [
        "## check for missing values if any "
      ]
    },
    {
      "cell_type": "code",
      "metadata": {
        "colab": {
          "base_uri": "https://localhost:8080/"
        },
        "id": "qAZxR8yrx_e3",
        "outputId": "c4cae22f-4fd5-4cbc-93b7-8c1aedd1a732"
      },
      "source": [
        "train.isnull().sum()[train.isnull().sum() > 0]"
      ],
      "execution_count": 6,
      "outputs": [
        {
          "output_type": "execute_result",
          "data": {
            "text/plain": [
              "Series([], dtype: int64)"
            ]
          },
          "metadata": {
            "tags": []
          },
          "execution_count": 6
        }
      ]
    },
    {
      "cell_type": "code",
      "metadata": {
        "id": "kZ10VCBf6F0x"
      },
      "source": [
        "X = train.drop(\"price_range\",axis=1)\r\n",
        "Y = train['price_range']"
      ],
      "execution_count": 7,
      "outputs": []
    },
    {
      "cell_type": "code",
      "metadata": {
        "colab": {
          "base_uri": "https://localhost:8080/"
        },
        "id": "oNXpPSJZiTjl",
        "outputId": "8807a335-7e09-45bc-8ccf-ff19656d85b3"
      },
      "source": [
        "!pip install scikit-learn==0.24.1"
      ],
      "execution_count": 8,
      "outputs": [
        {
          "output_type": "stream",
          "text": [
            "Collecting scikit-learn==0.24.1\n",
            "\u001b[?25l  Downloading https://files.pythonhosted.org/packages/f3/74/eb899f41d55f957e2591cde5528e75871f817d9fb46d4732423ecaca736d/scikit_learn-0.24.1-cp37-cp37m-manylinux2010_x86_64.whl (22.3MB)\n",
            "\u001b[K     |████████████████████████████████| 22.3MB 1.2MB/s \n",
            "\u001b[?25hRequirement already satisfied: numpy>=1.13.3 in /usr/local/lib/python3.7/dist-packages (from scikit-learn==0.24.1) (1.19.5)\n",
            "Requirement already satisfied: joblib>=0.11 in /usr/local/lib/python3.7/dist-packages (from scikit-learn==0.24.1) (1.0.1)\n",
            "Collecting threadpoolctl>=2.0.0\n",
            "  Downloading https://files.pythonhosted.org/packages/f7/12/ec3f2e203afa394a149911729357aa48affc59c20e2c1c8297a60f33f133/threadpoolctl-2.1.0-py3-none-any.whl\n",
            "Requirement already satisfied: scipy>=0.19.1 in /usr/local/lib/python3.7/dist-packages (from scikit-learn==0.24.1) (1.4.1)\n",
            "Installing collected packages: threadpoolctl, scikit-learn\n",
            "  Found existing installation: scikit-learn 0.22.2.post1\n",
            "    Uninstalling scikit-learn-0.22.2.post1:\n",
            "      Successfully uninstalled scikit-learn-0.22.2.post1\n",
            "Successfully installed scikit-learn-0.24.1 threadpoolctl-2.1.0\n"
          ],
          "name": "stdout"
        }
      ]
    },
    {
      "cell_type": "markdown",
      "metadata": {
        "id": "G0DNnOMRxf1k"
      },
      "source": [
        "## Hyperoptimization Techniques Covered :\r\n",
        "* GridSearchCV\r\n",
        "* RandomizedSearchCV\r\n",
        "* HalvingGridSearchCV\r\n",
        "* HalvingRandomSearchCV\r\n",
        "* Bayesian Optimisation using scikit-optimization\r\n",
        "* Hyperopt using Optuna"
      ]
    },
    {
      "cell_type": "code",
      "metadata": {
        "id": "I0JMV8Oug5GW"
      },
      "source": [
        "from sklearn.ensemble import RandomForestClassifier\r\n",
        "from sklearn.model_selection import GridSearchCV\r\n",
        "from sklearn.model_selection import RandomizedSearchCV\r\n",
        "# explicitly require this experimental feature\r\n",
        "from sklearn.experimental import enable_halving_search_cv\r\n",
        "from sklearn.model_selection import HalvingGridSearchCV\r\n",
        "from sklearn.model_selection import HalvingRandomSearchCV\r\n",
        "from sklearn.metrics import accuracy_score\r\n"
      ],
      "execution_count": 9,
      "outputs": []
    },
    {
      "cell_type": "code",
      "metadata": {
        "colab": {
          "base_uri": "https://localhost:8080/"
        },
        "id": "2_w36wWOiMXY",
        "outputId": "2e3488bb-ac21-4a83-cc79-908ab076b744"
      },
      "source": [
        "rf = RandomForestClassifier()\r\n",
        "rf"
      ],
      "execution_count": null,
      "outputs": [
        {
          "output_type": "execute_result",
          "data": {
            "text/plain": [
              "RandomForestClassifier()"
            ]
          },
          "metadata": {
            "tags": []
          },
          "execution_count": 6
        }
      ]
    },
    {
      "cell_type": "code",
      "metadata": {
        "colab": {
          "base_uri": "https://localhost:8080/"
        },
        "id": "eumbkWoq2vrp",
        "outputId": "2dae2a92-bbc1-494f-a184-670f9f5b042e"
      },
      "source": [
        "np.random.uniform(0.1,1,5)"
      ],
      "execution_count": 25,
      "outputs": [
        {
          "output_type": "execute_result",
          "data": {
            "text/plain": [
              "array([0.76428017, 0.17856515, 0.24612943, 0.30642318, 0.69002882])"
            ]
          },
          "metadata": {
            "tags": []
          },
          "execution_count": 25
        }
      ]
    },
    {
      "cell_type": "code",
      "metadata": {
        "id": "UJAW5IpoirFN"
      },
      "source": [
        "params = {'n_estimators':[100,200,300,400,500],\r\n",
        "          'max_depth': [2,5,7,8,10],\r\n",
        "          'criterion':['gini','entropy'],\r\n",
        "          'max_features' : np.random.uniform(0.1,1,5),\r\n",
        "          'random_state':[42,100,700,1234]}"
      ],
      "execution_count": 28,
      "outputs": []
    },
    {
      "cell_type": "code",
      "metadata": {
        "id": "Pbou6Y7gjKif"
      },
      "source": [
        "grid = GridSearchCV(estimator=rf,\r\n",
        "                    param_grid=params,\r\n",
        "                    scoring = 'accuracy',\r\n",
        "                    verbose=10,\r\n",
        "                    cv=5,\r\n",
        "                    n_jobs=-1)"
      ],
      "execution_count": 29,
      "outputs": []
    },
    {
      "cell_type": "code",
      "metadata": {
        "colab": {
          "base_uri": "https://localhost:8080/"
        },
        "id": "j6GjMrlvjpLs",
        "outputId": "fb8ed9ac-685f-41d3-af11-c5ddc7cb4109"
      },
      "source": [
        "import time\r\n",
        "\r\n",
        "start = time.time()\r\n",
        "grid.fit(X,Y)\r\n",
        "end = time.time()\r\n",
        "\r\n",
        "print(f'total time {end - start} in seconds')"
      ],
      "execution_count": 30,
      "outputs": [
        {
          "output_type": "stream",
          "text": [
            "Fitting 5 folds for each of 1000 candidates, totalling 5000 fits\n",
            "total time 2247.5584478378296 in seconds\n"
          ],
          "name": "stdout"
        }
      ]
    },
    {
      "cell_type": "code",
      "metadata": {
        "colab": {
          "base_uri": "https://localhost:8080/"
        },
        "id": "Cn_g4aFvjrpt",
        "outputId": "bd0ca065-c24d-4a1e-f29d-2711994b570c"
      },
      "source": [
        "print(grid.best_params_)\r\n",
        "print(grid.best_estimator_)"
      ],
      "execution_count": 31,
      "outputs": [
        {
          "output_type": "stream",
          "text": [
            "{'criterion': 'entropy', 'max_depth': 10, 'max_features': 0.855239859975857, 'n_estimators': 500, 'random_state': 100}\n",
            "RandomForestClassifier(criterion='entropy', max_depth=10,\n",
            "                       max_features=0.855239859975857, n_estimators=500,\n",
            "                       random_state=100)\n"
          ],
          "name": "stdout"
        }
      ]
    },
    {
      "cell_type": "markdown",
      "metadata": {
        "id": "Qn49q3vUyI8n"
      },
      "source": [
        "## Accuracy score for parameters selected by GridSearchCV"
      ]
    },
    {
      "cell_type": "code",
      "metadata": {
        "colab": {
          "base_uri": "https://localhost:8080/"
        },
        "id": "u8h_ZYrEyW3O",
        "outputId": "94de36b8-562b-465a-f3a1-48e921af18fe"
      },
      "source": [
        "from sklearn.model_selection import train_test_split\r\n",
        "X_train,X_test,y_train,y_test = train_test_split(X,Y,test_size=0.10,stratify=Y,random_state=42)\r\n",
        "rf = RandomForestClassifier(criterion='entropy', max_depth=10,\r\n",
        "                       max_features=0.855239859975857, n_estimators=500,\r\n",
        "                       random_state=100)\r\n",
        "                       \r\n",
        "rf.fit(X_train,y_train)\r\n",
        "y_pred = rf.predict(X_test)\r\n",
        "print(f\"accuracy for parameters selected by GridSearchCV : {accuracy_score(y_test,y_pred) *100.0}%\")\r\n"
      ],
      "execution_count": 33,
      "outputs": [
        {
          "output_type": "stream",
          "text": [
            "accuracy for parameters selected by GridSearchCV : 95.0%\n"
          ],
          "name": "stdout"
        }
      ]
    },
    {
      "cell_type": "markdown",
      "metadata": {
        "id": "AYHQIB58yx82"
      },
      "source": [
        "## RandomizedSearchCV"
      ]
    },
    {
      "cell_type": "code",
      "metadata": {
        "id": "VB2Q5OX5GyqA"
      },
      "source": [
        "rf = RandomForestClassifier()"
      ],
      "execution_count": 35,
      "outputs": []
    },
    {
      "cell_type": "code",
      "metadata": {
        "id": "jT9o7F4tj4lI"
      },
      "source": [
        "grid_random = RandomizedSearchCV(estimator=rf,\r\n",
        "                                 param_distributions = params,\r\n",
        "                                 scoring='accuracy',\r\n",
        "                                 verbose=10,\r\n",
        "                                 cv=5,\r\n",
        "                                 n_jobs=-1)\r\n"
      ],
      "execution_count": 36,
      "outputs": []
    },
    {
      "cell_type": "code",
      "metadata": {
        "colab": {
          "base_uri": "https://localhost:8080/"
        },
        "id": "xhUsxzyymAJM",
        "outputId": "26e44201-d965-439d-ead3-4121400a3888"
      },
      "source": [
        "import time\r\n",
        "\r\n",
        "start = time.time()\r\n",
        "grid_random.fit(X,Y)\r\n",
        "end = time.time()\r\n",
        "\r\n",
        "print(f'total time {end - start} in seconds')\r\n",
        "\r\n",
        "print(grid_random.best_params_)\r\n",
        "print(grid_random.best_estimator_)"
      ],
      "execution_count": 37,
      "outputs": [
        {
          "output_type": "stream",
          "text": [
            "Fitting 5 folds for each of 10 candidates, totalling 50 fits\n",
            "total time 24.80034565925598 in seconds\n",
            "{'random_state': 42, 'n_estimators': 500, 'max_features': 0.5311153082821708, 'max_depth': 10, 'criterion': 'entropy'}\n",
            "RandomForestClassifier(criterion='entropy', max_depth=10,\n",
            "                       max_features=0.5311153082821708, n_estimators=500,\n",
            "                       random_state=42)\n"
          ],
          "name": "stdout"
        }
      ]
    },
    {
      "cell_type": "markdown",
      "metadata": {
        "id": "8SqxIuolzIbU"
      },
      "source": [
        "## Accuracy score for parameters selected by RandomizedSearchCV"
      ]
    },
    {
      "cell_type": "code",
      "metadata": {
        "colab": {
          "base_uri": "https://localhost:8080/"
        },
        "id": "aD-Dp5OTy3tO",
        "outputId": "fd1e20eb-73ef-47e7-b8d5-ed7198e3ae28"
      },
      "source": [
        "rf = RandomForestClassifier(criterion='entropy', max_depth=10,\r\n",
        "                       max_features=0.5311153082821708, n_estimators=500,\r\n",
        "                       random_state=42)\r\n",
        "rf.fit(X_train,y_train)\r\n",
        "y_pred = rf.predict(X_test)\r\n",
        "print(f\"accuracy for parameters selected by RandomizedSearchCV : {accuracy_score(y_test,y_pred) *100.0}%\")\r\n"
      ],
      "execution_count": 38,
      "outputs": [
        {
          "output_type": "stream",
          "text": [
            "accuracy for parameters selected by RandomizedSearchCV : 95.5%\n"
          ],
          "name": "stdout"
        }
      ]
    },
    {
      "cell_type": "markdown",
      "metadata": {
        "id": "iLHiCB0DzQA7"
      },
      "source": [
        "## HalvingGridSearchCV"
      ]
    },
    {
      "cell_type": "code",
      "metadata": {
        "colab": {
          "base_uri": "https://localhost:8080/"
        },
        "id": "srRtR3Pummty",
        "outputId": "3113695e-804d-4308-83dc-a13677ad3188"
      },
      "source": [
        "len(X.columns)"
      ],
      "execution_count": null,
      "outputs": [
        {
          "output_type": "execute_result",
          "data": {
            "text/plain": [
              "20"
            ]
          },
          "metadata": {
            "tags": []
          },
          "execution_count": 18
        }
      ]
    },
    {
      "cell_type": "markdown",
      "metadata": {
        "id": "YZx1rpXvm61L"
      },
      "source": [
        "* resource'n_samples' or str, default=’n_samples’\r\n",
        "Defines the resource that increases with each iteration. By default, the resource is the number of samples. It can also be set to any parameter of the base estimator that accepts positive integer values, e.g. ‘n_iterations’ or ‘n_estimators’ for a gradient boosting estimator. In this case max_resources cannot be ‘auto’ and must be set explicitly.\r\n",
        "\r\n",
        "* max_resourcesint, default=’auto’\r\n",
        "The maximum amount of resource that any candidate is allowed to use for a given iteration. By default, this is set to n_samples when resource='n_samples' (default), else an error is raised.\r\n",
        "\r\n",
        "* min_resources{‘exhaust’, ‘smallest’} or int, default=’exhaust’\r\n",
        "The minimum amount of resource that any candidate is allowed to use for a given iteration. Equivalently, this defines the amount of resources r0 that are allocated for each candidate at the first iteration.\r\n",
        "\r\n",
        "  *  ‘smallest’ is a heuristic that sets r0 to a small value:\r\n",
        "n_splits * 2 when resource='n_samples' for a regression\r\n",
        "problem\r\n",
        "\r\n",
        "  * n_classes * n_splits * 2 when resource='n_samples' for a\r\n",
        "classification problem\r\n",
        "\r\n",
        "  * 1 when resource != 'n_samples'"
      ]
    },
    {
      "cell_type": "code",
      "metadata": {
        "colab": {
          "base_uri": "https://localhost:8080/"
        },
        "id": "Duzi7tx8mDd0",
        "outputId": "0856a6e6-989c-497d-a738-c5ee810bc646"
      },
      "source": [
        "import time\r\n",
        "rf = RandomForestClassifier()\r\n",
        "start = time.time()\r\n",
        "grid_halving = HalvingGridSearchCV(rf, params,\r\n",
        "                                   max_resources=100,random_state=42)\r\n",
        "grid_halving.fit(X,Y)\r\n",
        "end = time.time()\r\n",
        "\r\n",
        "print(f'total time {end - start} in milliseconds')\r\n",
        "print(grid_halving.best_params_)\r\n",
        "print(grid_halving.best_estimator_)"
      ],
      "execution_count": 39,
      "outputs": [
        {
          "output_type": "stream",
          "text": [
            "total time 1871.6434400081635 in milliseconds\n",
            "{'criterion': 'entropy', 'max_depth': 5, 'max_features': 0.855239859975857, 'n_estimators': 200, 'random_state': 42}\n",
            "RandomForestClassifier(criterion='entropy', max_depth=5,\n",
            "                       max_features=0.855239859975857, n_estimators=200,\n",
            "                       random_state=42)\n"
          ],
          "name": "stdout"
        }
      ]
    },
    {
      "cell_type": "markdown",
      "metadata": {
        "id": "RQ7HuWqqzuDH"
      },
      "source": [
        "## Accuracy Score obtained by the hyperparemeters selected by HalvingGridSearchCV"
      ]
    },
    {
      "cell_type": "code",
      "metadata": {
        "colab": {
          "base_uri": "https://localhost:8080/"
        },
        "id": "Y4WGmGqzz1w0",
        "outputId": "369d0b02-7d99-4a48-ef16-e29913c44c8e"
      },
      "source": [
        "rf = RandomForestClassifier(criterion='entropy', max_depth=5,\r\n",
        "                       max_features=0.855239859975857, n_estimators=200,\r\n",
        "                       random_state=42)\r\n",
        "rf.fit(X_train,y_train)\r\n",
        "y_pred = rf.predict(X_test)\r\n",
        "print(f\"accuracy for parameters selected by HalvingGridSearchCV : {accuracy_score(y_test,y_pred) *100.0}%\")\r\n"
      ],
      "execution_count": 40,
      "outputs": [
        {
          "output_type": "stream",
          "text": [
            "accuracy for parameters selected by HalvingGridSearchCV : 92.0%\n"
          ],
          "name": "stdout"
        }
      ]
    },
    {
      "cell_type": "code",
      "metadata": {
        "colab": {
          "base_uri": "https://localhost:8080/"
        },
        "id": "wlvgpVKDogVZ",
        "outputId": "bfd44599-18a0-4781-e8c1-1835c5101133"
      },
      "source": [
        "import time\r\n",
        "rf = RandomForestClassifier()\r\n",
        "start = time.time()\r\n",
        "grid_halving_r = HalvingRandomSearchCV(rf, params,\r\n",
        "                                   max_resources=100,random_state=42)\r\n",
        "grid_halving_r.fit(X,Y)\r\n",
        "end = time.time()\r\n",
        "\r\n",
        "print(f'total time {end - start} in seconds')\r\n",
        "print(grid_halving.best_params_)\r\n",
        "print(grid_halving.best_estimator_)\r\n",
        " "
      ],
      "execution_count": 41,
      "outputs": [
        {
          "output_type": "stream",
          "text": [
            "total time 6.248714923858643 in seconds\n",
            "{'criterion': 'entropy', 'max_depth': 5, 'max_features': 0.855239859975857, 'n_estimators': 200, 'random_state': 42}\n",
            "RandomForestClassifier(criterion='entropy', max_depth=5,\n",
            "                       max_features=0.855239859975857, n_estimators=200,\n",
            "                       random_state=42)\n"
          ],
          "name": "stdout"
        }
      ]
    },
    {
      "cell_type": "markdown",
      "metadata": {
        "id": "7KGm27Jy0Dwv"
      },
      "source": [
        "## Accuracy Score obtained by the parameters selected by HalvingRandomSearchCV"
      ]
    },
    {
      "cell_type": "code",
      "metadata": {
        "colab": {
          "base_uri": "https://localhost:8080/"
        },
        "id": "KjywRMT40LYC",
        "outputId": "aa3b8394-c676-4cbf-c7b8-ab74cebc79bd"
      },
      "source": [
        "rf = RandomForestClassifier(criterion='entropy', max_depth=5,\r\n",
        "                       max_features=0.855239859975857, n_estimators=200,\r\n",
        "                       random_state=42)\r\n",
        "rf.fit(X_train,y_train)\r\n",
        "y_pred = rf.predict(X_test)\r\n",
        "print(f\"accuracy for parameters selected by HalvingRandomSearchCV : {accuracy_score(y_test,y_pred) *100.0}%\")\r\n"
      ],
      "execution_count": 42,
      "outputs": [
        {
          "output_type": "stream",
          "text": [
            "accuracy for parameters selected by HalvingRandomSearchCV : 92.0%\n"
          ],
          "name": "stdout"
        }
      ]
    },
    {
      "cell_type": "markdown",
      "metadata": {
        "id": "t9KY8os1r_-d"
      },
      "source": [
        "## Bayesian Optimization"
      ]
    },
    {
      "cell_type": "code",
      "metadata": {
        "colab": {
          "base_uri": "https://localhost:8080/"
        },
        "id": "6lZNEX_wqXjp",
        "outputId": "cccc194b-0110-4202-b3b2-855ec3446b8c"
      },
      "source": [
        "!pip install --upgrade scikit-optimize"
      ],
      "execution_count": 14,
      "outputs": [
        {
          "output_type": "stream",
          "text": [
            "Collecting scikit-optimize\n",
            "\u001b[?25l  Downloading https://files.pythonhosted.org/packages/8b/03/be33e89f55866065a02e515c5b319304a801a9f1027a9b311a9b1d1f8dc7/scikit_optimize-0.8.1-py2.py3-none-any.whl (101kB)\n",
            "\r\u001b[K     |███▎                            | 10kB 26.0MB/s eta 0:00:01\r\u001b[K     |██████▌                         | 20kB 30.3MB/s eta 0:00:01\r\u001b[K     |█████████▊                      | 30kB 20.4MB/s eta 0:00:01\r\u001b[K     |█████████████                   | 40kB 16.7MB/s eta 0:00:01\r\u001b[K     |████████████████▏               | 51kB 12.4MB/s eta 0:00:01\r\u001b[K     |███████████████████▍            | 61kB 12.2MB/s eta 0:00:01\r\u001b[K     |██████████████████████▊         | 71kB 12.8MB/s eta 0:00:01\r\u001b[K     |██████████████████████████      | 81kB 14.1MB/s eta 0:00:01\r\u001b[K     |█████████████████████████████▏  | 92kB 13.9MB/s eta 0:00:01\r\u001b[K     |████████████████████████████████| 102kB 7.7MB/s \n",
            "\u001b[?25hCollecting pyaml>=16.9\n",
            "  Downloading https://files.pythonhosted.org/packages/15/c4/1310a054d33abc318426a956e7d6df0df76a6ddfa9c66f6310274fb75d42/pyaml-20.4.0-py2.py3-none-any.whl\n",
            "Requirement already satisfied, skipping upgrade: scipy>=0.19.1 in /usr/local/lib/python3.7/dist-packages (from scikit-optimize) (1.4.1)\n",
            "Requirement already satisfied, skipping upgrade: scikit-learn>=0.20.0 in /usr/local/lib/python3.7/dist-packages (from scikit-optimize) (0.24.1)\n",
            "Requirement already satisfied, skipping upgrade: numpy>=1.13.3 in /usr/local/lib/python3.7/dist-packages (from scikit-optimize) (1.19.5)\n",
            "Requirement already satisfied, skipping upgrade: joblib>=0.11 in /usr/local/lib/python3.7/dist-packages (from scikit-optimize) (1.0.1)\n",
            "Requirement already satisfied, skipping upgrade: PyYAML in /usr/local/lib/python3.7/dist-packages (from pyaml>=16.9->scikit-optimize) (3.13)\n",
            "Requirement already satisfied, skipping upgrade: threadpoolctl>=2.0.0 in /usr/local/lib/python3.7/dist-packages (from scikit-learn>=0.20.0->scikit-optimize) (2.1.0)\n",
            "Installing collected packages: pyaml, scikit-optimize\n",
            "Successfully installed pyaml-20.4.0 scikit-optimize-0.8.1\n"
          ],
          "name": "stdout"
        }
      ]
    },
    {
      "cell_type": "code",
      "metadata": {
        "id": "PhG0slgOKTHr"
      },
      "source": [
        "from skopt import gp_minimize\r\n",
        "from sklearn.model_selection import StratifiedKFold"
      ],
      "execution_count": 15,
      "outputs": []
    },
    {
      "cell_type": "markdown",
      "metadata": {
        "id": "EKQwlM6vMDtV"
      },
      "source": [
        "## Define space parameters for search"
      ]
    },
    {
      "cell_type": "code",
      "metadata": {
        "id": "JqDZhjD7L9Vu"
      },
      "source": [
        "from functools import partial\r\n",
        "from skopt import *\r\n",
        "# define a parameter space\r\n",
        "param_space = [\r\n",
        "# max_depth is an integer between 3 and 10\r\n",
        "space.Integer(3, 15, name=\"max_depth\"),\r\n",
        "# n_estimators is an integer between 50 and 1500\r\n",
        "space.Integer(100, 1500, name=\"n_estimators\"),\r\n",
        "# criterion is a category. here we define list of categories\r\n",
        "space.Categorical([\"gini\", \"entropy\"], name=\"criterion\"),\r\n",
        "# you can also have Real numbered space and define a\r\n",
        "# distribution you want to pick it from\r\n",
        "space.Real(0.01, 1, prior=\"uniform\", name=\"max_features\")\r\n",
        "]"
      ],
      "execution_count": null,
      "outputs": []
    },
    {
      "cell_type": "code",
      "metadata": {
        "id": "0FLYSYD8gNQ1"
      },
      "source": [
        "# make a list of param names\r\n",
        "# this has to be same order as the search space\r\n",
        "# inside the main function\r\n",
        "param_names = [\r\n",
        "\"max_depth\",\r\n",
        "\"n_estimators\",\r\n",
        "\"criterion\",\r\n",
        "\"max_features\"\r\n",
        "]"
      ],
      "execution_count": null,
      "outputs": []
    },
    {
      "cell_type": "markdown",
      "metadata": {
        "id": "emJ-ghK8omrx"
      },
      "source": [
        "The main optimization function.\r\n",
        "\r\n",
        "* This function takes all the arguments from the search space\r\n",
        "and training features and targets. It then initializes\r\n",
        "the models by setting the chosen parameters and runs\r\n",
        "cross-validation and returns a negative accuracy score\r\n",
        "\r\n",
        "* param params: list of params from * gp_minimize\r\n",
        "  * param param_names: list of param names. order is important!\r\n",
        "  * param x: training data\r\n",
        "  * param y: labels/targets\r\n",
        "  * return: negative accuracy after 5 folds"
      ]
    },
    {
      "cell_type": "code",
      "metadata": {
        "id": "RtiV3cmBiObu"
      },
      "source": [
        "def optimize(params, param_names, x, y):\r\n",
        "  # convert params to dictionary\r\n",
        "  params = dict(zip(param_names, params))\r\n",
        "  # initialize model with current parameters\r\n",
        "  model = RandomForestClassifier(**params)\r\n",
        "  # initialize stratified k-fold\r\n",
        "  kf = StratifiedKFold(n_splits=5)\r\n",
        "  # initialize accuracy list\r\n",
        "  accuracies = []\r\n",
        "  # loop over all folds\r\n",
        "  for idx in kf.split(X=x, y=y):\r\n",
        "    train_idx, test_idx = idx[0], idx[1]\r\n",
        "    xtrain,xtest = x[train_idx],x[test_idx]\r\n",
        "    ytrain,ytest = y[train_idx],y[test_idx]\r\n",
        "    # fit model for current fold\r\n",
        "    model.fit(xtrain, ytrain)\r\n",
        "    #create predictions\r\n",
        "    preds = model.predict(xtest)\r\n",
        "    # calculate and append accuracy\r\n",
        "    fold_accuracy = accuracy_score(ytest,preds)\r\n",
        "    accuracies.append(fold_accuracy)\r\n",
        "  # return negative accuracy\r\n",
        "  return -1 * np.mean(accuracies)"
      ],
      "execution_count": null,
      "outputs": []
    },
    {
      "cell_type": "code",
      "metadata": {
        "id": "uSj9Soo7hAaQ"
      },
      "source": [
        "optimization_function = partial(optimize,param_names=param_names,x=X.values,y=Y.values)"
      ],
      "execution_count": null,
      "outputs": []
    },
    {
      "cell_type": "code",
      "metadata": {
        "colab": {
          "base_uri": "https://localhost:8080/"
        },
        "id": "RmetRFjVqGFv",
        "outputId": "43ad4131-174a-4243-991f-b954594dbb20"
      },
      "source": [
        "result = gp_minimize(\r\n",
        "optimization_function,\r\n",
        "dimensions=param_space,\r\n",
        "n_calls=15,\r\n",
        "n_random_starts=10,\r\n",
        "verbose=10\r\n",
        ")\r\n"
      ],
      "execution_count": null,
      "outputs": [
        {
          "output_type": "stream",
          "text": [
            "Iteration No: 1 started. Evaluating function at random point.\n",
            "Iteration No: 1 ended. Evaluation done at random point.\n",
            "Time taken: 7.0160\n",
            "Function value obtained: -0.7695\n",
            "Current minimum: -0.7695\n",
            "Iteration No: 2 started. Evaluating function at random point.\n",
            "Iteration No: 2 ended. Evaluation done at random point.\n",
            "Time taken: 36.6208\n",
            "Function value obtained: -0.9075\n",
            "Current minimum: -0.9075\n",
            "Iteration No: 3 started. Evaluating function at random point.\n",
            "Iteration No: 3 ended. Evaluation done at random point.\n",
            "Time taken: 45.3697\n",
            "Function value obtained: -0.8885\n",
            "Current minimum: -0.9075\n",
            "Iteration No: 4 started. Evaluating function at random point.\n",
            "Iteration No: 4 ended. Evaluation done at random point.\n",
            "Time taken: 4.0406\n",
            "Function value obtained: -0.8985\n",
            "Current minimum: -0.9075\n",
            "Iteration No: 5 started. Evaluating function at random point.\n",
            "Iteration No: 5 ended. Evaluation done at random point.\n",
            "Time taken: 17.8802\n",
            "Function value obtained: -0.9055\n",
            "Current minimum: -0.9075\n",
            "Iteration No: 6 started. Evaluating function at random point.\n",
            "Iteration No: 6 ended. Evaluation done at random point.\n",
            "Time taken: 4.0960\n",
            "Function value obtained: -0.8215\n",
            "Current minimum: -0.9075\n",
            "Iteration No: 7 started. Evaluating function at random point.\n",
            "Iteration No: 7 ended. Evaluation done at random point.\n",
            "Time taken: 0.9981\n",
            "Function value obtained: -0.8055\n",
            "Current minimum: -0.9075\n",
            "Iteration No: 8 started. Evaluating function at random point.\n",
            "Iteration No: 8 ended. Evaluation done at random point.\n",
            "Time taken: 48.7688\n",
            "Function value obtained: -0.9090\n",
            "Current minimum: -0.9090\n",
            "Iteration No: 9 started. Evaluating function at random point.\n",
            "Iteration No: 9 ended. Evaluation done at random point.\n",
            "Time taken: 31.0426\n",
            "Function value obtained: -0.9075\n",
            "Current minimum: -0.9090\n",
            "Iteration No: 10 started. Evaluating function at random point.\n",
            "Iteration No: 10 ended. Evaluation done at random point.\n",
            "Time taken: 25.2079\n",
            "Function value obtained: -0.9010\n",
            "Current minimum: -0.9090\n",
            "Iteration No: 11 started. Searching for the next optimal point.\n",
            "Iteration No: 11 ended. Search finished for the next optimal point.\n",
            "Time taken: 72.9583\n",
            "Function value obtained: -0.9065\n",
            "Current minimum: -0.9090\n",
            "Iteration No: 12 started. Searching for the next optimal point.\n",
            "Iteration No: 12 ended. Search finished for the next optimal point.\n",
            "Time taken: 75.5039\n",
            "Function value obtained: -0.9060\n",
            "Current minimum: -0.9090\n",
            "Iteration No: 13 started. Searching for the next optimal point.\n",
            "Iteration No: 13 ended. Search finished for the next optimal point.\n",
            "Time taken: 1.8428\n",
            "Function value obtained: -0.7140\n",
            "Current minimum: -0.9090\n",
            "Iteration No: 14 started. Searching for the next optimal point.\n",
            "Iteration No: 14 ended. Search finished for the next optimal point.\n",
            "Time taken: 57.4671\n",
            "Function value obtained: -0.9095\n",
            "Current minimum: -0.9095\n",
            "Iteration No: 15 started. Searching for the next optimal point.\n",
            "Iteration No: 15 ended. Search finished for the next optimal point.\n",
            "Time taken: 43.3004\n",
            "Function value obtained: -0.8965\n",
            "Current minimum: -0.9095\n"
          ],
          "name": "stdout"
        }
      ]
    },
    {
      "cell_type": "code",
      "metadata": {
        "colab": {
          "base_uri": "https://localhost:8080/"
        },
        "id": "W4kDvGvPqUQJ",
        "outputId": "9e8abe03-e371-4b68-b559-4d07f457b45d"
      },
      "source": [
        "# create best params dict and print it\r\n",
        "best_params = dict(zip(param_names,result.x))\r\n",
        "print(best_params)\r\n"
      ],
      "execution_count": null,
      "outputs": [
        {
          "output_type": "stream",
          "text": [
            "{'max_depth': 11, 'n_estimators': 1500, 'criterion': 'entropy', 'max_features': 0.6883717288761102}\n"
          ],
          "name": "stdout"
        }
      ]
    },
    {
      "cell_type": "code",
      "metadata": {
        "colab": {
          "base_uri": "https://localhost:8080/",
          "height": 314
        },
        "id": "EyxpZ5bOtc3F",
        "outputId": "d04b1768-dd40-42a9-eba3-f9033fcca5ac"
      },
      "source": [
        "from skopt.plots import plot_convergence\r\n",
        "plot_convergence(result)"
      ],
      "execution_count": null,
      "outputs": [
        {
          "output_type": "execute_result",
          "data": {
            "text/plain": [
              "<matplotlib.axes._subplots.AxesSubplot at 0x7f9e83a4a350>"
            ]
          },
          "metadata": {
            "tags": []
          },
          "execution_count": 62
        },
        {
          "output_type": "display_data",
          "data": {
            "image/png": "[encoded data removed]",
            "text/plain": [
              "<Figure size 432x288 with 1 Axes>"
            ]
          },
          "metadata": {
            "tags": [],
            "needs_background": "light"
          }
        }
      ]
    },
    {
      "cell_type": "markdown",
      "metadata": {
        "id": "5gB39lc40hyD"
      },
      "source": [
        "## Accuracy Score obtained by the parameters selected by bayesian optimization algorithm"
      ]
    },
    {
      "cell_type": "code",
      "metadata": {
        "colab": {
          "base_uri": "https://localhost:8080/"
        },
        "id": "aB3yAqI_1OKZ",
        "outputId": "70365375-51bc-46fd-cfbe-a8e1b63d4d00"
      },
      "source": [
        "rf = RandomForestClassifier(criterion='entropy', max_depth=11, n_estimators=1500,max_features=0.6883717288761102,random_state=42)\r\n",
        "rf.fit(X_train,y_train)\r\n",
        "y_pred = rf.predict(X_test)\r\n",
        "print(f\"accuracy for parameters selected by BayesianOptimization : {accuracy_score(y_test,y_pred) *100.0}%\")\r\n"
      ],
      "execution_count": 16,
      "outputs": [
        {
          "output_type": "stream",
          "text": [
            "accuracy for parameters selected by BayesianOptimization : 95.0%\n"
          ],
          "name": "stdout"
        }
      ]
    },
    {
      "cell_type": "markdown",
      "metadata": {
        "id": "196lBNDu2FGh"
      },
      "source": [
        "Without maxfeature parameters accuracy is 92.5%"
      ]
    },
    {
      "cell_type": "code",
      "metadata": {
        "colab": {
          "base_uri": "https://localhost:8080/"
        },
        "id": "S1h2MPgJ1-Ip",
        "outputId": "3b9efa16-7b3b-45d9-c68a-1df1809f30b6"
      },
      "source": [
        "rf = RandomForestClassifier(criterion='entropy', max_depth=11, n_estimators=1500,random_state=42)\r\n",
        "rf.fit(X_train,y_train)\r\n",
        "y_pred = rf.predict(X_test)\r\n",
        "print(f\"accuracy for parameters selected by BayesianOptimization : {accuracy_score(y_test,y_pred) *100.0}%\")\r\n"
      ],
      "execution_count": 17,
      "outputs": [
        {
          "output_type": "stream",
          "text": [
            "accuracy for parameters selected by BayesianOptimization : 92.5%\n"
          ],
          "name": "stdout"
        }
      ]
    },
    {
      "cell_type": "markdown",
      "metadata": {
        "id": "Ku5u6mqown_y"
      },
      "source": [
        "## hyperparameter optimization is hyperopt. hyperopt uses Tree-structured Parzen Estimator (TPE) to find the most optimal parameters."
      ]
    },
    {
      "cell_type": "code",
      "metadata": {
        "colab": {
          "base_uri": "https://localhost:8080/"
        },
        "id": "BIvkqh6LwrYz",
        "outputId": "cb4ccb20-9291-45e2-8847-1cd5f9980936"
      },
      "source": [
        "!pip install hyperopt"
      ],
      "execution_count": null,
      "outputs": [
        {
          "output_type": "stream",
          "text": [
            "Requirement already satisfied: hyperopt in /usr/local/lib/python3.7/dist-packages (0.1.2)\n",
            "Requirement already satisfied: pymongo in /usr/local/lib/python3.7/dist-packages (from hyperopt) (3.11.3)\n",
            "Requirement already satisfied: future in /usr/local/lib/python3.7/dist-packages (from hyperopt) (0.16.0)\n",
            "Requirement already satisfied: six in /usr/local/lib/python3.7/dist-packages (from hyperopt) (1.15.0)\n",
            "Requirement already satisfied: numpy in /usr/local/lib/python3.7/dist-packages (from hyperopt) (1.19.5)\n",
            "Requirement already satisfied: tqdm in /usr/local/lib/python3.7/dist-packages (from hyperopt) (4.41.1)\n",
            "Requirement already satisfied: scipy in /usr/local/lib/python3.7/dist-packages (from hyperopt) (1.4.1)\n",
            "Requirement already satisfied: networkx in /usr/local/lib/python3.7/dist-packages (from hyperopt) (2.5)\n",
            "Requirement already satisfied: decorator>=4.3.0 in /usr/local/lib/python3.7/dist-packages (from networkx->hyperopt) (4.4.2)\n"
          ],
          "name": "stdout"
        }
      ]
    },
    {
      "cell_type": "code",
      "metadata": {
        "id": "DVt6Z7vl7GxQ"
      },
      "source": [
        "from hyperopt import hp, fmin, tpe, Trials\r\n",
        "from hyperopt.pyll.base import scope"
      ],
      "execution_count": null,
      "outputs": []
    },
    {
      "cell_type": "code",
      "metadata": {
        "id": "ms9seU5DBGqI"
      },
      "source": [
        "def optimize(params, x, y):\r\n",
        "  \r\n",
        "  # initialize model with current parameters\r\n",
        "  model = RandomForestClassifier(**params)\r\n",
        "  # initialize stratified k-fold\r\n",
        "  kf = StratifiedKFold(n_splits=5)\r\n",
        "  # initialize accuracy list\r\n",
        "  accuracies = []\r\n",
        "  # loop over all folds\r\n",
        "  for idx in kf.split(X=x, y=y):\r\n",
        "    train_idx, test_idx = idx[0], idx[1]\r\n",
        "    xtrain,xtest = x[train_idx],x[test_idx]\r\n",
        "    ytrain,ytest = y[train_idx],y[test_idx]\r\n",
        "    # fit model for current fold\r\n",
        "    model.fit(xtrain, ytrain)\r\n",
        "    #create predictions\r\n",
        "    preds = model.predict(xtest)\r\n",
        "    # calculate and append accuracy\r\n",
        "    fold_accuracy = accuracy_score(ytest,preds)\r\n",
        "    accuracies.append(fold_accuracy)\r\n",
        "  # return negative accuracy\r\n",
        "  return -1 * np.mean(accuracies)"
      ],
      "execution_count": null,
      "outputs": []
    },
    {
      "cell_type": "code",
      "metadata": {
        "id": "JVneEIu48T81"
      },
      "source": [
        "# define a parameter space\r\n",
        "# now we use hyperopt\r\n",
        "param_space = {\r\n",
        "# quniform gives round(uniform(low, high) / q) * q\r\n",
        "# we want int values for depth and estimators\r\n",
        "\"max_depth\": scope.int(hp.quniform(\"max_depth\", 1, 15, 1)),\r\n",
        "\"n_estimators\": scope.int(hp.quniform(\"n_estimators\", 100, 1500, 1)),\r\n",
        "# choice chooses from a list of values\r\n",
        "\"criterion\": hp.choice(\"criterion\", [\"gini\", \"entropy\"]),\r\n",
        "# uniform chooses a value between two values\r\n",
        "\"max_features\": hp.uniform(\"max_features\", 0, 1)\r\n",
        "}"
      ],
      "execution_count": null,
      "outputs": []
    },
    {
      "cell_type": "code",
      "metadata": {
        "colab": {
          "base_uri": "https://localhost:8080/"
        },
        "id": "94gbeRqF9BJ0",
        "outputId": "532bf69a-1ff2-4deb-c639-772abae492f5"
      },
      "source": [
        "param_space"
      ],
      "execution_count": null,
      "outputs": [
        {
          "output_type": "execute_result",
          "data": {
            "text/plain": [
              "{'criterion': <hyperopt.pyll.base.Apply at 0x7f9e78c7f4d0>,\n",
              " 'max_depth': <hyperopt.pyll.base.Apply at 0x7f9e78c7f250>,\n",
              " 'max_features': <hyperopt.pyll.base.Apply at 0x7f9e78c7fd90>,\n",
              " 'n_estimators': <hyperopt.pyll.base.Apply at 0x7f9e78c7f150>}"
            ]
          },
          "metadata": {
            "tags": []
          },
          "execution_count": 72
        }
      ]
    },
    {
      "cell_type": "code",
      "metadata": {
        "colab": {
          "base_uri": "https://localhost:8080/"
        },
        "id": "g1mfqQrj75j2",
        "outputId": "c21c826b-acf6-4b01-8ac6-75deaceeef5e"
      },
      "source": [
        "# partial function\r\n",
        "optimization_function = partial(optimize,x=X.values,y=Y.values)\r\n",
        "# initialize trials to keep logging information\r\n",
        "trials = Trials()\r\n",
        "# run hyperopt\r\n",
        "hopt = fmin(fn=optimization_function,\r\n",
        "             space=param_space,\r\n",
        "            algo=tpe.suggest,\r\n",
        "            max_evals=15,\r\n",
        "            trials=trials\r\n",
        "           )"
      ],
      "execution_count": null,
      "outputs": [
        {
          "output_type": "stream",
          "text": [
            "100%|██████████| 15/15 [04:03<00:00, 16.25s/it, best loss: -0.909]\n"
          ],
          "name": "stdout"
        }
      ]
    },
    {
      "cell_type": "code",
      "metadata": {
        "colab": {
          "base_uri": "https://localhost:8080/"
        },
        "id": "OYjXbZPC8qY6",
        "outputId": "cf911acb-6f4f-409e-faa0-0b260efb0d32"
      },
      "source": [
        "print(hopt)"
      ],
      "execution_count": null,
      "outputs": [
        {
          "output_type": "stream",
          "text": [
            "{'criterion': 1, 'max_depth': 9.0, 'max_features': 0.7392905687326614, 'n_estimators': 282.0}\n"
          ],
          "name": "stdout"
        }
      ]
    },
    {
      "cell_type": "code",
      "metadata": {
        "colab": {
          "base_uri": "https://localhost:8080/",
          "height": 224
        },
        "id": "rMPW3_EQGSDo",
        "outputId": "cd762d89-1866-457a-fdd4-42f32dd96590"
      },
      "source": [
        "test.head()"
      ],
      "execution_count": null,
      "outputs": [
        {
          "output_type": "execute_result",
          "data": {
            "text/html": [
              "<div>\n",
              "<style scoped>\n",
              "    .dataframe tbody tr th:only-of-type {\n",
              "        vertical-align: middle;\n",
              "    }\n",
              "\n",
              "    .dataframe tbody tr th {\n",
              "        vertical-align: top;\n",
              "    }\n",
              "\n",
              "    .dataframe thead th {\n",
              "        text-align: right;\n",
              "    }\n",
              "</style>\n",
              "<table border=\"1\" class=\"dataframe\">\n",
              "  <thead>\n",
              "    <tr style=\"text-align: right;\">\n",
              "      <th></th>\n",
              "      <th>id</th>\n",
              "      <th>battery_power</th>\n",
              "      <th>blue</th>\n",
              "      <th>clock_speed</th>\n",
              "      <th>dual_sim</th>\n",
              "      <th>fc</th>\n",
              "      <th>four_g</th>\n",
              "      <th>int_memory</th>\n",
              "      <th>m_dep</th>\n",
              "      <th>mobile_wt</th>\n",
              "      <th>n_cores</th>\n",
              "      <th>pc</th>\n",
              "      <th>px_height</th>\n",
              "      <th>px_width</th>\n",
              "      <th>ram</th>\n",
              "      <th>sc_h</th>\n",
              "      <th>sc_w</th>\n",
              "      <th>talk_time</th>\n",
              "      <th>three_g</th>\n",
              "      <th>touch_screen</th>\n",
              "      <th>wifi</th>\n",
              "    </tr>\n",
              "  </thead>\n",
              "  <tbody>\n",
              "    <tr>\n",
              "      <th>0</th>\n",
              "      <td>1</td>\n",
              "      <td>1043</td>\n",
              "      <td>1</td>\n",
              "      <td>1.8</td>\n",
              "      <td>1</td>\n",
              "      <td>14</td>\n",
              "      <td>0</td>\n",
              "      <td>5</td>\n",
              "      <td>0.1</td>\n",
              "      <td>193</td>\n",
              "      <td>3</td>\n",
              "      <td>16</td>\n",
              "      <td>226</td>\n",
              "      <td>1412</td>\n",
              "      <td>3476</td>\n",
              "      <td>12</td>\n",
              "      <td>7</td>\n",
              "      <td>2</td>\n",
              "      <td>0</td>\n",
              "      <td>1</td>\n",
              "      <td>0</td>\n",
              "    </tr>\n",
              "    <tr>\n",
              "      <th>1</th>\n",
              "      <td>2</td>\n",
              "      <td>841</td>\n",
              "      <td>1</td>\n",
              "      <td>0.5</td>\n",
              "      <td>1</td>\n",
              "      <td>4</td>\n",
              "      <td>1</td>\n",
              "      <td>61</td>\n",
              "      <td>0.8</td>\n",
              "      <td>191</td>\n",
              "      <td>5</td>\n",
              "      <td>12</td>\n",
              "      <td>746</td>\n",
              "      <td>857</td>\n",
              "      <td>3895</td>\n",
              "      <td>6</td>\n",
              "      <td>0</td>\n",
              "      <td>7</td>\n",
              "      <td>1</td>\n",
              "      <td>0</td>\n",
              "      <td>0</td>\n",
              "    </tr>\n",
              "    <tr>\n",
              "      <th>2</th>\n",
              "      <td>3</td>\n",
              "      <td>1807</td>\n",
              "      <td>1</td>\n",
              "      <td>2.8</td>\n",
              "      <td>0</td>\n",
              "      <td>1</td>\n",
              "      <td>0</td>\n",
              "      <td>27</td>\n",
              "      <td>0.9</td>\n",
              "      <td>186</td>\n",
              "      <td>3</td>\n",
              "      <td>4</td>\n",
              "      <td>1270</td>\n",
              "      <td>1366</td>\n",
              "      <td>2396</td>\n",
              "      <td>17</td>\n",
              "      <td>10</td>\n",
              "      <td>10</td>\n",
              "      <td>0</td>\n",
              "      <td>1</td>\n",
              "      <td>1</td>\n",
              "    </tr>\n",
              "    <tr>\n",
              "      <th>3</th>\n",
              "      <td>4</td>\n",
              "      <td>1546</td>\n",
              "      <td>0</td>\n",
              "      <td>0.5</td>\n",
              "      <td>1</td>\n",
              "      <td>18</td>\n",
              "      <td>1</td>\n",
              "      <td>25</td>\n",
              "      <td>0.5</td>\n",
              "      <td>96</td>\n",
              "      <td>8</td>\n",
              "      <td>20</td>\n",
              "      <td>295</td>\n",
              "      <td>1752</td>\n",
              "      <td>3893</td>\n",
              "      <td>10</td>\n",
              "      <td>0</td>\n",
              "      <td>7</td>\n",
              "      <td>1</td>\n",
              "      <td>1</td>\n",
              "      <td>0</td>\n",
              "    </tr>\n",
              "    <tr>\n",
              "      <th>4</th>\n",
              "      <td>5</td>\n",
              "      <td>1434</td>\n",
              "      <td>0</td>\n",
              "      <td>1.4</td>\n",
              "      <td>0</td>\n",
              "      <td>11</td>\n",
              "      <td>1</td>\n",
              "      <td>49</td>\n",
              "      <td>0.5</td>\n",
              "      <td>108</td>\n",
              "      <td>6</td>\n",
              "      <td>18</td>\n",
              "      <td>749</td>\n",
              "      <td>810</td>\n",
              "      <td>1773</td>\n",
              "      <td>15</td>\n",
              "      <td>8</td>\n",
              "      <td>7</td>\n",
              "      <td>1</td>\n",
              "      <td>0</td>\n",
              "      <td>1</td>\n",
              "    </tr>\n",
              "  </tbody>\n",
              "</table>\n",
              "</div>"
            ],
            "text/plain": [
              "   id  battery_power  blue  clock_speed  ...  talk_time  three_g  touch_screen  wifi\n",
              "0   1           1043     1          1.8  ...          2        0             1     0\n",
              "1   2            841     1          0.5  ...          7        1             0     0\n",
              "2   3           1807     1          2.8  ...         10        0             1     1\n",
              "3   4           1546     0          0.5  ...          7        1             1     0\n",
              "4   5           1434     0          1.4  ...          7        1             0     1\n",
              "\n",
              "[5 rows x 21 columns]"
            ]
          },
          "metadata": {
            "tags": []
          },
          "execution_count": 77
        }
      ]
    },
    {
      "cell_type": "code",
      "metadata": {
        "colab": {
          "base_uri": "https://localhost:8080/",
          "height": 224
        },
        "id": "vXkzpdw9MbWF",
        "outputId": "4c91abf0-5a3e-4a43-c9da-d982ea20cb60"
      },
      "source": [
        "train.head()"
      ],
      "execution_count": null,
      "outputs": [
        {
          "output_type": "execute_result",
          "data": {
            "text/html": [
              "<div>\n",
              "<style scoped>\n",
              "    .dataframe tbody tr th:only-of-type {\n",
              "        vertical-align: middle;\n",
              "    }\n",
              "\n",
              "    .dataframe tbody tr th {\n",
              "        vertical-align: top;\n",
              "    }\n",
              "\n",
              "    .dataframe thead th {\n",
              "        text-align: right;\n",
              "    }\n",
              "</style>\n",
              "<table border=\"1\" class=\"dataframe\">\n",
              "  <thead>\n",
              "    <tr style=\"text-align: right;\">\n",
              "      <th></th>\n",
              "      <th>battery_power</th>\n",
              "      <th>blue</th>\n",
              "      <th>clock_speed</th>\n",
              "      <th>dual_sim</th>\n",
              "      <th>fc</th>\n",
              "      <th>four_g</th>\n",
              "      <th>int_memory</th>\n",
              "      <th>m_dep</th>\n",
              "      <th>mobile_wt</th>\n",
              "      <th>n_cores</th>\n",
              "      <th>pc</th>\n",
              "      <th>px_height</th>\n",
              "      <th>px_width</th>\n",
              "      <th>ram</th>\n",
              "      <th>sc_h</th>\n",
              "      <th>sc_w</th>\n",
              "      <th>talk_time</th>\n",
              "      <th>three_g</th>\n",
              "      <th>touch_screen</th>\n",
              "      <th>wifi</th>\n",
              "      <th>price_range</th>\n",
              "    </tr>\n",
              "  </thead>\n",
              "  <tbody>\n",
              "    <tr>\n",
              "      <th>0</th>\n",
              "      <td>842</td>\n",
              "      <td>0</td>\n",
              "      <td>2.2</td>\n",
              "      <td>0</td>\n",
              "      <td>1</td>\n",
              "      <td>0</td>\n",
              "      <td>7</td>\n",
              "      <td>0.6</td>\n",
              "      <td>188</td>\n",
              "      <td>2</td>\n",
              "      <td>2</td>\n",
              "      <td>20</td>\n",
              "      <td>756</td>\n",
              "      <td>2549</td>\n",
              "      <td>9</td>\n",
              "      <td>7</td>\n",
              "      <td>19</td>\n",
              "      <td>0</td>\n",
              "      <td>0</td>\n",
              "      <td>1</td>\n",
              "      <td>1</td>\n",
              "    </tr>\n",
              "    <tr>\n",
              "      <th>1</th>\n",
              "      <td>1021</td>\n",
              "      <td>1</td>\n",
              "      <td>0.5</td>\n",
              "      <td>1</td>\n",
              "      <td>0</td>\n",
              "      <td>1</td>\n",
              "      <td>53</td>\n",
              "      <td>0.7</td>\n",
              "      <td>136</td>\n",
              "      <td>3</td>\n",
              "      <td>6</td>\n",
              "      <td>905</td>\n",
              "      <td>1988</td>\n",
              "      <td>2631</td>\n",
              "      <td>17</td>\n",
              "      <td>3</td>\n",
              "      <td>7</td>\n",
              "      <td>1</td>\n",
              "      <td>1</td>\n",
              "      <td>0</td>\n",
              "      <td>2</td>\n",
              "    </tr>\n",
              "    <tr>\n",
              "      <th>2</th>\n",
              "      <td>563</td>\n",
              "      <td>1</td>\n",
              "      <td>0.5</td>\n",
              "      <td>1</td>\n",
              "      <td>2</td>\n",
              "      <td>1</td>\n",
              "      <td>41</td>\n",
              "      <td>0.9</td>\n",
              "      <td>145</td>\n",
              "      <td>5</td>\n",
              "      <td>6</td>\n",
              "      <td>1263</td>\n",
              "      <td>1716</td>\n",
              "      <td>2603</td>\n",
              "      <td>11</td>\n",
              "      <td>2</td>\n",
              "      <td>9</td>\n",
              "      <td>1</td>\n",
              "      <td>1</td>\n",
              "      <td>0</td>\n",
              "      <td>2</td>\n",
              "    </tr>\n",
              "    <tr>\n",
              "      <th>3</th>\n",
              "      <td>615</td>\n",
              "      <td>1</td>\n",
              "      <td>2.5</td>\n",
              "      <td>0</td>\n",
              "      <td>0</td>\n",
              "      <td>0</td>\n",
              "      <td>10</td>\n",
              "      <td>0.8</td>\n",
              "      <td>131</td>\n",
              "      <td>6</td>\n",
              "      <td>9</td>\n",
              "      <td>1216</td>\n",
              "      <td>1786</td>\n",
              "      <td>2769</td>\n",
              "      <td>16</td>\n",
              "      <td>8</td>\n",
              "      <td>11</td>\n",
              "      <td>1</td>\n",
              "      <td>0</td>\n",
              "      <td>0</td>\n",
              "      <td>2</td>\n",
              "    </tr>\n",
              "    <tr>\n",
              "      <th>4</th>\n",
              "      <td>1821</td>\n",
              "      <td>1</td>\n",
              "      <td>1.2</td>\n",
              "      <td>0</td>\n",
              "      <td>13</td>\n",
              "      <td>1</td>\n",
              "      <td>44</td>\n",
              "      <td>0.6</td>\n",
              "      <td>141</td>\n",
              "      <td>2</td>\n",
              "      <td>14</td>\n",
              "      <td>1208</td>\n",
              "      <td>1212</td>\n",
              "      <td>1411</td>\n",
              "      <td>8</td>\n",
              "      <td>2</td>\n",
              "      <td>15</td>\n",
              "      <td>1</td>\n",
              "      <td>1</td>\n",
              "      <td>0</td>\n",
              "      <td>1</td>\n",
              "    </tr>\n",
              "  </tbody>\n",
              "</table>\n",
              "</div>"
            ],
            "text/plain": [
              "   battery_power  blue  clock_speed  ...  touch_screen  wifi  price_range\n",
              "0            842     0          2.2  ...             0     1            1\n",
              "1           1021     1          0.5  ...             1     0            2\n",
              "2            563     1          0.5  ...             1     0            2\n",
              "3            615     1          2.5  ...             0     0            2\n",
              "4           1821     1          1.2  ...             1     0            1\n",
              "\n",
              "[5 rows x 21 columns]"
            ]
          },
          "metadata": {
            "tags": []
          },
          "execution_count": 78
        }
      ]
    },
    {
      "cell_type": "code",
      "metadata": {
        "id": "WCo3Esi6MiMT"
      },
      "source": [
        "test_new = test[X.columns]"
      ],
      "execution_count": null,
      "outputs": []
    },
    {
      "cell_type": "markdown",
      "metadata": {
        "id": "i9DrnwcANyK_"
      },
      "source": [
        "## Validation Accuracy Score -hyperopt parameters : {'criterion': 1, 'max_depth': 9.0, 'max_features': 0.7392905687326614, 'n_estimators': 282.0}"
      ]
    },
    {
      "cell_type": "code",
      "metadata": {
        "id": "HaY5CVHKMwhi"
      },
      "source": [
        "rf = RandomForestClassifier(criterion='entropy', \r\n",
        "                            max_depth=9.0, \r\n",
        "                            max_features= 0.7392905687326614, \r\n",
        "                            n_estimators= 282,\r\n",
        "                            random_state=42)"
      ],
      "execution_count": null,
      "outputs": []
    },
    {
      "cell_type": "code",
      "metadata": {
        "id": "6ChOM-CPNI2U"
      },
      "source": [
        "from sklearn.model_selection import train_test_split\r\n",
        "X_train,X_test,y_train,y_test = train_test_split(X,Y,test_size=0.10,stratify=Y,random_state=42)"
      ],
      "execution_count": null,
      "outputs": []
    },
    {
      "cell_type": "code",
      "metadata": {
        "colab": {
          "base_uri": "https://localhost:8080/"
        },
        "id": "V5DdI0G5NaBb",
        "outputId": "230b425e-7cbc-41b6-f997-a73b3a33ff79"
      },
      "source": [
        "rf.fit(X_train,y_train)"
      ],
      "execution_count": null,
      "outputs": [
        {
          "output_type": "execute_result",
          "data": {
            "text/plain": [
              "RandomForestClassifier(criterion='entropy', max_depth=9.0,\n",
              "                       max_features=0.7392905687326614, n_estimators=282,\n",
              "                       random_state=42)"
            ]
          },
          "metadata": {
            "tags": []
          },
          "execution_count": 84
        }
      ]
    },
    {
      "cell_type": "code",
      "metadata": {
        "id": "T7ABdXWlNmFc"
      },
      "source": [
        "y_pred = rf.predict(X_test)"
      ],
      "execution_count": null,
      "outputs": []
    },
    {
      "cell_type": "code",
      "metadata": {
        "colab": {
          "base_uri": "https://localhost:8080/"
        },
        "id": "7_JeyPmPNdpD",
        "outputId": "d1dcbf5f-1920-46f3-b374-8128a3fb99a8"
      },
      "source": [
        "print(f\"accuracy for parameters selected by hyperopt (optuna) : {accuracy_score(y_test,y_pred) *100.0}%\")"
      ],
      "execution_count": null,
      "outputs": [
        {
          "output_type": "stream",
          "text": [
            "accuracy for parameters selected by hyperopt (optuna) : 95.5%\n"
          ],
          "name": "stdout"
        }
      ]
    },
    {
      "cell_type": "code",
      "metadata": {
        "colab": {
          "base_uri": "https://localhost:8080/"
        },
        "id": "bL8bHb6F4IxY",
        "outputId": "25895ead-665f-4740-e07c-978aef52726c"
      },
      "source": [
        "rf = RandomForestClassifier(criterion='entropy', \r\n",
        "                            max_depth=9.0, \r\n",
        "                            n_estimators= 282,\r\n",
        "                            random_state=42)\r\n",
        "rf.fit(X_train,y_train)\r\n",
        "y_pred = rf.predict(X_test)\r\n",
        "print(f\"accuracy for parameters selected by hyperopt (optuna) : {accuracy_score(y_test,y_pred) *100.0}%\")"
      ],
      "execution_count": 26,
      "outputs": [
        {
          "output_type": "stream",
          "text": [
            "accuracy for parameters selected by hyperopt (optuna) : 92.5%\n"
          ],
          "name": "stdout"
        }
      ]
    },
    {
      "cell_type": "markdown",
      "metadata": {
        "id": "bGdL2NTB16Aq"
      },
      "source": [
        "## Final  Result \r\n",
        "* GridSearchCV : {'criterion': 'entropy', 'max_depth': 10, 'max_features': 0.855239859975857, 'n_estimators': 500, 'random_state': 100} **Accuracy Score 95.0%**\r\n",
        "* RandomizedSearchCV : {'random_state': 42, 'n_estimators': 500, 'max_features': 0.5311153082821708, 'max_depth': 10, 'criterion': 'entropy'} **Accuracy Score 95.5%**\r\n",
        "\r\n",
        "* HalvingGridSearchCV : {'criterion': 'entropy', 'max_depth': 5, 'max_features': 0.855239859975857, 'n_estimators': 200, 'random_state': 42} **Accuracy Score: 92.0%**\r\n",
        "\r\n",
        "* HalvingRandomSearchCV : {'criterion': 'entropy', 'max_depth': 5, 'max_features': 0.855239859975857, 'n_estimators': 200, 'random_state': 42} **Accuracy Score 92.0%**\r\n",
        "\r\n",
        "* Bayesian Optimization -skopt {'max_depth': 11, 'n_estimators': 1500, 'criterion': 'entropy', 'max_features': 0.6883717288761102} **Accuracy Score 95.0%**\r\n",
        "\r\n",
        "* hyperopt {'criterion': 1, 'max_depth': 9.0, 'max_features': 0.7392905687326614, 'n_estimators': 282.0} **Accuracy Score 95.5%**"
      ]
    },
    {
      "cell_type": "code",
      "metadata": {
        "id": "WeUv_wk7OUeh"
      },
      "source": [
        ""
      ],
      "execution_count": null,
      "outputs": []
    }
  ]
}