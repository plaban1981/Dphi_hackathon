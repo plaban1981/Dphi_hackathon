{
  "nbformat": 4,
  "nbformat_minor": 0,
  "metadata": {
    "colab": {
      "name": "DPHI_COVID_Densenet201_91.45.ipynb",
      "provenance": [],
      "collapsed_sections": [],
      "include_colab_link": true
    },
    "kernelspec": {
      "name": "python3",
      "display_name": "Python 3"
    },
    "accelerator": "GPU"
  },
  "cells": [
    {
      "cell_type": "markdown",
      "metadata": {
        "id": "view-in-github",
        "colab_type": "text"
      },
      "source": [
        "<a href=\"https://colab.research.google.com/github/plaban1981/Dphi_hackathon/blob/main/DPHI_COVID_Densenet201_91_45.ipynb\" target=\"_parent\"><img src=\"https://colab.research.google.com/assets/colab-badge.svg\" alt=\"Open In Colab\"/></a>"
      ]
    },
    {
      "cell_type": "code",
      "metadata": {
        "id": "52Gz8I6SDYFt",
        "colab": {
          "base_uri": "https://localhost:8080/"
        },
        "outputId": "b132cae0-8996-47d7-b351-6c9bbd2384ee"
      },
      "source": [
        "from google_drive_downloader import GoogleDriveDownloader as gdd\n",
        "\n",
        "gdd.download_file_from_google_drive(file_id='1BFc2Lt2N1swO8BKRvLMEyUhLzF52RFvr',\n",
        "dest_path='content/covid_image_data.zip',\n",
        "unzip=True)"
      ],
      "execution_count": 1,
      "outputs": [
        {
          "output_type": "stream",
          "text": [
            "Downloading 1BFc2Lt2N1swO8BKRvLMEyUhLzF52RFvr into content/covid_image_data.zip... Done.\n",
            "Unzipping...Done.\n"
          ],
          "name": "stdout"
        }
      ]
    },
    {
      "cell_type": "code",
      "metadata": {
        "id": "SAD4OSuBD5v4"
      },
      "source": [
        "import pandas as pd # Data analysis and manipultion tool\n",
        "import numpy as np # Fundamental package for linear algebra and multidimensional arrays\n",
        "import tensorflow as tf # Deep Learning Tool\n",
        "import os # OS module in Python provides a way of using operating system dependent functionality\n",
        "import cv2 # Library for image processing\n",
        "from sklearn.model_selection import train_test_split # For splitting the data into train and validation set\n",
        "from sklearn.metrics import f1_score\n",
        "import matplotlib.pyplot as plt\n",
        "import seaborn as sns"
      ],
      "execution_count": 2,
      "outputs": []
    },
    {
      "cell_type": "code",
      "metadata": {
        "colab": {
          "base_uri": "https://localhost:8080/",
          "height": 221
        },
        "id": "QQUFifzTEGdN",
        "outputId": "5a20bdef-99ab-46fd-b758-f07620cb243d"
      },
      "source": [
        "labels = pd.read_csv(\"/content/content/covid_image_data/Training_set_covid.csv\")\n",
        "\n",
        "labels.head() \n",
        "file_paths = [[fname, '/content/content/covid_image_data/train/' + fname] for fname in labels['filename']]\n",
        "\n",
        "if len(labels) == len(file_paths):\n",
        "  print('Number of labels i.e. ', len(labels), 'matches the number of filenames i.e. ', len(file_paths))\n",
        "else:\n",
        "  print('Number of labels does not match the number of filenames')\n",
        "\n",
        "images = pd.DataFrame(file_paths, columns=['filename', 'filepaths'])\n",
        "images.head()\n",
        "\n",
        "\n",
        "train_data = pd.merge(images, labels, how = 'inner', on = 'filename')\n",
        "train_data.head()"
      ],
      "execution_count": 3,
      "outputs": [
        {
          "output_type": "stream",
          "text": [
            "Number of labels i.e.  3479 matches the number of filenames i.e.  3479\n"
          ],
          "name": "stdout"
        },
        {
          "output_type": "execute_result",
          "data": {
            "text/html": [
              "<div>\n",
              "<style scoped>\n",
              "    .dataframe tbody tr th:only-of-type {\n",
              "        vertical-align: middle;\n",
              "    }\n",
              "\n",
              "    .dataframe tbody tr th {\n",
              "        vertical-align: top;\n",
              "    }\n",
              "\n",
              "    .dataframe thead th {\n",
              "        text-align: right;\n",
              "    }\n",
              "</style>\n",
              "<table border=\"1\" class=\"dataframe\">\n",
              "  <thead>\n",
              "    <tr style=\"text-align: right;\">\n",
              "      <th></th>\n",
              "      <th>filename</th>\n",
              "      <th>filepaths</th>\n",
              "      <th>label</th>\n",
              "    </tr>\n",
              "  </thead>\n",
              "  <tbody>\n",
              "    <tr>\n",
              "      <th>0</th>\n",
              "      <td>Image_1.jpg</td>\n",
              "      <td>/content/content/covid_image_data/train/Image_...</td>\n",
              "      <td>1</td>\n",
              "    </tr>\n",
              "    <tr>\n",
              "      <th>1</th>\n",
              "      <td>Image_2.jpg</td>\n",
              "      <td>/content/content/covid_image_data/train/Image_...</td>\n",
              "      <td>0</td>\n",
              "    </tr>\n",
              "    <tr>\n",
              "      <th>2</th>\n",
              "      <td>Image_3.jpg</td>\n",
              "      <td>/content/content/covid_image_data/train/Image_...</td>\n",
              "      <td>0</td>\n",
              "    </tr>\n",
              "    <tr>\n",
              "      <th>3</th>\n",
              "      <td>Image_4.jpg</td>\n",
              "      <td>/content/content/covid_image_data/train/Image_...</td>\n",
              "      <td>0</td>\n",
              "    </tr>\n",
              "    <tr>\n",
              "      <th>4</th>\n",
              "      <td>Image_5.jpg</td>\n",
              "      <td>/content/content/covid_image_data/train/Image_...</td>\n",
              "      <td>0</td>\n",
              "    </tr>\n",
              "  </tbody>\n",
              "</table>\n",
              "</div>"
            ],
            "text/plain": [
              "      filename                                          filepaths  label\n",
              "0  Image_1.jpg  /content/content/covid_image_data/train/Image_...      1\n",
              "1  Image_2.jpg  /content/content/covid_image_data/train/Image_...      0\n",
              "2  Image_3.jpg  /content/content/covid_image_data/train/Image_...      0\n",
              "3  Image_4.jpg  /content/content/covid_image_data/train/Image_...      0\n",
              "4  Image_5.jpg  /content/content/covid_image_data/train/Image_...      0"
            ]
          },
          "metadata": {
            "tags": []
          },
          "execution_count": 3
        }
      ]
    },
    {
      "cell_type": "code",
      "metadata": {
        "colab": {
          "base_uri": "https://localhost:8080/",
          "height": 204
        },
        "id": "c3C0-4fge2wc",
        "outputId": "bcdccd59-2823-4d1e-c6e9-c939a76c2e89"
      },
      "source": [
        "test_image_order = pd.read_csv(\"/content/content/covid_image_data/Testing_set_covid.csv\")\n",
        "test_image_order.head()\n",
        "\n",
        "file_paths_test = [[fname, '/content/content/covid_image_data/test/' + fname] for fname in test_image_order['filename']]\n",
        "\n",
        "test_images = pd.DataFrame(file_paths_test, columns=['filename', 'filepaths'])\n",
        "test_images.head()\n"
      ],
      "execution_count": 4,
      "outputs": [
        {
          "output_type": "execute_result",
          "data": {
            "text/html": [
              "<div>\n",
              "<style scoped>\n",
              "    .dataframe tbody tr th:only-of-type {\n",
              "        vertical-align: middle;\n",
              "    }\n",
              "\n",
              "    .dataframe tbody tr th {\n",
              "        vertical-align: top;\n",
              "    }\n",
              "\n",
              "    .dataframe thead th {\n",
              "        text-align: right;\n",
              "    }\n",
              "</style>\n",
              "<table border=\"1\" class=\"dataframe\">\n",
              "  <thead>\n",
              "    <tr style=\"text-align: right;\">\n",
              "      <th></th>\n",
              "      <th>filename</th>\n",
              "      <th>filepaths</th>\n",
              "    </tr>\n",
              "  </thead>\n",
              "  <tbody>\n",
              "    <tr>\n",
              "      <th>0</th>\n",
              "      <td>Image_1.jpg</td>\n",
              "      <td>/content/content/covid_image_data/test/Image_1...</td>\n",
              "    </tr>\n",
              "    <tr>\n",
              "      <th>1</th>\n",
              "      <td>Image_2.jpg</td>\n",
              "      <td>/content/content/covid_image_data/test/Image_2...</td>\n",
              "    </tr>\n",
              "    <tr>\n",
              "      <th>2</th>\n",
              "      <td>Image_3.jpg</td>\n",
              "      <td>/content/content/covid_image_data/test/Image_3...</td>\n",
              "    </tr>\n",
              "    <tr>\n",
              "      <th>3</th>\n",
              "      <td>Image_4.jpg</td>\n",
              "      <td>/content/content/covid_image_data/test/Image_4...</td>\n",
              "    </tr>\n",
              "    <tr>\n",
              "      <th>4</th>\n",
              "      <td>Image_5.jpg</td>\n",
              "      <td>/content/content/covid_image_data/test/Image_5...</td>\n",
              "    </tr>\n",
              "  </tbody>\n",
              "</table>\n",
              "</div>"
            ],
            "text/plain": [
              "      filename                                          filepaths\n",
              "0  Image_1.jpg  /content/content/covid_image_data/test/Image_1...\n",
              "1  Image_2.jpg  /content/content/covid_image_data/test/Image_2...\n",
              "2  Image_3.jpg  /content/content/covid_image_data/test/Image_3...\n",
              "3  Image_4.jpg  /content/content/covid_image_data/test/Image_4...\n",
              "4  Image_5.jpg  /content/content/covid_image_data/test/Image_5..."
            ]
          },
          "metadata": {
            "tags": []
          },
          "execution_count": 4
        }
      ]
    },
    {
      "cell_type": "code",
      "metadata": {
        "id": "U6RE61AjE8kd"
      },
      "source": [
        "data = [] \n",
        "image_size = 224 \n",
        "test_pixel_data = []\n",
        "\n",
        "for i in range(len(train_data)):\n",
        "\n",
        "  img_array = cv2.imread(train_data['filepaths'][i], cv2.COLOR_BGR2RGB) \n",
        "\n",
        "  new_img_array = cv2.resize(img_array, (image_size, image_size))\n",
        "  #new_img_array = cv2.GaussianBlur(new_img_array,(5,5),0)\n",
        "  data.append([new_img_array, train_data['label'][i]])\n",
        "\n",
        "\n",
        "for i in range(len(test_images)):\n",
        "\n",
        "  img_array = cv2.imread(test_images['filepaths'][i], cv2.COLOR_BGR2RGB) \n",
        "\n",
        "  new_img_array = cv2.resize(img_array, (image_size, image_size))\n",
        "  #new_img_array = cv2.GaussianBlur(new_img_array,(5,5),0)\n",
        "  test_pixel_data.append(new_img_array)"
      ],
      "execution_count": 5,
      "outputs": []
    },
    {
      "cell_type": "code",
      "metadata": {
        "colab": {
          "base_uri": "https://localhost:8080/"
        },
        "id": "-0UDTWhMkkca",
        "outputId": "4b741ba6-374b-4c9c-aa4e-13c59d882345"
      },
      "source": [
        "print(len(data),len(test_pixel_data))"
      ],
      "execution_count": 6,
      "outputs": [
        {
          "output_type": "stream",
          "text": [
            "3479 870\n"
          ],
          "name": "stdout"
        }
      ]
    },
    {
      "cell_type": "code",
      "metadata": {
        "id": "5jUawuG6FCBJ"
      },
      "source": [
        "np.random.shuffle(data)"
      ],
      "execution_count": 7,
      "outputs": []
    },
    {
      "cell_type": "code",
      "metadata": {
        "id": "gifw7RXUFQD9"
      },
      "source": [
        "x = []\n",
        "y = []\n",
        "\n",
        "counter = 406\n",
        "\n",
        "for image in data:\n",
        "  # if image[1] == 0 and counter >= 0:\n",
        "  #   x.append(image[0])\n",
        "  #   y.append(image[1])\n",
        "  #   counter -= 1\n",
        "\n",
        "  # elif image[1] == 1:\n",
        "  #   x.append(image[0])\n",
        "  #   y.append(image[1])\n",
        "\n",
        "\n",
        "  x.append(image[0])\n",
        "  y.append(image[1])\n",
        "\n",
        "# converting x & y to numpy array as they are list\n",
        "x = np.array(x)\n",
        "y = np.array(y)"
      ],
      "execution_count": 8,
      "outputs": []
    },
    {
      "cell_type": "code",
      "metadata": {
        "colab": {
          "base_uri": "https://localhost:8080/"
        },
        "id": "bFYtSBwuFZqJ",
        "outputId": "a1eafeae-d55d-4d28-ba4a-cfea77246217"
      },
      "source": [
        "np.unique(y, return_counts=True)"
      ],
      "execution_count": 9,
      "outputs": [
        {
          "output_type": "execute_result",
          "data": {
            "text/plain": [
              "(array([0, 1]), array([3073,  406]))"
            ]
          },
          "metadata": {
            "tags": []
          },
          "execution_count": 9
        }
      ]
    },
    {
      "cell_type": "code",
      "metadata": {
        "colab": {
          "base_uri": "https://localhost:8080/"
        },
        "id": "hvqVdNybI_5l",
        "outputId": "0c317e43-b07c-4d67-dfac-2931be2917d5"
      },
      "source": [
        " pd.Series(y).value_counts()"
      ],
      "execution_count": null,
      "outputs": [
        {
          "output_type": "execute_result",
          "data": {
            "text/plain": [
              "0    3073\n",
              "1     406\n",
              "dtype: int64"
            ]
          },
          "metadata": {
            "tags": []
          },
          "execution_count": 17
        }
      ]
    },
    {
      "cell_type": "code",
      "metadata": {
        "id": "xH3ZdHeMJoC2"
      },
      "source": [
        "X_train, X_val, y_train, y_val = train_test_split(x,y,test_size=0.2, random_state = 42,stratify=y)"
      ],
      "execution_count": 11,
      "outputs": []
    },
    {
      "cell_type": "code",
      "metadata": {
        "colab": {
          "base_uri": "https://localhost:8080/"
        },
        "id": "RfOC9tO4kyOa",
        "outputId": "373fb58c-906d-42bc-a861-08a040662142"
      },
      "source": [
        "test_pixel_data = np.array(test_pixel_data)\n",
        "\n",
        "test_pixel_data = test_pixel_data/255\n",
        "\n",
        "print(X_train.shape,X_val.shape,test_pixel_data.shape)"
      ],
      "execution_count": 12,
      "outputs": [
        {
          "output_type": "stream",
          "text": [
            "(2783, 224, 224, 3) (696, 224, 224, 3) (870, 224, 224, 3)\n"
          ],
          "name": "stdout"
        }
      ]
    },
    {
      "cell_type": "code",
      "metadata": {
        "id": "6is3MYP3saQr"
      },
      "source": [
        "train_datagen = tf.keras.preprocessing.image.ImageDataGenerator(rescale=1.0/255.0)\n",
        "\n",
        "val_datagen = tf.keras.preprocessing.image.ImageDataGenerator(rescale=1.0/255.0)\n",
        "\n",
        "train_generator = train_datagen.flow(X_train,y_train,batch_size=32)\n",
        "\n",
        "val_generator = val_datagen.flow(X_val,y_val,batch_size=32)"
      ],
      "execution_count": 13,
      "outputs": []
    },
    {
      "cell_type": "code",
      "metadata": {
        "colab": {
          "base_uri": "https://localhost:8080/"
        },
        "id": "i9mkXtRJMCEw",
        "outputId": "00ae41e4-23de-4b44-9687-7e5fb062140e"
      },
      "source": [
        "pd.Series(y_val).value_counts(normalize=True)"
      ],
      "execution_count": 14,
      "outputs": [
        {
          "output_type": "execute_result",
          "data": {
            "text/plain": [
              "0    0.883621\n",
              "1    0.116379\n",
              "dtype: float64"
            ]
          },
          "metadata": {
            "tags": []
          },
          "execution_count": 14
        }
      ]
    },
    {
      "cell_type": "code",
      "metadata": {
        "colab": {
          "base_uri": "https://localhost:8080/"
        },
        "id": "W7JYPkjvMGad",
        "outputId": "a05667ad-e9e1-49a4-f007-c9e2720275aa"
      },
      "source": [
        "pd.Series(y_train).value_counts(normalize=True)"
      ],
      "execution_count": 15,
      "outputs": [
        {
          "output_type": "execute_result",
          "data": {
            "text/plain": [
              "0    0.88322\n",
              "1    0.11678\n",
              "dtype: float64"
            ]
          },
          "metadata": {
            "tags": []
          },
          "execution_count": 15
        }
      ]
    },
    {
      "cell_type": "code",
      "metadata": {
        "colab": {
          "base_uri": "https://localhost:8080/"
        },
        "id": "Z3SwxsPo30jI",
        "outputId": "d8d51cc0-e610-4ca0-999c-2e61b25d7f42"
      },
      "source": [
        "print(X_train.shape,X_val.shape)"
      ],
      "execution_count": 16,
      "outputs": [
        {
          "output_type": "stream",
          "text": [
            "(2783, 224, 224, 3) (696, 224, 224, 3)\n"
          ],
          "name": "stdout"
        }
      ]
    },
    {
      "cell_type": "code",
      "metadata": {
        "id": "lgsoDecALB6a"
      },
      "source": [
        "import keras.backend as K\n",
        "\n",
        "def get_f1(y_true, y_pred): #taken from old keras source code\n",
        "    true_positives = K.sum(K.round(K.clip(y_true * y_pred, 0, 1)))\n",
        "    possible_positives = K.sum(K.round(K.clip(y_true, 0, 1)))\n",
        "    predicted_positives = K.sum(K.round(K.clip(y_pred, 0, 1)))\n",
        "    precision = true_positives / (predicted_positives + K.epsilon())\n",
        "    recall = true_positives / (possible_positives + K.epsilon())\n",
        "    f1_val = 2*(precision*recall)/(precision+recall+K.epsilon())\n",
        "    return f1_val\n"
      ],
      "execution_count": 17,
      "outputs": []
    },
    {
      "cell_type": "code",
      "metadata": {
        "id": "Z83JuRvsHxao"
      },
      "source": [
        "cbs = [tf.keras.callbacks.ReduceLROnPlateau(monitor='val_loss', factor=0.5, patience=1, min_lr=1e-5, verbose=0),\n",
        "           tf.keras.callbacks.EarlyStopping(monitor='val_loss', min_delta=1e-6, patience=10, verbose=1, mode='auto')]\n",
        "\n",
        "# lr = tf.keras.callbacks.ReduceLROnPlateau(\n",
        "#     monitor=\"val_loss\",\n",
        "#     factor=0.1,\n",
        "#     patience=2,\n",
        "#     verbose=0,\n",
        "#     mode=\"auto\",\n",
        "#     min_delta=0.0001,\n",
        "#     cooldown=0,\n",
        "#     min_lr=0.00001,\n",
        "# )"
      ],
      "execution_count": 18,
      "outputs": []
    },
    {
      "cell_type": "code",
      "metadata": {
        "id": "miDHZksN8K9n"
      },
      "source": [
        "from keras.applications import VGG16,VGG19,NASNetMobile,DenseNet201\n",
        "from keras.layers import *\n",
        "from keras.models import Sequential\n",
        "from keras.regularizers import *\n",
        "from keras.optimizers import Adam"
      ],
      "execution_count": 19,
      "outputs": []
    },
    {
      "cell_type": "markdown",
      "metadata": {
        "id": "_LkvnfzWQknG"
      },
      "source": [
        "**This is the densenet architecture that scores a F1 Score of 91.4572864321608 on submission. Here I have reduced the number of dense layer or fully connected layer and it improved the scores from 88.55721393034825 in case of 3 fully connected layer to 91.4572864321608**"
      ]
    },
    {
      "cell_type": "code",
      "metadata": {
        "id": "0WNM7sehKBlj"
      },
      "source": [
        "def build_model():\n",
        "    model = Sequential()\n",
        "    \n",
        "    conv_base = DenseNet201(input_shape=(224,224,3), include_top=False, pooling='max',weights='imagenet')\n",
        "    model.add(conv_base)\n",
        "    model.add(BatchNormalization())\n",
        "    model.add(Dense(2048, activation='relu',  kernel_regularizer=l1_l2(0.01)))\n",
        "    model.add(BatchNormalization())\n",
        "    # model.add(Dense(2048, activation='relu',  kernel_regularizer=l1_l2(0.01)))\n",
        "    # model.add(BatchNormalization())\n",
        "    # model.add(Dense(2048, activation='relu',  kernel_regularizer=l1_l2(0.01)))\n",
        "    # model.add(BatchNormalization())\n",
        "    # model.add(Dense(1024, activation='relu', kernel_regularizer=l1_l2(0.01)))\n",
        "    # model.add(BatchNormalization())\n",
        "    model.add(Dense(1, activation='sigmoid'))\n",
        "    for layer in model.layers:\n",
        "      layer.trainable = True\n",
        "    #train_layers = [layer for layer in conv_base.layers[::-1][:5]]\n",
        "    \"\"\"\n",
        "    for layer in conv_base.layers:\n",
        "      if layer in train_layers:\n",
        "        layer.trainable = True\n",
        "    \"\"\"\n",
        "    model.compile(loss='binary_crossentropy', optimizer=Adam(lr=1e-4), metrics=['accuracy',get_f1])\n",
        "    \n",
        "    return model\n",
        "\n"
      ],
      "execution_count": 39,
      "outputs": []
    },
    {
      "cell_type": "code",
      "metadata": {
        "colab": {
          "base_uri": "https://localhost:8080/"
        },
        "id": "mqVDlAZRuqEz",
        "outputId": "cddaa739-3cd9-43d5-efff-d5f99f2bab29"
      },
      "source": [
        "model = build_model()\n",
        "model.summary()"
      ],
      "execution_count": 40,
      "outputs": [
        {
          "output_type": "stream",
          "text": [
            "Model: \"sequential_5\"\n",
            "_________________________________________________________________\n",
            "Layer (type)                 Output Shape              Param #   \n",
            "=================================================================\n",
            "densenet201 (Functional)     (None, 1920)              18321984  \n",
            "_________________________________________________________________\n",
            "batch_normalization_3 (Batch (None, 1920)              7680      \n",
            "_________________________________________________________________\n",
            "dense_3 (Dense)              (None, 2048)              3934208   \n",
            "_________________________________________________________________\n",
            "batch_normalization_4 (Batch (None, 2048)              8192      \n",
            "_________________________________________________________________\n",
            "dense_4 (Dense)              (None, 1)                 2049      \n",
            "=================================================================\n",
            "Total params: 22,274,113\n",
            "Trainable params: 22,037,121\n",
            "Non-trainable params: 236,992\n",
            "_________________________________________________________________\n"
          ],
          "name": "stdout"
        }
      ]
    },
    {
      "cell_type": "code",
      "metadata": {
        "id": "vAmZXzmbTkkS",
        "colab": {
          "base_uri": "https://localhost:8080/"
        },
        "outputId": "e7c4c07b-3ad1-4a3d-f0a9-beabb87a1e31"
      },
      "source": [
        "model.fit(train_generator,steps_per_epoch=87,epochs=100,validation_data=val_generator,validation_steps=22,callbacks=[cbs],class_weight={0:1,1:2})\n",
        "\n",
        "#model.fit(train_generator,steps_per_epoch=21,epochs=50,validation_data=val_generator,validation_steps=6,callbacks=[es])"
      ],
      "execution_count": 41,
      "outputs": [
        {
          "output_type": "stream",
          "text": [
            "Epoch 1/100\n",
            "87/87 [==============================] - 51s 591ms/step - loss: 628.4645 - accuracy: 0.7492 - get_f1: 0.4643 - val_loss: 481.3228 - val_accuracy: 0.2141 - val_get_f1: 0.2211\n",
            "Epoch 2/100\n",
            "87/87 [==============================] - 50s 577ms/step - loss: 361.3675 - accuracy: 0.8983 - get_f1: 0.6859 - val_loss: 253.7653 - val_accuracy: 0.1480 - val_get_f1: 0.2078\n",
            "Epoch 3/100\n",
            "87/87 [==============================] - 50s 572ms/step - loss: 170.8621 - accuracy: 0.9457 - get_f1: 0.7992 - val_loss: 100.9907 - val_accuracy: 0.5014 - val_get_f1: 0.3036\n",
            "Epoch 4/100\n",
            "87/87 [==============================] - 50s 572ms/step - loss: 55.3404 - accuracy: 0.9501 - get_f1: 0.8058 - val_loss: 21.8934 - val_accuracy: 0.8017 - val_get_f1: 0.5024\n",
            "Epoch 5/100\n",
            "87/87 [==============================] - 50s 574ms/step - loss: 10.4025 - accuracy: 0.9188 - get_f1: 0.7223 - val_loss: 4.7571 - val_accuracy: 0.9267 - val_get_f1: 0.5810\n",
            "Epoch 6/100\n",
            "87/87 [==============================] - 50s 573ms/step - loss: 3.0527 - accuracy: 0.9544 - get_f1: 0.8120 - val_loss: 4.5317 - val_accuracy: 0.2859 - val_get_f1: 0.2367\n",
            "Epoch 7/100\n",
            "87/87 [==============================] - 50s 575ms/step - loss: 1.7750 - accuracy: 0.9558 - get_f1: 0.8137 - val_loss: 1.1097 - val_accuracy: 0.9555 - val_get_f1: 0.7543\n",
            "Epoch 8/100\n",
            "87/87 [==============================] - 50s 575ms/step - loss: 0.7945 - accuracy: 0.9842 - get_f1: 0.9109 - val_loss: 0.8522 - val_accuracy: 0.9598 - val_get_f1: 0.8195\n",
            "Epoch 9/100\n",
            "87/87 [==============================] - 50s 575ms/step - loss: 0.6343 - accuracy: 0.9935 - get_f1: 0.9498 - val_loss: 0.7770 - val_accuracy: 0.9626 - val_get_f1: 0.8401\n",
            "Epoch 10/100\n",
            "87/87 [==============================] - 50s 575ms/step - loss: 0.6154 - accuracy: 0.9932 - get_f1: 0.9253 - val_loss: 0.6746 - val_accuracy: 0.9540 - val_get_f1: 0.7469\n",
            "Epoch 11/100\n",
            "87/87 [==============================] - 50s 574ms/step - loss: 0.6069 - accuracy: 0.9935 - get_f1: 0.9392 - val_loss: 0.6377 - val_accuracy: 0.9583 - val_get_f1: 0.7242\n",
            "Epoch 12/100\n",
            "87/87 [==============================] - 50s 573ms/step - loss: 0.5995 - accuracy: 0.9953 - get_f1: 0.9667 - val_loss: 0.6140 - val_accuracy: 0.9569 - val_get_f1: 0.7322\n",
            "Epoch 13/100\n",
            "87/87 [==============================] - 50s 575ms/step - loss: 0.5411 - accuracy: 0.9986 - get_f1: 0.9832 - val_loss: 0.6156 - val_accuracy: 0.9583 - val_get_f1: 0.7661\n",
            "Epoch 14/100\n",
            "87/87 [==============================] - 50s 573ms/step - loss: 0.3233 - accuracy: 0.9989 - get_f1: 0.9836 - val_loss: 0.5628 - val_accuracy: 0.9670 - val_get_f1: 0.8709\n",
            "Epoch 15/100\n",
            "87/87 [==============================] - 50s 574ms/step - loss: 0.3439 - accuracy: 0.9964 - get_f1: 0.9678 - val_loss: 0.3987 - val_accuracy: 0.9698 - val_get_f1: 0.8603\n",
            "Epoch 16/100\n",
            "87/87 [==============================] - 50s 575ms/step - loss: 0.2852 - accuracy: 0.9996 - get_f1: 0.9991 - val_loss: 0.3513 - val_accuracy: 0.9698 - val_get_f1: 0.7943\n",
            "Epoch 17/100\n",
            "87/87 [==============================] - 50s 574ms/step - loss: 0.3169 - accuracy: 0.9960 - get_f1: 0.9652 - val_loss: 0.5025 - val_accuracy: 0.9583 - val_get_f1: 0.7940\n",
            "Epoch 18/100\n",
            "87/87 [==============================] - 50s 574ms/step - loss: 0.2625 - accuracy: 0.9968 - get_f1: 0.9594 - val_loss: 0.3355 - val_accuracy: 0.9713 - val_get_f1: 0.8251\n",
            "Epoch 19/100\n",
            "87/87 [==============================] - 50s 575ms/step - loss: 0.1835 - accuracy: 0.9975 - get_f1: 0.9530 - val_loss: 0.2630 - val_accuracy: 0.9626 - val_get_f1: 0.7947\n",
            "Epoch 20/100\n",
            "87/87 [==============================] - 50s 576ms/step - loss: 0.1759 - accuracy: 0.9989 - get_f1: 0.9885 - val_loss: 0.2714 - val_accuracy: 0.9598 - val_get_f1: 0.7637\n",
            "Epoch 21/100\n",
            "87/87 [==============================] - 50s 574ms/step - loss: 0.1178 - accuracy: 0.9993 - get_f1: 0.9885 - val_loss: 0.1994 - val_accuracy: 0.9670 - val_get_f1: 0.8477\n",
            "Epoch 22/100\n",
            "87/87 [==============================] - 50s 575ms/step - loss: 0.1119 - accuracy: 0.9993 - get_f1: 0.9770 - val_loss: 0.2108 - val_accuracy: 0.9684 - val_get_f1: 0.8031\n",
            "Epoch 23/100\n",
            "87/87 [==============================] - 50s 577ms/step - loss: 0.0962 - accuracy: 1.0000 - get_f1: 1.0000 - val_loss: 0.1870 - val_accuracy: 0.9684 - val_get_f1: 0.7393\n",
            "Epoch 24/100\n",
            "87/87 [==============================] - 50s 576ms/step - loss: 0.0932 - accuracy: 0.9996 - get_f1: 0.9992 - val_loss: 0.1796 - val_accuracy: 0.9670 - val_get_f1: 0.8594\n",
            "Epoch 25/100\n",
            "87/87 [==============================] - 50s 575ms/step - loss: 0.0973 - accuracy: 0.9996 - get_f1: 0.9885 - val_loss: 0.2112 - val_accuracy: 0.9741 - val_get_f1: 0.8804\n",
            "Epoch 26/100\n",
            "87/87 [==============================] - 50s 575ms/step - loss: 0.1032 - accuracy: 0.9986 - get_f1: 0.9425 - val_loss: 0.1800 - val_accuracy: 0.9670 - val_get_f1: 0.8311\n",
            "Epoch 27/100\n",
            "87/87 [==============================] - 50s 574ms/step - loss: 0.1067 - accuracy: 0.9989 - get_f1: 0.9752 - val_loss: 0.1882 - val_accuracy: 0.9698 - val_get_f1: 0.8360\n",
            "Epoch 28/100\n",
            "87/87 [==============================] - 50s 574ms/step - loss: 0.0894 - accuracy: 1.0000 - get_f1: 1.0000 - val_loss: 0.2064 - val_accuracy: 0.9727 - val_get_f1: 0.7675\n",
            "Epoch 29/100\n",
            "87/87 [==============================] - 50s 572ms/step - loss: 0.0974 - accuracy: 0.9986 - get_f1: 0.9876 - val_loss: 0.2234 - val_accuracy: 0.9698 - val_get_f1: 0.7913\n",
            "Epoch 30/100\n",
            "87/87 [==============================] - 50s 571ms/step - loss: 0.0978 - accuracy: 0.9996 - get_f1: 0.9885 - val_loss: 0.1794 - val_accuracy: 0.9684 - val_get_f1: 0.8239\n",
            "Epoch 31/100\n",
            "87/87 [==============================] - 50s 571ms/step - loss: 0.0894 - accuracy: 0.9993 - get_f1: 0.9885 - val_loss: 0.1753 - val_accuracy: 0.9670 - val_get_f1: 0.7750\n",
            "Epoch 32/100\n",
            "87/87 [==============================] - 50s 573ms/step - loss: 0.0937 - accuracy: 0.9989 - get_f1: 0.9770 - val_loss: 0.1751 - val_accuracy: 0.9698 - val_get_f1: 0.8746\n",
            "Epoch 33/100\n",
            "87/87 [==============================] - 50s 573ms/step - loss: 0.0894 - accuracy: 1.0000 - get_f1: 0.9770 - val_loss: 0.1719 - val_accuracy: 0.9670 - val_get_f1: 0.8036\n",
            "Epoch 34/100\n",
            "87/87 [==============================] - 50s 572ms/step - loss: 0.0908 - accuracy: 0.9996 - get_f1: 0.9655 - val_loss: 0.1980 - val_accuracy: 0.9727 - val_get_f1: 0.8842\n",
            "Epoch 35/100\n",
            "87/87 [==============================] - 50s 572ms/step - loss: 0.1004 - accuracy: 0.9982 - get_f1: 0.9880 - val_loss: 0.2026 - val_accuracy: 0.9713 - val_get_f1: 0.8764\n",
            "Epoch 36/100\n",
            "87/87 [==============================] - 50s 573ms/step - loss: 0.0926 - accuracy: 0.9986 - get_f1: 0.9770 - val_loss: 0.2261 - val_accuracy: 0.9741 - val_get_f1: 0.8084\n",
            "Epoch 37/100\n",
            "87/87 [==============================] - 50s 574ms/step - loss: 0.0875 - accuracy: 1.0000 - get_f1: 0.9885 - val_loss: 0.1673 - val_accuracy: 0.9670 - val_get_f1: 0.7804\n",
            "Epoch 38/100\n",
            "87/87 [==============================] - 50s 575ms/step - loss: 0.0912 - accuracy: 0.9996 - get_f1: 0.9770 - val_loss: 0.1792 - val_accuracy: 0.9684 - val_get_f1: 0.8332\n",
            "Epoch 39/100\n",
            "87/87 [==============================] - 50s 574ms/step - loss: 0.0854 - accuracy: 1.0000 - get_f1: 0.9885 - val_loss: 0.1814 - val_accuracy: 0.9684 - val_get_f1: 0.8595\n",
            "Epoch 40/100\n",
            "87/87 [==============================] - 50s 574ms/step - loss: 0.0899 - accuracy: 1.0000 - get_f1: 1.0000 - val_loss: 0.2083 - val_accuracy: 0.9741 - val_get_f1: 0.8775\n",
            "Epoch 41/100\n",
            "87/87 [==============================] - 50s 574ms/step - loss: 0.1156 - accuracy: 0.9993 - get_f1: 0.9885 - val_loss: 0.1785 - val_accuracy: 0.9684 - val_get_f1: 0.7564\n",
            "Epoch 42/100\n",
            "87/87 [==============================] - 50s 572ms/step - loss: 0.0886 - accuracy: 0.9986 - get_f1: 0.9747 - val_loss: 0.2784 - val_accuracy: 0.9684 - val_get_f1: 0.8622\n",
            "Epoch 43/100\n",
            "87/87 [==============================] - 50s 572ms/step - loss: 0.1172 - accuracy: 0.9968 - get_f1: 0.9860 - val_loss: 0.1958 - val_accuracy: 0.9698 - val_get_f1: 0.8518\n",
            "Epoch 44/100\n",
            "87/87 [==============================] - 50s 573ms/step - loss: 0.0905 - accuracy: 0.9982 - get_f1: 0.9770 - val_loss: 0.1960 - val_accuracy: 0.9698 - val_get_f1: 0.7782\n",
            "Epoch 45/100\n",
            "87/87 [==============================] - 50s 575ms/step - loss: 0.0940 - accuracy: 0.9993 - get_f1: 0.9885 - val_loss: 0.2004 - val_accuracy: 0.9670 - val_get_f1: 0.7871\n",
            "Epoch 46/100\n",
            "87/87 [==============================] - 50s 573ms/step - loss: 0.0857 - accuracy: 0.9993 - get_f1: 0.9540 - val_loss: 0.1817 - val_accuracy: 0.9641 - val_get_f1: 0.8413\n",
            "Epoch 47/100\n",
            "87/87 [==============================] - 50s 574ms/step - loss: 0.0989 - accuracy: 0.9986 - get_f1: 0.9650 - val_loss: 0.1693 - val_accuracy: 0.9655 - val_get_f1: 0.6753\n",
            "Epoch 00047: early stopping\n"
          ],
          "name": "stdout"
        },
        {
          "output_type": "execute_result",
          "data": {
            "text/plain": [
              "<tensorflow.python.keras.callbacks.History at 0x7fbd09acb978>"
            ]
          },
          "metadata": {
            "tags": []
          },
          "execution_count": 41
        }
      ]
    },
    {
      "cell_type": "code",
      "metadata": {
        "id": "ku9-Hmw9aIbc"
      },
      "source": [
        "preds =  model.predict(X_val/255.0)\n",
        "predictions = []\n",
        "for i in preds:\n",
        "  if i[0] > 0.5:\n",
        "    predictions.append(1)\n",
        "  else:\n",
        "    predictions.append(0)"
      ],
      "execution_count": 42,
      "outputs": []
    },
    {
      "cell_type": "code",
      "metadata": {
        "colab": {
          "base_uri": "https://localhost:8080/"
        },
        "id": "YK_sTZggaZz7",
        "outputId": "007c607e-bd1d-4f7d-c8eb-55f38b49bcd6"
      },
      "source": [
        "from sklearn.metrics import f1_score\n",
        "f1_score(y_val,predictions)"
      ],
      "execution_count": 43,
      "outputs": [
        {
          "output_type": "execute_result",
          "data": {
            "text/plain": [
              "0.8461538461538461"
            ]
          },
          "metadata": {
            "tags": []
          },
          "execution_count": 43
        }
      ]
    },
    {
      "cell_type": "markdown",
      "metadata": {
        "id": "8tlBuKA4BrDz"
      },
      "source": [
        "**Final Predictions**"
      ]
    },
    {
      "cell_type": "code",
      "metadata": {
        "id": "JOkonX0BkFAu"
      },
      "source": [
        "preds = model.predict(test_pixel_data)\n"
      ],
      "execution_count": 44,
      "outputs": []
    },
    {
      "cell_type": "code",
      "metadata": {
        "id": "rUxHa53XmGGe"
      },
      "source": [
        "predictions = []\n",
        "for i in preds:\n",
        "  if i[0] > 0.5:\n",
        "    predictions.append(1)\n",
        "  else:\n",
        "    predictions.append(0)"
      ],
      "execution_count": 45,
      "outputs": []
    },
    {
      "cell_type": "code",
      "metadata": {
        "id": "yIPGCdlHmIfQ",
        "colab": {
          "base_uri": "https://localhost:8080/"
        },
        "outputId": "c7c6a34f-9b9e-4c06-a513-7ccf6362bbe2"
      },
      "source": [
        "result = pd.DataFrame(predictions,columns=['prediction'])\n",
        "\n",
        "result.value_counts()"
      ],
      "execution_count": 46,
      "outputs": [
        {
          "output_type": "execute_result",
          "data": {
            "text/plain": [
              "prediction\n",
              "0             773\n",
              "1              97\n",
              "dtype: int64"
            ]
          },
          "metadata": {
            "tags": []
          },
          "execution_count": 46
        }
      ]
    },
    {
      "cell_type": "code",
      "metadata": {
        "id": "-8Gp9C1NmRdJ"
      },
      "source": [
        "result.to_csv('denseNet201_last_five2.csv',index=False)"
      ],
      "execution_count": 47,
      "outputs": []
    },
    {
      "cell_type": "markdown",
      "metadata": {
        "id": "Jzxr2r2gQdEb"
      },
      "source": [
        "## **Dphi Scores:91.4572864321608**"
      ]
    },
    {
      "cell_type": "code",
      "metadata": {
        "id": "iDuQRL6Q01AY"
      },
      "source": [
        ""
      ],
      "execution_count": null,
      "outputs": []
    }
  ]
}