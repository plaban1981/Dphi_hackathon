{
  "nbformat": 4,
  "nbformat_minor": 0,
  "metadata": {
    "colab": {
      "name": "DPHI_COVID_Densenet201_91.45.ipynb",
      "provenance": [],
      "collapsed_sections": [],
      "include_colab_link": true
    },
    "kernelspec": {
      "name": "python3",
      "display_name": "Python 3"
    },
    "accelerator": "GPU"
  },
  "cells": [
    {
      "cell_type": "markdown",
      "metadata": {
        "id": "view-in-github",
        "colab_type": "text"
      },
      "source": [
        "<a href=\"https://colab.research.google.com/github/plaban1981/Dphi_hackathon/blob/main/DPHI_COVID_Densenet201_91_45.ipynb\" target=\"_parent\"><img src=\"https://colab.research.google.com/assets/colab-badge.svg\" alt=\"Open In Colab\"/></a>"
      ]
    },
    {
      "cell_type": "code",
      "metadata": {
        "id": "52Gz8I6SDYFt",
        "colab": {
          "base_uri": "https://localhost:8080/"
        },
        "outputId": "b132cae0-8996-47d7-b351-6c9bbd2384ee"
      },
      "source": [
        "from google_drive_downloader import GoogleDriveDownloader as gdd\n",
        "\n",
        "gdd.download_file_from_google_drive(file_id='1BFc2Lt2N1swO8BKRvLMEyUhLzF52RFvr',\n",
        "dest_path='content/covid_image_data.zip',\n",
        "unzip=True)"
      ],
      "execution_count": 1,
      "outputs": [
        {
          "output_type": "stream",
          "text": [
            "Downloading 1BFc2Lt2N1swO8BKRvLMEyUhLzF52RFvr into content/covid_image_data.zip... Done.\n",
            "Unzipping...Done.\n"
          ],
          "name": "stdout"
        }
      ]
    },
    {
      "cell_type": "code",
      "metadata": {
        "id": "SAD4OSuBD5v4"
      },
      "source": [
        "import pandas as pd # Data analysis and manipultion tool\n",
        "import numpy as np # Fundamental package for linear algebra and multidimensional arrays\n",
        "import tensorflow as tf # Deep Learning Tool\n",
        "import os # OS module in Python provides a way of using operating system dependent functionality\n",
        "import cv2 # Library for image processing\n",
        "from sklearn.model_selection import train_test_split # For splitting the data into train and validation set\n",
        "from sklearn.metrics import f1_score\n",
        "import matplotlib.pyplot as plt\n",
        "import seaborn as sns"
      ],
      "execution_count": 2,
      "outputs": []
    },
    {
      "cell_type": "code",
      "metadata": {
        "colab": {
          "base_uri": "https://localhost:8080/",
          "height": 221
        },
        "id": "QQUFifzTEGdN",
        "outputId": "5a20bdef-99ab-46fd-b758-f07620cb243d"
      },
      "source": [
        "labels = pd.read_csv(\"/content/content/covid_image_data/Training_set_covid.csv\")\n",
        "\n",
        "labels.head() \n",
        "file_paths = [[fname, '/content/content/covid_image_data/train/' + fname] for fname in labels['filename']]\n",
        "\n",
        "if len(labels) == len(file_paths):\n",
        "  print('Number of labels i.e. ', len(labels), 'matches the number of filenames i.e. ', len(file_paths))\n",
        "else:\n",
        "  print('Number of labels does not match the number of filenames')\n",
        "\n",
        "images = pd.DataFrame(file_paths, columns=['filename', 'filepaths'])\n",
        "images.head()\n",
        "\n",
        "\n",
        "train_data = pd.merge(images, labels, how = 'inner', on = 'filename')\n",
        "train_data.head()"
      ],
      "execution_count": 3,
      "outputs": [
        {
          "output_type": "stream",
          "text": [
            "Number of labels i.e.  3479 matches the number of filenames i.e.  3479\n"
          ],
          "name": "stdout"
        },
        {
          "output_type": "execute_result",
          "data": {
            "text/html": [
              "<div>\n",
              "<style scoped>\n",
              "    .dataframe tbody tr th:only-of-type {\n",
              "        vertical-align: middle;\n",
              "    }\n",
              "\n",
              "    .dataframe tbody tr th {\n",
              "        vertical-align: top;\n",
              "    }\n",
              "\n",
              "    .dataframe thead th {\n",
              "        text-align: right;\n",
              "    }\n",
              "</style>\n",
              "<table border=\"1\" class=\"dataframe\">\n",
              "  <thead>\n",
              "    <tr style=\"text-align: right;\">\n",
              "      <th></th>\n",
              "      <th>filename</th>\n",
              "      <th>filepaths</th>\n",
              "      <th>label</th>\n",
              "    </tr>\n",
              "  </thead>\n",
              "  <tbody>\n",
              "    <tr>\n",
              "      <th>0</th>\n",
              "      <td>Image_1.jpg</td>\n",
              "      <td>/content/content/covid_image_data/train/Image_...</td>\n",
              "      <td>1</td>\n",
              "    </tr>\n",
              "    <tr>\n",
              "      <th>1</th>\n",
              "      <td>Image_2.jpg</td>\n",
              "      <td>/content/content/covid_image_data/train/Image_...</td>\n",
              "      <td>0</td>\n",
              "    </tr>\n",
              "    <tr>\n",
              "      <th>2</th>\n",
              "      <td>Image_3.jpg</td>\n",
              "      <td>/content/content/covid_image_data/train/Image_...</td>\n",
              "      <td>0</td>\n",
              "    </tr>\n",
              "    <tr>\n",
              "      <th>3</th>\n",
              "      <td>Image_4.jpg</td>\n",
              "      <td>/content/content/covid_image_data/train/Image_...</td>\n",
              "      <td>0</td>\n",
              "    </tr>\n",
              "    <tr>\n",
              "      <th>4</th>\n",
              "      <td>Image_5.jpg</td>\n",
              "      <td>/content/content/covid_image_data/train/Image_...</td>\n",
              "      <td>0</td>\n",
              "    </tr>\n",
              "  </tbody>\n",
              "</table>\n",
              "</div>"
            ],
            "text/plain": [
              "      filename                                          filepaths  label\n",
              "0  Image_1.jpg  /content/content/covid_image_data/train/Image_...      1\n",
              "1  Image_2.jpg  /content/content/covid_image_data/train/Image_...      0\n",
              "2  Image_3.jpg  /content/content/covid_image_data/train/Image_...      0\n",
              "3  Image_4.jpg  /content/content/covid_image_data/train/Image_...      0\n",
              "4  Image_5.jpg  /content/content/covid_image_data/train/Image_...      0"
            ]
          },
          "metadata": {
            "tags": []
          },
          "execution_count": 3
        }
      ]
    },
    {
      "cell_type": "code",
      "metadata": {
        "colab": {
          "base_uri": "https://localhost:8080/",
          "height": 204
        },
        "id": "c3C0-4fge2wc",
        "outputId": "bcdccd59-2823-4d1e-c6e9-c939a76c2e89"
      },
      "source": [
        "test_image_order = pd.read_csv(\"/content/content/covid_image_data/Testing_set_covid.csv\")\n",
        "test_image_order.head()\n",
        "\n",
        "file_paths_test = [[fname, '/content/content/covid_image_data/test/' + fname] for fname in test_image_order['filename']]\n",
        "\n",
        "test_images = pd.DataFrame(file_paths_test, columns=['filename', 'filepaths'])\n",
        "test_images.head()\n"
      ],
      "execution_count": 4,
      "outputs": [
        {
          "output_type": "execute_result",
          "data": {
            "text/html": [
              "<div>\n",
              "<style scoped>\n",
              "    .dataframe tbody tr th:only-of-type {\n",
              "        vertical-align: middle;\n",
              "    }\n",
              "\n",
              "    .dataframe tbody tr th {\n",
              "        vertical-align: top;\n",
              "    }\n",
              "\n",
              "    .dataframe thead th {\n",
              "        text-align: right;\n",
              "    }\n",
              "</style>\n",
              "<table border=\"1\" class=\"dataframe\">\n",
              "  <thead>\n",
              "    <tr style=\"text-align: right;\">\n",
              "      <th></th>\n",
              "      <th>filename</th>\n",
              "      <th>filepaths</th>\n",
              "    </tr>\n",
              "  </thead>\n",
              "  <tbody>\n",
              "    <tr>\n",
              "      <th>0</th>\n",
              "      <td>Image_1.jpg</td>\n",
              "      <td>/content/content/covid_image_data/test/Image_1...</td>\n",
              "    </tr>\n",
              "    <tr>\n",
              "      <th>1</th>\n",
              "      <td>Image_2.jpg</td>\n",
              "      <td>/content/content/covid_image_data/test/Image_2...</td>\n",
              "    </tr>\n",
              "    <tr>\n",
              "      <th>2</th>\n",
              "      <td>Image_3.jpg</td>\n",
              "      <td>/content/content/covid_image_data/test/Image_3...</td>\n",
              "    </tr>\n",
              "    <tr>\n",
              "      <th>3</th>\n",
              "      <td>Image_4.jpg</td>\n",
              "      <td>/content/content/covid_image_data/test/Image_4...</td>\n",
              "    </tr>\n",
              "    <tr>\n",
              "      <th>4</th>\n",
              "      <td>Image_5.jpg</td>\n",
              "      <td>/content/content/covid_image_data/test/Image_5...</td>\n",
              "    </tr>\n",
              "  </tbody>\n",
              "</table>\n",
              "</div>"
            ],
            "text/plain": [
              "      filename                                          filepaths\n",
              "0  Image_1.jpg  /content/content/covid_image_data/test/Image_1...\n",
              "1  Image_2.jpg  /content/content/covid_image_data/test/Image_2...\n",
              "2  Image_3.jpg  /content/content/covid_image_data/test/Image_3...\n",
              "3  Image_4.jpg  /content/content/covid_image_data/test/Image_4...\n",
              "4  Image_5.jpg  /content/content/covid_image_data/test/Image_5..."
            ]
          },
          "metadata": {
            "tags": []
          },
          "execution_count": 4
        }
      ]
    },
    {
      "cell_type": "code",
      "metadata": {
        "id": "U6RE61AjE8kd"
      },
      "source": [
        "data = [] \n",
        "image_size = 224 \n",
        "test_pixel_data = []\n",
        "\n",
        "for i in range(len(train_data)):\n",
        "\n",
        "  img_array = cv2.imread(train_data['filepaths'][i], cv2.COLOR_BGR2RGB) \n",
        "\n",
        "  new_img_array = cv2.resize(img_array, (image_size, image_size))\n",
        "  #new_img_array = cv2.GaussianBlur(new_img_array,(5,5),0)\n",
        "  data.append([new_img_array, train_data['label'][i]])\n",
        "\n",
        "\n",
        "for i in range(len(test_images)):\n",
        "\n",
        "  img_array = cv2.imread(test_images['filepaths'][i], cv2.COLOR_BGR2RGB) \n",
        "\n",
        "  new_img_array = cv2.resize(img_array, (image_size, image_size))\n",
        "  #new_img_array = cv2.GaussianBlur(new_img_array,(5,5),0)\n",
        "  test_pixel_data.append(new_img_array)"
      ],
      "execution_count": 5,
      "outputs": []
    },
    {
      "cell_type": "code",
      "metadata": {
        "colab": {
          "base_uri": "https://localhost:8080/"
        },
        "id": "-0UDTWhMkkca",
        "outputId": "4b741ba6-374b-4c9c-aa4e-13c59d882345"
      },
      "source": [
        "print(len(data),len(test_pixel_data))"
      ],
      "execution_count": 6,
      "outputs": [
        {
          "output_type": "stream",
          "text": [
            "3479 870\n"
          ],
          "name": "stdout"
        }
      ]
    },
    {
      "cell_type": "code",
      "metadata": {
        "id": "5jUawuG6FCBJ"
      },
      "source": [
        "np.random.shuffle(data)"
      ],
      "execution_count": 7,
      "outputs": []
    },
    {
      "cell_type": "code",
      "metadata": {
        "id": "gifw7RXUFQD9"
      },
      "source": [
        "x = []\n",
        "y = []\n",
        "\n",
        "counter = 406\n",
        "\n",
        "for image in data:\n",
        "  # if image[1] == 0 and counter >= 0:\n",
        "  #   x.append(image[0])\n",
        "  #   y.append(image[1])\n",
        "  #   counter -= 1\n",
        "\n",
        "  # elif image[1] == 1:\n",
        "  #   x.append(image[0])\n",
        "  #   y.append(image[1])\n",
        "\n",
        "\n",
        "  x.append(image[0])\n",
        "  y.append(image[1])\n",
        "\n",
        "# converting x & y to numpy array as they are list\n",
        "x = np.array(x)\n",
        "y = np.array(y)"
      ],
      "execution_count": 8,
      "outputs": []
    },
    {
      "cell_type": "code",
      "metadata": {
        "colab": {
          "base_uri": "https://localhost:8080/"
        },
        "id": "bFYtSBwuFZqJ",
        "outputId": "a1eafeae-d55d-4d28-ba4a-cfea77246217"
      },
      "source": [
        "np.unique(y, return_counts=True)"
      ],
      "execution_count": 9,
      "outputs": [
        {
          "output_type": "execute_result",
          "data": {
            "text/plain": [
              "(array([0, 1]), array([3073,  406]))"
            ]
          },
          "metadata": {
            "tags": []
          },
          "execution_count": 9
        }
      ]
    },
    {
      "cell_type": "code",
      "metadata": {
        "colab": {
          "base_uri": "https://localhost:8080/"
        },
        "id": "hvqVdNybI_5l",
        "outputId": "0c317e43-b07c-4d67-dfac-2931be2917d5"
      },
      "source": [
        " pd.Series(y).value_counts()"
      ],
      "execution_count": null,
      "outputs": [
        {
          "output_type": "execute_result",
          "data": {
            "text/plain": [
              "0    3073\n",
              "1     406\n",
              "dtype: int64"
            ]
          },
          "metadata": {
            "tags": []
          },
          "execution_count": 17
        }
      ]
    },
    {
      "cell_type": "code",
      "metadata": {
        "id": "xH3ZdHeMJoC2"
      },
      "source": [
        "X_train, X_val, y_train, y_val = train_test_split(x,y,test_size=0.2, random_state = 42,stratify=y)"
      ],
      "execution_count": 11,
      "outputs": []
    },
    {
      "cell_type": "code",
      "metadata": {
        "colab": {
          "base_uri": "https://localhost:8080/"
        },
        "id": "RfOC9tO4kyOa",
        "outputId": "373fb58c-906d-42bc-a861-08a040662142"
      },
      "source": [
        "test_pixel_data = np.array(test_pixel_data)\n",
        "\n",
        "test_pixel_data = test_pixel_data/255\n",
        "\n",
        "print(X_train.shape,X_val.shape,test_pixel_data.shape)"
      ],
      "execution_count": 12,
      "outputs": [
        {
          "output_type": "stream",
          "text": [
            "(2783, 224, 224, 3) (696, 224, 224, 3) (870, 224, 224, 3)\n"
          ],
          "name": "stdout"
        }
      ]
    },
    {
      "cell_type": "code",
      "metadata": {
        "id": "6is3MYP3saQr"
      },
      "source": [
        "train_datagen = tf.keras.preprocessing.image.ImageDataGenerator(rescale=1.0/255.0)\n",
        "\n",
        "val_datagen = tf.keras.preprocessing.image.ImageDataGenerator(rescale=1.0/255.0)\n",
        "\n",
        "train_generator = train_datagen.flow(X_train,y_train,batch_size=32)\n",
        "\n",
        "val_generator = val_datagen.flow(X_val,y_val,batch_size=32)"
      ],
      "execution_count": 13,
      "outputs": []
    },
    {
      "cell_type": "code",
      "metadata": {
        "colab": {
          "base_uri": "https://localhost:8080/"
        },
        "id": "i9mkXtRJMCEw",
        "outputId": "00ae41e4-23de-4b44-9687-7e5fb062140e"
      },
      "source": [
        "pd.Series(y_val).value_counts(normalize=True)"
      ],
      "execution_count": 14,
      "outputs": [
        {
          "output_type": "execute_result",
          "data": {
            "text/plain": [
              "0    0.883621\n",
              "1    0.116379\n",
              "dtype: float64"
            ]
          },
          "metadata": {
            "tags": []
          },
          "execution_count": 14
        }
      ]
    },
    {
      "cell_type": "code",
      "metadata": {
        "colab": {
          "base_uri": "https://localhost:8080/"
        },
        "id": "W7JYPkjvMGad",
        "outputId": "a05667ad-e9e1-49a4-f007-c9e2720275aa"
      },
      "source": [
        "pd.Series(y_train).value_counts(normalize=True)"
      ],
      "execution_count": 15,
      "outputs": [
        {
          "output_type": "execute_result",
          "data": {
            "text/plain": [
              "0    0.88322\n",
              "1    0.11678\n",
              "dtype: float64"
            ]
          },
          "metadata": {
            "tags": []
          },
          "execution_count": 15
        }
      ]
    },
    {
      "cell_type": "code",
      "metadata": {
        "colab": {
          "base_uri": "https://localhost:8080/"
        },
        "id": "Z3SwxsPo30jI",
        "outputId": "d8d51cc0-e610-4ca0-999c-2e61b25d7f42"
      },
      "source": [
        "print(X_train.shape,X_val.shape)"
      ],
      "execution_count": 16,
      "outputs": [
        {
          "output_type": "stream",
          "text": [
            "(2783, 224, 224, 3) (696, 224, 224, 3)\n"
          ],
          "name": "stdout"
        }
      ]
    },
    {
      "cell_type": "code",
      "metadata": {
        "id": "lgsoDecALB6a"
      },
      "source": [
        "import keras.backend as K\n",
        "\n",
        "def get_f1(y_true, y_pred): #taken from old keras source code\n",
        "    true_positives = K.sum(K.round(K.clip(y_true * y_pred, 0, 1)))\n",
        "    possible_positives = K.sum(K.round(K.clip(y_true, 0, 1)))\n",
        "    predicted_positives = K.sum(K.round(K.clip(y_pred, 0, 1)))\n",
        "    precision = true_positives / (predicted_positives + K.epsilon())\n",
        "    recall = true_positives / (possible_positives + K.epsilon())\n",
        "    f1_val = 2*(precision*recall)/(precision+recall+K.epsilon())\n",
        "    return f1_val\n"
      ],
      "execution_count": 17,
      "outputs": []
    },
    {
      "cell_type": "code",
      "metadata": {
        "id": "Z83JuRvsHxao"
      },
      "source": [
        "cbs = [tf.keras.callbacks.ReduceLROnPlateau(monitor='val_loss', factor=0.5, patience=1, min_lr=1e-5, verbose=0),\n",
        "           tf.keras.callbacks.EarlyStopping(monitor='val_loss', min_delta=1e-6, patience=10, verbose=1, mode='auto')]\n",
        "\n",
        "# lr = tf.keras.callbacks.ReduceLROnPlateau(\n",
        "#     monitor=\"val_loss\",\n",
        "#     factor=0.1,\n",
        "#     patience=2,\n",
        "#     verbose=0,\n",
        "#     mode=\"auto\",\n",
        "#     min_delta=0.0001,\n",
        "#     cooldown=0,\n",
        "#     min_lr=0.00001,\n",
        "# )"
      ],
      "execution_count": 18,
      "outputs": []
    },
    {
      "cell_type": "code",
      "metadata": {
        "id": "miDHZksN8K9n"
      },
      "source": [
        "from keras.applications import VGG16,VGG19,NASNetMobile,DenseNet201\n",
        "from keras.layers import *\n",
        "from keras.models import Sequential\n",
        "from keras.regularizers import *\n",
        "from keras.optimizers import Adam"
      ],
      "execution_count": 19,
      "outputs": []
    },
    {
      "cell_type": "markdown",
      "metadata": {
        "id": "_LkvnfzWQknG"
      },
      "source": [
        "**This is the densenet architecture that scores a F1 Score of 91.4572864321608 on submission. Here I have reduced the number of dense layer or fully connected layer and it improved the scores from 88.55721393034825 in case of 3 fully connected layer to 91.4572864321608**"
      ]
    },
    {
      "cell_type": "code",
      "metadata": {
        "id": "0WNM7sehKBlj"
      },
      "source": [
        "def build_model():\n",
        "    model = Sequential()\n",
        "    \n",
        "    conv_base = DenseNet201(input_shape=(224,224,3), include_top=False, pooling='max',weights='imagenet')\n",
        "    model.add(conv_base)\n",
        "    model.add(BatchNormalization())\n",
        "    model.add(Dense(2048, activation='relu',  kernel_regularizer=l1_l2(0.01)))\n",
        "    model.add(BatchNormalization())\n",
        "    # model.add(Dense(2048, activation='relu',  kernel_regularizer=l1_l2(0.01)))\n",
        "    # model.add(BatchNormalization())\n",
        "    # model.add(Dense(2048, activation='relu',  kernel_regularizer=l1_l2(0.01)))\n",
        "    # model.add(BatchNormalization())\n",
        "    # model.add(Dense(1024, activation='relu', kernel_regularizer=l1_l2(0.01)))\n",
        "    # model.add(BatchNormalization())\n",
        "    model.add(Dense(1, activation='sigmoid'))\n",
        "    for layer in model.layers:\n",
        "      layer.trainable = True\n",
        "    #train_layers = [layer for layer in conv_base.layers[::-1][:5]]\n",
        "    \"\"\"\n",
        "    for layer in conv_base.layers:\n",
        "      if layer in train_layers:\n",
        "        layer.trainable = True\n",
        "    \"\"\"\n",
        "    model.compile(loss='binary_crossentropy', optimizer=Adam(lr=1e-4), metrics=['accuracy',get_f1])\n",
        "    \n",
        "    return model\n",
        "\n"
      ],
      "execution_count": 39,
      "outputs": []
    },
    {
      "cell_type": "code",
      "metadata": {
        "colab": {
          "base_uri": "https://localhost:8080/"
        },
        "id": "mqVDlAZRuqEz",
        "outputId": "cddaa739-3cd9-43d5-efff-d5f99f2bab29"
      },
      "source": [
        "model = build_model()\n",
        "model.summary()"
      ],
      "execution_count": 40,
      "outputs": [
        {
          "output_type": "stream",
          "text": [
            "Model: \"sequential_5\"\n",
            "_________________________________________________________________\n",
            "Layer (type)                 Output Shape              Param #   \n",
            "=================================================================\n",
            "densenet201 (Functional)     (None, 1920)              18321984  \n",
            "_________________________________________________________________\n",
            "batch_normalization_3 (Batch (None, 1920)              7680      \n",
            "_________________________________________________________________\n",
            "dense_3 (Dense)              (None, 2048)              3934208   \n",
            "_________________________________________________________________\n",
            "batch_normalization_4 (Batch (None, 2048)              8192      \n",
            "_________________________________________________________________\n",
            "dense_4 (Dense)              (None, 1)                 2049      \n",
            "=================================================================\n",
            "Total params: 22,274,113\n",
            "Trainable params: 22,037,121\n",
            "Non-trainable params: 236,992\n",
            "_________________________________________________________________\n"
          ],
          "name": "stdout"
        }
      ]
    },
    {
      "cell_type": "code",
      "metadata": {
        "id": "vAmZXzmbTkkS",
        "colab": {
          "base_uri": "https://localhost:8080/"
        },
        "outputId": "e7c4c07b-3ad1-4a3d-f0a9-beabb87a1e31"
      },
      "source": [
        "model.fit(train_generator,steps_per_epoch=87,epochs=100,validation_data=val_generator,validation_steps=22,callbacks=[cbs],class_weight={0:1,1:2})\n",
        "\n",
        "#model.fit(train_generator,steps_per_epoch=21,epochs=50,validation_data=val_generator,validation_steps=6,callbacks=[es])"
      ],
      "execution_count": 41,
      "outputs": [
        {
          "output_type": "stream",
          "text": [
            "Epoch 1/100\n",
            "87/87 [==============================] - 51s 591ms/step - loss: 628.4645 - accuracy: 0.7492 - get_f1: 0.4643 - val_loss: 481.3228 - val_accuracy: 0.2141 - val_get_f1: 0.2211\n",
            "Epoch 2/100\n",
            "87/87 [==============================] - 50s 577ms/step - loss: 361.3675 - accuracy: 0.8983 - get_f1: 0.6859 - val_loss: 253.7653 - val_accuracy: 0.1480 - val_get_f1: 0.2078\n",
            "Epoch 3/100\n",
            "87/87 [==============================] - 50s 572ms/step - loss: 170.8621 - accuracy: 0.9457 - get_f1: 0.7992 - val_loss: 100.9907 - val_accuracy: 0.5014 - val_get_f1: 0.3036\n",
            "Epoch 4/100\n",
            "87/87 [==============================] - 50s 572ms/step - loss: 55.3404 - accuracy: 0.9501 - get_f1: 0.8058 - val_loss: 21.8934 - val_accuracy: 0.8017 - val_get_f1: 0.5024\n",
            "Epoch 5/100\n",
            "87/87 [==============================] - 50s 574ms/step - loss: 10.4025 - accuracy: 0.9188 - get_f1: 0.7223 - val_loss: 4.7571 - val_accuracy: 0.9267 - val_get_f1: 0.5810\n",
            "Epoch 6/100\n",
            "87/87 [==============================] - 50s 573ms/step - loss: 3.0527 - accuracy: 0.9544 - get_f1: 0.8120 - val_loss: 4.5317 - val_accuracy: 0.2859 - val_get_f1: 0.2367\n",
            "Epoch 7/100\n",
            "87/87 [==============================] - 50s 575ms/step - loss: 1.7750 - accuracy: 0.9558 - get_f1: 0.8137 - val_loss: 1.1097 - val_accuracy: 0.9555 - val_get_f1: 0.7543\n",
            "Epoch 8/100\n",
            "87/87 [==============================] - 50s 575ms/step - loss: 0.7945 - accuracy: 0.9842 - get_f1: 0.9109 - val_loss: 0.8522 - val_accuracy: 0.9598 - val_get_f1: 0.8195\n",
            "Epoch 9/100\n",
            "87/87 [==============================] - 50s 575ms/step - loss: 0.6343 - accuracy: 0.9935 - get_f1: 0.9498 - val_loss: 0.7770 - val_accuracy: 0.9626 - val_get_f1: 0.8401\n",
            "Epoch 10/100\n",
            "87/87 [==============================] - 50s 575ms/step - loss: 0.6154 - accuracy: 0.9932 - get_f1: 0.9253 - val_loss: 0.6746 - val_accuracy: 0.9540 - val_get_f1: 0.7469\n",
            "Epoch 11/100\n",
            "87/87 [==============================] - 50s 574ms/step - loss: 0.6069 - accuracy: 0.9935 - get_f1: 0.9392 - val_loss: 0.6377 - val_accuracy: 0.9583 - val_get_f1: 0.7242\n",
            "Epoch 12/100\n",
            "87/87 [==============================] - 50s 573ms/step - loss: 0.5995 - accuracy: 0.9953 - get_f1: 0.9667 - val_loss: 0.6140 - val_accuracy: 0.9569 - val_get_f1: 0.7322\n",
            "Epoch 13/100\n",
            "87/87 [==============================] - 50s 575ms/step - loss: 0.5411 - accuracy: 0.9986 - get_f1: 0.9832 - val_loss: 0.6156 - val_accuracy: 0.9583 - val_get_f1: 0.7661\n",
            "Epoch 14/100\n",
            "87/87 [==============================] - 50s 573ms/step - loss: 0.3233 - accuracy: 0.9989 - get_f1: 0.9836 - val_loss: 0.5628 - val_accuracy: 0.9670 - val_get_f1: 0.8709\n",
            "Epoch 15/100\n",
            "87/87 [==============================] - 50s 574ms/step - loss: 0.3439 - accuracy: 0.9964 - get_f1: 0.9678 - val_loss: 0.3987 - val_accuracy: 0.9698 - val_get_f1: 0.8603\n",
            "Epoch 16/100\n",
            "87/87 [==============================] - 50s 575ms/step - loss: 0.2852 - accuracy: 0.9996 - get_f1: 0.9991 - val_loss: 0.3513 - val_accuracy: 0.9698 - val_get_f1: 0.7943\n",
            "Epoch 17/100\n",
            "87/87 [==============================] - 50s 574ms/step - loss: 0.3169 - accuracy: 0.9960 - get_f1: 0.9652 - val_loss: 0.5025 - val_accuracy: 0.9583 - val_get_f1: 0.7940\n",
            "Epoch 18/100\n",
            "87/87 [==============================] - 50s 574ms/step - loss: 0.2625 - accuracy: 0.9968 - get_f1: 0.9594 - val_loss: 0.3355 - val_accuracy: 0.9713 - val_get_f1: 0.8251\n",
            "Epoch 19/100\n",
            "87/87 [==============================] - 50s 575ms/step - loss: 0.1835 - accuracy: 0.9975 - get_f1: 0.9530 - val_loss: 0.2630 - val_accuracy: 0.9626 - val_get_f1: 0.7947\n",
            "Epoch 20/100\n",
            "87/87 [==============================] - 50s 576ms/step - loss: 0.1759 - accuracy: 0.9989 - get_f1: 0.9885 - val_loss: 0.2714 - val_accuracy: 0.9598 - val_get_f1: 0.7637\n",
            "Epoch 21/100\n",
            "87/87 [==============================] - 50s 574ms/step - loss: 0.1178 - accuracy: 0.9993 - get_f1: 0.9885 - val_loss: 0.1994 - val_accuracy: 0.9670 - val_get_f1: 0.8477\n",
            "Epoch 22/100\n",
            "87/87 [==============================] - 50s 575ms/step - loss: 0.1119 - accuracy: 0.9993 - get_f1: 0.9770 - val_loss: 0.2108 - val_accuracy: 0.9684 - val_get_f1: 0.8031\n",
            "Epoch 23/100\n",
            "87/87 [==============================] - 50s 577ms/step - loss: 0.0962 - accuracy: 1.0000 - get_f1: 1.0000 - val_loss: 0.1870 - val_accuracy: 0.9684 - val_get_f1: 0.7393\n",
            "Epoch 24/100\n",
            "87/87 [==============================] - 50s 576ms/step - loss: 0.0932 - accuracy: 0.9996 - get_f1: 0.9992 - val_loss: 0.1796 - val_accuracy: 0.9670 - val_get_f1: 0.8594\n",
            "Epoch 25/100\n",
            "87/87 [==============================] - 50s 575ms/step - loss: 0.0973 - accuracy: 0.9996 - get_f1: 0.9885 - val_loss: 0.2112 - val_accuracy: 0.9741 - val_get_f1: 0.8804\n",
            "Epoch 26/100\n",
            "87/87 [==============================] - 50s 575ms/step - loss: 0.1032 - accuracy: 0.9986 - get_f1: 0.9425 - val_loss: 0.1800 - val_accuracy: 0.9670 - val_get_f1: 0.8311\n",
            "Epoch 27/100\n",
            "87/87 [==============================] - 50s 574ms/step - loss: 0.1067 - accuracy: 0.9989 - get_f1: 0.9752 - val_loss: 0.1882 - val_accuracy: 0.9698 - val_get_f1: 0.8360\n",
            "Epoch 28/100\n",
            "87/87 [==============================] - 50s 574ms/step - loss: 0.0894 - accuracy: 1.0000 - get_f1: 1.0000 - val_loss: 0.2064 - val_accuracy: 0.9727 - val_get_f1: 0.7675\n",
            "Epoch 29/100\n",
            "87/87 [==============================] - 50s 572ms/step - loss: 0.0974 - accuracy: 0.9986 - get_f1: 0.9876 - val_loss: 0.2234 - val_accuracy: 0.9698 - val_get_f1: 0.7913\n",
            "Epoch 30/100\n",
            "87/87 [==============================] - 50s 571ms/step - loss: 0.0978 - accuracy: 0.9996 - get_f1: 0.9885 - val_loss: 0.1794 - val_accuracy: 0.9684 - val_get_f1: 0.8239\n",
            "Epoch 31/100\n",
            "87/87 [==============================] - 50s 571ms/step - loss: 0.0894 - accuracy: 0.9993 - get_f1: 0.9885 - val_loss: 0.1753 - val_accuracy: 0.9670 - val_get_f1: 0.7750\n",
            "Epoch 32/100\n",
            "87/87 [==============================] - 50s 573ms/step - loss: 0.0937 - accuracy: 0.9989 - get_f1: 0.9770 - val_loss: 0.1751 - val_accuracy: 0.9698 - val_get_f1: 0.8746\n",
            "Epoch 33/100\n",
            "87/87 [==============================] - 50s 573ms/step - loss: 0.0894 - accuracy: 1.0000 - get_f1: 0.9770 - val_loss: 0.1719 - val_accuracy: 0.9670 - val_get_f1: 0.8036\n",
            "Epoch 34/100\n",
            "87/87 [==============================] - 50s 572ms/step - loss: 0.0908 - accuracy: 0.9996 - get_f1: 0.9655 - val_loss: 0.1980 - val_accuracy: 0.9727 - val_get_f1: 0.8842\n",
            "Epoch 35/100\n",
            "87/87 [==============================] - 50s 572ms/step - loss: 0.1004 - accuracy: 0.9982 - get_f1: 0.9880 - val_loss: 0.2026 - val_accuracy: 0.9713 - val_get_f1: 0.8764\n",
            "Epoch 36/100\n",
            "87/87 [==============================] - 50s 573ms/step - loss: 0.0926 - accuracy: 0.9986 - get_f1: 0.9770 - val_loss: 0.2261 - val_accuracy: 0.9741 - val_get_f1: 0.8084\n",
            "Epoch 37/100\n",
            "87/87 [==============================] - 50s 574ms/step - loss: 0.0875 - accuracy: 1.0000 - get_f1: 0.9885 - val_loss: 0.1673 - val_accuracy: 0.9670 - val_get_f1: 0.7804\n",
            "Epoch 38/100\n",
            "87/87 [==============================] - 50s 575ms/step - loss: 0.0912 - accuracy: 0.9996 - get_f1: 0.9770 - val_loss: 0.1792 - val_accuracy: 0.9684 - val_get_f1: 0.8332\n",
            "Epoch 39/100\n",
            "87/87 [==============================] - 50s 574ms/step - loss: 0.0854 - accuracy: 1.0000 - get_f1: 0.9885 - val_loss: 0.1814 - val_accuracy: 0.9684 - val_get_f1: 0.8595\n",
            "Epoch 40/100\n",
            "87/87 [==============================] - 50s 574ms/step - loss: 0.0899 - accuracy: 1.0000 - get_f1: 1.0000 - val_loss: 0.2083 - val_accuracy: 0.9741 - val_get_f1: 0.8775\n",
            "Epoch 41/100\n",
            "87/87 [==============================] - 50s 574ms/step - loss: 0.1156 - accuracy: 0.9993 - get_f1: 0.9885 - val_loss: 0.1785 - val_accuracy: 0.9684 - val_get_f1: 0.7564\n",
            "Epoch 42/100\n",
            "87/87 [==============================] - 50s 572ms/step - loss: 0.0886 - accuracy: 0.9986 - get_f1: 0.9747 - val_loss: 0.2784 - val_accuracy: 0.9684 - val_get_f1: 0.8622\n",
            "Epoch 43/100\n",
            "87/87 [==============================] - 50s 572ms/step - loss: 0.1172 - accuracy: 0.9968 - get_f1: 0.9860 - val_loss: 0.1958 - val_accuracy: 0.9698 - val_get_f1: 0.8518\n",
            "Epoch 44/100\n",
            "87/87 [==============================] - 50s 573ms/step - loss: 0.0905 - accuracy: 0.9982 - get_f1: 0.9770 - val_loss: 0.1960 - val_accuracy: 0.9698 - val_get_f1: 0.7782\n",
            "Epoch 45/100\n",
            "87/87 [==============================] - 50s 575ms/step - loss: 0.0940 - accuracy: 0.9993 - get_f1: 0.9885 - val_loss: 0.2004 - val_accuracy: 0.9670 - val_get_f1: 0.7871\n",
            "Epoch 46/100\n",
            "87/87 [==============================] - 50s 573ms/step - loss: 0.0857 - accuracy: 0.9993 - get_f1: 0.9540 - val_loss: 0.1817 - val_accuracy: 0.9641 - val_get_f1: 0.8413\n",
            "Epoch 47/100\n",
            "87/87 [==============================] - 50s 574ms/step - loss: 0.0989 - accuracy: 0.9986 - get_f1: 0.9650 - val_loss: 0.1693 - val_accuracy: 0.9655 - val_get_f1: 0.6753\n",
            "Epoch 00047: early stopping\n"
          ],
          "name": "stdout"
        },
        {
          "output_type": "execute_result",
          "data": {
            "text/plain": [
              "<tensorflow.python.keras.callbacks.History at 0x7fbd09acb978>"
            ]
          },
          "metadata": {
            "tags": []
          },
          "execution_count": 41
        }
      ]
    },
    {
      "cell_type": "code",
      "metadata": {
        "id": "ku9-Hmw9aIbc"
      },
      "source": [
        "preds =  model.predict(X_val/255.0)\n",
        "predictions = []\n",
        "for i in preds:\n",
        "  if i[0] > 0.5:\n",
        "    predictions.append(1)\n",
        "  else:\n",
        "    predictions.append(0)"
      ],
      "execution_count": 42,
      "outputs": []
    },
    {
      "cell_type": "code",
      "metadata": {
        "colab": {
          "base_uri": "https://localhost:8080/"
        },
        "id": "YK_sTZggaZz7",
        "outputId": "007c607e-bd1d-4f7d-c8eb-55f38b49bcd6"
      },
      "source": [
        "from sklearn.metrics import f1_score\n",
        "f1_score(y_val,predictions)"
      ],
      "execution_count": 43,
      "outputs": [
        {
          "output_type": "execute_result",
          "data": {
            "text/plain": [
              "0.8461538461538461"
            ]
          },
          "metadata": {
            "tags": []
          },
          "execution_count": 43
        }
      ]
    },
    {
      "cell_type": "markdown",
      "metadata": {
        "id": "8tlBuKA4BrDz"
      },
      "source": [
        "**Final Predictions**"
      ]
    },
    {
      "cell_type": "code",
      "metadata": {
        "id": "JOkonX0BkFAu"
      },
      "source": [
        "preds = model.predict(test_pixel_data)\n"
      ],
      "execution_count": 44,
      "outputs": []
    },
    {
      "cell_type": "code",
      "metadata": {
        "id": "rUxHa53XmGGe"
      },
      "source": [
        "predictions = []\n",
        "for i in preds:\n",
        "  if i[0] > 0.5:\n",
        "    predictions.append(1)\n",
        "  else:\n",
        "    predictions.append(0)"
      ],
      "execution_count": 45,
      "outputs": []
    },
    {
      "cell_type": "code",
      "metadata": {
        "id": "yIPGCdlHmIfQ",
        "colab": {
          "base_uri": "https://localhost:8080/"
        },
        "outputId": "c7c6a34f-9b9e-4c06-a513-7ccf6362bbe2"
      },
      "source": [
        "result = pd.DataFrame(predictions,columns=['prediction'])\n",
        "\n",
        "result.value_counts()"
      ],
      "execution_count": 46,
      "outputs": [
        {
          "output_type": "execute_result",
          "data": {
            "text/plain": [
              "prediction\n",
              "0             773\n",
              "1              97\n",
              "dtype: int64"
            ]
          },
          "metadata": {
            "tags": []
          },
          "execution_count": 46
        }
      ]
    },
    {
      "cell_type": "code",
      "metadata": {
        "id": "-8Gp9C1NmRdJ"
      },
      "source": [
        "result.to_csv('denseNet201_last_five2.csv',index=False)"
      ],
      "execution_count": 47,
      "outputs": []
    },
    {
      "cell_type": "markdown",
      "metadata": {
        "id": "Jzxr2r2gQdEb"
      },
      "source": [
        "#### **Dphi Scores:91.4572864321608**"
      ]
    },
    {
      "cell_type": "markdown",
      "metadata": {
        "id": "UXBbxyGjVItb"
      },
      "source": [
        "#### **ResNet101 - Experiment**"
      ]
    },
    {
      "cell_type": "markdown",
      "metadata": {
        "id": "c0rYy3MHXwOg"
      },
      "source": [
        "*****************************************************************************************"
      ]
    },
    {
      "cell_type": "code",
      "metadata": {
        "id": "hXeNMuNr7my3"
      },
      "source": [
        "from tensorflow.keras.applications import ResNet50"
      ],
      "execution_count": 63,
      "outputs": []
    },
    {
      "cell_type": "code",
      "metadata": {
        "id": "MTl2RElw7hvd"
      },
      "source": [
        "def build_model():\n",
        "    model = Sequential()\n",
        "    \n",
        "    conv_base = ResNet50(input_shape=(224,224,3), include_top=False, pooling='max',weights='imagenet')\n",
        "    model.add(conv_base)\n",
        "    model.add(BatchNormalization())\n",
        "    model.add(Dense(2048, activation='relu',  kernel_regularizer=l1_l2(0.01)))\n",
        "    model.add(BatchNormalization())\n",
        "    # model.add(Dense(2048, activation='relu',  kernel_regularizer=l1_l2(0.01)))\n",
        "    # model.add(BatchNormalization())\n",
        "    # model.add(Dense(2048, activation='relu',  kernel_regularizer=l1_l2(0.01)))\n",
        "    # model.add(BatchNormalization())\n",
        "    # model.add(Dense(1024, activation='relu', kernel_regularizer=l1_l2(0.01)))\n",
        "    # model.add(BatchNormalization())\n",
        "    model.add(Dense(1, activation='sigmoid'))\n",
        "    for layer in model.layers:\n",
        "      layer.trainable = True\n",
        "    #train_layers = [layer for layer in conv_base.layers[::-1][:5]]\n",
        "    \"\"\"\n",
        "    for layer in conv_base.layers:\n",
        "      if layer in train_layers:\n",
        "        layer.trainable = True\n",
        "    \"\"\"\n",
        "    model.compile(loss='binary_crossentropy', optimizer=Adam(lr=1e-4), metrics=['accuracy',get_f1])\n",
        "    \n",
        "    return model\n",
        "\n"
      ],
      "execution_count": 64,
      "outputs": []
    },
    {
      "cell_type": "code",
      "metadata": {
        "id": "oR_K8imJ73-n",
        "outputId": "ef1b79b4-b5c7-4aed-97b1-4abdbb405df6",
        "colab": {
          "base_uri": "https://localhost:8080/"
        }
      },
      "source": [
        "model = build_model()\n",
        "model.summary()"
      ],
      "execution_count": 65,
      "outputs": [
        {
          "output_type": "stream",
          "text": [
            "Downloading data from https://storage.googleapis.com/tensorflow/keras-applications/resnet/resnet50_weights_tf_dim_ordering_tf_kernels_notop.h5\n",
            "94773248/94765736 [==============================] - 1s 0us/step\n",
            "Model: \"sequential_9\"\n",
            "_________________________________________________________________\n",
            "Layer (type)                 Output Shape              Param #   \n",
            "=================================================================\n",
            "resnet50 (Functional)        (None, 2048)              23587712  \n",
            "_________________________________________________________________\n",
            "batch_normalization_11 (Batc (None, 2048)              8192      \n",
            "_________________________________________________________________\n",
            "dense_11 (Dense)             (None, 2048)              4196352   \n",
            "_________________________________________________________________\n",
            "batch_normalization_12 (Batc (None, 2048)              8192      \n",
            "_________________________________________________________________\n",
            "dense_12 (Dense)             (None, 1)                 2049      \n",
            "=================================================================\n",
            "Total params: 27,802,497\n",
            "Trainable params: 27,741,185\n",
            "Non-trainable params: 61,312\n",
            "_________________________________________________________________\n"
          ],
          "name": "stdout"
        }
      ]
    },
    {
      "cell_type": "code",
      "metadata": {
        "id": "-PyuUEVN79kn",
        "outputId": "359f59a6-9a20-48bf-83eb-d75645dec075",
        "colab": {
          "base_uri": "https://localhost:8080/"
        }
      },
      "source": [
        "history = model.fit(train_generator,steps_per_epoch=87,epochs=100,validation_data=val_generator,validation_steps=22,callbacks=[cbs],class_weight={0:1,1:2})"
      ],
      "execution_count": null,
      "outputs": [
        {
          "output_type": "stream",
          "text": [
            "Epoch 1/100\n",
            " 2/87 [..............................] - ETA: 14s - loss: 822.1832 - accuracy: 0.6094 - get_f1: 0.3571WARNING:tensorflow:Callbacks method `on_train_batch_end` is slow compared to the batch time (batch time: 0.1262s vs `on_train_batch_end` time: 0.2053s). Check your callbacks.\n",
            "87/87 [==============================] - 34s 388ms/step - loss: 657.4337 - accuracy: 0.7700 - get_f1: 0.4825 - val_loss: 501.9218 - val_accuracy: 0.1164 - val_get_f1: 0.2037\n",
            "Epoch 2/100\n",
            "87/87 [==============================] - 33s 375ms/step - loss: 374.3963 - accuracy: 0.9296 - get_f1: 0.7572 - val_loss: 259.7125 - val_accuracy: 0.8836 - val_get_f1: 0.0000e+00\n",
            "Epoch 3/100\n",
            "87/87 [==============================] - 32s 368ms/step - loss: 174.3942 - accuracy: 0.9404 - get_f1: 0.7888 - val_loss: 101.4267 - val_accuracy: 0.8836 - val_get_f1: 0.0000e+00\n",
            "Epoch 4/100\n",
            "87/87 [==============================] - 32s 371ms/step - loss: 55.7646 - accuracy: 0.9303 - get_f1: 0.7531 - val_loss: 31.1268 - val_accuracy: 0.1164 - val_get_f1: 0.2043\n",
            "Epoch 5/100\n",
            "87/87 [==============================] - 32s 371ms/step - loss: 11.0309 - accuracy: 0.9249 - get_f1: 0.7218 - val_loss: 4.7662 - val_accuracy: 0.8836 - val_get_f1: 0.0000e+00\n",
            "Epoch 6/100\n",
            "87/87 [==============================] - 32s 370ms/step - loss: 4.5808 - accuracy: 0.9174 - get_f1: 0.6987 - val_loss: 4.5150 - val_accuracy: 0.4986 - val_get_f1: 0.2910\n",
            "Epoch 7/100\n",
            "87/87 [==============================] - 32s 371ms/step - loss: 3.6597 - accuracy: 0.9274 - get_f1: 0.7318 - val_loss: 5.9920 - val_accuracy: 0.8836 - val_get_f1: 0.0000e+00\n",
            "Epoch 8/100\n",
            "87/87 [==============================] - 32s 371ms/step - loss: 2.4472 - accuracy: 0.9572 - get_f1: 0.8055 - val_loss: 1.3594 - val_accuracy: 0.5704 - val_get_f1: 0.0331\n",
            "Epoch 9/100\n",
            "87/87 [==============================] - 32s 370ms/step - loss: 0.6803 - accuracy: 0.9828 - get_f1: 0.8972 - val_loss: 1.3571 - val_accuracy: 0.4583 - val_get_f1: 0.0588\n",
            "Epoch 10/100\n",
            "87/87 [==============================] - 32s 368ms/step - loss: 0.5984 - accuracy: 0.9896 - get_f1: 0.9183 - val_loss: 0.8008 - val_accuracy: 0.8851 - val_get_f1: 0.1310\n",
            "Epoch 11/100\n",
            "87/87 [==============================] - 32s 370ms/step - loss: 0.4779 - accuracy: 0.9914 - get_f1: 0.9367 - val_loss: 0.8330 - val_accuracy: 0.7874 - val_get_f1: 0.4690\n",
            "Epoch 12/100\n",
            "87/87 [==============================] - 32s 370ms/step - loss: 0.2525 - accuracy: 0.9975 - get_f1: 0.9814 - val_loss: 0.4047 - val_accuracy: 0.9382 - val_get_f1: 0.7162\n",
            "Epoch 13/100\n",
            "87/87 [==============================] - 32s 370ms/step - loss: 0.2626 - accuracy: 0.9953 - get_f1: 0.9529 - val_loss: 0.3211 - val_accuracy: 0.9540 - val_get_f1: 0.7891\n",
            "Epoch 14/100\n",
            "87/87 [==============================] - 32s 370ms/step - loss: 0.2223 - accuracy: 0.9968 - get_f1: 0.9653 - val_loss: 0.3362 - val_accuracy: 0.9612 - val_get_f1: 0.8317\n",
            "Epoch 15/100\n",
            "87/87 [==============================] - 32s 371ms/step - loss: 0.1522 - accuracy: 0.9989 - get_f1: 0.9862 - val_loss: 0.2770 - val_accuracy: 0.9626 - val_get_f1: 0.8417\n",
            "Epoch 16/100\n",
            "87/87 [==============================] - 32s 370ms/step - loss: 0.1422 - accuracy: 0.9996 - get_f1: 0.9962 - val_loss: 0.2773 - val_accuracy: 0.9641 - val_get_f1: 0.8114\n",
            "Epoch 17/100\n",
            "87/87 [==============================] - 32s 369ms/step - loss: 0.1534 - accuracy: 0.9953 - get_f1: 0.9331 - val_loss: 0.2742 - val_accuracy: 0.9684 - val_get_f1: 0.8536\n",
            "Epoch 18/100\n",
            "87/87 [==============================] - 32s 370ms/step - loss: 0.1226 - accuracy: 0.9986 - get_f1: 0.9747 - val_loss: 0.2620 - val_accuracy: 0.9670 - val_get_f1: 0.8226\n",
            "Epoch 19/100\n",
            "87/87 [==============================] - 32s 370ms/step - loss: 0.1272 - accuracy: 0.9986 - get_f1: 0.9732 - val_loss: 0.3399 - val_accuracy: 0.9698 - val_get_f1: 0.8587\n",
            "Epoch 20/100\n",
            "87/87 [==============================] - 32s 371ms/step - loss: 0.1235 - accuracy: 1.0000 - get_f1: 1.0000 - val_loss: 0.2235 - val_accuracy: 0.9684 - val_get_f1: 0.8572\n",
            "Epoch 21/100\n",
            "87/87 [==============================] - 32s 370ms/step - loss: 0.1213 - accuracy: 0.9996 - get_f1: 0.9885 - val_loss: 0.2220 - val_accuracy: 0.9670 - val_get_f1: 0.8242\n",
            "Epoch 22/100\n",
            "87/87 [==============================] - 32s 370ms/step - loss: 0.1183 - accuracy: 0.9982 - get_f1: 0.9540 - val_loss: 0.2137 - val_accuracy: 0.9655 - val_get_f1: 0.8011\n",
            "Epoch 23/100\n",
            "87/87 [==============================] - 32s 370ms/step - loss: 0.1133 - accuracy: 0.9989 - get_f1: 0.9885 - val_loss: 0.2196 - val_accuracy: 0.9555 - val_get_f1: 0.7648\n",
            "Epoch 24/100\n",
            "87/87 [==============================] - 32s 370ms/step - loss: 0.1255 - accuracy: 1.0000 - get_f1: 1.0000 - val_loss: 0.2235 - val_accuracy: 0.9670 - val_get_f1: 0.8438\n",
            "Epoch 25/100\n",
            "87/87 [==============================] - 32s 369ms/step - loss: 0.1456 - accuracy: 0.9986 - get_f1: 0.9761 - val_loss: 0.2014 - val_accuracy: 0.9598 - val_get_f1: 0.8091\n",
            "Epoch 26/100\n",
            "87/87 [==============================] - 32s 369ms/step - loss: 0.1111 - accuracy: 1.0000 - get_f1: 0.9885 - val_loss: 0.2368 - val_accuracy: 0.9655 - val_get_f1: 0.8692\n",
            "Epoch 27/100\n",
            "87/87 [==============================] - 32s 369ms/step - loss: 0.1240 - accuracy: 0.9993 - get_f1: 0.9770 - val_loss: 0.2524 - val_accuracy: 0.9670 - val_get_f1: 0.8141\n",
            "Epoch 28/100\n",
            "87/87 [==============================] - 32s 369ms/step - loss: 0.1061 - accuracy: 1.0000 - get_f1: 1.0000 - val_loss: 0.2091 - val_accuracy: 0.9612 - val_get_f1: 0.7884\n",
            "Epoch 29/100\n",
            "87/87 [==============================] - 32s 367ms/step - loss: 0.1233 - accuracy: 0.9971 - get_f1: 0.9464 - val_loss: 0.2258 - val_accuracy: 0.9526 - val_get_f1: 0.7004\n",
            "Epoch 30/100\n",
            "87/87 [==============================] - 32s 367ms/step - loss: 0.1140 - accuracy: 1.0000 - get_f1: 0.9770 - val_loss: 0.2448 - val_accuracy: 0.9655 - val_get_f1: 0.8584\n",
            "Epoch 31/100\n",
            "87/87 [==============================] - 32s 368ms/step - loss: 0.1122 - accuracy: 0.9996 - get_f1: 0.9885 - val_loss: 0.2433 - val_accuracy: 0.9655 - val_get_f1: 0.8664\n",
            "Epoch 32/100\n",
            "87/87 [==============================] - 32s 367ms/step - loss: 0.1080 - accuracy: 0.9996 - get_f1: 0.9732 - val_loss: 0.2062 - val_accuracy: 0.9655 - val_get_f1: 0.8424\n",
            "Epoch 33/100\n",
            "87/87 [==============================] - 32s 368ms/step - loss: 0.1169 - accuracy: 0.9993 - get_f1: 0.9847 - val_loss: 0.2040 - val_accuracy: 0.9641 - val_get_f1: 0.7961\n",
            "Epoch 34/100\n",
            "87/87 [==============================] - 32s 367ms/step - loss: 0.1053 - accuracy: 0.9996 - get_f1: 0.9885 - val_loss: 0.1955 - val_accuracy: 0.9612 - val_get_f1: 0.7841\n",
            "Epoch 35/100\n",
            "87/87 [==============================] - 32s 368ms/step - loss: 0.1111 - accuracy: 0.9996 - get_f1: 0.9885 - val_loss: 0.1964 - val_accuracy: 0.9655 - val_get_f1: 0.8345\n",
            "Epoch 36/100\n",
            "87/87 [==============================] - 32s 367ms/step - loss: 0.1415 - accuracy: 0.9960 - get_f1: 0.9605 - val_loss: 0.2488 - val_accuracy: 0.9641 - val_get_f1: 0.8245\n",
            "Epoch 37/100\n",
            "87/87 [==============================] - 32s 367ms/step - loss: 0.0992 - accuracy: 1.0000 - get_f1: 1.0000 - val_loss: 0.2041 - val_accuracy: 0.9641 - val_get_f1: 0.8187\n",
            "Epoch 38/100\n",
            "87/87 [==============================] - 32s 367ms/step - loss: 0.1037 - accuracy: 0.9993 - get_f1: 0.9770 - val_loss: 0.2280 - val_accuracy: 0.9612 - val_get_f1: 0.8030\n",
            "Epoch 39/100\n",
            "87/87 [==============================] - 32s 367ms/step - loss: 0.0986 - accuracy: 1.0000 - get_f1: 1.0000 - val_loss: 0.1964 - val_accuracy: 0.9655 - val_get_f1: 0.8048\n",
            "Epoch 40/100\n",
            "87/87 [==============================] - 32s 366ms/step - loss: 0.1463 - accuracy: 0.9960 - get_f1: 0.9399 - val_loss: 0.2849 - val_accuracy: 0.9555 - val_get_f1: 0.7647\n",
            "Epoch 41/100\n",
            "87/87 [==============================] - 32s 367ms/step - loss: 0.1781 - accuracy: 0.9964 - get_f1: 0.9727 - val_loss: 0.2298 - val_accuracy: 0.9655 - val_get_f1: 0.7578\n",
            "Epoch 42/100\n",
            "87/87 [==============================] - 32s 366ms/step - loss: 0.1540 - accuracy: 0.9964 - get_f1: 0.9860 - val_loss: 0.2759 - val_accuracy: 0.9655 - val_get_f1: 0.7579\n",
            "Epoch 43/100\n",
            "87/87 [==============================] - 32s 366ms/step - loss: 0.1066 - accuracy: 1.0000 - get_f1: 1.0000 - val_loss: 0.2138 - val_accuracy: 0.9684 - val_get_f1: 0.8071\n",
            "Epoch 44/100\n",
            "87/87 [==============================] - 32s 366ms/step - loss: 0.0961 - accuracy: 1.0000 - get_f1: 0.9885 - val_loss: 0.1833 - val_accuracy: 0.9655 - val_get_f1: 0.7648\n",
            "Epoch 45/100\n",
            "87/87 [==============================] - 32s 367ms/step - loss: 0.0976 - accuracy: 1.0000 - get_f1: 0.9885 - val_loss: 0.2307 - val_accuracy: 0.9670 - val_get_f1: 0.8214\n",
            "Epoch 46/100\n",
            "87/87 [==============================] - 32s 367ms/step - loss: 0.1399 - accuracy: 0.9975 - get_f1: 0.9854 - val_loss: 0.2168 - val_accuracy: 0.9670 - val_get_f1: 0.7494\n",
            "Epoch 47/100\n",
            "87/87 [==============================] - 32s 367ms/step - loss: 0.1031 - accuracy: 0.9996 - get_f1: 0.9962 - val_loss: 0.3403 - val_accuracy: 0.9670 - val_get_f1: 0.8427\n",
            "Epoch 48/100\n",
            "87/87 [==============================] - 32s 367ms/step - loss: 0.1107 - accuracy: 0.9996 - get_f1: 0.9885 - val_loss: 0.2035 - val_accuracy: 0.9641 - val_get_f1: 0.7869\n",
            "Epoch 49/100\n",
            "87/87 [==============================] - 32s 366ms/step - loss: 0.0954 - accuracy: 1.0000 - get_f1: 1.0000 - val_loss: 0.1870 - val_accuracy: 0.9698 - val_get_f1: 0.7974\n",
            "Epoch 50/100\n",
            "87/87 [==============================] - 32s 367ms/step - loss: 0.1048 - accuracy: 0.9996 - get_f1: 0.9760 - val_loss: 0.4693 - val_accuracy: 0.9698 - val_get_f1: 0.8002\n",
            "Epoch 51/100\n",
            "87/87 [==============================] - 32s 366ms/step - loss: 0.2184 - accuracy: 0.9935 - get_f1: 0.9597 - val_loss: 0.2685 - val_accuracy: 0.9310 - val_get_f1: 0.4818\n",
            "Epoch 52/100\n",
            "87/87 [==============================] - 32s 367ms/step - loss: 0.0968 - accuracy: 1.0000 - get_f1: 1.0000 - val_loss: 0.2009 - val_accuracy: 0.9641 - val_get_f1: 0.7387\n",
            "Epoch 53/100\n",
            "87/87 [==============================] - 32s 366ms/step - loss: 0.1162 - accuracy: 1.0000 - get_f1: 0.9885 - val_loss: 0.3062 - val_accuracy: 0.9698 - val_get_f1: 0.8134\n",
            "Epoch 54/100\n",
            "87/87 [==============================] - ETA: 0s - loss: 0.0976 - accuracy: 0.9996 - get_f1: 0.9847"
          ],
          "name": "stdout"
        }
      ]
    },
    {
      "cell_type": "code",
      "metadata": {
        "id": "xdrLBu-dCItY"
      },
      "source": [
        ""
      ],
      "execution_count": null,
      "outputs": []
    },
    {
      "cell_type": "markdown",
      "metadata": {
        "id": "Xi5uSJALCJP7"
      },
      "source": [
        "#### **Grad-CAM**"
      ]
    },
    {
      "cell_type": "code",
      "metadata": {
        "id": "IZaJWsWqCQTV"
      },
      "source": [
        "from tensorflow.keras.preprocessing.image import img_to_array\n",
        "from tensorflow.keras.preprocessing.image import load_img\n",
        "from tensorflow.keras.applications import imagenet_utils\n",
        "import matplotlib.pyplot as plt\n",
        "import numpy as np\n",
        "import argparse\n",
        "import imutils\n",
        "import cv2"
      ],
      "execution_count": null,
      "outputs": []
    },
    {
      "cell_type": "markdown",
      "metadata": {
        "id": "lByhXxqwCZSz"
      },
      "source": [
        "#### **Function to display images**"
      ]
    },
    {
      "cell_type": "code",
      "metadata": {
        "id": "CoAUOIdOCWNb"
      },
      "source": [
        "def plt_imshow(title, image):\n",
        "\t# convert the image frame BGR to RGB color space and display it\n",
        "\timage = cv2.cvtColor(image, cv2.COLOR_BGR2RGB)\n",
        "\tplt.imshow(image)\n",
        "\tplt.title(title)\n",
        "\tplt.grid(False)\n",
        "\tplt.show()"
      ],
      "execution_count": null,
      "outputs": []
    },
    {
      "cell_type": "markdown",
      "metadata": {
        "id": "SSlOk2CnCkZr"
      },
      "source": [
        "##**Arguement Parser**"
      ]
    },
    {
      "cell_type": "markdown",
      "metadata": {
        "id": "R534-qZlXuJo"
      },
      "source": [
        "********************************************"
      ]
    },
    {
      "cell_type": "markdown",
      "metadata": {
        "id": "WD6y0Z2iwXob"
      },
      "source": [
        "####**DenseNet169**"
      ]
    },
    {
      "cell_type": "markdown",
      "metadata": {
        "id": "05qi6UUfwvtU"
      },
      "source": [
        "******************************************************************************"
      ]
    },
    {
      "cell_type": "code",
      "metadata": {
        "id": "ZUhGIMdjV8Sv"
      },
      "source": [
        "from tensorflow.keras.applications import DenseNet169"
      ],
      "execution_count": 49,
      "outputs": []
    },
    {
      "cell_type": "code",
      "metadata": {
        "id": "iDuQRL6Q01AY"
      },
      "source": [
        "def build_model():\n",
        "    model = Sequential()\n",
        "    \n",
        "    conv_base = DenseNet169(input_shape=(224,224,3), include_top=False, pooling='max',weights='imagenet')\n",
        "    model.add(conv_base)\n",
        "    model.add(BatchNormalization())\n",
        "    model.add(Dense(2048, activation='relu',  kernel_regularizer=l1_l2(0.01)))\n",
        "    model.add(BatchNormalization())\n",
        "    # model.add(Dense(2048, activation='relu',  kernel_regularizer=l1_l2(0.01)))\n",
        "    # model.add(BatchNormalization())\n",
        "    # model.add(Dense(2048, activation='relu',  kernel_regularizer=l1_l2(0.01)))\n",
        "    # model.add(BatchNormalization())\n",
        "    # model.add(Dense(1024, activation='relu', kernel_regularizer=l1_l2(0.01)))\n",
        "    # model.add(BatchNormalization())\n",
        "    model.add(Dense(1, activation='sigmoid'))\n",
        "    for layer in model.layers:\n",
        "      layer.trainable = True\n",
        "    #train_layers = [layer for layer in conv_base.layers[::-1][:5]]\n",
        "    \"\"\"\n",
        "    for layer in conv_base.layers:\n",
        "      if layer in train_layers:\n",
        "        layer.trainable = True\n",
        "    \"\"\"\n",
        "    model.compile(loss='binary_crossentropy', optimizer=Adam(lr=1e-4), metrics=['accuracy',get_f1])\n",
        "    \n",
        "    return model\n"
      ],
      "execution_count": 56,
      "outputs": []
    },
    {
      "cell_type": "code",
      "metadata": {
        "colab": {
          "base_uri": "https://localhost:8080/"
        },
        "id": "ekmJ1QQTW3lX",
        "outputId": "2de55c7e-11ba-4bf4-8ef3-be392248abb3"
      },
      "source": [
        "model = build_model()\n",
        "model.summary()"
      ],
      "execution_count": 57,
      "outputs": [
        {
          "output_type": "stream",
          "text": [
            "Model: \"sequential_8\"\n",
            "_________________________________________________________________\n",
            "Layer (type)                 Output Shape              Param #   \n",
            "=================================================================\n",
            "densenet169 (Functional)     (None, 1664)              12642880  \n",
            "_________________________________________________________________\n",
            "batch_normalization_9 (Batch (None, 1664)              6656      \n",
            "_________________________________________________________________\n",
            "dense_9 (Dense)              (None, 2048)              3409920   \n",
            "_________________________________________________________________\n",
            "batch_normalization_10 (Batc (None, 2048)              8192      \n",
            "_________________________________________________________________\n",
            "dense_10 (Dense)             (None, 1)                 2049      \n",
            "=================================================================\n",
            "Total params: 16,069,697\n",
            "Trainable params: 15,903,873\n",
            "Non-trainable params: 165,824\n",
            "_________________________________________________________________\n"
          ],
          "name": "stdout"
        }
      ]
    },
    {
      "cell_type": "code",
      "metadata": {
        "colab": {
          "base_uri": "https://localhost:8080/"
        },
        "id": "QmBQvrBNXAf5",
        "outputId": "fdeee8c2-5bd5-49e5-f359-fffa51785531"
      },
      "source": [
        "history = model.fit(train_generator,steps_per_epoch=87,epochs=100,validation_data=val_generator,validation_steps=22,callbacks=[cbs],class_weight={0:1,1:2})"
      ],
      "execution_count": 58,
      "outputs": [
        {
          "output_type": "stream",
          "text": [
            "Epoch 1/100\n",
            "87/87 [==============================] - 39s 445ms/step - loss: 569.1625 - accuracy: 0.7183 - get_f1: 0.4213 - val_loss: 441.0738 - val_accuracy: 0.6710 - val_get_f1: 0.3286\n",
            "Epoch 2/100\n",
            "87/87 [==============================] - 37s 429ms/step - loss: 336.5071 - accuracy: 0.8875 - get_f1: 0.6592 - val_loss: 241.0844 - val_accuracy: 0.3621 - val_get_f1: 0.2622\n",
            "Epoch 3/100\n",
            "87/87 [==============================] - 38s 434ms/step - loss: 167.0620 - accuracy: 0.9486 - get_f1: 0.8030 - val_loss: 102.9701 - val_accuracy: 0.6293 - val_get_f1: 0.3616\n",
            "Epoch 4/100\n",
            "87/87 [==============================] - 38s 440ms/step - loss: 59.4338 - accuracy: 0.9508 - get_f1: 0.7994 - val_loss: 25.8306 - val_accuracy: 0.8678 - val_get_f1: 0.6101\n",
            "Epoch 5/100\n",
            "87/87 [==============================] - 38s 441ms/step - loss: 13.1050 - accuracy: 0.8987 - get_f1: 0.6801 - val_loss: 20.6674 - val_accuracy: 0.5330 - val_get_f1: 0.3263\n",
            "Epoch 6/100\n",
            "87/87 [==============================] - 39s 445ms/step - loss: 3.7273 - accuracy: 0.9457 - get_f1: 0.7723 - val_loss: 3.2547 - val_accuracy: 0.8491 - val_get_f1: 0.5702\n",
            "Epoch 7/100\n",
            "87/87 [==============================] - 39s 445ms/step - loss: 1.7817 - accuracy: 0.9630 - get_f1: 0.8209 - val_loss: 2.8104 - val_accuracy: 0.9655 - val_get_f1: 0.7812\n",
            "Epoch 8/100\n",
            "87/87 [==============================] - 39s 446ms/step - loss: 1.4487 - accuracy: 0.9731 - get_f1: 0.8779 - val_loss: 1.1141 - val_accuracy: 0.9583 - val_get_f1: 0.8455\n",
            "Epoch 9/100\n",
            "87/87 [==============================] - 39s 446ms/step - loss: 1.2148 - accuracy: 0.9770 - get_f1: 0.8753 - val_loss: 1.0956 - val_accuracy: 0.9468 - val_get_f1: 0.6955\n",
            "Epoch 10/100\n",
            "87/87 [==============================] - 39s 446ms/step - loss: 0.8323 - accuracy: 0.9820 - get_f1: 0.9025 - val_loss: 0.8068 - val_accuracy: 0.9555 - val_get_f1: 0.7479\n",
            "Epoch 11/100\n",
            "87/87 [==============================] - 39s 445ms/step - loss: 0.6799 - accuracy: 0.9935 - get_f1: 0.9627 - val_loss: 0.8597 - val_accuracy: 0.9411 - val_get_f1: 0.5949\n",
            "Epoch 12/100\n",
            "87/87 [==============================] - 39s 445ms/step - loss: 0.4107 - accuracy: 0.9917 - get_f1: 0.9412 - val_loss: 0.4425 - val_accuracy: 0.9670 - val_get_f1: 0.7205\n",
            "Epoch 13/100\n",
            "87/87 [==============================] - 39s 445ms/step - loss: 0.2801 - accuracy: 0.9996 - get_f1: 0.9847 - val_loss: 0.3639 - val_accuracy: 0.9583 - val_get_f1: 0.8022\n",
            "Epoch 14/100\n",
            "87/87 [==============================] - 39s 446ms/step - loss: 0.2927 - accuracy: 0.9964 - get_f1: 0.9669 - val_loss: 0.3549 - val_accuracy: 0.9612 - val_get_f1: 0.8239\n",
            "Epoch 15/100\n",
            "87/87 [==============================] - 39s 446ms/step - loss: 0.2717 - accuracy: 0.9957 - get_f1: 0.9444 - val_loss: 0.5078 - val_accuracy: 0.9698 - val_get_f1: 0.8723\n",
            "Epoch 16/100\n",
            "87/87 [==============================] - 39s 445ms/step - loss: 0.1950 - accuracy: 0.9989 - get_f1: 0.9732 - val_loss: 0.2530 - val_accuracy: 0.9641 - val_get_f1: 0.8519\n",
            "Epoch 17/100\n",
            "87/87 [==============================] - 39s 445ms/step - loss: 0.1900 - accuracy: 0.9975 - get_f1: 0.9579 - val_loss: 0.3151 - val_accuracy: 0.9569 - val_get_f1: 0.7232\n",
            "Epoch 18/100\n",
            "87/87 [==============================] - 39s 445ms/step - loss: 0.1253 - accuracy: 0.9989 - get_f1: 0.9839 - val_loss: 0.2070 - val_accuracy: 0.9583 - val_get_f1: 0.7989\n",
            "Epoch 19/100\n",
            "87/87 [==============================] - 39s 446ms/step - loss: 0.1141 - accuracy: 0.9993 - get_f1: 0.9839 - val_loss: 0.2097 - val_accuracy: 0.9583 - val_get_f1: 0.8357\n",
            "Epoch 20/100\n",
            "87/87 [==============================] - 39s 446ms/step - loss: 0.1082 - accuracy: 0.9978 - get_f1: 0.9642 - val_loss: 0.2184 - val_accuracy: 0.9655 - val_get_f1: 0.8207\n",
            "Epoch 21/100\n",
            "87/87 [==============================] - 39s 447ms/step - loss: 0.1050 - accuracy: 0.9996 - get_f1: 0.9993 - val_loss: 0.1940 - val_accuracy: 0.9598 - val_get_f1: 0.8303\n",
            "Epoch 22/100\n",
            "87/87 [==============================] - 39s 445ms/step - loss: 0.1075 - accuracy: 0.9986 - get_f1: 0.9310 - val_loss: 0.2028 - val_accuracy: 0.9583 - val_get_f1: 0.7900\n",
            "Epoch 23/100\n",
            "87/87 [==============================] - 39s 445ms/step - loss: 0.1026 - accuracy: 0.9978 - get_f1: 0.9649 - val_loss: 0.1870 - val_accuracy: 0.9626 - val_get_f1: 0.7536\n",
            "Epoch 24/100\n",
            "87/87 [==============================] - 39s 445ms/step - loss: 0.1023 - accuracy: 0.9993 - get_f1: 0.9540 - val_loss: 0.1837 - val_accuracy: 0.9612 - val_get_f1: 0.7863\n",
            "Epoch 25/100\n",
            "87/87 [==============================] - 39s 446ms/step - loss: 0.0934 - accuracy: 0.9996 - get_f1: 0.9770 - val_loss: 0.1740 - val_accuracy: 0.9598 - val_get_f1: 0.8092\n",
            "Epoch 26/100\n",
            "87/87 [==============================] - 39s 445ms/step - loss: 0.0923 - accuracy: 0.9996 - get_f1: 0.9763 - val_loss: 0.1762 - val_accuracy: 0.9598 - val_get_f1: 0.7898\n",
            "Epoch 27/100\n",
            "87/87 [==============================] - 39s 446ms/step - loss: 0.1056 - accuracy: 0.9975 - get_f1: 0.9682 - val_loss: 0.1764 - val_accuracy: 0.9641 - val_get_f1: 0.8155\n",
            "Epoch 28/100\n",
            "87/87 [==============================] - 39s 445ms/step - loss: 0.0902 - accuracy: 1.0000 - get_f1: 1.0000 - val_loss: 0.1999 - val_accuracy: 0.9670 - val_get_f1: 0.8365\n",
            "Epoch 29/100\n",
            "87/87 [==============================] - 39s 445ms/step - loss: 0.1140 - accuracy: 0.9975 - get_f1: 0.9728 - val_loss: 0.1687 - val_accuracy: 0.9598 - val_get_f1: 0.8275\n",
            "Epoch 30/100\n",
            "87/87 [==============================] - 39s 446ms/step - loss: 0.0845 - accuracy: 1.0000 - get_f1: 1.0000 - val_loss: 0.1669 - val_accuracy: 0.9598 - val_get_f1: 0.8057\n",
            "Epoch 31/100\n",
            "87/87 [==============================] - 39s 445ms/step - loss: 0.0907 - accuracy: 0.9989 - get_f1: 0.9540 - val_loss: 0.1676 - val_accuracy: 0.9583 - val_get_f1: 0.7360\n",
            "Epoch 32/100\n",
            "87/87 [==============================] - 39s 446ms/step - loss: 0.0922 - accuracy: 0.9989 - get_f1: 0.9540 - val_loss: 0.1795 - val_accuracy: 0.9569 - val_get_f1: 0.8018\n",
            "Epoch 33/100\n",
            "87/87 [==============================] - 39s 445ms/step - loss: 0.0880 - accuracy: 1.0000 - get_f1: 0.9770 - val_loss: 0.1683 - val_accuracy: 0.9626 - val_get_f1: 0.8097\n",
            "Epoch 34/100\n",
            "87/87 [==============================] - 39s 444ms/step - loss: 0.0845 - accuracy: 1.0000 - get_f1: 0.9885 - val_loss: 0.1679 - val_accuracy: 0.9641 - val_get_f1: 0.8047\n",
            "Epoch 35/100\n",
            "87/87 [==============================] - 39s 445ms/step - loss: 0.0839 - accuracy: 0.9996 - get_f1: 0.9885 - val_loss: 0.2108 - val_accuracy: 0.9670 - val_get_f1: 0.8256\n",
            "Epoch 36/100\n",
            "87/87 [==============================] - 39s 445ms/step - loss: 0.0856 - accuracy: 1.0000 - get_f1: 0.9885 - val_loss: 0.1973 - val_accuracy: 0.9655 - val_get_f1: 0.8324\n",
            "Epoch 37/100\n",
            "87/87 [==============================] - 39s 444ms/step - loss: 0.1032 - accuracy: 0.9986 - get_f1: 0.9732 - val_loss: 0.2136 - val_accuracy: 0.9626 - val_get_f1: 0.8528\n",
            "Epoch 38/100\n",
            "87/87 [==============================] - 39s 444ms/step - loss: 0.0870 - accuracy: 0.9996 - get_f1: 0.9770 - val_loss: 0.1773 - val_accuracy: 0.9626 - val_get_f1: 0.8147\n",
            "Epoch 39/100\n",
            "87/87 [==============================] - 39s 444ms/step - loss: 0.0825 - accuracy: 1.0000 - get_f1: 1.0000 - val_loss: 0.1682 - val_accuracy: 0.9612 - val_get_f1: 0.8380\n",
            "Epoch 40/100\n",
            "87/87 [==============================] - 39s 444ms/step - loss: 0.0929 - accuracy: 0.9989 - get_f1: 0.9645 - val_loss: 0.1645 - val_accuracy: 0.9598 - val_get_f1: 0.7250\n",
            "Epoch 41/100\n",
            "87/87 [==============================] - 39s 445ms/step - loss: 0.0911 - accuracy: 0.9996 - get_f1: 0.9962 - val_loss: 0.2117 - val_accuracy: 0.9655 - val_get_f1: 0.8360\n",
            "Epoch 42/100\n",
            "87/87 [==============================] - 39s 445ms/step - loss: 0.0815 - accuracy: 1.0000 - get_f1: 0.9885 - val_loss: 0.1627 - val_accuracy: 0.9612 - val_get_f1: 0.8322\n",
            "Epoch 43/100\n",
            "87/87 [==============================] - 39s 445ms/step - loss: 0.0830 - accuracy: 1.0000 - get_f1: 1.0000 - val_loss: 0.1638 - val_accuracy: 0.9641 - val_get_f1: 0.8257\n",
            "Epoch 44/100\n",
            "87/87 [==============================] - 39s 444ms/step - loss: 0.0787 - accuracy: 1.0000 - get_f1: 0.9885 - val_loss: 0.1642 - val_accuracy: 0.9655 - val_get_f1: 0.8325\n",
            "Epoch 45/100\n",
            "87/87 [==============================] - 39s 444ms/step - loss: 0.0791 - accuracy: 1.0000 - get_f1: 1.0000 - val_loss: 0.1585 - val_accuracy: 0.9598 - val_get_f1: 0.8216\n",
            "Epoch 46/100\n",
            "87/87 [==============================] - 39s 444ms/step - loss: 0.0836 - accuracy: 0.9996 - get_f1: 0.9993 - val_loss: 0.1682 - val_accuracy: 0.9612 - val_get_f1: 0.7984\n",
            "Epoch 47/100\n",
            "87/87 [==============================] - 39s 445ms/step - loss: 0.0751 - accuracy: 1.0000 - get_f1: 0.9885 - val_loss: 0.1758 - val_accuracy: 0.9612 - val_get_f1: 0.8179\n",
            "Epoch 48/100\n",
            "87/87 [==============================] - 39s 444ms/step - loss: 0.0810 - accuracy: 1.0000 - get_f1: 0.9770 - val_loss: 0.2867 - val_accuracy: 0.9713 - val_get_f1: 0.8797\n",
            "Epoch 49/100\n",
            "87/87 [==============================] - 39s 445ms/step - loss: 0.0998 - accuracy: 0.9978 - get_f1: 0.9534 - val_loss: 0.2532 - val_accuracy: 0.9741 - val_get_f1: 0.8728\n",
            "Epoch 50/100\n",
            "87/87 [==============================] - 39s 445ms/step - loss: 0.0835 - accuracy: 0.9996 - get_f1: 0.9885 - val_loss: 0.1698 - val_accuracy: 0.9598 - val_get_f1: 0.8268\n",
            "Epoch 51/100\n",
            "87/87 [==============================] - 39s 445ms/step - loss: 0.0772 - accuracy: 1.0000 - get_f1: 1.0000 - val_loss: 0.1548 - val_accuracy: 0.9598 - val_get_f1: 0.7368\n",
            "Epoch 52/100\n",
            "87/87 [==============================] - 39s 446ms/step - loss: 0.0754 - accuracy: 1.0000 - get_f1: 1.0000 - val_loss: 0.1542 - val_accuracy: 0.9598 - val_get_f1: 0.7969\n",
            "Epoch 53/100\n",
            "87/87 [==============================] - 39s 447ms/step - loss: 0.1210 - accuracy: 0.9971 - get_f1: 0.9742 - val_loss: 0.2056 - val_accuracy: 0.9698 - val_get_f1: 0.8677\n",
            "Epoch 54/100\n",
            "87/87 [==============================] - 39s 447ms/step - loss: 0.0886 - accuracy: 1.0000 - get_f1: 0.9770 - val_loss: 0.1560 - val_accuracy: 0.9641 - val_get_f1: 0.8049\n",
            "Epoch 55/100\n",
            "87/87 [==============================] - 39s 446ms/step - loss: 0.0960 - accuracy: 0.9986 - get_f1: 0.9770 - val_loss: 0.1753 - val_accuracy: 0.9598 - val_get_f1: 0.7075\n",
            "Epoch 56/100\n",
            "87/87 [==============================] - 39s 446ms/step - loss: 0.0746 - accuracy: 1.0000 - get_f1: 0.9885 - val_loss: 0.1611 - val_accuracy: 0.9626 - val_get_f1: 0.8070\n",
            "Epoch 57/100\n",
            "87/87 [==============================] - 39s 446ms/step - loss: 0.0744 - accuracy: 1.0000 - get_f1: 1.0000 - val_loss: 0.1757 - val_accuracy: 0.9641 - val_get_f1: 0.7689\n",
            "Epoch 58/100\n",
            "87/87 [==============================] - 39s 447ms/step - loss: 0.0777 - accuracy: 1.0000 - get_f1: 1.0000 - val_loss: 0.1646 - val_accuracy: 0.9612 - val_get_f1: 0.7903\n",
            "Epoch 59/100\n",
            "87/87 [==============================] - 39s 446ms/step - loss: 0.0719 - accuracy: 0.9996 - get_f1: 0.9885 - val_loss: 0.1572 - val_accuracy: 0.9641 - val_get_f1: 0.8250\n",
            "Epoch 60/100\n",
            "87/87 [==============================] - 39s 446ms/step - loss: 0.0975 - accuracy: 0.9978 - get_f1: 0.9765 - val_loss: 0.1724 - val_accuracy: 0.9626 - val_get_f1: 0.8555\n",
            "Epoch 61/100\n",
            "87/87 [==============================] - 39s 446ms/step - loss: 0.0892 - accuracy: 0.9982 - get_f1: 0.9765 - val_loss: 0.1550 - val_accuracy: 0.9626 - val_get_f1: 0.7989\n",
            "Epoch 62/100\n",
            "87/87 [==============================] - 39s 447ms/step - loss: 0.0765 - accuracy: 0.9996 - get_f1: 0.9770 - val_loss: 0.1896 - val_accuracy: 0.9698 - val_get_f1: 0.8690\n",
            "Epoch 00062: early stopping\n"
          ],
          "name": "stdout"
        }
      ]
    },
    {
      "cell_type": "markdown",
      "metadata": {
        "id": "HgIKuX0IwzET"
      },
      "source": [
        "******************************************************************************"
      ]
    },
    {
      "cell_type": "markdown",
      "metadata": {
        "id": "VStMxBgGjBhK"
      },
      "source": [
        "#### **Evaluation of the model**"
      ]
    },
    {
      "cell_type": "code",
      "metadata": {
        "id": "nF9MUW5egKE0",
        "outputId": "9aea8d8b-508c-4b85-cc1a-abb9a7023277",
        "colab": {
          "base_uri": "https://localhost:8080/"
        }
      },
      "source": [
        "preds =  model.predict(X_val/255.0)\n",
        "predictions = []\n",
        "for i in preds:\n",
        "  if i[0] > 0.5:\n",
        "    predictions.append(1)\n",
        "  else:\n",
        "    predictions.append(0)\n",
        "\n",
        "#\n",
        "from sklearn.metrics import f1_score\n",
        "f1_score(y_val,predictions)"
      ],
      "execution_count": 59,
      "outputs": [
        {
          "output_type": "execute_result",
          "data": {
            "text/plain": [
              "0.8727272727272727"
            ]
          },
          "metadata": {
            "tags": []
          },
          "execution_count": 59
        }
      ]
    },
    {
      "cell_type": "code",
      "metadata": {
        "id": "fF5htOyo4vFP",
        "outputId": "1ac3b287-1e54-4d55-e791-6f83ac414c12",
        "colab": {
          "base_uri": "https://localhost:8080/",
          "height": 286
        }
      },
      "source": [
        "import seaborn as sns\n",
        "from sklearn.metrics import confusion_matrix\n",
        "sns.heatmap(confusion_matrix(y_val,predictions),annot=True,fmt=\".2f\")"
      ],
      "execution_count": 60,
      "outputs": [
        {
          "output_type": "execute_result",
          "data": {
            "text/plain": [
              "<matplotlib.axes._subplots.AxesSubplot at 0x7fbcb66e94a8>"
            ]
          },
          "metadata": {
            "tags": []
          },
          "execution_count": 60
        },
        {
          "output_type": "display_data",
          "data": {
            "image/png": "[encoded data removed]",
            "text/plain": [
              "<Figure size 432x288 with 2 Axes>"
            ]
          },
          "metadata": {
            "tags": [],
            "needs_background": "light"
          }
        }
      ]
    },
    {
      "cell_type": "markdown",
      "metadata": {
        "id": "nhMIjitDjNRq"
      },
      "source": [
        "#### **Predict on the resultset**"
      ]
    },
    {
      "cell_type": "code",
      "metadata": {
        "id": "HHFtgxq3jTKo"
      },
      "source": [
        "preds = model.predict(test_pixel_data)\n",
        "#\n",
        "predictions = []\n",
        "for i in preds:\n",
        "  if i[0] > 0.5:\n",
        "    predictions.append(1)\n",
        "  else:\n",
        "    predictions.append(0)\n",
        "#\n",
        "result = pd.DataFrame(predictions,columns=['prediction'])\n",
        "#\n",
        "result.value_counts()\n",
        "#\n",
        "result.to_csv('denseNet169_full_trained.csv',index=False)"
      ],
      "execution_count": 61,
      "outputs": []
    },
    {
      "cell_type": "code",
      "metadata": {
        "id": "TC2RQXjS5HZJ",
        "outputId": "d1d44568-8a20-4e37-e421-057362ed665d",
        "colab": {
          "base_uri": "https://localhost:8080/"
        }
      },
      "source": [
        "result.value_counts()"
      ],
      "execution_count": 62,
      "outputs": [
        {
          "output_type": "execute_result",
          "data": {
            "text/plain": [
              "prediction\n",
              "0             758\n",
              "1             112\n",
              "dtype: int64"
            ]
          },
          "metadata": {
            "tags": []
          },
          "execution_count": 62
        }
      ]
    },
    {
      "cell_type": "markdown",
      "metadata": {
        "id": "vh3a-_E95Z-8"
      },
      "source": [
        "#### **Dphi Scores :86.91588785046729 for Densenet169**"
      ]
    }
  ]
}