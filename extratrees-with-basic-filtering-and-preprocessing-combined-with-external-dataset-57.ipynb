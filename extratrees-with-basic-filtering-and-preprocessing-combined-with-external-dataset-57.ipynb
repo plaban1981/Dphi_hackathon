{
 "cells": [
  {
   "cell_type": "markdown",
   "metadata": {},
   "source": [
    "# Insure your life with medical insurance\n",
    "> Health Insurance is a type of insurance that offers coverage to the policy holder for medical expenses in case of a health emergency. A health insurance plan chosen by the insured provides coverage for different expenses including surgical expenses, day-care expenses, and critical illness etc."
   ]
  },
  {
   "cell_type": "markdown",
   "metadata": {},
   "source": [
    "# Importing dependencies"
   ]
  },
  {
   "cell_type": "code",
   "execution_count": 74,
   "metadata": {
    "id": "SLDkU8VtZiFx"
   },
   "outputs": [],
   "source": [
    "import pandas as pd\n",
    "import seaborn as sns\n",
    "import numpy as np\n",
    "from sklearn.ensemble import ExtraTreesRegressor\n",
    "from sklearn.model_selection import train_test_split\n",
    "import matplotlib.pyplot as plt\n",
    "import pandas as pd"
   ]
  },
  {
   "cell_type": "markdown",
   "metadata": {},
   "source": [
    "# Loading data"
   ]
  },
  {
   "cell_type": "code",
   "execution_count": 75,
   "metadata": {
    "colab": {
     "base_uri": "https://localhost:8080/",
     "height": 206
    },
    "id": "Dytt0rDWZprZ",
    "outputId": "4a0ad731-5592-43be-fa79-fedb93a88b0d"
   },
   "outputs": [
    {
     "data": {
      "text/html": [
       "<div>\n",
       "<style scoped>\n",
       "    .dataframe tbody tr th:only-of-type {\n",
       "        vertical-align: middle;\n",
       "    }\n",
       "\n",
       "    .dataframe tbody tr th {\n",
       "        vertical-align: top;\n",
       "    }\n",
       "\n",
       "    .dataframe thead th {\n",
       "        text-align: right;\n",
       "    }\n",
       "</style>\n",
       "<table border=\"1\" class=\"dataframe\">\n",
       "  <thead>\n",
       "    <tr style=\"text-align: right;\">\n",
       "      <th></th>\n",
       "      <th>age</th>\n",
       "      <th>sex</th>\n",
       "      <th>bmi</th>\n",
       "      <th>smoker</th>\n",
       "      <th>region</th>\n",
       "      <th>children</th>\n",
       "      <th>charges</th>\n",
       "    </tr>\n",
       "  </thead>\n",
       "  <tbody>\n",
       "    <tr>\n",
       "      <th>0</th>\n",
       "      <td>21.000000</td>\n",
       "      <td>male</td>\n",
       "      <td>25.745000</td>\n",
       "      <td>no</td>\n",
       "      <td>northeast</td>\n",
       "      <td>2</td>\n",
       "      <td>3279.868550</td>\n",
       "    </tr>\n",
       "    <tr>\n",
       "      <th>1</th>\n",
       "      <td>36.976978</td>\n",
       "      <td>female</td>\n",
       "      <td>25.744165</td>\n",
       "      <td>yes</td>\n",
       "      <td>southeast</td>\n",
       "      <td>3</td>\n",
       "      <td>21454.494239</td>\n",
       "    </tr>\n",
       "    <tr>\n",
       "      <th>2</th>\n",
       "      <td>18.000000</td>\n",
       "      <td>male</td>\n",
       "      <td>30.030000</td>\n",
       "      <td>no</td>\n",
       "      <td>southeast</td>\n",
       "      <td>1</td>\n",
       "      <td>1720.353700</td>\n",
       "    </tr>\n",
       "    <tr>\n",
       "      <th>3</th>\n",
       "      <td>37.000000</td>\n",
       "      <td>male</td>\n",
       "      <td>30.676891</td>\n",
       "      <td>no</td>\n",
       "      <td>northeast</td>\n",
       "      <td>3</td>\n",
       "      <td>6801.437542</td>\n",
       "    </tr>\n",
       "    <tr>\n",
       "      <th>4</th>\n",
       "      <td>58.000000</td>\n",
       "      <td>male</td>\n",
       "      <td>32.010000</td>\n",
       "      <td>no</td>\n",
       "      <td>southeast</td>\n",
       "      <td>1</td>\n",
       "      <td>11946.625900</td>\n",
       "    </tr>\n",
       "  </tbody>\n",
       "</table>\n",
       "</div>"
      ],
      "text/plain": [
       "         age     sex        bmi smoker     region  children       charges\n",
       "0  21.000000    male  25.745000     no  northeast         2   3279.868550\n",
       "1  36.976978  female  25.744165    yes  southeast         3  21454.494239\n",
       "2  18.000000    male  30.030000     no  southeast         1   1720.353700\n",
       "3  37.000000    male  30.676891     no  northeast         3   6801.437542\n",
       "4  58.000000    male  32.010000     no  southeast         1  11946.625900"
      ]
     },
     "execution_count": 75,
     "metadata": {},
     "output_type": "execute_result"
    }
   ],
   "source": [
    "# load train data\n",
    "df = pd.read_csv(\"./Train_Data.csv\")\n",
    "# load test data\n",
    "df_test = pd.read_csv(\"./Test_Data.csv\")\n",
    "fields = df.columns\n",
    "\n",
    "# load kaggle data available here https://www.kaggle.com/mirichoi0218/insurance\n",
    "df_kaggle = pd.read_csv(\"insurance.csv\")\n",
    "\n",
    "# align kaggle dataframe columns with that of competition columns\n",
    "df_kaggle = df_kaggle[fields]\n",
    "\n",
    "# full outer join\n",
    "df = pd.concat([df, df_kaggle])\n",
    "df.head()"
   ]
  },
  {
   "cell_type": "markdown",
   "metadata": {},
   "source": [
    "# Removing  Duplicate Rows (*offers significant boost on leaderboard)"
   ]
  },
  {
   "cell_type": "code",
   "execution_count": 76,
   "metadata": {},
   "outputs": [],
   "source": [
    "df.drop_duplicates(keep='first', inplace=True) # There are total of 1733 duplicated rows"
   ]
  },
  {
   "cell_type": "markdown",
   "metadata": {},
   "source": [
    "# Round off age value in competition data(*offers significant boost on leaderboard)\n",
    "\n",
    "As competition data contains floating values for age, we will just round it off to make it integer (to match kaggle data). I have tried taking floor and ceil values as well, didn't work better than rounding it off.\n"
   ]
  },
  {
   "cell_type": "code",
   "execution_count": 77,
   "metadata": {},
   "outputs": [],
   "source": [
    "# round off the age columns for train and test set\n",
    "df[\"age\"] = df.age.round()\n",
    "df_test[\"age\"] = df_test.age.round()"
   ]
  },
  {
   "cell_type": "markdown",
   "metadata": {},
   "source": [
    "# Graphical analysis"
   ]
  },
  {
   "cell_type": "code",
   "execution_count": 78,
   "metadata": {
    "colab": {
     "base_uri": "https://localhost:8080/",
     "height": 1000
    },
    "id": "rt9ODZx_aO4u",
    "outputId": "64355e0b-b9a0-4a8e-9479-7028a574dac1"
   },
   "outputs": [
    {
     "data": {
      "text/plain": [
       "<seaborn.axisgrid.FacetGrid at 0x21488efaf10>"
      ]
     },
     "execution_count": 78,
     "metadata": {},
     "output_type": "execute_result"
    },
    {
     "data": {
      "image/png": "[encoded data removed]",
      "text/plain": [
       "<Figure size 360x360 with 1 Axes>"
      ]
     },
     "metadata": {
      "needs_background": "light"
     },
     "output_type": "display_data"
    },
    {
     "data": {
      "image/png": "[encoded data removed]",
      "text/plain": [
       "<Figure size 360x360 with 1 Axes>"
      ]
     },
     "metadata": {
      "needs_background": "light"
     },
     "output_type": "display_data"
    },
    {
     "data": {
      "image/png": "[encoded data removed]",
      "text/plain": [
       "<Figure size 360x360 with 1 Axes>"
      ]
     },
     "metadata": {
      "needs_background": "light"
     },
     "output_type": "display_data"
    }
   ],
   "source": [
    "sns.displot(df.age)\n",
    "sns.displot(df.charges)\n",
    "sns.displot(df.bmi)"
   ]
  },
  {
   "cell_type": "markdown",
   "metadata": {
    "id": "6l2mNT3tpWkL"
   },
   "source": [
    "# Observation\n",
    "BMI body mass index is the ratio of weight to the height.\n",
    "> Adult Body Mass Index\n",
    "BMI is a person's weight in kilograms divided by the square of height in meters. A high BMI can indicate high body fatness\n",
    "\n",
    "* Age variable is roughly uniformly distribution\n",
    "* Charges variable is postively skewed (more occurence of smaller charges amount)\n",
    "* BMI is roughly normally distributed. (but it is not so normal, the values is centered at \"obese\" weight_status)\n",
    "\n",
    "(I wonder if we could somehow roughly estimate the weight and height of a person given BMI"
   ]
  },
  {
   "cell_type": "markdown",
   "metadata": {},
   "source": [
    "# Adding weight status feature\n",
    "We will group people based on BMI.\n",
    "underweight, normal, overweight and obese based on BMI value.\n",
    "\n",
    "Underweight: [0-18.5)\n",
    "\n",
    "Normal : [18.5, 25)\n",
    "\n",
    "Overweight : [25, 30)\n",
    "\n",
    "Obese : [30+]"
   ]
  },
  {
   "cell_type": "code",
   "execution_count": 79,
   "metadata": {
    "id": "sJq0vuu7aRNF"
   },
   "outputs": [],
   "source": [
    "def add_weight_status(df):\n",
    "  # grouping based on the body max index\n",
    "  col_list = [\"underweight\", \"normal\", \"overweight\", \"obese\"]\n",
    "  for col in col_list:\n",
    "    df[col] = 0\n",
    "  df[\"weight_status\"] = 0\n",
    "  # mark weight status\n",
    "  df.loc[df.bmi < 18.5, \"underweight\"] = 1\n",
    "  df.loc[df.bmi < 18.5, \"weight_status\"] = \"underweight\"\n",
    "\n",
    "  df.loc[(df.bmi >= 18.5) &  (df.bmi < 25), \"normal\"] = 1\n",
    "  df.loc[(df.bmi >= 18.5) &  (df.bmi < 25), \"weight_status\"] = \"normal\"\n",
    "\n",
    "  df.loc[(df.bmi >= 25) &  (df.bmi < 30), \"overweight\"] = 1\n",
    "  df.loc[(df.bmi >= 25) &  (df.bmi < 30), \"weight_status\"] = \"overweight\"\n",
    "\n",
    "  df.loc[(df.bmi >= 30), \"obese\"]= 1\n",
    "  df.loc[(df.bmi >= 30), \"weight_status\"]= \"obese\"\n",
    "\n",
    "# add weight status feature to train set\n",
    "add_weight_status(df)\n",
    "\n",
    "# add weight status  feature to test set\n",
    "add_weight_status(df_test)"
   ]
  },
  {
   "cell_type": "code",
   "execution_count": 80,
   "metadata": {
    "colab": {
     "base_uri": "https://localhost:8080/",
     "height": 352
    },
    "id": "FQx1Ppfdfsig",
    "outputId": "8720d9c2-aa97-4814-fe7e-ac02aa1a9171"
   },
   "outputs": [
    {
     "data": {
      "text/plain": [
       "<AxesSubplot:xlabel='weight_status', ylabel='count'>"
      ]
     },
     "execution_count": 80,
     "metadata": {},
     "output_type": "execute_result"
    },
    {
     "data": {
      "image/png": "[encoded data removed]",
      "text/plain": [
       "<Figure size 432x288 with 1 Axes>"
      ]
     },
     "metadata": {
      "needs_background": "light"
     },
     "output_type": "display_data"
    }
   ],
   "source": [
    "sns.countplot(x= df.weight_status)"
   ]
  },
  {
   "cell_type": "code",
   "execution_count": 81,
   "metadata": {
    "colab": {
     "base_uri": "https://localhost:8080/",
     "height": 401
    },
    "id": "FRKDXhAakDkX",
    "outputId": "32ba7787-ab5c-4d17-dfde-0c6db6e2dc24"
   },
   "outputs": [
    {
     "data": {
      "text/plain": [
       "<seaborn.axisgrid.FacetGrid at 0x21487c894f0>"
      ]
     },
     "execution_count": 81,
     "metadata": {},
     "output_type": "execute_result"
    },
    {
     "data": {
      "image/png": "[encoded data removed]",
      "text/plain": [
       "<Figure size 360x360 with 1 Axes>"
      ]
     },
     "metadata": {
      "needs_background": "light"
     },
     "output_type": "display_data"
    }
   ],
   "source": [
    "sns.catplot(y= \"charges\",x= \"weight_status\", data= df)"
   ]
  },
  {
   "cell_type": "markdown",
   "metadata": {
    "id": "GGQvZr8mldkQ"
   },
   "source": [
    " # Observation\n",
    " * This dataset has more instances of over weighted people (overweight + obese).\n",
    " * Weight status and charges are positively coorelated, Weight causes health problems and hence more charges(*overall).\n",
    " \n",
    " Here is a quote from [\"The Health Effects of Overweight and Obesity\"](https://www.cdc.gov/healthyweight/effects/index.html) article:\n",
    " \n",
    " > People who have obesity, compared to those with a normal or healthy weight, are at increased risk for many serious diseases and health conditions, including the following:\n",
    "    * All-causes of death (mortality)\n",
    "    * High blood pressure (Hypertension)\n",
    "    * High LDL cholesterol, low HDL cholesterol, or high levels of triglycerides (Dyslipidemia)\n",
    "    * Type 2 diabetes\n",
    "    * Coronary heart disease\n",
    "    * Stroke\n",
    "    * Gallbladder disease\n",
    "    * Osteoarthritis (a breakdown of cartilage and bone within a joint)\n",
    "    * Sleep apnea and breathing problems\n",
    "    * Many types of cancerexternal icon\n",
    "    * Low quality of life\n",
    "    * Mental illness such as clinical depression, anxiety, and other mental disorders\n",
    "    * Body pain and difficulty with physical functioning"
   ]
  },
  {
   "cell_type": "markdown",
   "metadata": {},
   "source": [
    "# Stages of life\n",
    "Everybody goes through stages of life. Its wonderful experience and each stage demands different version of you.\n",
    "\n",
    "We will group people based their age range.\n",
    "\n",
    "Infant: [0-2)\n",
    "\n",
    "Toddler : [2, 5)\n",
    "\n",
    "Child : [5, 13)\n",
    "\n",
    "Teen : [13- 20)\n",
    "\n",
    "Adult : [20, 40)\n",
    "\n",
    "Middle Age_Adult : [40, 60)\n",
    "\n",
    "Senior Adult : [60+]"
   ]
  },
  {
   "cell_type": "code",
   "execution_count": 82,
   "metadata": {
    "id": "zncqpIMm5yV5"
   },
   "outputs": [],
   "source": [
    "def add_stages_of_life(df):\n",
    "  # stages of life based on the age\n",
    "  col_list = [\"infant\", \"toddler\", \"child\", \"teen\", \"adult\", \"middle_age_adult\", \"senior_adult\"]\n",
    "  for col in col_list:\n",
    "    df[col] = 0\n",
    "  df[\"stage_of_life\"] = 0\n",
    "\n",
    "\n",
    "  df.loc[(df.age >= 0) & (df.age < 2), \"infant\"] = 1\n",
    "  df.loc[(df.age >= 0) & (df.age < 2), \"stage_of_life\"] = \"infant\"\n",
    "\n",
    "  df.loc[(df.age >= 2) & (df.age < 5), \"toddler\"] = 1\n",
    "  df.loc[(df.age >= 2) & (df.age < 5), \"stage_of_life\"] = \"toddler\"\n",
    "\n",
    "  df.loc[(df.age >= 5) & (df.age < 13), \"child\"] = 1\n",
    "  df.loc[(df.age >= 5) & (df.age < 13), \"stage_of_life\"] = \"child\"\n",
    "\n",
    "  df.loc[(df.age >= 13) & (df.age < 20), \"teen\"] = 1\n",
    "  df.loc[(df.age >= 13) & (df.age < 20), \"stage_of_life\"] = \"teen\"\n",
    "\n",
    "  df.loc[(df.age >= 20) &  (df.age < 40), \"adult\"] = 1\n",
    "  df.loc[(df.age >= 20) &  (df.age < 40), \"stage_of_life\"] = \"adult\"\n",
    "\n",
    "  df.loc[(df.age >= 40) &  (df.age < 60), \"middle_age_adult\"] = 1\n",
    "  df.loc[(df.age >= 40) &  (df.age < 60), \"stage_of_life\"] = \"middle_age_adult\"\n",
    "  \n",
    "  # This mistake yield better results, wonder if grouping people differently would work\n",
    "  '''\n",
    "  df.loc[(df.age >= 30), \"senior_adult\"]= 1\n",
    "  df.loc[(df.age >= 30), \"stage_of_life\"]= \"senior_adult\"\n",
    "  '''\n",
    "\n",
    "  df.loc[(df.age >= 60), \"senior_adult\"]= 1\n",
    "  df.loc[(df.age >= 60), \"stage_of_life\"]= \"senior_adult\"\n",
    "\n",
    "add_stages_of_life(df)\n",
    "add_stages_of_life(df_test)"
   ]
  },
  {
   "cell_type": "code",
   "execution_count": 83,
   "metadata": {
    "colab": {
     "base_uri": "https://localhost:8080/",
     "height": 299
    },
    "id": "aoHLYyYFrEQ1",
    "outputId": "33057db4-347d-4905-b942-1c84b717e16e"
   },
   "outputs": [
    {
     "data": {
      "text/plain": [
       "<AxesSubplot:xlabel='stage_of_life', ylabel='charges'>"
      ]
     },
     "execution_count": 83,
     "metadata": {},
     "output_type": "execute_result"
    },
    {
     "data": {
      "image/png": "[encoded data removed]",
      "text/plain": [
       "<Figure size 432x288 with 1 Axes>"
      ]
     },
     "metadata": {
      "needs_background": "light"
     },
     "output_type": "display_data"
    }
   ],
   "source": [
    "sns.barplot(y= \"charges\",x= \"stage_of_life\", data= df)"
   ]
  },
  {
   "cell_type": "markdown",
   "metadata": {
    "id": "JUVDtYkcgWB7"
   },
   "source": [
    "# Observation\n",
    "* As expected, as you grow older, it is likely that you may suffer from serious ailments which means more medical charges (*overall)\n",
    "* Stage of life and charges are positively related(*overall)"
   ]
  },
  {
   "cell_type": "code",
   "execution_count": 84,
   "metadata": {
    "colab": {
     "base_uri": "https://localhost:8080/",
     "height": 443
    },
    "id": "62vQ6WCZsuC6",
    "outputId": "47dc92b8-8478-42fc-d0fe-1a2f4d9e4673"
   },
   "outputs": [
    {
     "data": {
      "text/html": [
       "<div>\n",
       "<style scoped>\n",
       "    .dataframe tbody tr th:only-of-type {\n",
       "        vertical-align: middle;\n",
       "    }\n",
       "\n",
       "    .dataframe tbody tr th {\n",
       "        vertical-align: top;\n",
       "    }\n",
       "\n",
       "    .dataframe thead th {\n",
       "        text-align: right;\n",
       "    }\n",
       "</style>\n",
       "<table border=\"1\" class=\"dataframe\">\n",
       "  <thead>\n",
       "    <tr style=\"text-align: right;\">\n",
       "      <th></th>\n",
       "      <th>age</th>\n",
       "      <th>sex</th>\n",
       "      <th>bmi</th>\n",
       "      <th>smoker</th>\n",
       "      <th>region</th>\n",
       "      <th>children</th>\n",
       "      <th>charges</th>\n",
       "      <th>underweight</th>\n",
       "      <th>normal</th>\n",
       "      <th>overweight</th>\n",
       "      <th>obese</th>\n",
       "      <th>weight_status</th>\n",
       "      <th>infant</th>\n",
       "      <th>toddler</th>\n",
       "      <th>child</th>\n",
       "      <th>teen</th>\n",
       "      <th>adult</th>\n",
       "      <th>middle_age_adult</th>\n",
       "      <th>senior_adult</th>\n",
       "      <th>stage_of_life</th>\n",
       "    </tr>\n",
       "  </thead>\n",
       "  <tbody>\n",
       "    <tr>\n",
       "      <th>0</th>\n",
       "      <td>21.0</td>\n",
       "      <td>male</td>\n",
       "      <td>25.745000</td>\n",
       "      <td>no</td>\n",
       "      <td>northeast</td>\n",
       "      <td>2</td>\n",
       "      <td>3279.868550</td>\n",
       "      <td>0</td>\n",
       "      <td>0</td>\n",
       "      <td>1</td>\n",
       "      <td>0</td>\n",
       "      <td>overweight</td>\n",
       "      <td>0</td>\n",
       "      <td>0</td>\n",
       "      <td>0</td>\n",
       "      <td>0</td>\n",
       "      <td>1</td>\n",
       "      <td>0</td>\n",
       "      <td>0</td>\n",
       "      <td>adult</td>\n",
       "    </tr>\n",
       "    <tr>\n",
       "      <th>1</th>\n",
       "      <td>37.0</td>\n",
       "      <td>female</td>\n",
       "      <td>25.744165</td>\n",
       "      <td>yes</td>\n",
       "      <td>southeast</td>\n",
       "      <td>3</td>\n",
       "      <td>21454.494239</td>\n",
       "      <td>0</td>\n",
       "      <td>0</td>\n",
       "      <td>1</td>\n",
       "      <td>0</td>\n",
       "      <td>overweight</td>\n",
       "      <td>0</td>\n",
       "      <td>0</td>\n",
       "      <td>0</td>\n",
       "      <td>0</td>\n",
       "      <td>1</td>\n",
       "      <td>0</td>\n",
       "      <td>0</td>\n",
       "      <td>adult</td>\n",
       "    </tr>\n",
       "    <tr>\n",
       "      <th>2</th>\n",
       "      <td>18.0</td>\n",
       "      <td>male</td>\n",
       "      <td>30.030000</td>\n",
       "      <td>no</td>\n",
       "      <td>southeast</td>\n",
       "      <td>1</td>\n",
       "      <td>1720.353700</td>\n",
       "      <td>0</td>\n",
       "      <td>0</td>\n",
       "      <td>0</td>\n",
       "      <td>1</td>\n",
       "      <td>obese</td>\n",
       "      <td>0</td>\n",
       "      <td>0</td>\n",
       "      <td>0</td>\n",
       "      <td>1</td>\n",
       "      <td>0</td>\n",
       "      <td>0</td>\n",
       "      <td>0</td>\n",
       "      <td>teen</td>\n",
       "    </tr>\n",
       "    <tr>\n",
       "      <th>3</th>\n",
       "      <td>37.0</td>\n",
       "      <td>male</td>\n",
       "      <td>30.676891</td>\n",
       "      <td>no</td>\n",
       "      <td>northeast</td>\n",
       "      <td>3</td>\n",
       "      <td>6801.437542</td>\n",
       "      <td>0</td>\n",
       "      <td>0</td>\n",
       "      <td>0</td>\n",
       "      <td>1</td>\n",
       "      <td>obese</td>\n",
       "      <td>0</td>\n",
       "      <td>0</td>\n",
       "      <td>0</td>\n",
       "      <td>0</td>\n",
       "      <td>1</td>\n",
       "      <td>0</td>\n",
       "      <td>0</td>\n",
       "      <td>adult</td>\n",
       "    </tr>\n",
       "    <tr>\n",
       "      <th>4</th>\n",
       "      <td>58.0</td>\n",
       "      <td>male</td>\n",
       "      <td>32.010000</td>\n",
       "      <td>no</td>\n",
       "      <td>southeast</td>\n",
       "      <td>1</td>\n",
       "      <td>11946.625900</td>\n",
       "      <td>0</td>\n",
       "      <td>0</td>\n",
       "      <td>0</td>\n",
       "      <td>1</td>\n",
       "      <td>obese</td>\n",
       "      <td>0</td>\n",
       "      <td>0</td>\n",
       "      <td>0</td>\n",
       "      <td>0</td>\n",
       "      <td>0</td>\n",
       "      <td>1</td>\n",
       "      <td>0</td>\n",
       "      <td>middle_age_adult</td>\n",
       "    </tr>\n",
       "    <tr>\n",
       "      <th>...</th>\n",
       "      <td>...</td>\n",
       "      <td>...</td>\n",
       "      <td>...</td>\n",
       "      <td>...</td>\n",
       "      <td>...</td>\n",
       "      <td>...</td>\n",
       "      <td>...</td>\n",
       "      <td>...</td>\n",
       "      <td>...</td>\n",
       "      <td>...</td>\n",
       "      <td>...</td>\n",
       "      <td>...</td>\n",
       "      <td>...</td>\n",
       "      <td>...</td>\n",
       "      <td>...</td>\n",
       "      <td>...</td>\n",
       "      <td>...</td>\n",
       "      <td>...</td>\n",
       "      <td>...</td>\n",
       "      <td>...</td>\n",
       "    </tr>\n",
       "    <tr>\n",
       "      <th>1316</th>\n",
       "      <td>19.0</td>\n",
       "      <td>female</td>\n",
       "      <td>20.600000</td>\n",
       "      <td>no</td>\n",
       "      <td>southwest</td>\n",
       "      <td>0</td>\n",
       "      <td>1731.677000</td>\n",
       "      <td>0</td>\n",
       "      <td>1</td>\n",
       "      <td>0</td>\n",
       "      <td>0</td>\n",
       "      <td>normal</td>\n",
       "      <td>0</td>\n",
       "      <td>0</td>\n",
       "      <td>0</td>\n",
       "      <td>1</td>\n",
       "      <td>0</td>\n",
       "      <td>0</td>\n",
       "      <td>0</td>\n",
       "      <td>teen</td>\n",
       "    </tr>\n",
       "    <tr>\n",
       "      <th>1322</th>\n",
       "      <td>62.0</td>\n",
       "      <td>male</td>\n",
       "      <td>38.830000</td>\n",
       "      <td>no</td>\n",
       "      <td>southeast</td>\n",
       "      <td>0</td>\n",
       "      <td>12981.345700</td>\n",
       "      <td>0</td>\n",
       "      <td>0</td>\n",
       "      <td>0</td>\n",
       "      <td>1</td>\n",
       "      <td>obese</td>\n",
       "      <td>0</td>\n",
       "      <td>0</td>\n",
       "      <td>0</td>\n",
       "      <td>0</td>\n",
       "      <td>0</td>\n",
       "      <td>0</td>\n",
       "      <td>1</td>\n",
       "      <td>senior_adult</td>\n",
       "    </tr>\n",
       "    <tr>\n",
       "      <th>1331</th>\n",
       "      <td>23.0</td>\n",
       "      <td>female</td>\n",
       "      <td>33.400000</td>\n",
       "      <td>no</td>\n",
       "      <td>southwest</td>\n",
       "      <td>0</td>\n",
       "      <td>10795.937330</td>\n",
       "      <td>0</td>\n",
       "      <td>0</td>\n",
       "      <td>0</td>\n",
       "      <td>1</td>\n",
       "      <td>obese</td>\n",
       "      <td>0</td>\n",
       "      <td>0</td>\n",
       "      <td>0</td>\n",
       "      <td>0</td>\n",
       "      <td>1</td>\n",
       "      <td>0</td>\n",
       "      <td>0</td>\n",
       "      <td>adult</td>\n",
       "    </tr>\n",
       "    <tr>\n",
       "      <th>1334</th>\n",
       "      <td>18.0</td>\n",
       "      <td>female</td>\n",
       "      <td>31.920000</td>\n",
       "      <td>no</td>\n",
       "      <td>northeast</td>\n",
       "      <td>0</td>\n",
       "      <td>2205.980800</td>\n",
       "      <td>0</td>\n",
       "      <td>0</td>\n",
       "      <td>0</td>\n",
       "      <td>1</td>\n",
       "      <td>obese</td>\n",
       "      <td>0</td>\n",
       "      <td>0</td>\n",
       "      <td>0</td>\n",
       "      <td>1</td>\n",
       "      <td>0</td>\n",
       "      <td>0</td>\n",
       "      <td>0</td>\n",
       "      <td>teen</td>\n",
       "    </tr>\n",
       "    <tr>\n",
       "      <th>1336</th>\n",
       "      <td>21.0</td>\n",
       "      <td>female</td>\n",
       "      <td>25.800000</td>\n",
       "      <td>no</td>\n",
       "      <td>southwest</td>\n",
       "      <td>0</td>\n",
       "      <td>2007.945000</td>\n",
       "      <td>0</td>\n",
       "      <td>0</td>\n",
       "      <td>1</td>\n",
       "      <td>0</td>\n",
       "      <td>overweight</td>\n",
       "      <td>0</td>\n",
       "      <td>0</td>\n",
       "      <td>0</td>\n",
       "      <td>0</td>\n",
       "      <td>1</td>\n",
       "      <td>0</td>\n",
       "      <td>0</td>\n",
       "      <td>adult</td>\n",
       "    </tr>\n",
       "  </tbody>\n",
       "</table>\n",
       "<p>3235 rows × 20 columns</p>\n",
       "</div>"
      ],
      "text/plain": [
       "       age     sex        bmi smoker     region  children       charges  \\\n",
       "0     21.0    male  25.745000     no  northeast         2   3279.868550   \n",
       "1     37.0  female  25.744165    yes  southeast         3  21454.494239   \n",
       "2     18.0    male  30.030000     no  southeast         1   1720.353700   \n",
       "3     37.0    male  30.676891     no  northeast         3   6801.437542   \n",
       "4     58.0    male  32.010000     no  southeast         1  11946.625900   \n",
       "...    ...     ...        ...    ...        ...       ...           ...   \n",
       "1316  19.0  female  20.600000     no  southwest         0   1731.677000   \n",
       "1322  62.0    male  38.830000     no  southeast         0  12981.345700   \n",
       "1331  23.0  female  33.400000     no  southwest         0  10795.937330   \n",
       "1334  18.0  female  31.920000     no  northeast         0   2205.980800   \n",
       "1336  21.0  female  25.800000     no  southwest         0   2007.945000   \n",
       "\n",
       "      underweight  normal  overweight  obese weight_status  infant  toddler  \\\n",
       "0               0       0           1      0    overweight       0        0   \n",
       "1               0       0           1      0    overweight       0        0   \n",
       "2               0       0           0      1         obese       0        0   \n",
       "3               0       0           0      1         obese       0        0   \n",
       "4               0       0           0      1         obese       0        0   \n",
       "...           ...     ...         ...    ...           ...     ...      ...   \n",
       "1316            0       1           0      0        normal       0        0   \n",
       "1322            0       0           0      1         obese       0        0   \n",
       "1331            0       0           0      1         obese       0        0   \n",
       "1334            0       0           0      1         obese       0        0   \n",
       "1336            0       0           1      0    overweight       0        0   \n",
       "\n",
       "      child  teen  adult  middle_age_adult  senior_adult     stage_of_life  \n",
       "0         0     0      1                 0             0             adult  \n",
       "1         0     0      1                 0             0             adult  \n",
       "2         0     1      0                 0             0              teen  \n",
       "3         0     0      1                 0             0             adult  \n",
       "4         0     0      0                 1             0  middle_age_adult  \n",
       "...     ...   ...    ...               ...           ...               ...  \n",
       "1316      0     1      0                 0             0              teen  \n",
       "1322      0     0      0                 0             1      senior_adult  \n",
       "1331      0     0      1                 0             0             adult  \n",
       "1334      0     1      0                 0             0              teen  \n",
       "1336      0     0      1                 0             0             adult  \n",
       "\n",
       "[3235 rows x 20 columns]"
      ]
     },
     "execution_count": 84,
     "metadata": {},
     "output_type": "execute_result"
    }
   ],
   "source": [
    "df"
   ]
  },
  {
   "cell_type": "markdown",
   "metadata": {},
   "source": [
    "# Smoker and Age"
   ]
  },
  {
   "cell_type": "code",
   "execution_count": 85,
   "metadata": {},
   "outputs": [
    {
     "data": {
      "text/plain": [
       "<seaborn.axisgrid.FacetGrid at 0x214893afc70>"
      ]
     },
     "execution_count": 85,
     "metadata": {},
     "output_type": "execute_result"
    },
    {
     "data": {
      "image/png": "[encoded data removed]",
      "text/plain": [
       "<Figure size 413.25x360 with 1 Axes>"
      ]
     },
     "metadata": {
      "needs_background": "light"
     },
     "output_type": "display_data"
    }
   ],
   "source": [
    "sns.displot(df, x= \"charges\", hue= \"smoker\", kind=\"kde\",  fill=True)"
   ]
  },
  {
   "cell_type": "code",
   "execution_count": 86,
   "metadata": {},
   "outputs": [
    {
     "data": {
      "text/plain": [
       "<seaborn.axisgrid.FacetGrid at 0x2148a3d6bb0>"
      ]
     },
     "execution_count": 86,
     "metadata": {},
     "output_type": "execute_result"
    },
    {
     "data": {
      "image/png": "[encoded data removed]",
      "text/plain": [
       "<Figure size 413.25x360 with 1 Axes>"
      ]
     },
     "metadata": {
      "needs_background": "light"
     },
     "output_type": "display_data"
    }
   ],
   "source": [
    "sns.lmplot(data= df, y= \"charges\", x= \"age\", hue= \"smoker\")"
   ]
  },
  {
   "cell_type": "markdown",
   "metadata": {},
   "source": [
    "# Observation\n",
    "* \"Smoker\" would surely play a vital role as charges distribution of smoker and non-smokers are quite seperate (and hence easy to estimate the charges).\n",
    "* With feature non-smoker and age we could estimate charges with pretty good confidence, They seems to have linear relationship(blue circles in the bottom forming line shaped cluster).\n",
    "\n",
    "(I wonder if we could use clustering algorithm like GMM to create more robust feature)"
   ]
  },
  {
   "cell_type": "markdown",
   "metadata": {
    "id": "4YkV6BW2qAQf"
   },
   "source": [
    "# Preprocessing\n",
    "\n",
    "* Normalizing all continous feature values (applying log 1+) * Normalizing values are not working well in modeling phase, so we won't normalize the values\n",
    "* Onehot encoding for categorical variables"
   ]
  },
  {
   "cell_type": "code",
   "execution_count": 87,
   "metadata": {
    "id": "ppORVwFXk1-d"
   },
   "outputs": [],
   "source": [
    "'''\n",
    "def apply_log_1p(df, type_= \"train\"):\n",
    "  \"\"\"\n",
    "  Normalize all the continuous columns\n",
    "  \"\"\"\n",
    "  # normalize all numeric values\n",
    "  cont_col_list = [\"charges\", \"age\", \"bmi\"]\n",
    "  for col in cont_col_list:\n",
    "    if type_ == \"test\" and col == \"charges\":\n",
    "      continue\n",
    "    df[col] = np.log1p(df[col])\n",
    "\n",
    "  df[\"children\"] = np.log1p(df[\"children\"])\n",
    "  df_test[\"children\"] = np.log1p(df_test[\"children\"])\n",
    "\n",
    "apply_log_1p(df)\n",
    "apply_log_1p(df_test,  type_= \"test\")\n",
    "'''\n",
    "\n",
    "def one_hot_encode(df):\n",
    "  \"\"\"\n",
    "  One hot encode categorical variables\n",
    "  \"\"\"\n",
    "    \n",
    "  # one-hot encoding categorical variables\n",
    "  one_hot = pd.get_dummies(df[['sex', \"smoker\", \"region\"]])\n",
    "  \n",
    "  # drop the columns\n",
    "  df = df.drop(['sex', \"smoker\", \"region\"],axis = 1)\n",
    "  \n",
    "  # join with original dataframe\n",
    "  df = df.join(one_hot)\n",
    "  \n",
    "  return df\n",
    "\n",
    "# to one-hot\n",
    "df = one_hot_encode(df)\n",
    "df_test = one_hot_encode(df_test)\n",
    "\n",
    "# drop redundunt columns\n",
    "df.drop([\"weight_status\", \"stage_of_life\"], inplace= True, axis= 1)\n",
    "df_test.drop([\"weight_status\", \"stage_of_life\"], inplace= True, axis= 1)"
   ]
  },
  {
   "cell_type": "markdown",
   "metadata": {
    "id": "6mGpnc0Op9ib"
   },
   "source": [
    "# Train-validation split\n",
    "* As I wanted the algorithm to see as many samples as possible, I validated on 5% of the data."
   ]
  },
  {
   "cell_type": "code",
   "execution_count": 88,
   "metadata": {
    "id": "LnU-hEHUvKpM"
   },
   "outputs": [],
   "source": [
    "# target\n",
    "y = df.pop(\"charges\")\n",
    "\n",
    "# features\n",
    "X = df\n",
    "\n",
    "# train validtaion split\n",
    "X_train, X_val, y_train, y_val = train_test_split(\n",
    "    X, y, test_size=0.05, random_state=100)"
   ]
  },
  {
   "cell_type": "markdown",
   "metadata": {},
   "source": [
    "# Training\n",
    "We will be using extra trees here"
   ]
  },
  {
   "cell_type": "code",
   "execution_count": 89,
   "metadata": {
    "id": "z43pX8JmxVSf"
   },
   "outputs": [],
   "source": [
    "# Extra tree regressor\n",
    "'''\n",
    "No hyper-parameter tuning is done, I encourage you to explore this phase\n",
    "'''\n",
    "\n",
    "etr = ExtraTreesRegressor(criterion='mse',\n",
    " max_depth= None,\n",
    " max_features= 'auto',\n",
    " min_samples_leaf= 2,\n",
    " min_samples_split= 2,\n",
    " n_estimators=100)"
   ]
  },
  {
   "cell_type": "code",
   "execution_count": 90,
   "metadata": {},
   "outputs": [
    {
     "name": "stdout",
     "output_type": "stream",
     "text": [
      "R squared score on validation set: 0.7045415827819752\n"
     ]
    }
   ],
   "source": [
    "# train the model\n",
    "etr.fit(X_train, y_train)\n",
    "r_squared = etr.score(X_val, y_val)\n",
    "print(f\"R squared score on validation set: {r_squared}\")"
   ]
  },
  {
   "cell_type": "code",
   "execution_count": 91,
   "metadata": {},
   "outputs": [],
   "source": [
    "# get the prediction on test set\n",
    "pred_charges = etr.predict(df_test)\n",
    "\n",
    "# to dataframe\n",
    "df_submit = pd.DataFrame({\"prediction\": pred_charges})\n",
    "\n",
    "# write to disk\n",
    "df_submit.to_csv(\"submit.csv\", index= False)"
   ]
  },
  {
   "cell_type": "code",
   "execution_count": 49,
   "metadata": {},
   "outputs": [
    {
     "data": {
      "image/png": "[encoded data removed]",
      "text/plain": [
       "<Figure size 432x288 with 1 Axes>"
      ]
     },
     "metadata": {
      "needs_background": "light"
     },
     "output_type": "display_data"
    }
   ],
   "source": [
    "# Feature importance based on the mean decreasing in impurity within each tree\n",
    "# Read more here: https://scikit-learn.org/stable/auto_examples/ensemble/plot_forest_importances.html#feature-importance-based-on-mean-decrease-in-impurity\n",
    "importances = etr.feature_importances_\n",
    "std = np.std([\n",
    "    etr.feature_importances_ for tree in etr.estimators_], axis=0)\n",
    "forest_importances = pd.Series(importances, index=X.columns)\n",
    "\n",
    "fig, ax = plt.subplots()\n",
    "forest_importances.plot.bar(yerr=std, ax=ax)\n",
    "ax.set_title(\"Feature importances using MDI\")\n",
    "ax.set_ylabel(\"Mean decrease in impurity\")\n",
    "fig.tight_layout()"
   ]
  },
  {
   "cell_type": "markdown",
   "metadata": {},
   "source": [
    "# Observation\n",
    "* Smoking played a vital role in predicting insurance charges followed by obese, age, children and BMI.\n",
    "\n",
    "**The submission results in 3271.2 RMSE on public leaderboard. (The score might vary because trees are created randomly (using random features, samples and feature values))**"
   ]
  },
  {
   "cell_type": "markdown",
   "metadata": {},
   "source": [
    "# Suggestions to improve the score\n",
    "* More robust feature engineering and feature selection\n",
    "* Using more data\n",
    "* Hyper-parameter tuning and model selection\n",
    "* Using deep learning based algorithms\n",
    "* Ensemble learning"
   ]
  }
 ],
 "metadata": {
  "colab": {
   "collapsed_sections": [],
   "name": "Data Sprint #37: Medical Insurance Cost.ipynb",
   "provenance": []
  },
  "kernelspec": {
   "display_name": "Python 3",
   "language": "python",
   "name": "python3"
  },
  "language_info": {
   "codemirror_mode": {
    "name": "ipython",
    "version": 3
   },
   "file_extension": ".py",
   "mimetype": "text/x-python",
   "name": "python",
   "nbconvert_exporter": "python",
   "pygments_lexer": "ipython3",
   "version": "3.8.5"
  }
 },
 "nbformat": 4,
 "nbformat_minor": 1
}
