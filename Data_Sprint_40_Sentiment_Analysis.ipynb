{
  "nbformat": 4,
  "nbformat_minor": 0,
  "metadata": {
    "colab": {
      "name": "Data Sprint #40: Sentiment Analysis.ipynb",
      "provenance": [],
      "authorship_tag": "ABX9TyPTsKm+6mZ75nSLwKFPW+rl",
      "include_colab_link": true
    },
    "kernelspec": {
      "name": "python3",
      "display_name": "Python 3"
    },
    "language_info": {
      "name": "python"
    },
    "accelerator": "GPU",
    "widgets": {
      "application/vnd.jupyter.widget-state+json": {
        "a6dd16be43c6433982f591c7eff8a0d4": {
          "model_module": "@jupyter-widgets/controls",
          "model_name": "HBoxModel",
          "state": {
            "_view_name": "HBoxView",
            "_dom_classes": [],
            "_model_name": "HBoxModel",
            "_view_module": "@jupyter-widgets/controls",
            "_model_module_version": "1.5.0",
            "_view_count": null,
            "_view_module_version": "1.5.0",
            "box_style": "",
            "layout": "IPY_MODEL_c610411e08fc41978e3e01c5bb1a70ae",
            "_model_module": "@jupyter-widgets/controls",
            "children": [
              "IPY_MODEL_4c6f4f5fc10e44d6a637922b3870dbf7",
              "IPY_MODEL_2e4e26932c144f339f833187a3d4b832"
            ]
          }
        },
        "c610411e08fc41978e3e01c5bb1a70ae": {
          "model_module": "@jupyter-widgets/base",
          "model_name": "LayoutModel",
          "state": {
            "_view_name": "LayoutView",
            "grid_template_rows": null,
            "right": null,
            "justify_content": null,
            "_view_module": "@jupyter-widgets/base",
            "overflow": null,
            "_model_module_version": "1.2.0",
            "_view_count": null,
            "flex_flow": null,
            "width": null,
            "min_width": null,
            "border": null,
            "align_items": null,
            "bottom": null,
            "_model_module": "@jupyter-widgets/base",
            "top": null,
            "grid_column": null,
            "overflow_y": null,
            "overflow_x": null,
            "grid_auto_flow": null,
            "grid_area": null,
            "grid_template_columns": null,
            "flex": null,
            "_model_name": "LayoutModel",
            "justify_items": null,
            "grid_row": null,
            "max_height": null,
            "align_content": null,
            "visibility": null,
            "align_self": null,
            "height": null,
            "min_height": null,
            "padding": null,
            "grid_auto_rows": null,
            "grid_gap": null,
            "max_width": null,
            "order": null,
            "_view_module_version": "1.2.0",
            "grid_template_areas": null,
            "object_position": null,
            "object_fit": null,
            "grid_auto_columns": null,
            "margin": null,
            "display": null,
            "left": null
          }
        },
        "4c6f4f5fc10e44d6a637922b3870dbf7": {
          "model_module": "@jupyter-widgets/controls",
          "model_name": "FloatProgressModel",
          "state": {
            "_view_name": "ProgressView",
            "style": "IPY_MODEL_5fcf4d42e7ac4a52b51a3417d85aabc0",
            "_dom_classes": [],
            "description": "Downloading: 100%",
            "_model_name": "FloatProgressModel",
            "bar_style": "success",
            "max": 898823,
            "_view_module": "@jupyter-widgets/controls",
            "_model_module_version": "1.5.0",
            "value": 898823,
            "_view_count": null,
            "_view_module_version": "1.5.0",
            "orientation": "horizontal",
            "min": 0,
            "description_tooltip": null,
            "_model_module": "@jupyter-widgets/controls",
            "layout": "IPY_MODEL_4c86872246ea4960a22c1bd0c7b9d939"
          }
        },
        "2e4e26932c144f339f833187a3d4b832": {
          "model_module": "@jupyter-widgets/controls",
          "model_name": "HTMLModel",
          "state": {
            "_view_name": "HTMLView",
            "style": "IPY_MODEL_4ff6b48c5edc453c916f09d1e591837f",
            "_dom_classes": [],
            "description": "",
            "_model_name": "HTMLModel",
            "placeholder": "​",
            "_view_module": "@jupyter-widgets/controls",
            "_model_module_version": "1.5.0",
            "value": " 899k/899k [07:14&lt;00:00, 2.07kB/s]",
            "_view_count": null,
            "_view_module_version": "1.5.0",
            "description_tooltip": null,
            "_model_module": "@jupyter-widgets/controls",
            "layout": "IPY_MODEL_585b7a3125a24801ae99e765980fe844"
          }
        },
        "5fcf4d42e7ac4a52b51a3417d85aabc0": {
          "model_module": "@jupyter-widgets/controls",
          "model_name": "ProgressStyleModel",
          "state": {
            "_view_name": "StyleView",
            "_model_name": "ProgressStyleModel",
            "description_width": "initial",
            "_view_module": "@jupyter-widgets/base",
            "_model_module_version": "1.5.0",
            "_view_count": null,
            "_view_module_version": "1.2.0",
            "bar_color": null,
            "_model_module": "@jupyter-widgets/controls"
          }
        },
        "4c86872246ea4960a22c1bd0c7b9d939": {
          "model_module": "@jupyter-widgets/base",
          "model_name": "LayoutModel",
          "state": {
            "_view_name": "LayoutView",
            "grid_template_rows": null,
            "right": null,
            "justify_content": null,
            "_view_module": "@jupyter-widgets/base",
            "overflow": null,
            "_model_module_version": "1.2.0",
            "_view_count": null,
            "flex_flow": null,
            "width": null,
            "min_width": null,
            "border": null,
            "align_items": null,
            "bottom": null,
            "_model_module": "@jupyter-widgets/base",
            "top": null,
            "grid_column": null,
            "overflow_y": null,
            "overflow_x": null,
            "grid_auto_flow": null,
            "grid_area": null,
            "grid_template_columns": null,
            "flex": null,
            "_model_name": "LayoutModel",
            "justify_items": null,
            "grid_row": null,
            "max_height": null,
            "align_content": null,
            "visibility": null,
            "align_self": null,
            "height": null,
            "min_height": null,
            "padding": null,
            "grid_auto_rows": null,
            "grid_gap": null,
            "max_width": null,
            "order": null,
            "_view_module_version": "1.2.0",
            "grid_template_areas": null,
            "object_position": null,
            "object_fit": null,
            "grid_auto_columns": null,
            "margin": null,
            "display": null,
            "left": null
          }
        },
        "4ff6b48c5edc453c916f09d1e591837f": {
          "model_module": "@jupyter-widgets/controls",
          "model_name": "DescriptionStyleModel",
          "state": {
            "_view_name": "StyleView",
            "_model_name": "DescriptionStyleModel",
            "description_width": "",
            "_view_module": "@jupyter-widgets/base",
            "_model_module_version": "1.5.0",
            "_view_count": null,
            "_view_module_version": "1.2.0",
            "_model_module": "@jupyter-widgets/controls"
          }
        },
        "585b7a3125a24801ae99e765980fe844": {
          "model_module": "@jupyter-widgets/base",
          "model_name": "LayoutModel",
          "state": {
            "_view_name": "LayoutView",
            "grid_template_rows": null,
            "right": null,
            "justify_content": null,
            "_view_module": "@jupyter-widgets/base",
            "overflow": null,
            "_model_module_version": "1.2.0",
            "_view_count": null,
            "flex_flow": null,
            "width": null,
            "min_width": null,
            "border": null,
            "align_items": null,
            "bottom": null,
            "_model_module": "@jupyter-widgets/base",
            "top": null,
            "grid_column": null,
            "overflow_y": null,
            "overflow_x": null,
            "grid_auto_flow": null,
            "grid_area": null,
            "grid_template_columns": null,
            "flex": null,
            "_model_name": "LayoutModel",
            "justify_items": null,
            "grid_row": null,
            "max_height": null,
            "align_content": null,
            "visibility": null,
            "align_self": null,
            "height": null,
            "min_height": null,
            "padding": null,
            "grid_auto_rows": null,
            "grid_gap": null,
            "max_width": null,
            "order": null,
            "_view_module_version": "1.2.0",
            "grid_template_areas": null,
            "object_position": null,
            "object_fit": null,
            "grid_auto_columns": null,
            "margin": null,
            "display": null,
            "left": null
          }
        },
        "648af0a833374e4b9943745d13341573": {
          "model_module": "@jupyter-widgets/controls",
          "model_name": "HBoxModel",
          "state": {
            "_view_name": "HBoxView",
            "_dom_classes": [],
            "_model_name": "HBoxModel",
            "_view_module": "@jupyter-widgets/controls",
            "_model_module_version": "1.5.0",
            "_view_count": null,
            "_view_module_version": "1.5.0",
            "box_style": "",
            "layout": "IPY_MODEL_5c0908b588144d56a0b902b46e26a966",
            "_model_module": "@jupyter-widgets/controls",
            "children": [
              "IPY_MODEL_b822a818cc9f4ec99a8c1c5c3bbf5346",
              "IPY_MODEL_f51c416b8c2f4af5887fff1ba9581117"
            ]
          }
        },
        "5c0908b588144d56a0b902b46e26a966": {
          "model_module": "@jupyter-widgets/base",
          "model_name": "LayoutModel",
          "state": {
            "_view_name": "LayoutView",
            "grid_template_rows": null,
            "right": null,
            "justify_content": null,
            "_view_module": "@jupyter-widgets/base",
            "overflow": null,
            "_model_module_version": "1.2.0",
            "_view_count": null,
            "flex_flow": null,
            "width": null,
            "min_width": null,
            "border": null,
            "align_items": null,
            "bottom": null,
            "_model_module": "@jupyter-widgets/base",
            "top": null,
            "grid_column": null,
            "overflow_y": null,
            "overflow_x": null,
            "grid_auto_flow": null,
            "grid_area": null,
            "grid_template_columns": null,
            "flex": null,
            "_model_name": "LayoutModel",
            "justify_items": null,
            "grid_row": null,
            "max_height": null,
            "align_content": null,
            "visibility": null,
            "align_self": null,
            "height": null,
            "min_height": null,
            "padding": null,
            "grid_auto_rows": null,
            "grid_gap": null,
            "max_width": null,
            "order": null,
            "_view_module_version": "1.2.0",
            "grid_template_areas": null,
            "object_position": null,
            "object_fit": null,
            "grid_auto_columns": null,
            "margin": null,
            "display": null,
            "left": null
          }
        },
        "b822a818cc9f4ec99a8c1c5c3bbf5346": {
          "model_module": "@jupyter-widgets/controls",
          "model_name": "FloatProgressModel",
          "state": {
            "_view_name": "ProgressView",
            "style": "IPY_MODEL_3e439431812c4b908a5e5f5ea9869fb9",
            "_dom_classes": [],
            "description": "Downloading: 100%",
            "_model_name": "FloatProgressModel",
            "bar_style": "success",
            "max": 456318,
            "_view_module": "@jupyter-widgets/controls",
            "_model_module_version": "1.5.0",
            "value": 456318,
            "_view_count": null,
            "_view_module_version": "1.5.0",
            "orientation": "horizontal",
            "min": 0,
            "description_tooltip": null,
            "_model_module": "@jupyter-widgets/controls",
            "layout": "IPY_MODEL_6f7705943848489aba8222c99538d900"
          }
        },
        "f51c416b8c2f4af5887fff1ba9581117": {
          "model_module": "@jupyter-widgets/controls",
          "model_name": "HTMLModel",
          "state": {
            "_view_name": "HTMLView",
            "style": "IPY_MODEL_c791f03dcbae40aea3eebd3d87acd7f9",
            "_dom_classes": [],
            "description": "",
            "_model_name": "HTMLModel",
            "placeholder": "​",
            "_view_module": "@jupyter-widgets/controls",
            "_model_module_version": "1.5.0",
            "value": " 456k/456k [00:01&lt;00:00, 262kB/s]",
            "_view_count": null,
            "_view_module_version": "1.5.0",
            "description_tooltip": null,
            "_model_module": "@jupyter-widgets/controls",
            "layout": "IPY_MODEL_1947bd5eef2d4d1aa69e998beabcb6a9"
          }
        },
        "3e439431812c4b908a5e5f5ea9869fb9": {
          "model_module": "@jupyter-widgets/controls",
          "model_name": "ProgressStyleModel",
          "state": {
            "_view_name": "StyleView",
            "_model_name": "ProgressStyleModel",
            "description_width": "initial",
            "_view_module": "@jupyter-widgets/base",
            "_model_module_version": "1.5.0",
            "_view_count": null,
            "_view_module_version": "1.2.0",
            "bar_color": null,
            "_model_module": "@jupyter-widgets/controls"
          }
        },
        "6f7705943848489aba8222c99538d900": {
          "model_module": "@jupyter-widgets/base",
          "model_name": "LayoutModel",
          "state": {
            "_view_name": "LayoutView",
            "grid_template_rows": null,
            "right": null,
            "justify_content": null,
            "_view_module": "@jupyter-widgets/base",
            "overflow": null,
            "_model_module_version": "1.2.0",
            "_view_count": null,
            "flex_flow": null,
            "width": null,
            "min_width": null,
            "border": null,
            "align_items": null,
            "bottom": null,
            "_model_module": "@jupyter-widgets/base",
            "top": null,
            "grid_column": null,
            "overflow_y": null,
            "overflow_x": null,
            "grid_auto_flow": null,
            "grid_area": null,
            "grid_template_columns": null,
            "flex": null,
            "_model_name": "LayoutModel",
            "justify_items": null,
            "grid_row": null,
            "max_height": null,
            "align_content": null,
            "visibility": null,
            "align_self": null,
            "height": null,
            "min_height": null,
            "padding": null,
            "grid_auto_rows": null,
            "grid_gap": null,
            "max_width": null,
            "order": null,
            "_view_module_version": "1.2.0",
            "grid_template_areas": null,
            "object_position": null,
            "object_fit": null,
            "grid_auto_columns": null,
            "margin": null,
            "display": null,
            "left": null
          }
        },
        "c791f03dcbae40aea3eebd3d87acd7f9": {
          "model_module": "@jupyter-widgets/controls",
          "model_name": "DescriptionStyleModel",
          "state": {
            "_view_name": "StyleView",
            "_model_name": "DescriptionStyleModel",
            "description_width": "",
            "_view_module": "@jupyter-widgets/base",
            "_model_module_version": "1.5.0",
            "_view_count": null,
            "_view_module_version": "1.2.0",
            "_model_module": "@jupyter-widgets/controls"
          }
        },
        "1947bd5eef2d4d1aa69e998beabcb6a9": {
          "model_module": "@jupyter-widgets/base",
          "model_name": "LayoutModel",
          "state": {
            "_view_name": "LayoutView",
            "grid_template_rows": null,
            "right": null,
            "justify_content": null,
            "_view_module": "@jupyter-widgets/base",
            "overflow": null,
            "_model_module_version": "1.2.0",
            "_view_count": null,
            "flex_flow": null,
            "width": null,
            "min_width": null,
            "border": null,
            "align_items": null,
            "bottom": null,
            "_model_module": "@jupyter-widgets/base",
            "top": null,
            "grid_column": null,
            "overflow_y": null,
            "overflow_x": null,
            "grid_auto_flow": null,
            "grid_area": null,
            "grid_template_columns": null,
            "flex": null,
            "_model_name": "LayoutModel",
            "justify_items": null,
            "grid_row": null,
            "max_height": null,
            "align_content": null,
            "visibility": null,
            "align_self": null,
            "height": null,
            "min_height": null,
            "padding": null,
            "grid_auto_rows": null,
            "grid_gap": null,
            "max_width": null,
            "order": null,
            "_view_module_version": "1.2.0",
            "grid_template_areas": null,
            "object_position": null,
            "object_fit": null,
            "grid_auto_columns": null,
            "margin": null,
            "display": null,
            "left": null
          }
        },
        "67815652c7584b4780427ec461e459f5": {
          "model_module": "@jupyter-widgets/controls",
          "model_name": "HBoxModel",
          "state": {
            "_view_name": "HBoxView",
            "_dom_classes": [],
            "_model_name": "HBoxModel",
            "_view_module": "@jupyter-widgets/controls",
            "_model_module_version": "1.5.0",
            "_view_count": null,
            "_view_module_version": "1.5.0",
            "box_style": "",
            "layout": "IPY_MODEL_2a8b4794cc634b7081ca3ab9e1cf32a4",
            "_model_module": "@jupyter-widgets/controls",
            "children": [
              "IPY_MODEL_2c229b9a3583476582cc61a5c7d8262d",
              "IPY_MODEL_cccf631fc0984cd98e461040dbd16e85"
            ]
          }
        },
        "2a8b4794cc634b7081ca3ab9e1cf32a4": {
          "model_module": "@jupyter-widgets/base",
          "model_name": "LayoutModel",
          "state": {
            "_view_name": "LayoutView",
            "grid_template_rows": null,
            "right": null,
            "justify_content": null,
            "_view_module": "@jupyter-widgets/base",
            "overflow": null,
            "_model_module_version": "1.2.0",
            "_view_count": null,
            "flex_flow": null,
            "width": null,
            "min_width": null,
            "border": null,
            "align_items": null,
            "bottom": null,
            "_model_module": "@jupyter-widgets/base",
            "top": null,
            "grid_column": null,
            "overflow_y": null,
            "overflow_x": null,
            "grid_auto_flow": null,
            "grid_area": null,
            "grid_template_columns": null,
            "flex": null,
            "_model_name": "LayoutModel",
            "justify_items": null,
            "grid_row": null,
            "max_height": null,
            "align_content": null,
            "visibility": null,
            "align_self": null,
            "height": null,
            "min_height": null,
            "padding": null,
            "grid_auto_rows": null,
            "grid_gap": null,
            "max_width": null,
            "order": null,
            "_view_module_version": "1.2.0",
            "grid_template_areas": null,
            "object_position": null,
            "object_fit": null,
            "grid_auto_columns": null,
            "margin": null,
            "display": null,
            "left": null
          }
        },
        "2c229b9a3583476582cc61a5c7d8262d": {
          "model_module": "@jupyter-widgets/controls",
          "model_name": "FloatProgressModel",
          "state": {
            "_view_name": "ProgressView",
            "style": "IPY_MODEL_184101edea984c54b36d2584f2540bce",
            "_dom_classes": [],
            "description": "Downloading: 100%",
            "_model_name": "FloatProgressModel",
            "bar_style": "success",
            "max": 1355863,
            "_view_module": "@jupyter-widgets/controls",
            "_model_module_version": "1.5.0",
            "value": 1355863,
            "_view_count": null,
            "_view_module_version": "1.5.0",
            "orientation": "horizontal",
            "min": 0,
            "description_tooltip": null,
            "_model_module": "@jupyter-widgets/controls",
            "layout": "IPY_MODEL_320342ff2c4b414f8abbd9f65a828a4c"
          }
        },
        "cccf631fc0984cd98e461040dbd16e85": {
          "model_module": "@jupyter-widgets/controls",
          "model_name": "HTMLModel",
          "state": {
            "_view_name": "HTMLView",
            "style": "IPY_MODEL_ee39a5fa26a64117a5cfd87d5589e82e",
            "_dom_classes": [],
            "description": "",
            "_model_name": "HTMLModel",
            "placeholder": "​",
            "_view_module": "@jupyter-widgets/controls",
            "_model_module_version": "1.5.0",
            "value": " 1.36M/1.36M [00:00&lt;00:00, 4.24MB/s]",
            "_view_count": null,
            "_view_module_version": "1.5.0",
            "description_tooltip": null,
            "_model_module": "@jupyter-widgets/controls",
            "layout": "IPY_MODEL_c4fb2607a5cf453cbd322022e1b85999"
          }
        },
        "184101edea984c54b36d2584f2540bce": {
          "model_module": "@jupyter-widgets/controls",
          "model_name": "ProgressStyleModel",
          "state": {
            "_view_name": "StyleView",
            "_model_name": "ProgressStyleModel",
            "description_width": "initial",
            "_view_module": "@jupyter-widgets/base",
            "_model_module_version": "1.5.0",
            "_view_count": null,
            "_view_module_version": "1.2.0",
            "bar_color": null,
            "_model_module": "@jupyter-widgets/controls"
          }
        },
        "320342ff2c4b414f8abbd9f65a828a4c": {
          "model_module": "@jupyter-widgets/base",
          "model_name": "LayoutModel",
          "state": {
            "_view_name": "LayoutView",
            "grid_template_rows": null,
            "right": null,
            "justify_content": null,
            "_view_module": "@jupyter-widgets/base",
            "overflow": null,
            "_model_module_version": "1.2.0",
            "_view_count": null,
            "flex_flow": null,
            "width": null,
            "min_width": null,
            "border": null,
            "align_items": null,
            "bottom": null,
            "_model_module": "@jupyter-widgets/base",
            "top": null,
            "grid_column": null,
            "overflow_y": null,
            "overflow_x": null,
            "grid_auto_flow": null,
            "grid_area": null,
            "grid_template_columns": null,
            "flex": null,
            "_model_name": "LayoutModel",
            "justify_items": null,
            "grid_row": null,
            "max_height": null,
            "align_content": null,
            "visibility": null,
            "align_self": null,
            "height": null,
            "min_height": null,
            "padding": null,
            "grid_auto_rows": null,
            "grid_gap": null,
            "max_width": null,
            "order": null,
            "_view_module_version": "1.2.0",
            "grid_template_areas": null,
            "object_position": null,
            "object_fit": null,
            "grid_auto_columns": null,
            "margin": null,
            "display": null,
            "left": null
          }
        },
        "ee39a5fa26a64117a5cfd87d5589e82e": {
          "model_module": "@jupyter-widgets/controls",
          "model_name": "DescriptionStyleModel",
          "state": {
            "_view_name": "StyleView",
            "_model_name": "DescriptionStyleModel",
            "description_width": "",
            "_view_module": "@jupyter-widgets/base",
            "_model_module_version": "1.5.0",
            "_view_count": null,
            "_view_module_version": "1.2.0",
            "_model_module": "@jupyter-widgets/controls"
          }
        },
        "c4fb2607a5cf453cbd322022e1b85999": {
          "model_module": "@jupyter-widgets/base",
          "model_name": "LayoutModel",
          "state": {
            "_view_name": "LayoutView",
            "grid_template_rows": null,
            "right": null,
            "justify_content": null,
            "_view_module": "@jupyter-widgets/base",
            "overflow": null,
            "_model_module_version": "1.2.0",
            "_view_count": null,
            "flex_flow": null,
            "width": null,
            "min_width": null,
            "border": null,
            "align_items": null,
            "bottom": null,
            "_model_module": "@jupyter-widgets/base",
            "top": null,
            "grid_column": null,
            "overflow_y": null,
            "overflow_x": null,
            "grid_auto_flow": null,
            "grid_area": null,
            "grid_template_columns": null,
            "flex": null,
            "_model_name": "LayoutModel",
            "justify_items": null,
            "grid_row": null,
            "max_height": null,
            "align_content": null,
            "visibility": null,
            "align_self": null,
            "height": null,
            "min_height": null,
            "padding": null,
            "grid_auto_rows": null,
            "grid_gap": null,
            "max_width": null,
            "order": null,
            "_view_module_version": "1.2.0",
            "grid_template_areas": null,
            "object_position": null,
            "object_fit": null,
            "grid_auto_columns": null,
            "margin": null,
            "display": null,
            "left": null
          }
        }
      }
    }
  },
  "cells": [
    {
      "cell_type": "markdown",
      "metadata": {
        "id": "view-in-github",
        "colab_type": "text"
      },
      "source": [
        "<a href=\"https://colab.research.google.com/github/plaban1981/Dphi_hackathon/blob/main/Data_Sprint_40_Sentiment_Analysis.ipynb\" target=\"_parent\"><img src=\"https://colab.research.google.com/assets/colab-badge.svg\" alt=\"Open In Colab\"/></a>"
      ]
    },
    {
      "cell_type": "markdown",
      "metadata": {
        "id": "6chuBS8DVzOA"
      },
      "source": [
        "![image.png](data:image/png;base64,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)"
      ]
    },
    {
      "cell_type": "markdown",
      "metadata": {
        "id": "bgdSumTrXNj3"
      },
      "source": [
        "## Problem Statement\n",
        " \n",
        "\n",
        "Sentiment analysis studies the subjective information in an expression, that is, the opinions, appraisals, emotions, or attitudes towards a topic, person or entity. Expressions can be classified as positive, negative, or neutral. For example: “I really like the new design of your website!” → Positive.\n",
        "\n",
        " \n",
        "\n",
        "You are provided the review datasets taken from different websites like IMDB, Yelp and Amazon. Build a machine learning model to predict the label of the review either positive or negative."
      ]
    },
    {
      "cell_type": "markdown",
      "metadata": {
        "id": "3SHJ6NqNX6_e"
      },
      "source": [
        "## Data Description\n",
        "\n",
        "There are two features - \n",
        "* ‘review’ - the sentence and \n",
        "* ‘sentiment’ - the label for the review. \n",
        "\n",
        "**1 means positive review**\n",
        "\n",
        "**0 means negative review.**"
      ]
    },
    {
      "cell_type": "markdown",
      "metadata": {
        "id": "k1u-NPFrVGjG"
      },
      "source": [
        "**Integrating Fairseq’s RoBERTa model via Hugging Face’s Transformers and fast.ai libraries** to solve the problem statement"
      ]
    },
    {
      "cell_type": "code",
      "metadata": {
        "colab": {
          "base_uri": "https://localhost:8080/"
        },
        "id": "RKHKs8k4DYfj",
        "outputId": "855d44b7-2c09-43c3-fabc-8b0abf9f2006"
      },
      "source": [
        "!pip install transformers"
      ],
      "execution_count": 1,
      "outputs": [
        {
          "output_type": "stream",
          "text": [
            "Collecting transformers\n",
            "\u001b[?25l  Downloading https://files.pythonhosted.org/packages/fd/1a/41c644c963249fd7f3836d926afa1e3f1cc234a1c40d80c5f03ad8f6f1b2/transformers-4.8.2-py3-none-any.whl (2.5MB)\n",
            "\u001b[K     |████████████████████████████████| 2.5MB 7.4MB/s \n",
            "\u001b[?25hRequirement already satisfied: regex!=2019.12.17 in /usr/local/lib/python3.7/dist-packages (from transformers) (2019.12.20)\n",
            "Collecting tokenizers<0.11,>=0.10.1\n",
            "\u001b[?25l  Downloading https://files.pythonhosted.org/packages/d4/e2/df3543e8ffdab68f5acc73f613de9c2b155ac47f162e725dcac87c521c11/tokenizers-0.10.3-cp37-cp37m-manylinux_2_5_x86_64.manylinux1_x86_64.manylinux_2_12_x86_64.manylinux2010_x86_64.whl (3.3MB)\n",
            "\u001b[K     |████████████████████████████████| 3.3MB 37.4MB/s \n",
            "\u001b[?25hRequirement already satisfied: numpy>=1.17 in /usr/local/lib/python3.7/dist-packages (from transformers) (1.19.5)\n",
            "Collecting huggingface-hub==0.0.12\n",
            "  Downloading https://files.pythonhosted.org/packages/2f/ee/97e253668fda9b17e968b3f97b2f8e53aa0127e8807d24a547687423fe0b/huggingface_hub-0.0.12-py3-none-any.whl\n",
            "Requirement already satisfied: tqdm>=4.27 in /usr/local/lib/python3.7/dist-packages (from transformers) (4.41.1)\n",
            "Requirement already satisfied: importlib-metadata; python_version < \"3.8\" in /usr/local/lib/python3.7/dist-packages (from transformers) (4.6.0)\n",
            "Collecting sacremoses\n",
            "\u001b[?25l  Downloading https://files.pythonhosted.org/packages/75/ee/67241dc87f266093c533a2d4d3d69438e57d7a90abb216fa076e7d475d4a/sacremoses-0.0.45-py3-none-any.whl (895kB)\n",
            "\u001b[K     |████████████████████████████████| 901kB 33.7MB/s \n",
            "\u001b[?25hRequirement already satisfied: pyyaml in /usr/local/lib/python3.7/dist-packages (from transformers) (3.13)\n",
            "Requirement already satisfied: requests in /usr/local/lib/python3.7/dist-packages (from transformers) (2.23.0)\n",
            "Requirement already satisfied: filelock in /usr/local/lib/python3.7/dist-packages (from transformers) (3.0.12)\n",
            "Requirement already satisfied: packaging in /usr/local/lib/python3.7/dist-packages (from transformers) (20.9)\n",
            "Requirement already satisfied: typing-extensions in /usr/local/lib/python3.7/dist-packages (from huggingface-hub==0.0.12->transformers) (3.7.4.3)\n",
            "Requirement already satisfied: zipp>=0.5 in /usr/local/lib/python3.7/dist-packages (from importlib-metadata; python_version < \"3.8\"->transformers) (3.4.1)\n",
            "Requirement already satisfied: six in /usr/local/lib/python3.7/dist-packages (from sacremoses->transformers) (1.15.0)\n",
            "Requirement already satisfied: click in /usr/local/lib/python3.7/dist-packages (from sacremoses->transformers) (7.1.2)\n",
            "Requirement already satisfied: joblib in /usr/local/lib/python3.7/dist-packages (from sacremoses->transformers) (1.0.1)\n",
            "Requirement already satisfied: certifi>=2017.4.17 in /usr/local/lib/python3.7/dist-packages (from requests->transformers) (2021.5.30)\n",
            "Requirement already satisfied: idna<3,>=2.5 in /usr/local/lib/python3.7/dist-packages (from requests->transformers) (2.10)\n",
            "Requirement already satisfied: urllib3!=1.25.0,!=1.25.1,<1.26,>=1.21.1 in /usr/local/lib/python3.7/dist-packages (from requests->transformers) (1.24.3)\n",
            "Requirement already satisfied: chardet<4,>=3.0.2 in /usr/local/lib/python3.7/dist-packages (from requests->transformers) (3.0.4)\n",
            "Requirement already satisfied: pyparsing>=2.0.2 in /usr/local/lib/python3.7/dist-packages (from packaging->transformers) (2.4.7)\n",
            "Installing collected packages: tokenizers, huggingface-hub, sacremoses, transformers\n",
            "Successfully installed huggingface-hub-0.0.12 sacremoses-0.0.45 tokenizers-0.10.3 transformers-4.8.2\n"
          ],
          "name": "stdout"
        }
      ]
    },
    {
      "cell_type": "code",
      "metadata": {
        "colab": {
          "resources": {
            "http://localhost:8080/nbextensions/google.colab/files.js": {
              "data": "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",
              "ok": true,
              "headers": [
                [
                  "content-type",
                  "application/javascript"
                ]
              ],
              "status": 200,
              "status_text": "OK"
            }
          },
          "base_uri": "https://localhost:8080/",
          "height": 215
        },
        "id": "4D2uvkU2VkJ-",
        "outputId": "f61528cd-0841-459f-a931-b5b423a9c097"
      },
      "source": [
        "from google.colab import files\n",
        "files.upload()"
      ],
      "execution_count": 2,
      "outputs": [
        {
          "output_type": "display_data",
          "data": {
            "text/html": [
              "\n",
              "     <input type=\"file\" id=\"files-289a7de0-a173-4259-b3d0-9a9209ad689a\" name=\"files[]\" multiple disabled\n",
              "        style=\"border:none\" />\n",
              "     <output id=\"result-289a7de0-a173-4259-b3d0-9a9209ad689a\">\n",
              "      Upload widget is only available when the cell has been executed in the\n",
              "      current browser session. Please rerun this cell to enable.\n",
              "      </output>\n",
              "      <script src=\"/nbextensions/google.colab/files.js\"></script> "
            ],
            "text/plain": [
              "<IPython.core.display.HTML object>"
            ]
          },
          "metadata": {
            "tags": []
          }
        },
        {
          "output_type": "stream",
          "text": [
            "Saving Sample_Submission (2).csv to Sample_Submission (2).csv\n",
            "Saving Train_Data.csv to Train_Data.csv\n",
            "Saving Test_Data.csv to Test_Data.csv\n"
          ],
          "name": "stdout"
        },
        {
          "output_type": "execute_result",
          "data": {
            "text/plain": [
              "{'Sample_Submission (2).csv': b'prediction\\r\\n1\\r\\n1\\r\\n1\\r\\n1\\r\\n1\\r\\n1\\r\\n1\\r\\n1\\r\\n1\\r\\n1\\r\\n1\\r\\n1\\r\\n1\\r\\n1\\r\\n1\\r\\n1\\r\\n1\\r\\n1\\r\\n1\\r\\n1\\r\\n1\\r\\n1\\r\\n1\\r\\n1\\r\\n1\\r\\n1\\r\\n1\\r\\n1\\r\\n1\\r\\n1\\r\\n1\\r\\n1\\r\\n1\\r\\n1\\r\\n1\\r\\n1\\r\\n1\\r\\n1\\r\\n1\\r\\n1\\r\\n1\\r\\n1\\r\\n1\\r\\n1\\r\\n1\\r\\n1\\r\\n1\\r\\n1\\r\\n1\\r\\n1\\r\\n1\\r\\n1\\r\\n1\\r\\n1\\r\\n1\\r\\n1\\r\\n1\\r\\n1\\r\\n1\\r\\n1\\r\\n1\\r\\n1\\r\\n1\\r\\n1\\r\\n1\\r\\n1\\r\\n1\\r\\n1\\r\\n1\\r\\n1\\r\\n1\\r\\n1\\r\\n1\\r\\n1\\r\\n1\\r\\n1\\r\\n1\\r\\n1\\r\\n1\\r\\n1\\r\\n1\\r\\n1\\r\\n1\\r\\n1\\r\\n1\\r\\n1\\r\\n1\\r\\n1\\r\\n1\\r\\n1\\r\\n1\\r\\n1\\r\\n1\\r\\n1\\r\\n1\\r\\n1\\r\\n1\\r\\n1\\r\\n1\\r\\n1\\r\\n1\\r\\n1\\r\\n1\\r\\n1\\r\\n1\\r\\n1\\r\\n1\\r\\n1\\r\\n1\\r\\n1\\r\\n1\\r\\n1\\r\\n1\\r\\n1\\r\\n1\\r\\n1\\r\\n1\\r\\n1\\r\\n1\\r\\n1\\r\\n1\\r\\n1\\r\\n1\\r\\n1\\r\\n1\\r\\n1\\r\\n1\\r\\n1\\r\\n1\\r\\n1\\r\\n1\\r\\n1\\r\\n1\\r\\n1\\r\\n1\\r\\n1\\r\\n1\\r\\n1\\r\\n1\\r\\n1\\r\\n1\\r\\n1\\r\\n1\\r\\n1\\r\\n1\\r\\n1\\r\\n1\\r\\n1\\r\\n1\\r\\n1\\r\\n1\\r\\n1\\r\\n1\\r\\n1\\r\\n1\\r\\n1\\r\\n1\\r\\n1\\r\\n1\\r\\n1\\r\\n1\\r\\n1\\r\\n1\\r\\n1\\r\\n1\\r\\n1\\r\\n1\\r\\n1\\r\\n1\\r\\n1\\r\\n1\\r\\n1\\r\\n1\\r\\n1\\r\\n1\\r\\n1\\r\\n1\\r\\n1\\r\\n1\\r\\n1\\r\\n1\\r\\n1\\r\\n1\\r\\n1\\r\\n1\\r\\n1\\r\\n1\\r\\n1\\r\\n1\\r\\n1\\r\\n1\\r\\n1\\r\\n1\\r\\n1\\r\\n1\\r\\n1\\r\\n1\\r\\n1\\r\\n1\\r\\n1\\r\\n1\\r\\n1\\r\\n1\\r\\n1\\r\\n1\\r\\n1\\r\\n1\\r\\n1\\r\\n1\\r\\n1\\r\\n1\\r\\n1\\r\\n1\\r\\n1\\r\\n1\\r\\n1\\r\\n1\\r\\n1\\r\\n1\\r\\n1\\r\\n1\\r\\n1\\r\\n1\\r\\n1\\r\\n1\\r\\n1\\r\\n1\\r\\n1\\r\\n1\\r\\n1\\r\\n1\\r\\n1\\r\\n1\\r\\n1\\r\\n1\\r\\n1\\r\\n1\\r\\n1\\r\\n1\\r\\n1\\r\\n1\\r\\n1\\r\\n1\\r\\n1\\r\\n1\\r\\n1\\r\\n1\\r\\n1\\r\\n1\\r\\n1\\r\\n1\\r\\n1\\r\\n1\\r\\n1\\r\\n1\\r\\n1\\r\\n1\\r\\n1\\r\\n1\\r\\n1\\r\\n1\\r\\n1\\r\\n1\\r\\n1\\r\\n1\\r\\n1\\r\\n1\\r\\n1\\r\\n1\\r\\n1\\r\\n1\\r\\n1\\r\\n1\\r\\n1\\r\\n1\\r\\n1\\r\\n1\\r\\n1\\r\\n1\\r\\n1\\r\\n1\\r\\n1\\r\\n1\\r\\n1\\r\\n1\\r\\n1\\r\\n1\\r\\n1\\r\\n1\\r\\n1\\r\\n1\\r\\n1\\r\\n1\\r\\n1\\r\\n1\\r\\n1\\r\\n1\\r\\n1\\r\\n1\\r\\n1\\r\\n1\\r\\n1\\r\\n1\\r\\n1\\r\\n1\\r\\n1\\r\\n1\\r\\n1\\r\\n1\\r\\n1\\r\\n1\\r\\n1\\r\\n1\\r\\n1\\r\\n1\\r\\n1\\r\\n1\\r\\n1\\r\\n1\\r\\n1\\r\\n1\\r\\n1\\r\\n1\\r\\n1\\r\\n1\\r\\n1\\r\\n1\\r\\n1\\r\\n1\\r\\n1\\r\\n1\\r\\n1\\r\\n1\\r\\n1\\r\\n1\\r\\n1\\r\\n1\\r\\n1\\r\\n1\\r\\n1\\r\\n1\\r\\n1\\r\\n1\\r\\n1\\r\\n1\\r\\n1\\r\\n1\\r\\n1\\r\\n1\\r\\n1\\r\\n1\\r\\n1\\r\\n1\\r\\n1\\r\\n1\\r\\n1\\r\\n1\\r\\n1\\r\\n1\\r\\n1\\r\\n1\\r\\n1\\r\\n1\\r\\n1\\r\\n1\\r\\n1\\r\\n1\\r\\n1\\r\\n1\\r\\n1\\r\\n1\\r\\n1\\r\\n1\\r\\n1\\r\\n1\\r\\n1\\r\\n1\\r\\n1\\r\\n1\\r\\n1\\r\\n1\\r\\n1\\r\\n1\\r\\n1\\r\\n1\\r\\n1\\r\\n1\\r\\n1\\r\\n1\\r\\n1\\r\\n1\\r\\n1\\r\\n1\\r\\n1\\r\\n1\\r\\n1\\r\\n1\\r\\n1\\r\\n1\\r\\n1\\r\\n1\\r\\n1\\r\\n1\\r\\n1\\r\\n1\\r\\n1\\r\\n1\\r\\n1\\r\\n1\\r\\n1\\r\\n1\\r\\n1\\r\\n1\\r\\n1\\r\\n1\\r\\n1\\r\\n1\\r\\n1\\r\\n1\\r\\n1\\r\\n1\\r\\n1\\r\\n1\\r\\n1\\r\\n1\\r\\n1\\r\\n1\\r\\n1\\r\\n1\\r\\n1\\r\\n1\\r\\n1\\r\\n1\\r\\n1\\r\\n1\\r\\n1\\r\\n1\\r\\n1\\r\\n1\\r\\n1\\r\\n1\\r\\n1\\r\\n1\\r\\n1\\r\\n1\\r\\n1\\r\\n1\\r\\n1\\r\\n1\\r\\n1\\r\\n1\\r\\n1\\r\\n1\\r\\n1\\r\\n1\\r\\n1\\r\\n1\\r\\n1\\r\\n1\\r\\n1\\r\\n1\\r\\n1\\r\\n1\\r\\n1\\r\\n1\\r\\n1\\r\\n1\\r\\n1\\r\\n1\\r\\n1\\r\\n1\\r\\n1\\r\\n1\\r\\n1\\r\\n1\\r\\n1\\r\\n1\\r\\n1\\r\\n1\\r\\n1\\r\\n1\\r\\n1\\r\\n1\\r\\n1\\r\\n1\\r\\n1\\r\\n1\\r\\n1\\r\\n1\\r\\n1\\r\\n1\\r\\n1\\r\\n1\\r\\n1\\r\\n1\\r\\n1\\r\\n1\\r\\n1\\r\\n1\\r\\n1\\r\\n1\\r\\n1\\r\\n1\\r\\n1\\r\\n1\\r\\n1\\r\\n1\\r\\n1\\r\\n1\\r\\n1\\r\\n1\\r\\n1\\r\\n1\\r\\n1\\r\\n1\\r\\n1\\r\\n1\\r\\n1\\r\\n1\\r\\n1\\r\\n1\\r\\n1\\r\\n1\\r\\n1\\r\\n1\\r\\n1\\r\\n1\\r\\n1\\r\\n1\\r\\n1\\r\\n1\\r\\n1\\r\\n1\\r\\n1\\r\\n1\\r\\n1\\r\\n1\\r\\n1\\r\\n1\\r\\n1\\r\\n1\\r\\n1\\r\\n1\\r\\n1\\r\\n1\\r\\n1\\r\\n1\\r\\n1\\r\\n1\\r\\n1\\r\\n1\\r\\n1\\r\\n1\\r\\n1\\r\\n1\\r\\n1\\r\\n1\\r\\n1\\r\\n1\\r\\n1\\r\\n1\\r\\n1\\r\\n1\\r\\n1\\r\\n1\\r\\n1\\r\\n1\\r\\n1\\r\\n1\\r\\n1\\r\\n1\\r\\n1\\r\\n1\\r\\n1\\r\\n1\\r\\n1\\r\\n1\\r\\n1\\r\\n1\\r\\n1\\r\\n1\\r\\n1\\r\\n1\\r\\n1\\r\\n1\\r\\n1\\r\\n1\\r\\n1\\r\\n1\\r\\n1\\r\\n1\\r\\n1\\r\\n1\\r\\n1\\r\\n1\\r\\n1\\r\\n1\\r\\n1\\r\\n1\\r\\n1\\r\\n1\\r\\n1\\r\\n1\\r\\n1\\r\\n1\\r\\n1\\r\\n1\\r\\n1\\r\\n1\\r\\n1\\r\\n1\\r\\n1\\r\\n1\\r\\n1\\r\\n1\\r\\n1\\r\\n1\\r\\n1\\r\\n1\\r\\n1\\r\\n1\\r\\n1\\r\\n1\\r\\n1\\r\\n1\\r\\n1\\r\\n1\\r\\n1\\r\\n1\\r\\n1\\r\\n1\\r\\n1\\r\\n1\\r\\n1\\r\\n1\\r\\n1\\r\\n1\\r\\n1\\r\\n1\\r\\n1\\r\\n1\\r\\n1\\r\\n1\\r\\n1\\r\\n1\\r\\n1\\r\\n1\\r\\n1\\r\\n1\\r\\n1\\r\\n1\\r\\n1\\r\\n1\\r\\n1\\r\\n1\\r\\n1\\r\\n1\\r\\n1\\r\\n1\\r\\n1\\r\\n1\\r\\n1\\r\\n1\\r\\n1\\r\\n1\\r\\n1\\r\\n1\\r\\n1\\r\\n1\\r\\n1\\r\\n1\\r\\n1\\r\\n1\\r\\n1\\r\\n1\\r\\n1\\r\\n1\\r\\n1\\r\\n1\\r\\n1\\r\\n1\\r\\n1\\r\\n1\\r\\n1\\r\\n1\\r\\n1\\r\\n',\n",
              " 'Test_Data.csv': b'review\\r\\ngreat service food\\r\\npairing iphone could happier far\\r\\nplot hole pair fishnet stocking direction editing astonishingly ham fisted\\r\\nsurely doesnt know make coherent action movie screenwriter air force one obliged write script big sum money\\r\\nstill quite interesting entertaining follow\\r\\nknow gave\\r\\nguess known place would suck inside excalibur didnt use common sense\\r\\nim eating\\r\\nsound quality excellent well\\r\\npatio seating comfortable\\r\\nroast beef sandwich tasted really good\\r\\nliked\\r\\ndisappointment\\r\\nmovie join revenge boogeyman zombiez part hellish trinity horror film\\r\\nhated\\r\\ncouple month later returned amazing meal\\r\\nnever know pushed hard enough right number time function want\\r\\neating\\r\\ndecor nice piano music soundtrack pleasant\\r\\nwont forget movie\\r\\neverything description said would\\r\\nlove lane ive never seen movie lousy\\r\\nday later puff smoke came phone use\\r\\nsimply want small flip phone look elsewhere extra bell whistle mediocre\\r\\nlevel spicy perfect spice didnt overwhelm soup\\r\\nsuspense feeling frustration retarded girl\\r\\nthanks amazon thing need good price\\r\\nfirst thing happened tracking\\r\\ngood quality bargain bought bought cheapy big lot sounded awful people end couldnt hear\\r\\nreason eat would fill night binge drinking get carbs stomach\\r\\nshowed exactly government scientist argued humanity reason gadget\\r\\nim going eat potato found stranger hair\\r\\nlet girlfriend talk seeing bad idea hated\\r\\nnew character werent memorable found forgetting\\r\\ncooked perfection service impeccable\\r\\nwould recommend others\\r\\nprotects phone side\\r\\nservice terrible though\\r\\nwaited waited\\r\\nfood par dennys say good\\r\\ngave\\r\\nmediocre miserable hollow laughable predictable piece garbage\\r\\nhighly recommend device everyone\\r\\npoint friend basically figured place joke didnt mind making publicly loudly known\\r\\nfind cell phone right away enter car\\r\\nsimply excuse something poorly done\\r\\nsimple lightweight great fit\\r\\nnever ever go back\\r\\ncocktail handmade delicious\\r\\ntrying make call exercise frustration\\r\\ncertainly comfortable functionality decent\\r\\nleft stomach ache felt sick rest day\\r\\nwont try going back even empty\\r\\noh charger seems work fine\\r\\nhonest unbelievable nonsense foolish\\r\\nid expected better consumer experience motorola\\r\\ninternet access fine rare instance worked\\r\\nprice great deal\\r\\nhot dish hot cold dish close room tempo watched staff prepare food bare hand gloveseverything deep fried oil\\r\\nevery single character hilarious deserved called lead\\r\\nsave money ive item month\\r\\nutter crap sound quality terrible\\r\\nreceiving using product day broke\\r\\nmediocre every aspect becomes dull uninteresting mess one forgettable movie ive seen\\r\\nget signal verizon phone wont\\r\\nterrible service\\r\\nfind movie intelligent even masterful say intelligence imagination obviously used try make sense pitiful attempt human nature try make sense thing\\r\\nclassic maine lobster roll fantastic\\r\\npositive note server attentive provided great service\\r\\npretty piece junk\\r\\nenough said remarkable animation film\\r\\nspan hour two people exclaim whoa new phone tv\\r\\ndone second movie\\r\\nbreakfast perpared great beautiful presentation giant slice toast lightly dusted powdered sugar\\r\\nfile browser offer option one needshandsfree great\\r\\nvivian schilling excellent job script\\r\\neverything fine reasonable price ie\\r\\ncare consumer one bit\\r\\nhowever bt headset currently good real time game like firstperson shooter since audio delay mess\\r\\nhopefully bodes going business someone cook come\\r\\nfar good\\r\\nstaff super nice quick even crazy crowd downtown jury lawyer court staff\\r\\nget simply there nothing lower\\r\\nsad\\r\\nnever hard rock casino never ever step forward\\r\\navoid cost\\r\\nhowever recent experience particular location good\\r\\nomelet die\\r\\nservice quick friendly\\r\\ndisappointing accessory good manufacturer\\r\\nproduct cost much one expect work far better greater ease thing\\r\\ngood film great director\\r\\ndoesnt work\\r\\nhadnt wasted enough life poured salt wound drawing time took bring check\\r\\nreally vega fine dining used right menu handed lady price listed\\r\\nreversible plug work great\\r\\njabra ear gel r best\\r\\nsadly gordon ramseys steak place shall sharply avoid next trip vega\\r\\ncame free dvd player bought still turned thing halfway embarrassed howell\\r\\ngrandmother make roasted chicken better one\\r\\nid rather eat airline food seriously\\r\\nshare general loewenhielms exquisite joy partaking cailles en sarcophage even though watching movie wish small sample savor\\r\\ndont buy product\\r\\njerk phone\\r\\nkind flop around\\r\\ntry airport experience tasty food speedy friendly service\\r\\nscene often funny occasionally touching character evaluate life going\\r\\ngood film indeed great unconditional love\\r\\ngreat item\\r\\noverpriced getting\\r\\ncome back every time im vega\\r\\nprice reasonable flavor spot sauce home made slaw drenched mayo\\r\\nloved grilled pizza reminded legit italian pizza\\r\\nwaste money\\r\\nwarning stay away\\r\\nactor give wonderful performance especially jennifer rubin jamie harris change nervous starlet beginning strange event part cool star\\r\\nget incredibly fresh fish prepared care\\r\\npaid bill tip felt server terrible job\\r\\ndoesnt last long\\r\\ndialogue composed thing make little sense\\r\\nrickman stowe play role hilt tale childrens book writer maybe written subversive tract\\r\\nwould highly recommend\\r\\nverizon tech support walked procedure none worked ended hard reset wiping data\\r\\nalso great see renowned silent screenwriter france marion hasnt missed step going silent sound\\r\\nexcellent performance\\r\\nshort monumental waste time energy would recommend anyone ever see film\\r\\nfreeze frequently\\r\\ngood\\r\\nchicken deliciously seasoned perfect fry outside moist chicken inside\\r\\nworst software ever used could give zero star would\\r\\nsangria half glass wine full ridiculous\\r\\nworst hour half lifeoh gosh\\r\\nproduct exactly described\\r\\nfilm well paced understated one best courtroom documentary ive seen\\r\\ntotally different load understatement black comedy film get see remember\\r\\nred curry much bamboo shoot wasnt tasty\\r\\nadapter provide enough charging current\\r\\nthumb seller\\r\\nliked patio service outstanding\\r\\nim still infatuated phone\\r\\nconsider theft\\r\\nnew fav vega buffet spot\\r\\ndeath row scene entirely unmoving\\r\\ndeserves star\\r\\nloved mussel cooked wine reduction duck tender potato dish delicious\\r\\nattempting artiness black white clever camera angle movie disappointed became even ridiculous acting poor plot line almost nonexistent\\r\\none best bar food vega\\r\\ngave star im giving star\\r\\nawful\\r\\nlordy khao soi dish missed curry lover\\r\\ncouldnt figure\\r\\nhighly unrecommended\\r\\nhate disagree fellow yelpers husband disappointed place\\r\\nexceptionally bad\\r\\ndont know big deal place wont back yaall\\r\\ncharger arrived within promised timeframe work\\r\\nleather nice soft fit tight cut face good shape\\r\\nfilmiing le expansive\\r\\ndidnt know pulled pork could soooo delicious\\r\\nbattery last hour\\r\\ngreat phone\\r\\ngood show samsung\\r\\navoid establishment\\r\\ntruly unbelievably good glad went back\\r\\nenjoyed\\r\\ngot car charger even week charger brokeni went plug started smoking\\r\\nexcellent wallet type phone case\\r\\ncant use case smell disgusting\\r\\nmovie make sick watching slacker make excuse stupid action minute\\r\\nhigh hope place since burger cooked charcoal grill unfortunately taste fell flat way flat\\r\\nive bluetooth week really like\\r\\nfood delicious bartender attentive personable got great deal\\r\\nseriously solid breakfast\\r\\nconclusion filling meal\\r\\nplantain worst ive ever tasted\\r\\nprice reasonable service great\\r\\nwonton thin thick chewy almost melt mouth\\r\\nadvise look\\r\\ntried unit failed within month pro\\r\\npicked speed got right point\\r\\nkid annoying\\r\\nalso feel like chip bought made house\\r\\nreturned hour later\\r\\none table thought food average worth wait\\r\\ninsult profound deuchebaggery go outside smoke break serving solidify\\r\\nworst phone ever\\r\\nfood sucked expected sucked could imagined\\r\\nloudglad say plantronics maintains flawless connection cell static normal use\\r\\nscore mostly plot\\r\\nbattery work great\\r\\none peter watkins accessible film\\r\\nplace way overpriced mediocre food\\r\\nnicest restaurant owner ive ever come across\\r\\nstay vega must get breakfast least\\r\\ngood product good seller\\r\\nburrittos blah\\r\\nfirst time going think quickly become regular\\r\\nprice good free shipping good purchase\\r\\nstill waiting im sure item would work well ever recieve\\r\\ncame verizon cingulair nicer cell phone first thing noticed really bad service\\r\\nbad food damn generic\\r\\nphone fast sending kind message web browsing significantly faster previous phone used\\r\\neverything appalling\\r\\nnever go back place never ever recommended place anyone\\r\\nbattery life\\r\\nid like return\\r\\nlove sushi found kabuki overpriced overhip underservices\\r\\nstill maintain monkey shouldnt make headphone obviously dont share enough dna copy design human\\r\\nyear old nokia tracfone hold charge lot better\\r\\ngood stretch imagination\\r\\nbluetooth work phone lock screen flash make call randomly pocket locked\\r\\nbadwellits bad\\r\\ncomfortable fit need headset comfortable least hour time entire day\\r\\none better buffet\\r\\nlousy product\\r\\npredictable even chick flick\\r\\nnever condescends character good genuine heart believable problem\\r\\ngood quality though\\r\\nquit working id used month purchased another one best headset ive ever owned\\r\\nwind completely useless\\r\\nmuch better hard plastic case\\r\\nwork well\\r\\nsong could explain emotion subject better jay adam unfortunate life subject talk song old man neil young played evokes many emotion\\r\\nsteak recommended\\r\\nreception terrible full static\\r\\nfunny clever hip like prays previous film hype\\r\\ncant store anything phone number sim\\r\\ncustomize order way youd like usual eggplant green bean stir fry love\\r\\ndont afraid subtitle worth little aversion therapy\\r\\nwaited forty five minute vain\\r\\nmuch good food vega feel cheated wasting eating opportunity going rice company\\r\\ncould barely stomach meal didnt complain business lunch\\r\\nright case movie delivers everything almost right face\\r\\neveryone treated equally special\\r\\noriginality freshness first movie spent remake little else offer\\r\\nseasonal fruit fresh white peach puree\\r\\nwaitress friendly\\r\\ncheck\\r\\nnice spicy tender\\r\\nattractive set used throughout film eyepleasing gem\\r\\nnothing new\\r\\nvoice recognition thru handset excellent\\r\\ngreat restaurant mandalay bay\\r\\nstaff great ambiance great\\r\\nbad purchase\\r\\ndont buy\\r\\nsoundtrack wasnt terrible either\\r\\nconvoluted plot didnt convince much film watched weird questioning glance\\r\\nconsidering two u left full happy cant go wrong\\r\\nfilm terrible credit version watchable\\r\\nexcellent dualpurpose headset\\r\\natmosphere great lovely duo violinist playing song requested\\r\\nwish could enter negative value admins\\r\\nmovie terribly boring place\\r\\nkeyboard nice compromise full qwerty basic cell phone number keypad\\r\\nseller understanding patient would definitely buy\\r\\nplan ordering\\r\\nannoying thing cover girl way rita hayworth put pedestal\\r\\noverall psyched phone appointment contact get great reception\\r\\nfull unconvincing cardboard character blandly written edward chodorov also produced surprisingly directed jean negulesco one would expect great deal\\r\\nfriend loved salmon tartar\\r\\nhard make decent hamburger\\r\\ntwo seperated mere ft started notice excessive static garbled sound headset\\r\\nstill make super ending depicts great sea vessel taken mighty frost\\r\\nzillion time away reality\\r\\nseriously worth wasting kid time\\r\\nperhaps phone defective people hear use\\r\\ngood stuff price\\r\\ntonight elk filet specialand sucked\\r\\nngage still lacking earbuds\\r\\nupdate procedure difficult cumbersome\\r\\nuncomfortable sound quality quite poor compared phone razr previous wired headset plugged lg\\r\\nscreamy masculine right\\r\\nwarmth generates contrast austere backdrop\\r\\nfirst glance lovely bakery cafe nice ambiance clean friendly staff\\r\\nprobably irritating show ever seen entire life\\r\\nused dirty\\r\\nlike\\r\\naccent absolutely abysmal\\r\\npizza selection good\\r\\nhowever needed better instruction\\r\\ngreat phone\\r\\nworst martini ever\\r\\nmistake\\r\\nfound product easy set use\\r\\nwitty delightful adaptation dr seuss book brilliantly animated upas finest thoroughly deserving academy award\\r\\nunfortunately good\\r\\ngreat phone\\r\\nterrible phone holder\\r\\ncant explain movie romanticcharminghilariousand adorablethe junkyard scene funnyall junkyard dog something specialtoo funny laughedkids love itbuy come outit new feature\\r\\npredictable bad watch\\r\\nwork like charm work advertised\\r\\nregular toasted bread equally satisfying occasional pat butter mmmm\\r\\nsushi lover avoid place mean\\r\\nbest luck rude noncustomer service focused new management\\r\\nbiggest complaint battery drain superfast\\r\\nmuch hype phone assumed best mistake\\r\\naddition feel amp look phone lightweight cheap plastic\\r\\npurchased family friend enjoy clarity ease use\\r\\nim big fan series mostly due anne rice style sensitivity treatment\\r\\nnever bland food surprised considering article read focused much spice flavor\\r\\npossible way movie could redeemed would mstk fodder\\r\\nact film glad youre gon na drift away earth far possible\\r\\nphone slim light display beautiful\\r\\nfelt light tinny\\r\\nwant money back\\r\\nbuy want use holster\\r\\nrestored phone like new performance\\r\\nexcellent sound quality\\r\\nlike loud buzzing override conversation phone\\r\\nflavorful perfect amount heat\\r\\nnice design quality\\r\\nmacarons insanely good\\r\\nconclusion loved\\r\\nfood great always compliment chef\\r\\nsimple little phone use breakage unacceptible\\r\\nproduct ideal people like whose ear sensitive\\r\\ntried cable computer ipod work fine\\r\\nlove scream movie horror movie one rank way\\r\\nlove ending perfect youll shed tear thrilled seeing movie like never forget cult cult classic depth character man underneath malta setting dry barren dialogue movie terrible hockey scene terrible defensemen playing like theyre year old goalie diving shot foot wide net etc havent seen dont waste time call movie drama ridiculous started watching didnt believe character particular relationship bakery assistant waitress didnt work superficial movie gave feeling watching play rather film character stagey storyline lot like stage farce time pyromaniac waylaid assistant bored didnt care happened next switched glad didnt pay see didnt laugh even smile wasnt anything one big yawn really good show watch educational child year old barney definitely super de duper pretty funny babie bop cute kid cool storm trooper even bad enough make list wonderfully terrible movie\\r\\nfood delicious spicy enough sure ask spicier prefer way\\r\\nreceived order well within shipping timeframe everything good working order overall excited source\\r\\nconstantine give everything right intensity seems good understanding underlying psychological motivation\\r\\nyoull love thin\\r\\ndidnt realize wonderful short really last two scene\\r\\nalso make easier hold\\r\\neverything worked first trythe device certainly engineered clever way construction feel good\\r\\ngreat\\r\\ncrostini came salad stale\\r\\nwatched price inflate portion get smaller management attitude grow rapidly\\r\\nmany problem dont know start\\r\\nplot doesnt hang together acting absolutely appalling\\r\\nsearched internet found one best value\\r\\neverything could want suspense drama comedy confusing subplots native american brain eating youre looking beall endall brainsucking movie look\\r\\nseen movie definitely recommend\\r\\ngood protection make phone bulky\\r\\nsecond appearance mickey mouse following silent plane crazy earlier year probably famous filmmostly groundbreaking\\r\\nmovie seemed drag hero didnt really work freedom\\r\\nwanted\\r\\nthought youd venture away get good sushi place really hit spot night\\r\\npeople first timer film making think excellent job\\r\\nbelieve actor agreed film\\r\\ngreat food awesome service\\r\\nwant first say server great perfect service\\r\\nabsolutely great\\r\\neasy pair samsung cell\\r\\nomit watching\\r\\nfried rice dry well\\r\\nlosing marble early proceeding totally implausible unconvincing\\r\\nlong time since entertained movie\\r\\nalso phone dropped case going save specially dropped face\\r\\nmovie also revealing\\r\\ndisappointed battery\\r\\nive trouble accessing internet downloading ringtones performing function\\r\\ngreedy corporation never see another dime\\r\\ncheck voice mail night keypad backlight turn second first message im lost\\r\\nbad cause know family owned really wanted like place\\r\\nclear range ability pull part\\r\\nwaitress sweet funny\\r\\nchain im fan beat place easily\\r\\nline seem written fifteen year old though trying oh hard sound like fifteen year old would really um know well talk\\r\\nphone might well worst ive ever brand\\r\\ntalk great customer service course back\\r\\nhighly recommend modest priced cellular phone\\r\\naudio quality poor poor\\r\\nreally ugly\\r\\nmade sturdy\\r\\nworst customer service ever\\r\\nimdb rating go low awful time get negative number case\\r\\nget extra minute carry call get cut\\r\\nsweet potato tot good onion ring perfection close\\r\\ngreat earpiece\\r\\nwasted two hour\\r\\nfirst bathroom location dirty seat cover replenished plain yucky\\r\\npathetic attempt give character depth didnt really work rest plot\\r\\nrecommend igo anyone different brand cell phonesmp player family\\r\\ndidnt think instruction provided helpful\\r\\nfood good service good price good\\r\\nwriter gorman bechard undoubtedly homework reference industry characterage appropriate\\r\\ntried talking real loud shouting telephone get old still told wasnt great\\r\\ngood wearing hat sunglass\\r\\ngreat deal\\r\\nmonth worked flawlessly far\\r\\nmanna heaven terrific film predictable unpredictable time\\r\\nworthless product\\r\\ndisappointment hate anything go ear\\r\\ncant wait go back\\r\\nfind inexcusable probably returning phone perhaps changing carrier\\r\\nnonlinear narration thus many flashback every part articulated quite well\\r\\ncrash depressing little nothing provokes emotion teach nothing already know racism prejudice bad thing\\r\\nexcellent bluetooth headset\\r\\ngot phone reccomendation relative im glad\\r\\nmaintain connection computer lap\\r\\nsaw movie thought stupid movie\\r\\none favorite purchase ever\\r\\nfit comfortably came three size earbud tip\\r\\ngood price\\r\\nlast night second time dining happy decided go back\\r\\nasked bill leave without eating didnt bring either\\r\\nsteve martin delivers really funny performance middleaged upper class uptight white guy\\r\\nhowever pretty good acting least type film\\r\\nspicy enough perfect actually\\r\\nacting fantastic story seamlessly woven together dog splendid must rent view see\\r\\nminute waiting salad realized wasnt coming time soon\\r\\neven sweet moment\\r\\nshrimp unwrapped live mile brushfire literally ice cold\\r\\nlighting awful\\r\\ncharger worked week completely stopped charging phone\\r\\ndesign flaw\\r\\nworst piece crap ever along verizon customer service\\r\\neveryone attentive providing excellent customer service\\r\\nplace disgusting\\r\\ndining space tiny elegantly decorated comfortable\\r\\npleased headset\\r\\nconsider excellent story solid acting look film added bonus\\r\\nread others review havent problem\\r\\nim glad found product amazon hard find wasnt high priced\\r\\nhowever year fliptop started get loose wobbly eventually screen went black couldnt receive place call\\r\\nreception headset excellent\\r\\ndaily special always hit group\\r\\nimpressed product\\r\\nhan nan chicken also tasty\\r\\ngroup claimed would handled u beautifully\\r\\nhold charge long time reasonably comfortable longwearing condition quality sound tremendous\\r\\nmake mistake\\r\\naside terrible lead film load debit\\r\\nproblem ear loop made weak material break easily\\r\\ndesign good\\r\\nservice im fan quick youre served nice folk\\r\\nfianc came middle day greeted seated right away\\r\\neverything product wrongfirst\\r\\none boringpointless movie ever seen\\r\\nsprint charge service\\r\\nwont going back anytime soon\\r\\nlovely little thriller hitchcock lot nice shenanigan surrounding murdered spy kidnapped child nasty church foreign plot random taxidermist\\r\\ndevice great several situation\\r\\npricing bit concern mellow mushroom\\r\\nthing wasnt crazy guacamole dont like pured\\r\\nreally enjoyed crema caf expanded even told friend best breakfast\\r\\nbattery terrible\\r\\nwork good\\r\\ngo rent\\r\\nhour half wish could bring back\\r\\nsummer dine charming outdoor patio delightful\\r\\nlight easy use clear reception transmission\\r\\nrazr battery good buy\\r\\nneedle say wont going back anytime soon\\r\\ngood product incredible value\\r\\nleast said acting better\\r\\ndoesnt work bougth lc working\\r\\nservice great even manager came helped table\\r\\nexcellent\\r\\npretty good product\\r\\nlove place hit spot want something healthy lacking quantity flavor\\r\\ngo back next trip\\r\\navoid cost\\r\\nacting decidely wooden though worse period universal b movie\\r\\nbattery holding well\\r\\nopportunity today sample amazing pizza\\r\\nri style calamari joke\\r\\nsimply beautiful\\r\\nsaggy floppy piece junk\\r\\nwent happy hour great list wine\\r\\nive seen soap opera intelligent movie\\r\\nive better dedicated boba tea spot even jenni pho\\r\\nlove ringtones upbeat\\r\\ninsult one intelligence huge waste money\\r\\ndont many word say place everything pretty well\\r\\nphone load super\\r\\nive dropped phone time say even concrete phone still great knock wood\\r\\nblue ant easy use\\r\\ngreat place couple drink watch sporting event wall covered tv\\r\\nwork\\r\\ndidnt make scared horrified make sympathetic towards character simply annoying\\r\\nsat right time server get go fantastic\\r\\ndinner companion told meeverything fresh nice texture taste\\r\\nhopefully director james cox turn short feature length film cast win u whole new film\\r\\npainful ear\\r\\ngreat software motorolas\\r\\nwindresistant\\r\\nhappy product\\r\\nphone crashed completely get replaced\\r\\nisnt small family restaurant fine dining establishment\\r\\nhilarious yummy christmas eve dinner remember biggest fail entire trip u\\r\\nintegrated seamlessly motorola razr phone\\r\\ncon spotty service\\r\\nive better atmosphere\\r\\ninteresting decor\\r\\nopening sequence gem classic cat n mouse game follow delight watch\\r\\nrecommend confidence\\r\\neven stupid thought idea volcano los angeles\\r\\nim impressed concept food\\r\\nservice super friendly\\r\\nmust night place\\r\\nproduct high quality chinese crap\\r\\nnone new one ever quite worked properly\\r\\nsummary largely disappointing dining experience\\r\\naverage acting main person low budget clearly see\\r\\nchild truly enjoyed show proudly say enjoyed big time even classical wb cartoon\\r\\nblock amazing\\r\\nstory unbelievable actor\\r\\ninfuriating\\r\\nrating grade z note show bad even mother cast pull daughter show\\r\\nfood outstanding price reasonable\\r\\nsee film\\r\\nappetite instantly gone\\r\\nearth iron film\\r\\npretty satifying experience\\r\\nweek far good\\r\\nproduct great make working lot easier go copier waiting hold something\\r\\nphone get extremely hot\\r\\ngood enough price\\r\\ncouldnt take seriously\\r\\nconstruction headset poor\\r\\nwell keep thinking bad\\r\\nsad movie good\\r\\nhavent choked vomit end cheap drama worthless dialogue youve must bored death waste time\\r\\nisnt even achievement sobaditsgood sobaditsmemorable movie\\r\\nattractive appears good quality\\r\\nim really sure joeys voted best hot dog valley reader phoenix magazine\\r\\nwarranty problem reoccurebottom line put money somewhere else cingular support\\r\\nclassywarm atmosphere fun fresh appetizer succulent steak baseball steak\\r\\nunfortunately inexperience direction meant scene scene passed little way dramatic tension conflict\\r\\npromise wont disappoint\\r\\ndont trust website dont expect helpful support\\r\\ncant see movie inspiration anyone come overcome fear rejection\\r\\ndeeply impressed character played\\r\\nstrike want rushed\\r\\negg roll fantastic\\r\\nfriendly staff\\r\\nprompt service\\r\\nlove decor chinese calligraphy wall paper\\r\\noverall great experience\\r\\nrather enjoyed\\r\\nmovie contained allstar cast loved opened eye see actor havent seen\\r\\nbelieve place great stop huge belly hankering sushi\\r\\ngreat dinner\\r\\nsalad right amount sauce power scallop perfectly cooked\\r\\nhighly unprofessional rude loyal patron\\r\\nlot website rating good phone\\r\\nordered double cheeseburger got single patty falling apart picture uploaded yeah still suck\\r\\nbottowm lineanother worthless cheap gimmick sprint\\r\\nfilm ultracheap look\\r\\ndont accountant know im getting screwed\\r\\nimproper description return\\r\\nfailed convey broad sweep landscape great part original\\r\\nitem stated included description included\\r\\nwarm beer didnt help\\r\\nway fried\\r\\nwould definitely recommend jabra btv looking comfort clarity great price\\r\\nunreliable service tmobile\\r\\nreader already seen one miyazakis film still top form made another worthwhile experience\\r\\nreturn\\r\\nprobably hurry go back\\r\\nlovely usual cutie\\r\\ngotten lot compliment\\r\\ndont recommend unless car break front starving\\r\\nnice headphone price work great\\r\\npotato like rubber could tell made ahead time kept warmer\\r\\nhandsfree part work fine car try download address book treo rebootsoverall still rate device high\\r\\nalso serve indian naan bread hummus spicy pine nut sauce world\\r\\ngreat way finish great\\r\\nminute wait got table\\r\\nalso slim enough fit alarm clock docking station without removing case\\r\\nbad everyone else involved didnt share crowes level dedication quality wed far better film hand subpar mess\\r\\nside cafe serf really good food\\r\\nprosgood camera nice picture also cool style like black white\\r\\npoor product\\r\\nlove feature form factor\\r\\nhand best phone ive ever\\r\\nfrozen puck disgust worst people behind register\\r\\nstar trek v final frontier worst series\\r\\nyet run new battery two bar thats three day without charging\\r\\nthing like prime rib dessert section\\r\\nalso combo like burger fry beer decent deal\\r\\ncontinue pairing periodically since somehow kept dropping\\r\\ncharge cingular att phone\\r\\nambience perfect\\r\\ngenerous portion great taste\\r\\nconvenient since staying mgm\\r\\ncant relate hell barely understand\\r\\ndelete film mind\\r\\nphone unusable new\\r\\nduris wholesome appearance give fine performance\\r\\nbudget evidently limited\\r\\nnoise shield incrediable\\r\\nwaited thirty minute seated although vacant table folk waiting\\r\\nscript script\\r\\nample portion good price\\r\\none movie never cease interest simply keep alert try attempt decipher meaning\\r\\ncomplaint\\r\\nend day one worst bigbudget action movie ive ever seen\\r\\nstory unfolds th century jutland use period music played period instrument one fine touch\\r\\nthere horrible tick sound background call never experienced\\r\\nawesome\\r\\njohn garfield ann revere lilli plmer william conrad canada leeand filmed one greatest cinematographer ever grace screenjames wong howe\\r\\ndont waste money time\\r\\nquite disappointed although blame need placed door\\r\\nset especially designed work camera amazingstylized beautiful effective\\r\\nomg felt like never eaten thai food dish\\r\\ndefinitely turn doubt ill back unless someone else buying\\r\\nwear glass fit fine\\r\\nmeat pretty dry sliced brisket pulled pork\\r\\ncampy sort film thats joy watch\\r\\nkid play area nasty\\r\\nphone sounded ok great ok wife phone almost totally unintelligible couldnt understand word said\\r\\nmonth screen went black sudden\\r\\nservice stink\\r\\nattached gas station rarely good sign\\r\\ngood going review place twice hereas tribute place tribute event held last night\\r\\nfix problem\\r\\nexplosion gas tank end awful\\r\\nflair bartender absolutely amazing\\r\\nseen many movie starring jaclyn smith god one best though came year ago\\r\\nmature subtle script suggests occasionally brings dramatic focus underlying tension well served perfect performance apart odd inappropriate smiling keira knightley prone though perhaps direction time character often mention\\r\\nselection food best\\r\\nwont ever go\\r\\nsuperb phone great network\\r\\npiece trash\\r\\nlastly mozzarella stick best thing ordered\\r\\nacting alongside olivia de havilland brilliant ending fantastic\\r\\nservice meh\\r\\nseveral dozen several hundred contact imagine fun sending one one\\r\\ncompany joke\\r\\nlame\\r\\nreception generally good\\r\\nfit\\r\\nreasonably priced also\\r\\nfantastic earphone\\r\\nsergeant pepper beef sandwich auju sauce excellent sandwich well\\r\\nbug never showed would given sure side wall bug climbing kitchen\\r\\nwont say dont like spoiler dont want one believe film worth time\\r\\nwow bad film\\r\\ncase great work fine\\r\\nwont regret\\r\\nbattery working well replacement original came phone year ago\\r\\nnone tone acceptable\\r\\nnone engaging exciting\\r\\npeople couldnt hear talk pull earphone talk phone\\r\\nfurthermore cant even find hour operation website\\r\\nhighly entertaining angle\\r\\nwalked place smelled like old grease trap others eating\\r\\nthats id describe painfully dreary timewaster film\\r\\nhappy wonderful feel good ending\\r\\nwasnt expecting oscar material\\r\\nboyfriend sat bar completely delightful experience\\r\\none thing tolerate political incorrectness well im artistic freedom suspension disbelief slavic female character much\\r\\nvanilla ice cream creamy smooth profiterole chou pastry fresh enough\\r\\nawesome device\\r\\nplus buck\\r\\nloved really scary\\r\\nfish badly made underwater shot repeated thousand time film\\r\\nmay say buffet pricey think get pay place getting quite lot\\r\\noverall delight\\r\\nputting race card aside let look major flaw film destroy latifas character\\r\\nwont returning\\r\\nmobile phone tool must\\r\\ncast great\\r\\ndesign odd ear clip comfortable\\r\\ndefinitely come back\\r\\nexchanged phone even problem\\r\\ndamn good steak\\r\\nwould recommend\\r\\nmust study anyone interested worst sin industrial design\\r\\ntrouble volume\\r\\nwaited hour breakfast could done time better home\\r\\ngood value work fine power via usb car wall outlet\\r\\nwonderful experience made place muststop whenever town\\r\\ndisappointing\\r\\ncall drop phone come screen go black worst stop ringing intermittently\\r\\npicture resolution far comparablypriced phone offering today\\r\\near bud play music one ear\\r\\ndont think ill running back carlys anytime soon food\\r\\nutterly confusing first caused lose couple important contact\\r\\narent one make scene restaurant dont get itdefinitely lost love one\\r\\nstar\\r\\nmenu always changing food quality going service extremely slow\\r\\nunusable moving car freeway speed\\r\\ngreat sound effect impressive special effect cant recommend movie enough call nut think one best movie ever great character actor telly savalas peter boyle hour minute sheer tedium melodrama horrible acting mess script sinking feeling good lord thinking lot hole script like bad two hour tv movie imagine every single one decision made wrong dialogue atrocious acting beyond abysmal everything stink trouble writing directing make impossible establish thing make movie watchable like character story theme worse there incredibly weak subplot thrown follows little band latterday mansonites go reporter who working story anniversary killing dumb pointless complete waste time short dont bother movie wont spoil ending pretty amazing best scene movie end wont spoil ever indication writer director ability meld two highly volatile temperament seamless union creativity result powerhouse achievement made timely perhaps culture disturbing fascination celebrity distorted interpretation fame film easily forgotten kevin spacey excellent verbal tsunami buddy ackerman totally believable great actor scripting subtle comedy unmatched movie recent year character interesting even bit predictable highly recommended age although younger set probably appreciate subtle reference certainly appreciate one galley scene particular great movie also story acting weak around pm bought around pm started watch around pm fast forwarded remaining film see anything left watchable human brain wasnt either way suck script horrendously stupid story start fast absolutely suspense buildup slightest everything captain howdy say either laughable plain stupid hell kind crap there plot hole could drive semi truck hole linda cardellini thing good film shes poised amazing dee snider plain suck cant act one least scary villain ever seen cant write write damn movie sleep bored throughout whole damn thing acting suck music suck script suck pacing suck special fx suck directing suck basically movie suck film try serious sophisticated thrillerhorror flick fails miserably probably one least effective utterly unoriginal film ever seen entire life piece cinematic garbage captured celluloid avoid cost rate film stink funny fulci stayed giallo supernatural zombie movie avoid film cost dont know happened season five mess consistent thread holding series together amazing performance leni parker anita laselva two taelons quiet idealogical conflict movie really dislike one boring horror movie mainly start slow center boring atmosphere puppet look really cheesy good way like puppet master flick story lame interesting never really explains sinister origin puppet arent death scene like previous movie fx terrible felt asleep first time watched recommend insomniac fact film wonderful heartwarming tale two people chasing dream best part nurse betty unpredictability\\r\\nhappy far\\r\\ngreat phone\\r\\nhorrible\\r\\nnorthern humour positive community represents\\r\\npoor sound quality\\r\\nsound clear people talk amazed quality\\r\\nhighly doubt anyone could ever like trash\\r\\n',\n",
              " 'Train_Data.csv': b'review,sentiment\\r\\nthink robert ryans best film portrayed someone like father schizophrenic real lifemy father although never murdered anyone affected second world war made worse,1\\r\\njuano hernandez exceptional actor played supporting role many film era proud black man accused murdering white man south,1\\r\\nshocked sign indicate cash,0\\r\\nsat another ten minute finally gave left,0\\r\\nigo charger tip really great,1\\r\\nsmall sleek impressive looking practical setup ample storage place,1\\r\\nwind lion see wonderful rendering america imperial age,1\\r\\nterrible,0\\r\\ncute quaint simple honest,1\\r\\nvolume ringer real good choice loud,1\\r\\nsmall worth price,0\\r\\nworked well paired treo w skype headset pc using usb bluetooth transceiver,1\\r\\nstopped late may bank holiday rick steve recommendation loved,1\\r\\noverall disappointed quality food bouchon,0\\r\\nreally awful,0\\r\\nchip salsa really good salsa fresh,1\\r\\nbother contacting company dollar product learned lesson bought form online anyway,0\\r\\ngood servicecheck,1\\r\\ninternet excrutiatingly slow,0\\r\\ngreat would really recommend,1\\r\\nsuccess film depends casting sydney greenstreet alexander yardley character,1\\r\\nmovie edge seat made somewhat afraid go car end night,1\\r\\nclear quality sound dont mess sound ipod since sound button headset,1\\r\\nchecked place couple year ago impressed,0\\r\\nawful,0\\r\\nrefried bean came meal dried crusty food bland,0\\r\\ncould recommend,0\\r\\ndont make mistake please dont buy phone,0\\r\\none want surf small wave space movie deep impact armageddon one fails everywhere,0\\r\\ndoesnt job,0\\r\\ngreat reception time,1\\r\\nfeelgood film thats felt came cinema,1\\r\\nbeautiful phone,1\\r\\nlove pho spring roll oh yummy try,1\\r\\nserver great job handling large rowdy table,1\\r\\ndoesnt make look cool,0\\r\\ncinematography noteworthy including fine view barcelona famed gaudi tower,1\\r\\ncharging overnight battery work great,1\\r\\nwont disappointed,1\\r\\nwork great,1\\r\\nback,0\\r\\nselection menu great price,1\\r\\ngreat tool entertainment communication data managementoh sure use activesync optimal data synchronization result,1\\r\\nclipping belt deffinitely make feel like cent upandcoming,1\\r\\nnano stated itmy son dissapointed,0\\r\\nalso difficult put onid recommend avoiding product,0\\r\\nstupid,0\\r\\nthing really worth watching scenery house beautiful,1\\r\\nlook nice,1\\r\\nday week different deal delicious,1\\r\\nheadset fulfills requirement happy purchase,1\\r\\nwould recommend item anyone,0\\r\\nexcellent product price,1\\r\\ngreat new packaged nice work good problem came le time expected,1\\r\\nsoyo technology suck,0\\r\\nowner really really need quit soooooo cheap let wrap freaking sandwich two paper one,0\\r\\nmuch better ayce sushi place went vega,1\\r\\nrecently problem could stay connected minute disconnected,0\\r\\ndoesnt hold charge,0\\r\\nworked perfectly,1\\r\\necho problemvery unsatisfactory,0\\r\\nlooking movie terrific cast good musicincluding shirley jones rendition way look tonight uplifting ending give one try,1\\r\\nfood excellent service good,1\\r\\nservice quick even go order like like,1\\r\\ngood quality,1\\r\\nbipolarity ruthless thug one minute ruthless killer next minute luvs diaper commercial completely unconvincing,0\\r\\nreading please dont go,0\\r\\nalso area unit broke im fond magnetic strap,0\\r\\nspecial mention made superb music score sound effect integral element helping make memorable enjoyable cartoon,1\\r\\ncome hungry leave happy stuffed,1\\r\\npossesed get junk idea,0\\r\\nitem match picture,0\\r\\nfit like glove strong secure durable,1\\r\\nlearn lot real inside emotion people movie lot movie business,1\\r\\nsay dessert yummy,1\\r\\nseems completely secure holding belt keeping iphone inside,1\\r\\nsanyo survived dozen drop blacktop without ill effect,1\\r\\nphone hold charge like new,1\\r\\nlike reviewer said couldnt pay eat place,0\\r\\nhappy,1\\r\\nfit ear well comfortable,1\\r\\ngreat touch,1\\r\\nburger absolutely flavor meat totally bland burger overcooked charcoal flavor,0\\r\\nfilm nothing pretext show ridiculous action scene,0\\r\\nlow quality,0\\r\\nlooking good quality motorola headset keep looking isnt,0\\r\\ndont know exactly movie latched endearing movie become special part family memory,1\\r\\npiece junk lose call phone,0\\r\\nsprint terrible customer service,0\\r\\nawesome selection beer,1\\r\\nsatisfied cell phone day one,1\\r\\nlead man charismafree,0\\r\\nblew,0\\r\\nwear everyday hold well,1\\r\\nlook good picture case huge disappointment,0\\r\\npale color instead nice char flavor,0\\r\\nserious spoiler movie huge disappointment,0\\r\\ntrying many many handsfree gadget one finally work well,1\\r\\none best italian thriller early,1\\r\\nbought nokia cell phone week ago nightmare,0\\r\\nunfortunately cover girl example hollywood used exploit woman financial gain,0\\r\\none best movie show strong sibling bond,1\\r\\nbest ive found far ive tried bluetooths one best quality listener well ease using,1\\r\\nstill like movie empowerment woman there enough movie like one,1\\r\\ngreat jawbone,1\\r\\nfood terrible,0\\r\\nthats rightthe red velvet cakeohhh stuff good,1\\r\\nfood amazing,1\\r\\nbattery life still long enough motorola razor vi,0\\r\\ncertainly mean distinction good way,0\\r\\nspaghetti nothing special whatsoever,0\\r\\nreally created unique feeling though,1\\r\\nfood good,1\\r\\nreally fantastic thai restaurant definitely worth visit,1\\r\\npoor batter meat ratio made chicken tender unsatisfying,0\\r\\none watched recently fox movie channel disappointed,0\\r\\nwell im satisfied,1\\r\\npoor service waiter made feel like stupid every time came table,0\\r\\nwont go back,0\\r\\ncrisp clear,1\\r\\nback,0\\r\\nawsome device work great,1\\r\\ndefinitely worth checking,1\\r\\nhackneyed writing certainly made even worse bad directing,0\\r\\ncourse footage grainy enhanced film,1\\r\\nexactly wanted,1\\r\\nmovie almost action scene little comedy,0\\r\\nwaiter attentive friendly informative,1\\r\\natmosphere modern hip maintaining touch coziness,1\\r\\nordered voodoo pasta first time id really excellent pasta since going gluten free several year ago,1\\r\\nalso ordered spinach avocado salad ingredient sad dressing literally zero taste,0\\r\\nseated immediately,1\\r\\ninstruction manual lacking,0\\r\\nproblem others mentioned,0\\r\\nfood good enjoyed every mouthful enjoyable relaxed venue couple small family group etc,1\\r\\ndirector paul matthew also wrotedirected weak monster movie grim clearly doesnt know pace film,0\\r\\nacting whole cast could put scale balanced perfectly overacting underacting,0\\r\\ntelephone repair man really funny reaction nut bitchy bos truly genuine,1\\r\\ngood item low price,1\\r\\nwaitress friendly happy accomodate veganveggie option,1\\r\\nfood tasty say real traditional hunan style,0\\r\\nwaitress good though,1\\r\\nseriously good pizza im expertconnisseur topic,1\\r\\ngreat headset impressed h,1\\r\\nlong time didnt see charismatic actor screen,1\\r\\nmicrophone also work well according people called applifies everything,1\\r\\nwaited hour never got either pizza many around u came later,0\\r\\nexcellent restaurant highlighted great service unique menu beautiful setting,1\\r\\nknow jim oconnor energetic nobody could much george well dull,0\\r\\ntoday first taste buldogis gourmet hot dog tell ever thought possible,1\\r\\ndrink never empty made really great menu suggestion,1\\r\\ndont waste time,0\\r\\nmuddy low quality sound casing around wire insert poorly super glued slid,0\\r\\nsound good reasonably priced effective simple,1\\r\\nart style appearance crayonpencil drawing wonderfully colorful fanciful,1\\r\\ndisappointment,0\\r\\nexquisite visual composition moment inventive elegant use closeup camera angle lighting including pointillistic faux home movie footage wonder joy behold,1\\r\\nsending back,0\\r\\nbutton bad,0\\r\\nproduct cover important light sensor ear outlet,0\\r\\nfact liked better interview vampire liked lestat stuart townsend better cruise attempt,1\\r\\nthought errol flynn brilliant custer since become favourite actor,1\\r\\ncase would order another,1\\r\\nill looking new earpiece,0\\r\\nwant sandwich go firehouse,1\\r\\nshameful,0\\r\\nwasnt busy either also building freezing cold,0\\r\\nfolk otto always make u feel welcome special,1\\r\\nnothing recommend,0\\r\\nalso fry without doubt worst fry ive ever,0\\r\\nimpressed,0\\r\\nreal sushi lover let honest yama good,0\\r\\nrate movie,1\\r\\ntrue classic,1\\r\\neaten multiple time time food delicious,1\\r\\nbrilliant twist ending,1\\r\\ncall steakhouse cant properly cook steak dont understand,0\\r\\nreally didnt seem want hosting voiceovers monotonous didnt get involved guest,0\\r\\npremise film ridiculous president u,0\\r\\ngenerally lacked imagination,0\\r\\nfar best cheesecurds ever,1\\r\\nmacbeth jason connery moved tear final monolog brief candle outhe gave sphere moral decay dark force human face make interesting,1\\r\\nvirgin wireless rock cheap little phone,1\\r\\nreally like product motorola allot clearer ear piece mic,1\\r\\nbad character bad story bad acting,0\\r\\nstupid keep buying new charger car charger cradle headphone car kit every time new phone come,0\\r\\nim trying return refund,0\\r\\npractically useless add kind boost reception bought,0\\r\\ninstruction didnt explain microphone jack could used,0\\r\\nhot sour egg flower soup absolutely star,1\\r\\nwanted,1\\r\\nokay like consider fair critic ill give credit credit duethe creature effect actually pretty cool,1\\r\\nfood average,0\\r\\npersonally love hummus pita baklava falafel baba ganoush amazing eggplant,1\\r\\nhandle tough issue dignity grace course shocking spoiler,1\\r\\nhear garbage audio,0\\r\\nhowever seeing short year amazed timeless film actually,1\\r\\nlogitech bluetooth headset,1\\r\\nfeature outlandish array memorable psychotic lovable nut,1\\r\\nfrozen margarita way sugary taste,0\\r\\nstaff friendly joint always clean,1\\r\\nback many time soon,1\\r\\nim happy,1\\r\\nbuffet small food offered bland,0\\r\\nbad pay month service,0\\r\\nworking great,1\\r\\njulian fellowes triumphed,1\\r\\ngo see,1\\r\\nlinksys way exchange bad phone refurb unit something,0\\r\\nowner used work nobu place really similar half price,1\\r\\nfood really boring,0\\r\\ngot sitting fairly fast ended waiting minute place order another minute food arrived,0\\r\\nscreen size big key pad lit well enough camera quality excellent camera phone,1\\r\\nperabo nice energy level obviously comfortable front camera,1\\r\\nopen battery connection broken device turned,0\\r\\nknow make,1\\r\\ngood service clean inexpensive boot,1\\r\\ninteresting part town place amazing,1\\r\\nwatching washing machine twirling around wouldnt hurt eye much show,0\\r\\nill give film,1\\r\\ngreat product price,1\\r\\nbrilliant,1\\r\\ngreat bluetooth,1\\r\\nseafood limited boiled shrimp crab leg crab leg definitely taste fresh,0\\r\\nservice slow attentive,0\\r\\nplease stay away shrimp stir fried noodle,0\\r\\nreally loved story line poler bear kinda cutebut anyone question fort steele ask away,1\\r\\nphone also take great picture even video clip,1\\r\\nuse smallest earpiece provided stay pretty well,1\\r\\nguess maybe went night disgraceful,0\\r\\nbased subpar service received effort show gratitude business wont going back,0\\r\\nperfect someone like beer ice cold case even colder,1\\r\\nbest taco town far,1\\r\\ndefinitely good,1\\r\\ncant believe there even sequel,0\\r\\nnever walked movie faster,0\\r\\nhate writing bad review film especially really like star film bad dont believe one second anyone could proud,0\\r\\nguess supposed clever twist shed light situation stupid,0\\r\\nboyfriend tried mediterranean chicken salad fell love,1\\r\\npopular cinema good house good reaction plenty laugh,1\\r\\ndisappointed,0\\r\\nprobably dirt,0\\r\\nbattery life highly unacceptable,0\\r\\neither cold enough flavor bad,0\\r\\nnew battery work great phone,1\\r\\nmediocre food,0\\r\\ngood hoped,0\\r\\nfilm lack real scare tension medical terminology used throughout bit iffy say least say insulin dependant diabetic,0\\r\\nwork fine motorola cellphone lot better wornout battery,1\\r\\none work priced right,1\\r\\nwife lobster bisque soup lukewarm,0\\r\\nliked movie way much,1\\r\\nscript look rough draft written shooting began finished script completed,0\\r\\nfound six inch long piece wire salsa,0\\r\\nlove look feel samsung flipphones,1\\r\\nwarning buy,0\\r\\nfood barely lukewarm must sitting waiting server bring u,0\\r\\nevery element story top excessively phony contrived painful sit,0\\r\\nclick place way make wonder long mechanism would last,0\\r\\nmovie cutting edge,1\\r\\nbest headset used,1\\r\\nchef generous time even came around twice take picture,1\\r\\nfit securely ear hook even need used sound better directed ear canal,1\\r\\nhard judge whether side good grossed melted styrofoam didnt want eat fear getting sick,0\\r\\nphone working fine,1\\r\\ncase best part download picture laptop using ir even send picture laptop phone,1\\r\\ncould take video time quality poor,0\\r\\ntied charger conversation lasting minutesmajor problem,0\\r\\nkathy bates wonderful character subtle desperation escapism variation character play field lord,1\\r\\nfilm offer many delight surprise,1\\r\\ndont waste one,0\\r\\nbetter youd expect,1\\r\\nimpressed price case,1\\r\\nfantastic service pleased atmosphere,1\\r\\natmosphere fun,1\\r\\nworst salmon sashimi,0\\r\\nvegetable fresh sauce feel like authentic thai,1\\r\\nmovie kind long length enjoyed every minute,1\\r\\nproblem script,0\\r\\ndont buy product,0\\r\\ngreat food,1\\r\\ntragedy struck,0\\r\\nwow spicy delicious,1\\r\\neverything menu terrific also thrilled made amazing accommodation vegetarian daughter,1\\r\\nthoroughly disappointed,0\\r\\nexcellent product satisfied purchase,1\\r\\nhalf way film started dislike,0\\r\\nfood quality horrible,0\\r\\nproduct useless since enough charging current charge cellphone planning use,0\\r\\nput latest o vg like slow crawl lock every,0\\r\\ndont think well going back anytime soon,0\\r\\none worst show time,0\\r\\nforeigner worth one second time,0\\r\\ndont yet hear mickey speak ton sound effect music throughout filmsomething take granted huge crowd pleaser,1\\r\\nowner super friendly staff courteous,1\\r\\nawful service,0\\r\\none worst sandra bullock movie since speed quite bad,0\\r\\nabsolute must visit,1\\r\\ngood value great food great service,1\\r\\nwaste money,0\\r\\nmovie possibly one creative work horror ever,1\\r\\ngreat using home stereo,1\\r\\ngreat camera thats mp pic nice clear great picture quality,1\\r\\ncrpe delicate thin moist,1\\r\\nwonderful lil tapa ambience made feel warm fuzzy inside,1\\r\\nlike final blow,0\\r\\ngood beer drink selection good food selection,1\\r\\nknew saw film great thing come gifted actor,1\\r\\nwinner u,1\\r\\npoor construction,0\\r\\nmortified,0\\r\\nonscreen chemistry critical entire film genuine,1\\r\\nverizon lg phone work well together good reception range exceeds foot line sight,1\\r\\nthink wonderful part literally full wonder excerpt work,1\\r\\nfound product waaay big,0\\r\\nnever got,0\\r\\nlove phone,1\\r\\nwaiter jerk,0\\r\\nspeaking music unbearably predictably kitchy,0\\r\\nkeep good work amazon,1\\r\\nlight plenty battery capacity confortable wear somewhat extended period time,1\\r\\nbarely ever hear constantly saying,0\\r\\nalso decided send back waitress looked like verge heart attack,0\\r\\nsetting,0\\r\\nhowever girl complain time phone doesnt wake like normal phone,0\\r\\nsoggy good,0\\r\\nbest headset ever,1\\r\\ngreat phone,1\\r\\ndisplay excellent camera good year,1\\r\\nfather v battery dying,0\\r\\nservice bit lacking,0\\r\\npotato chip order sad could probably count many chip box probably around,0\\r\\nrefuse refund replace,0\\r\\nmade drive way north scottsdale one bit disappointed,1\\r\\nwould recommend saving room,1\\r\\ndesign might ergonomic theory could stand ear,0\\r\\nusable keyboard actually turn pda realworld useful machine instead neat gadget,1\\r\\nexcellent service,1\\r\\nmain also uninspired,0\\r\\nreally like crepe station,1\\r\\ndisbelief dish qualified worst version food ever tasted,0\\r\\nmovie showed lot florida best made look appealing,1\\r\\nnetwork coverage los angeles horrible,0\\r\\ntechnically film well made impressive camerawork solid acting effective music riz ortolani particularly good recurring unaccompanied female vocal sound like coming distant hill,1\\r\\npleather case doesnt fit,0\\r\\nperfect sitdown family meal get together friend,1\\r\\nwould recommend item,1\\r\\near loop needed tiny sound great,1\\r\\nrest cast also play well,1\\r\\nlifetime air enough anyone know store sell let know musthave,1\\r\\nbacon hella salty,1\\r\\nfavorite place town shawarrrrrrma,1\\r\\nyes simplifying thing sake brevity really core problem film much going without real fulfilling explanation,0\\r\\nbean rice mediocre best,0\\r\\nacting bad dialog extremely shallow insincere,0\\r\\nsaid abovepretty useless,0\\r\\nawesome new look fall,1\\r\\nscene strong unpleasant,0\\r\\npaolo sorrentino written wonderful story loneliness tony built one unforgettable character seen movie recent year,1\\r\\nusually dont like headband one lightweight doesnt mess hair,1\\r\\nhorrible dont waste time money,0\\r\\ngreat price,1\\r\\nprecisely giving bad review,0\\r\\nasked multiple time wine list time ignored went hostess got one,0\\r\\nguess liked detail dysfunctionhe believable,1\\r\\nfirst reception suck never bar ever,0\\r\\nwaste time,0\\r\\nim surprised good quality car charger there much review,1\\r\\nitalian reviewer called small great film thats right,1\\r\\nplace,1\\r\\nusing earpiece left right thing stay ear,0\\r\\nmovie interesting beginning end,1\\r\\nwork,1\\r\\ngetting angry want damn pho,0\\r\\nwait minute get drink longer get arepas,0\\r\\nlook great strong,1\\r\\npleasant voyage selfdiscovery,0\\r\\nwould highly recommend product,1\\r\\nwont regret,1\\r\\nacting youd expect cast top notch,1\\r\\nwatched two sunday ago march th began really enjoy time taped entire thing,1\\r\\nlove phone handy lot feature,1\\r\\nwould advise purchase item never worked well,0\\r\\npeople like european film art movie like movie,1\\r\\nreally recommend faceplate since look nice elegant cool,1\\r\\notherwise dont even waste time,0\\r\\nitem great installed let charged overnite working good every since problem,1\\r\\nimpressed job motorola sturdiness phone,1\\r\\nextremely crumby pretty tasteless,0\\r\\nnothing believable,0\\r\\neasy use,1\\r\\nreally hope team behind movie make movie continue kinda weird style,1\\r\\nliked movie like matrix better yet sequel think youll appreciate thought provoking mindblowing experience film give,1\\r\\nuseless phone simply deaf,0\\r\\ncommercial misleading,0\\r\\npleased see could replace well travled swivel holster blackberry flip,1\\r\\nwont back,0\\r\\nbathroom clean place well decorated,1\\r\\nlove headset,1\\r\\nwell made fit surefire gx perfectly,1\\r\\ngot food apparently never heard salt batter fish chewy,0\\r\\nfrankly cotton club unfaithful kind embarrassing watch lane gere film bad,0\\r\\nservice exceptional food good review,1\\r\\nawesome service food,1\\r\\nreflected cast also belowpar script borrowed much earlier classic,0\\r\\neven allowing poor production value time format kind miniseries baaaaaad,0\\r\\namazon suck,0\\r\\nmany continuity error one user commented different car garage joes glassesthe one got fact joes facial hair configuration seemed change scene scene,0\\r\\ncouldnt ask satisfying meal,1\\r\\nuser friendly,0\\r\\nknow emilio estevezs directorial debut pacing interplay development character well clever camera work surrounding character estevez play suggest natural eye,1\\r\\nfavor stay away dish,0\\r\\nworked well,1\\r\\nkris kristoffersen good movie really make difference,1\\r\\nlight weight hardly notice,1\\r\\nworst customer service,0\\r\\nleft frustrated,0\\r\\nbad experience,0\\r\\nplantronics bluetooth excelent buy,1\\r\\nservice good company better,1\\r\\nget better reception clarity phone ive,1\\r\\nfood good typical bar food,1\\r\\nworst thai ever,0\\r\\nloos connection phone even within couple foot two,0\\r\\nserver nice attentive serving staff,1\\r\\nplace overpriced consistent boba really overpriced,0\\r\\ndefinitely bargain,1\\r\\nservice poor thats nice,0\\r\\nsound quality great,1\\r\\nfirst time might last,0\\r\\nordered lemon raspberry ice cocktail also incredible,1\\r\\ndisappointed accessoryone,0\\r\\nsweet potato fry good seasoned well,1\\r\\nplug work well,0\\r\\nwaste,0\\r\\nbrain attempt shutdown part primal impulse selfpreservation,0\\r\\nmusic film really nice,1\\r\\ntwo year left contract hate phone,0\\r\\nyear however reminded u huston still top game evinced faithful adaptation james joyce acclaimed novella dead,1\\r\\ndisappointing dinner went elsewhere dessert,0\\r\\ndont understand garbage got shelf movie store even real movie,0\\r\\nthree broke within two month use,0\\r\\nwasnt watched film realised great actually,1\\r\\ngive try happy,1\\r\\nplace first pho amazing,1\\r\\nlucy bell much higher crap sink low quite depressing,0\\r\\nbuyer beware could flush money right toilet,0\\r\\nchinese forgery abound,0\\r\\nexpect good,1\\r\\nresult well shame,0\\r\\ntransfer good,1\\r\\nfunny,1\\r\\ncustomer service terrible,0\\r\\nshipping time also quick,1\\r\\nalways known errol flynn brilliant actor dad favourite actor grew watching film child,1\\r\\nid say would hardest decision honestly m dish taste supposed taste amazing,1\\r\\nill definitely soon,1\\r\\ntried go lunch madhouse,0\\r\\nexcellent sound battery life inconspicuous boot,1\\r\\ncourtroom drama compelling indictment american justice system frightening,1\\r\\nmovie seemed little slow first,0\\r\\ndrain,0\\r\\ngot food poisoning buffet,0\\r\\nim side town definitely spot ill hit,1\\r\\ngreat film great director,1\\r\\ndespite flaw case exceptional quality well worth additional cost owning official oem product,1\\r\\nsmall dont even realize getting used,1\\r\\nreplacement died week,0\\r\\none simply disappointment,0\\r\\ngoing since every meal awesome,1\\r\\nreally nice atmosphere,1\\r\\ngood case,1\\r\\nfood average best,0\\r\\nalso didnt like button felt like would crack use,0\\r\\nhavent gone go,1\\r\\nquite comfortable ear,1\\r\\nhowever much garlic fondue barely edible,0\\r\\nbuy different phone,0\\r\\ndisappointing,0\\r\\nbartender also nice,1\\r\\ngreatno problem,1\\r\\ngood battery got really fast,1\\r\\nshower area outside rinse take full shower unless dont mind nude everyone see,0\\r\\ngreat product,1\\r\\nlast time lunch bad,0\\r\\ncame running u realized husband left sunglass table,1\\r\\nsure lost flat character audience nearly half walked,0\\r\\nknow made wise decision,1\\r\\nmother brother thiswhen saw robert ryan portraying type man good imitation type individual impressed,1\\r\\nfood isnt bad enough enjoy dealing world worstannoying drunk people,0\\r\\ncheap hey work pleasantly suprised given low cost item,1\\r\\nediting editing film phenomenal opinion,1\\r\\nlittle geeky think thats sex toast rock ooze sex right battery embedded sleek stylish leather case,1\\r\\nawesome movie bought ebay,1\\r\\ntruly awful,0\\r\\ndropped ball,0\\r\\nhayao miyazakis latest eighth film studio ghibili gake ue ponyo ponyo cliff sea wonderfully fun imaginative look childhood,1\\r\\npiece crap,0\\r\\nchemistry ben affleck sandra bullock film couldnt understand would consider even leaving wifetobe chick supposedly knocked,0\\r\\ndefinitely one better documentary seen looking family relationship marriage,1\\r\\nmenu diverse reasonably priced,1\\r\\nplastic break really easy clip,0\\r\\nfood rich order accordingly,1\\r\\nfood great serivce,1\\r\\nworth checking,1\\r\\nneedle say wasted money,0\\r\\nfit,0\\r\\nburger amazing,1\\r\\norder correct,0\\r\\npurcashed car charger work,0\\r\\nassure wont disappointed,1\\r\\ntotal waste time,0\\r\\ntoday second time ive lunch buffet pretty good,1\\r\\nlooked like wonderful story,1\\r\\nvisual effect awful,0\\r\\nstopped place madison ironman friendly kind staff,1\\r\\nserver super nice checked u many time,1\\r\\npacked,0\\r\\nplay louder speaker size price low would think quality lacking however,1\\r\\ntake little bad service food suck,0\\r\\ncould serve vinaigrette may make better overall dish still good,1\\r\\nlast forever overly expensive replaceeasy operate sound much better others tried,1\\r\\nkiller dont expect anything original even remotely frightening,0\\r\\ndefinitely worth paid,0\\r\\nsometimes embarrassing look away,0\\r\\nive never treated bad,0\\r\\nexcellently produced one scifis best producer scot vandiver,1\\r\\nbelieve pitch black done well,1\\r\\nhighly recommend movie anyone interested art poetry theater politics japanese history,1\\r\\nchicken pho tasted bland,0\\r\\nmovie littered overt racial slur towards black cast member return white depicted moron boob,0\\r\\nkept getting worse worse im officially done,0\\r\\nsimply best bluetooth headset sound quality,1\\r\\nten minute film started second thought,0\\r\\nthus far visited twice food absolutely delicious time,1\\r\\ncool,1\\r\\nalso great directing photography,1\\r\\ndefinitely would eat,0\\r\\ncolor even prettier thought would graphic incredibly sharp,1\\r\\nscript bad bad contains cheesiness unethical joke normally see rated r nc movie,0\\r\\nsteak amazingrge fillet relleno best seafood plate ever,1\\r\\nhold phone particular angle party hear clearly,0\\r\\nadorable seeing mickey playing turkey straw highly imaginative occasionally cruel way,1\\r\\nmovie good humorous comment life,1\\r\\nthought acting skilled,1\\r\\nlast minute movie also bad well,1\\r\\nsteamboat willie amazingly important film cinema history,1\\r\\nactor truly understand become particular character delivering convincing sincere performance,1\\r\\nproblem wit hit dropping signal,0\\r\\nveggitarian platter world,1\\r\\ndisappointing,0\\r\\nsister one also love,1\\r\\ngood year ago,1\\r\\nhighly recommended,1\\r\\nthats huge design flaw unless im using correctly dont think case,0\\r\\nhusband said rude even apologize bad food anything,0\\r\\nproven dead wrong sushi bar quality great service fast food impeccable,1\\r\\nway expensive,0\\r\\nlove margarita,1\\r\\near occupied background distracting,1\\r\\nwork great cat attacked phone scratched protective strip instead destroying screen,1\\r\\nget inside youll impressed place,1\\r\\nwent motorolas website followed direction could get pair,0\\r\\nbrother law work mall ate day guess sick night,0\\r\\nive owned phone month say best mobile phone ive,1\\r\\nloudspeaker option great bumper light appealing,0\\r\\nseveral time past experience always great,1\\r\\neverything acting cinematography solid,1\\r\\nabsolutel junk,0\\r\\nmostly routine factbased tv drama get boost fine performance cole,1\\r\\nfan genre heaven,1\\r\\nwould come back sushi craving vega,1\\r\\nim big fan rpg game movie disgrace selfrespecting rpger,0\\r\\nwell made easy access phone handy detachable belt clip,1\\r\\ndont bother go store,0\\r\\nheart place,1\\r\\nim using iriver spinn case fit fine,1\\r\\nfirst enough racial stereotype racial joke offend everyone,0\\r\\nsauce tasteless,0\\r\\nring toneoverall good phone buy,1\\r\\ndefinately enjoyed,1\\r\\nthing disappoint infra red port irda,0\\r\\nwell wouldve given godfather zero star possible,0\\r\\nfact hard remember part ray charles acted played man ray charles legendary ray charles life provided excellent biographical material film go well beyond another movie musician hitchcock great director ironically mostly find film total waste time watch secondly hitchcock pretty much perfected thriller chase movie pandering audience sabotage film hence whole story lack certain energy plot simply rumble like machine desperately depending addition new scene usual hitchcock logic flaw mishima extremely uninteresting chilly unremarkable movie author livingworking chilly abstruse culture flat reenactment dont hold attention emotionally adrift stagy rest sits awful soldier singing song masculinity pledge hairsplitting purity admiration sword etc bore piece kill momentum movie quicker anyone else schrader made resume full lousy amateurish film first watched movie loved totally fascinated music dancing everything however recently watched whole thing dvd completely struck extremely stupid storyline contained hole inconsistency frankly whole lot crap horrid dancing mean realistic world would never gotten ballet repertory whole thing quite pathetic character development also lacked depth woa talk awful waste time horrible worst sappiest dialogue could go really made unwatchable direction poor actor cant even tell talent pathetic line speak director gave action check director filmography site see film didnt chance would even good made tv flick good intention made film great film might one greatest film ever made film great actor master director significant themeat least wouldbe significant theme undertone fifty existential worldweariness aerial scene ought thrilled sens imagination character one might deeply care regrettably film fails movie lack visual interest drama expression feeling celebration patriotism underline narrative actress worse used june allison movie yet enjoy watching unfortunately bad movie plain bad bad script bad direction horrible acting make one plain bad dialogue sucked cinematographyif called thatsucked soundtrack sucked acting sucked concert sequence sucked nice funny funny overall movie cheap trash movie funny considering ridiculousness came feeling angry spoiler whatever else cant said surface superbly crafted cinematography simply stunning say least fx nothing stateoftheart conceptually show offer little bit everything everybody parent kid fantasy andor fx fan wasnt single sour note struck actingwise either surprisingly solid casting thing considered job well done thanks good movie like done released one best mexican movie ever one le understood even mexican matter identified felt rank highly great noircrimedrama incredible performance belmondo lino ventura attention given every character complex psychological portrayal detailing loyalty treachery love hope tremendous excellent drama excellent thriller excellent film best melville everything film simply incredible truly take journey eye soul child black water thriller manages completely transcend limitation indie flick continually subverting expectation emerge intense experience performance real gripping crocdodile extremely well done indeed black water website believed thats used real crocs swamp location fabulous thoroughly enjoyed christopher eccleston took control tardis continuation series im sure trying film turn good day feeling night disturbing memory guess succeeded lot beautiful place forced like everything movie lame here movie really pied dont even get started jerky camerawork saw theater thought going sick summary witticism werent witty plot well said id let one go acting bad really bad even billy bob couldnt rise script worse camerawork bad rating amazing finale possibly best trilogy time kieslowski never cease amaze one favourite director one talented director history cinema use colour french flag three film nothing short incredible every shot every scene like work art three visually appealing movie ive ever seen subtle connection three film awesome mention huge spoiler loved ending character three film remaining survivor ferry disaster valentine young judge together old man watching tv solidifying happiness suffering dealt many year couldnt think better way end film smile face great way wrap amazing film trilogy recommend everyone love film movie anythinga work art movie trilogy literally vomited watching film think one people found another one roth pearl performance awarded stunning story told eloquently francis ford coppola year earlier really unfolds gradually leaf room character develop wonderful location lie story contrast beautiful directed film nicolas roeg wih sublime cast im translating movie living first movie year working experience found offensive intelligence someone strives greatness poetry delivers muddled often ridiculous story bunch disparate scene pretentious dialogue get worst kind movie reviewer accurately defined pretentious crap,0\\r\\neverything,1\\r\\noverall would recommend phone new walkman,1\\r\\nterrible product waste money,0\\r\\nanyway f restaurant wonderful breakfastlunch,1\\r\\nstar brick oven bread app,1\\r\\nisnt enough mess movie picture also marred constant use studio set indoor exterior,0\\r\\neven good camp value,0\\r\\nreal plot,0\\r\\nshow would begin smart as ed comment would totally wall uncalled,0\\r\\ndont go looking good food,0\\r\\nrestaurant atmosphere exquisite,1\\r\\nbest example dumb writing established turn zombiestudents back human removing necklace containing piece meteorite,0\\r\\nmanagement rude,0\\r\\nresearch development division obviously know theyre,1\\r\\njudith light one favorite actress think superb job film,1\\r\\nenjoy pizza brunch,1\\r\\npoor service,0\\r\\nspeaker low quality making ring tone sound cheap,0\\r\\nchow mein good,1\\r\\nive lived since first last time ive stepped foot place,0\\r\\ndont know kind best iced tea,1\\r\\ntable outside also dirty lot time worker always friendly helpful menu,0\\r\\ncheap cheerless heist movie poor characterisation lot underbite style stoic emoting think chow yun fat better tomorrow cheesy clichs thrown abandoned factory ready poorly executed flying judo roll la john woo,0\\r\\ngreat food price high quality house made,1\\r\\nnothing special,0\\r\\nyellowtail carpaccio melt mouth fresh,1\\r\\nlove cable allows connect miniusb device pc,1\\r\\nplace awesome want something light healthy summer,1\\r\\nlove headset jabra bluetooth headset great reception good ear piece comfortable fit,1\\r\\ndish salmon best great,1\\r\\nrestaurant clean family restaurant feel,1\\r\\nrazr owneryou must,1\\r\\ndont make mistake,0\\r\\ngreat sound service,1\\r\\nenough volume,0\\r\\nseriously killer hot chai latte,1\\r\\nangus scrimm also turn good performance somewhat brief memorable role gently menacing violinplaying anatomist doctor quinn,1\\r\\ntotal brunch fail,0\\r\\ndescription said yum yum sauce another said eel sauce yet another said spicy mayowell none roll sauce,0\\r\\nfirst time cant wait next,1\\r\\nbattery run quickly,0\\r\\nbetter new,1\\r\\nwhatever producer going missed entirely,0\\r\\ndue happening every call forced stop using headset,0\\r\\nbuy dwrongly advertised,0\\r\\neclectic selection,1\\r\\nwould recommend place,0\\r\\nextremely rude really many restaurant would love dine weekend vega,0\\r\\ncase bad laughable,0\\r\\nstory beyond stupid,0\\r\\nheadphone great find think perhaps best purchase ive made last several year seriously,1\\r\\ntook hour get food table restaurant food luke warm sever running around like totally overwhelmed,0\\r\\nalso best cheese crisp town,1\\r\\ndrive barking mad,0\\r\\nsaw movie today thought good effort good message kid,1\\r\\nworst foodservice ive,0\\r\\nursula burton portrayal nun touching funny time making fun nun church,1\\r\\nstory also funny poignant time,1\\r\\nnone three size sent headset would stay ear,0\\r\\naerial scene welldone,1\\r\\nworthwhile,1\\r\\nnever dining place,0\\r\\narguing verizon regarding dropped call returned phone two day,0\\r\\nsee kid chanceit open amazing dialog far race relation come last year,1\\r\\ngood bargain,0\\r\\ntiny toon kept vibe delivered one popular funny underrated cartoon ever created,1\\r\\nscript big flawed mess,0\\r\\ntried cape cod ravoli chickenwith cranberrymmmm,1\\r\\nloved casting jimmy buffet science teacher,1\\r\\nreceived pita huge lot meat thumb,1\\r\\nmake easier keep bluetooth im wearing,0\\r\\nvoice recognition tremendous,1\\r\\ncool,1\\r\\nmuch flavor poorly constructed,0\\r\\nrecommended,0\\r\\nprice amazon excellent product would highly recommend,1\\r\\ngrilled chicken tender yellow saffron seasoning,1\\r\\nlast time buying,0\\r\\nleft shattered experience watching film took good two hour fully recover,0\\r\\nshrimp tender moist,1\\r\\nkid pizza always hit lot great side dish option kiddos,1\\r\\npoint journey journey touch every member family,1\\r\\ntalk useless customer service,0\\r\\npromptly greeted seated,1\\r\\npenne vodka excellent,1\\r\\nbest service food ever maria server good friendly made day,1\\r\\nhappened next prettyoff putting,0\\r\\nha long bay bit flop,0\\r\\nrest movie lack art charm meaning emptiness work guess empty,0\\r\\ngave star sound quality,1\\r\\nimpressed headset plantronics,1\\r\\nsomeone order two taco dont think may part customer service ask combo ala cart,0\\r\\nanother note phone appearance really look rather bland especially black model,0\\r\\ngood product well made,1\\r\\nrole played well,1\\r\\ncant beat price,1\\r\\nthere also enough hypocrisy film make vomit,0\\r\\nlike really sexy party mouth youre outrageously flirting hottest person party,1\\r\\nterrible management,0\\r\\nworst sushi ever eat besides costcos,0\\r\\nequally awful,0\\r\\ndelicious,1\\r\\njiggle plug get line right get decent volume,0\\r\\nplot storyline,0\\r\\nauthentic leather nice shine comfort recommend case,1\\r\\nlet start problemsthe acting especially lead professor bad,0\\r\\nbetter expected,1\\r\\nbread made inhouse,1\\r\\nfry great,1\\r\\ninstant classic great soundtrack catchy song ending credit,1\\r\\nshouldnt take min pancake egg,0\\r\\nbt battery junk,0\\r\\ntime bad customer service,0\\r\\nsweetest phone,1\\r\\nstill wild stuff though highly recommended fan giallo cinema,1\\r\\ndifferent cut piece day still wonderful tender well well flavored,1\\r\\nindescribably annoying idiotic show ever seen,0\\r\\nmovie excellent job revealing complexity task incredible challenge facing south africa,1\\r\\ntruly art movieit actually lot art,1\\r\\ngreat case price,1\\r\\ncharming film wonderful sentiment heart,1\\r\\ngood cinematography also make monica bellucci look beautiful,1\\r\\nbest breakfast buffet,1\\r\\nnothing short magnificent photographycinematography film,1\\r\\ncould used exemplar set designer,1\\r\\ndressed treated rudely,0\\r\\nhawaiian breeze mango magic pineapple delight smoothy ive tried far theyre good,1\\r\\nverizon year ago really liked service,1\\r\\nthink food flavor texture lacking,0\\r\\ndont waste money,0\\r\\nrotating beer tap also highlight place,1\\r\\nmade case small difficult install,0\\r\\ngreat music terrific scenery,1\\r\\ngreat little item,1\\r\\nlook sharp screen nice clear great graphic,1\\r\\nfeeling thoughtsgabriels discomfort danceall intangible leap life come within viewer grasp huston portrayal,1\\r\\noverall rate movie scale,1\\r\\nthough wind lion told largely eye son every member family identify one character whether sean connerys noble brigand candace bergen feisty heroine john huston wily john hay steve kanalys spiffy radiant ruthless cando lieutenant roosevelt big stick,1\\r\\nphone doesnt slide around car grip prevents phone slipping hand,1\\r\\nshifting bubbling peeling even scratch nothingi couldnt happier new one droid,1\\r\\npoor quality service,0\\r\\nbought mainly charger broke soon purchasing,0\\r\\nbest place vega breakfast check sat sun,1\\r\\nsorry made purchase,0\\r\\nreally good far probably best bt headset ever,1\\r\\nkept catching cable seat pull phone turn,0\\r\\nbt headset disapoinment,0\\r\\nseems like good quick place grab bite familiar pub food favor look elsewhere,0\\r\\neverything bad,0\\r\\npoor voice clarity,0\\r\\nsatisifed,1\\r\\ncheap feel look cheap,0\\r\\nfood arrives meh,0\\r\\nreally find funny,1\\r\\nfelt insulted disrespected could talk judge another human like,0\\r\\nsaw short film hbo day absolutely loved,1\\r\\ndish quite flavourful,1\\r\\nfan movie sucked really bad,0\\r\\nlightweight work well,1\\r\\ngood food great atmosphere,1\\r\\nhorrible phone,0\\r\\nbattery completely useless,0\\r\\nambiance isnt much better,0\\r\\ncumbersome design,0\\r\\npulled car waited another minute acknowledged,0\\r\\nwaiter wasnt helpful friendly rarely checked u,0\\r\\nartless camerawork endlessly present u ugliest setting imaginable ie,0\\r\\nnobody identifies character theyre cardboard cutout stereotype predictably reversestereotypes,0\\r\\nitem fantastic work perfectly,1\\r\\ngreat movie,1\\r\\nnice relaxing late night viewing,1\\r\\ncould care le interior beautiful,1\\r\\nway plug u unless go converter,0\\r\\nstory powerful exploration nature man art,1\\r\\npoor quality,0\\r\\nworked great,1\\r\\nyoud iq particularly stupid mollusk see one coming,0\\r\\nservice suck,0\\r\\ninstead got bore fest whiny spoiled brat babysitting,0\\r\\ngot aluminum case new palm vx worked really wellit protected handheld perfectly far,1\\r\\nbuy buyit suck,0\\r\\nbad quality,0\\r\\nfun chef,1\\r\\ncould understand kind idiot would produce mess first place mention several season,0\\r\\nlady table next u found live green caterpillar salad,0\\r\\nneed least min get phone book time first turn phonebattery life short,0\\r\\nplace quality sushi quality restaurant,0\\r\\nthumb,1\\r\\nreception excellent,1\\r\\ndefinitely worth venturing strip pork belly return next time im vega,1\\r\\nill put gem movie term screenplay cinematography acting postproduction editing directing aspect filmmaking,1\\r\\ndrink took close minute come one point,0\\r\\ngoldencrispy delicious,1\\r\\ncould get strong enough signal,0\\r\\nliterally sat minute one asking take order,0\\r\\neasily none cartoon made laugh tender way getting dark sitcom oriented teenager,1\\r\\nagree jessica movie pretty bad,0\\r\\nhoneslty didnt taste fresh,0\\r\\nembarassing also ear hurt try push ear plug ear,0\\r\\nworst phone ive ever month,0\\r\\nwelldesigned sharp blue nice color,1\\r\\nfound move beautiful enjoyable uplifting,1\\r\\nreceived supposedly new motorola apparently match phone charger,0\\r\\nfilm lack convincing script,0\\r\\nmovie boring sometimes found occupied peaking paper instead watching never happened columbo movie,0\\r\\nalso happy price,1\\r\\nunless youre visually collect extant film austen work skip one,0\\r\\navoid cost,0\\r\\nservice also cute,1\\r\\nmuch dialogue much music whole film shot elaborately aesthetically like sculpture,1\\r\\nnice solid keyboard,1\\r\\nplace amazing,1\\r\\ntom wilkinson broke heart end everyone el judging amount fumbling hanky hand going face among male female alike,1\\r\\nterrible car accept cassette,0\\r\\ndont bother coming,0\\r\\npotato great biscuit,1\\r\\nexcellent phone,1\\r\\nplace lot promise fails deliver,0\\r\\nalso notable john bailey fine crisp beautifully colored cinematography great production design costume eiko ishioka went memorable costume coppola dracula received well deserved oscar,1\\r\\nthank great service,1\\r\\nhate thing much cheap quality black olive,0\\r\\ntook min get milkshake nothing chocolate milk,0\\r\\nwork week break,0\\r\\ndirecting seems pretentious,0\\r\\nthink good investment,1\\r\\noh yeah storyline pathetic,0\\r\\ngreat place eat,1\\r\\nsaid mouth belly still quite pleased,1\\r\\nright mind gon na buy battery,0\\r\\ndidnt work people hear talk,0\\r\\ntreo tmobile refused replace forced buy another phone without kind upgrade discount,0\\r\\npoor remake best friend wedding,0\\r\\nprobably wont coming back,0\\r\\ncharacter fleshed surprisingly well particularly grime blake actor deliver sharply scripted line right amount deadpan tongue cheek make dialogue hilarious realistic,1\\r\\nalmost everyone involved must return school acting utterly predictable bad script pile garbage round,0\\r\\nupdatewent back second time still amazing,1\\r\\nsound quality end excellent use headset call wife ask wife use headset call,1\\r\\nfood came good pace,1\\r\\ngot phone around end may im completely unhappy,0\\r\\npiece junk broke phone day,0\\r\\npaying hot dog fry look like came kid meal wienerschnitzel idea good meal,0\\r\\nmuch le jawbone going replace,1\\r\\nth century fox road house quite silly noir implausible unmitigated bore movie,0\\r\\nnice docking station home work,1\\r\\nslow seating even reservation,0\\r\\ndont think back long time,0\\r\\nwouldnt see movie free,0\\r\\ndont buy,0\\r\\nlater found lost power film,1\\r\\nleft theater lilt step joy heart hope human race,1\\r\\nunfortunately set u disapppointment entree,0\\r\\nrare filmmaker take time tell worthy moral tale care love doesnt fall trap overly syrupy indulgent,1\\r\\nbland flavorless good way describing barely tepid meat,0\\r\\nboring,0\\r\\nreceived quickly work great,1\\r\\nlasted one day blew,0\\r\\nguy said he better dialogue potted plant right,0\\r\\ngreat ipod,1\\r\\nresult film dont look right,0\\r\\nbattery unreliable well service use antena,0\\r\\nwaaaaaayyyyyyyyyy rated saying,0\\r\\nstarted tuna sashimi brownish color obviously wasnt fresh,0\\r\\ncool case open allowing screen get scratched,1\\r\\nserver fantastic found wife love roasted garlic bone marrow added extra meal another marrow go,1\\r\\nsay food amazing,1\\r\\nlighting dark enough set mood,1\\r\\nbad choice,0\\r\\nfilm look cheap bland,0\\r\\ndispleased,0\\r\\ndamian talented versatile many way writing portraying different character screen,1\\r\\nnargile think great,1\\r\\nstill set got big oyvey scale,1\\r\\navoid avoid avoid,0\\r\\nmovie full wonderful dancing hence title,1\\r\\nfilm give meaning phrase never history human conflict much owed many,1\\r\\nwont going back,0\\r\\npancake also really good pretty large,1\\r\\nbad actually worth seeing reason,0\\r\\ndirecting cinematography arent quite good,0\\r\\ndefinitly recommend,1\\r\\ndrink weak people,0\\r\\nsushi strip place go,1\\r\\nmovie movie situation beginning game played acting coach fascinating,1\\r\\nfood came disappointment ensued,0\\r\\nim pleased,1\\r\\npoorly contstruct hinge,0\\r\\nstructure film easily tightly constructed history cinema think film something vitally important occurs every minute word content level film enough easily fill dozen film anyone right mind ask anything movie quite simply highest superlative form cinema imaginable yes film require rather significant amount puzzlesolving piece fit together create beautiful picture short film certainly pull punch graphic far best part game number one best th game series deserves strong love insane game massive level massive unlockable character massive game waste money game kind money wasted properly actually graphic good time today graphic crap say canada fun game aye game rock buy play enjoy love pure brilliance flick doomed conception idea lame take minor character mediocre pg film make complete nonsequel changing tone pgrated family movie wasnt least bit interested confirm film would unfunny generic also managed give away entire movie im exaggerating every moment every plot point every joke told trailer funny even talented carrell cant save costars dont fare much better people like morgan freeman jonah hill ed helm wasted story predictable lazy real effect work presence animal integration scene worst obvious bluegreenscreen work ive ever seen whatever cost much didnt translate quality thats sure film succeeds despite perhaps obviously meagre budget im glad film didnt go obvious choice lesser film certainly would addition one lovely song ever written french cancan also boast one cutest leading lady ever grace screen hard fall headoverheels love girl negative insipid enough cause regret another hour life wasted front screen long whiny pointless recommend waiting future effort let one go excellent cast story line performance totally believable anne heche utterly convincing sam shepard portrayal gung ho marine sobering sat riveted tv screen give one resounding think tom hank good actor enjoyed reading book child little disappointed movie one character totally annoying voice give feeling fingernail chalkboard totally unnecessary trainroller coaster scene absolutely warmth charm scene character movie totally grate nerve performance improved improvisation actor twice much worry whether theyre delivering line well whether line good quite honestly often good often dialogue doesnt really follow one line another fit surroundings crackle unpredictable youthful energy honestly found hard follow concentrate meander badly generally great thing wouldnt say theyre worth hour time though suspense builder good cross line g pg especially liked noncliche choice parent movie could predict dialog verbatim writing movie made better selection want movie thats gross give chill great choice alexander nevsky great film amazing film artist one important whoever lived im glad pretentious piece didnt planned dodge stratus big shot gon na help movie maker arent restrained movie business qubec,0\\r\\none place phoenix would definately go back,1\\r\\noh forgot also mention weird color effect phone,0\\r\\ncompany shipped product promptly work well,1\\r\\nmovie excellentangel beautiful scamp adorablehis little yelp he scaredand funniest part whenscamp caught curtain angel scamp singing ive never feeling beforei totally recommend movieits coming special edition june cover scamp garbage angel underneath lid,1\\r\\nfar sushi connoisseur definitely tell difference good food bad food certainly bad food,0\\r\\nbutton small,0\\r\\npretty awesome place,1\\r\\nwow loved place,1\\r\\ndirecting sloppy best,0\\r\\nmovie solid example bad plot bad idea way,0\\r\\nlove fact everything menu worth,1\\r\\ntook back money got outta,0\\r\\nim really disappointed charger doesnt work,0\\r\\nsay film excellently produced top rating typical sci fi film,1\\r\\nobviously problem adhesive,0\\r\\nnothing authentic place,0\\r\\nalways evening wonderful food delicious,1\\r\\nseriously flavorful delight folk,1\\r\\nhear im driving car usually dont even put loudest setting,1\\r\\nordered appetizer took minute pizza another minute,0\\r\\ngreasy unhealthy meal,0\\r\\nthing worse taylor acting stanwycks singing,0\\r\\nwant healthy authentic ethic food try place,1\\r\\ngot enjoy seafood salad fabulous vinegrette,1\\r\\nprobably wont back honest,0\\r\\ninterplay martin emilio contains wonderful chemistry saw wall street martin charlie,1\\r\\njimmy stewart ever great hero hitchcock story rip along cool climax embassy function lack brooding menace hitchcock black white lowbudget original,1\\r\\nfantastic neighborhood gem,1\\r\\nhole wall great mexican street taco friendly staff,1\\r\\nworth,0\\r\\nespecially love long battery life,1\\r\\nfood wasnt good,0\\r\\nplace like chipotle better,1\\r\\nalso take picture case lense covered,0\\r\\nwould give television series plus could,1\\r\\nalso phone doesnt seem accept anything except cbr mp preferably ripped window medium player,0\\r\\nmasterful piece filmmaking many theme simmering occasionally boiling wart study poet bohemian selfindulgent wartime year span aerial bombardment london outward tranquillity welsh coastal retreat borderline friendship lust love dedication art experience versus practical concern jealousy rivalry cowardice egotism versus heroism selfsacrifice,1\\r\\nservice terrible food mediocre,0\\r\\ncar charger well ac charger included make sure never run juicehighy recommended,1\\r\\nwork great,1\\r\\np scene movie cool central character find room blown,1\\r\\neven hello right,0\\r\\ncashew cream sauce bland vegetable undercooked,0\\r\\nbad fit way big,0\\r\\nworld better garbage theatre today,1\\r\\nim super pissd,0\\r\\nexcellent performance m,1\\r\\ncolleague get great receptiona little expensive performance great,1\\r\\npersonally think show people learn find compromise self without involving people issue,1\\r\\nkind embarrassing use look mostly embarrassing childlike company,0\\r\\nwork great,1\\r\\ngood audio quality,1\\r\\nlike armand assante cable company summary sounded interesting watched twice already probably,1\\r\\ngot home see driest damn wing ever,0\\r\\nmovie bad,0\\r\\neven woman finally show sign improvement expected thing happen time film might far asleep,0\\r\\nbest place go tasty bowl pho,1\\r\\ncashier friendly even brought food,1\\r\\ncarry movie well,1\\r\\nwent lunch service slow,0\\r\\ndont buy product fails,0\\r\\ndont go,0\\r\\nground right next table large smeared beensteppedinandtrackedeverywhere pile green bird poop,0\\r\\nheadset work peachykeen,1\\r\\ndrive get,0\\r\\nplace eat circumstance would ever return top list,0\\r\\nweve gotten much better service pizza place next door service received restaurant,0\\r\\ndont think would hold securly belt,0\\r\\nfrightening least barely comprehensible,0\\r\\nbest charger seen market yet,1\\r\\nlove bluetooth,1\\r\\nexcellent tool especially paired phone autoanswer,1\\r\\nchipolte ranch dipping sause tasteless seemed thin watered heat,0\\r\\ndisappointed,0\\r\\nmake story different terrific production value faultless photography composition editing terrific casting underappreciated brian keith playing bully teddy vivid history,1\\r\\nevery time eat see caring teamwork professional degree,1\\r\\nexcellent film,1\\r\\nphone year tell great,0\\r\\nbought use kindle fire absolutely loved,1\\r\\ngreat time family dinner sunday night,1\\r\\natt clear sound distorted yell talk,0\\r\\nitll regular stop trip phoenix,1\\r\\nscene ohsomature neighbourgirl misplace,0\\r\\nalso taste mom multigrain pumpkin pancake pecan butter amazing fluffy delicious,1\\r\\nallergy warning menu waitress absolutely clue meal contain peanut,0\\r\\njawbone era awesome,1\\r\\npainful,0\\r\\nhappy complaint one regarding sound quality end,1\\r\\nblack eyed pea sweet potato unreal,1\\r\\nnice leather,1\\r\\nevery thing phone work perfectly like,1\\r\\neverything movie stupid,0\\r\\nstory line awful,0\\r\\nservice par either,0\\r\\nbar cell phone home cant hear anything,0\\r\\ndont waste money,0\\r\\ndue fact took minute acknowledged another minute get foodand kept forgetting thing,0\\r\\nsashimi poor quality soggy tasteless,0\\r\\nloved movie great portrayal family share ups end knew special love,1\\r\\nlike fact rest lightly ear rather inside,1\\r\\nexcellent product price,1\\r\\ntmobile service year pretty happy,1\\r\\nserver nice even though looked little overwhelmed need stayed professional friendly end,1\\r\\nwaste money time,0\\r\\nmaybe vegetarian fare ive twice thought average best,0\\r\\nadd betty white jean smart great cast everyone played part really well,1\\r\\nsalad wing ice cream dessert left feeling quite satisfied,1\\r\\nim disappointed decision,0\\r\\nhate movie like,0\\r\\nadvise everyone fooled,0\\r\\njoy use,1\\r\\nalthough much liked look sound place actual experience bit disappointing,0\\r\\naverage phone bad battery life operates weak network,0\\r\\nhowever ear pad come easily one week lost one,0\\r\\nservice prompt,1\\r\\ngreat value,1\\r\\nlove authentic mexican food want whole bunch interesting yet delicious meat choose need try place,1\\r\\nmanager worst,0\\r\\nwould definitely recommend wing well pizza,1\\r\\nknow contract player little control script acting bad script,0\\r\\nalso came back check u regularly excellent service,1\\r\\nholster arrived match photo ad,0\\r\\none didnt work either,0\\r\\nrated,0\\r\\nexcellent,1\\r\\nfind wasting food despicable wasnt food,0\\r\\ngo see movie bring pillow girlfriendboyfriend keep occupied,0\\r\\nstay away q,0\\r\\nconsidering relation screen taylor stanwyck surprising little chemistry screen two,0\\r\\nbattery life real good,1\\r\\nhowever paul schrader indeed made film mishima superb complex,1\\r\\nimmediately said wanted talk manager want talk guy shot fireball behind bar,0\\r\\nbathroom next door nice,1\\r\\nentire audience applauded conclusion film,1\\r\\nbad performance play angela bennett computer expert home time,0\\r\\nhappy item,0\\r\\nloved place,1\\r\\nlassie movie put sleep forever,0\\r\\nstill bad actress repeating robotic face move picture,0\\r\\nuse slowmotion needlessly repeat throughout movie well backed bad acting bad kind word continuity scene thrown reason whatsoever vehicle looked like made corn flake box directorial style bordered stupidity,0\\r\\npresent idyllic yet serious portrayal ups down character life,1\\r\\ndont like nokia either,0\\r\\npossible give zero star theyd,0\\r\\nservice extremely slow,0\\r\\ncompany charge restocking fee still given refund back,0\\r\\ndrain weak snap,0\\r\\nstanwyck morgan perfectly cast many way modern equivalent dickens christmas carol sensibility,1\\r\\neuropean movie nice throwback time student experience living abroad interacting nationality although circumstance slightly different,1\\r\\nsort pap screened afternoon punish unemployed job,0\\r\\nbela lugosi totally extraneous intoning odd line,0\\r\\nbland liking place number reason dont want waste time bad reviewing ill leave,0\\r\\nget job done,1\\r\\nvoice quality signal strength dropped call,0\\r\\nhusband ate lunch disappointed food service,0\\r\\nadditional ear gel provided instruction whatsoever,0\\r\\nwatching film wanted learn work artist,1\\r\\ntapa dish delicious,1\\r\\nselection probably worst ive seen vegasthere none,0\\r\\namazed quick arrival two original lg cell phone battery fraction price,1\\r\\ntwo felt disgusting,0\\r\\ndont think ive ever gone movie disliked much,0\\r\\nwasnt really impressed strip steak,0\\r\\ndidnt charge,0\\r\\nactually smart movie,1\\r\\nweird vibe owner,0\\r\\nwell acted done tv movie,1\\r\\nim quite satisfied purchase,1\\r\\ndef coming back bowl next time,1\\r\\nrecently witnessed poor quality management towards guest well,0\\r\\nfirst charge kept going dead minute,0\\r\\nnever come,0\\r\\ncase seems well made,1\\r\\ncame back cold,0\\r\\nproduct excellent work better verizon one boy cheaper,1\\r\\ngot ta love closeup slimy drooling teeth,1\\r\\nwork listening music cingular,0\\r\\ngreat product fast shipping,1\\r\\nid advise anyone go see,1\\r\\nforgot casting superb trond fausa aurvg perfect role bothersome man doesnt understand,1\\r\\ncharacter interesting want find longer movie go think people surprised doesnt make,1\\r\\nmovie definitely average rent,0\\r\\ncast always entertaining usual,1\\r\\nslowmoving aimless movie distressed drifting young man,0\\r\\njoin club get awesome offer via email,1\\r\\nstunning movie,1\\r\\nperfect p,1\\r\\ninexpensive piece would still expected better quality,0\\r\\nswung give try deeply disappointed,0\\r\\nbig waste time,0\\r\\nmaybe werent cold would somewhat edible,0\\r\\nclear crisp sound,1\\r\\ngreat product price,1\\r\\nmenu much good stuff could decide,1\\r\\ngreat product sure beat using finger,1\\r\\nambiance feel like buffet setting douchey indoor garden tea biscuit,0\\r\\nnever going back,0\\r\\nlike steiner dark feel like bar,1\\r\\nreally pleased product far,1\\r\\nturkey roast beef bland,0\\r\\npair headphone worst ever soundwise,0\\r\\ngood side staff genuinely pleasant enthusiastic real treat,1\\r\\nalso real treat see anthony quinn playing crazy horse,1\\r\\nobviously terrible customer service get pay,0\\r\\nbought saved alot money,1\\r\\ngood transmit audio,1\\r\\ndrain player may also potentially fry,0\\r\\nbad film bad writing good actorsan ugly cartoon crafted paul haggis people cant handle anything bold stroke storytellinga picture painted crayon,0\\r\\nive tried several different earpiece cell phone jabra one first one ive found fit ear comfortably,1\\r\\nmuch interesting action suspense le unneeded controversy,1\\r\\nsad little vegetable overcooked,0\\r\\nleast think refill water struggle wave minute,0\\r\\ntook one drop inch kitchen counter crackedi impressed laughing,0\\r\\none worst film ever seen,0\\r\\nmovie really got,1\\r\\never movie needed wordofmouth promote,1\\r\\npretty cool would say,1\\r\\nextensive menu provides lot option breakfast,1\\r\\nchef friendly good job,1\\r\\ncheap plastic creak like old wooden floor,0\\r\\nproduct clearly ready prime time dont care cool look cant tell call coming worthless,0\\r\\neasy watch,0\\r\\ngive wirefly stari contact cingularatt inform practice,0\\r\\npractically perfect true masterpiece sea faux masterpiece,1\\r\\nalways great time do gringo,1\\r\\nlive music friday totally blow,0\\r\\nhost staff lack better word bitch,0\\r\\neargels channel sound directly ear seem increase sound volume clarity,1\\r\\ncourse acting blah,0\\r\\nreally recommend place go wrong donut place,1\\r\\nrip charge shipping,0\\r\\npretty good beer selection,1\\r\\nbaby owl adorable,1\\r\\nfriend like bloody mary,0\\r\\nmic great,1\\r\\ngreat choice,1\\r\\nshot southern california desert using patent faux documentary style watkins creates film like,1\\r\\ndisappointed,0\\r\\ncase ive tried normally fall apart month one seems long haul,1\\r\\nsucked stuff work phone,0\\r\\nwatch however small consolation actress playing anne sister wonderful job role,1\\r\\nplace deserves star,0\\r\\nstaff attentive,1\\r\\nwidmark character turn unintentionally comical,0\\r\\nhour seriously,0\\r\\neverything good tasty,1\\r\\ndont like,0\\r\\nsound quality good functionality awesome,1\\r\\nworth drive,1\\r\\neverything perfect night,1\\r\\nplot pretty much every cheap horror,0\\r\\nlittle device transformed organizational capability made life whole lot easier,1\\r\\nlove put food nice plastic container opposed cramming little paper takeout box,1\\r\\nresult phone either stuck max volume mute,0\\r\\nbasically threw money window nothing,0\\r\\ndont think disappointed,1\\r\\nbest bluetooth market,1\\r\\ncould stand even watch long fear losing iq,0\\r\\nconvention never worked well past certainly doesnt work,0\\r\\nhorrible attitude towards customer talk one customer dont enjoy food,0\\r\\npro large seating area nice bar area great simple drink menu best brick oven pizza homemade dough,1\\r\\nused several phone two year one best,1\\r\\nalso new problem,0\\r\\nside delish mixed mushroom yukon gold puree white corn beateous,1\\r\\nwatch preparing delicious food,1\\r\\nplace clean food oh stale,0\\r\\nphone thorn side really abhor,0\\r\\nlange become great actress,1\\r\\nbest tater tot southwest,1\\r\\nplace receives star appetizer,1\\r\\nordered albondigas soup warm tasted like tomato soup frozen meatball,0\\r\\nwarn youdo rent movie dumbest thing never seen,0\\r\\nplot nonsense doesnt interest slightest way uniqueness,0\\r\\nloud enough doesnt turn like,0\\r\\nmean really get famous fish chip terrible,0\\r\\ncharacter interesting really care,1\\r\\ncould eat bruschetta day devine,1\\r\\nfood delicious,1\\r\\nbest fish ive ever life,1\\r\\nservice leaf lot desired,0\\r\\nfry hot neither burger,0\\r\\nfelt though going ireland absolutely nothing whatsoever,0\\r\\nlately extremely nice helpful phone,1\\r\\nfilm dropped ball,0\\r\\nburger arent good pizza used amazing doughy flavorless,0\\r\\nive bought wired headphone sound better,0\\r\\npiece trash ever released beyond acting story character supposedly special effect etcits wrong,0\\r\\nplugged find darn thing worked,0\\r\\nchip came dripping grease mostly edible,0\\r\\ndessert panna cotta amazing,1\\r\\ntrue shakespear must shakespear fan,1\\r\\nhowever keypad tinny sometimes reach wrong button,0\\r\\nawful dialogue hopeless overacting everyone get shot top real waste space time,0\\r\\nfirst vega buffet disappoint,1\\r\\nexcellent product,1\\r\\nreally enjoyed eating,1\\r\\ntop line dont waste time money one bad come,0\\r\\nwriter smack think best actor actress bonus showthese character real,1\\r\\nnutshell restaraunt smell like combination dirty fish market sewer,0\\r\\nreview long overdue since consider tale two sister single greatest film ever made,1\\r\\nbeware,0\\r\\nordered sony ericsson wi think worked thats first used,0\\r\\njerky camera movement also annoying,0\\r\\nmark word one cult film like evil dead phantasm people still discovering falling love year line,1\\r\\npolitically correct,0\\r\\nenjoyment get see run around play game dangerous,1\\r\\nworst ever,0\\r\\ncamera although rated impressive megapixels render image fall well expectation relatively high resolution,0\\r\\norder arrived one gyro missing,0\\r\\nkept looking time soon become minute yet still food,0\\r\\nhowever didnt make fact overall tremendously boring movie,0\\r\\nreceived white colored battery go dead couple hoursthe original used last week still last longer thereplacement,0\\r\\ndefeat purpose bluetooth headset,0\\r\\nbought mother problem battery,0\\r\\nordered duck rare pink tender inside nice char outside,1\\r\\nawesome,1\\r\\ngreat hand free device,1\\r\\ncontacted company told although unit still warranty couldnt produce receipt luck,0\\r\\nplot keep going first place,0\\r\\nwant wait mediocre food downright terrible service place,0\\r\\ndisgrace,0\\r\\ngreat phone,1\\r\\nrecommended,0\\r\\nsetup went smoothly,1\\r\\nwind lion well written superbly acted,1\\r\\ngreat food service huge portion give military discount,1\\r\\nuse product motor control center lot high voltage humming equipment work great,1\\r\\nexcellent starter wireless headset,0\\r\\nreally liked,1\\r\\ngod never get minute back,0\\r\\nearlier review noted plug charger nothing happens,0\\r\\nserver suck wait correction server heimer sucked,0\\r\\nsomeone involved knew string together narrative,0\\r\\nworth every penny,1\\r\\ncant tell disappointed,0\\r\\nreally easy,1\\r\\nneedle say never back,0\\r\\nexcited get headset thought really cute,1\\r\\nplus seriously believe worth steep price point,0\\r\\ndirector neil labute us brutal violence seperate dream reality along touching drama hilarious comedy never tell going happen next,1\\r\\nmuch seafood like string pasta bottom,0\\r\\nnever ever go back told many people happened,0\\r\\nthere really nothing bad say headset,0\\r\\nfirst visit hiro delight,1\\r\\nfirst time ever came amazing experience still tell people awesome duck,1\\r\\nbit sweet really spicy enough lacked flavor,0\\r\\ndont know slow,0\\r\\ngreat phone,1\\r\\nwalk theatre minute get relief,0\\r\\nable voice dialing car problem,1\\r\\noh thing beauty restaurant,1\\r\\nexcellent hand free tool,1\\r\\nwork hospitality industry paradise valley refrained recommending cibo longer,0\\r\\nplace deserves one star food,0\\r\\ncentral theme film handled ineptly stereotypically depth imagination,0\\r\\nalways cut make beep beep beep sound say signal failed,0\\r\\nid love go back,1\\r\\nbest phone market,1\\r\\noverall like place lot,1\\r\\ncamera phone may used dustpan indoors id rather using disposable,0\\r\\nunfortunately virtue film production work lost regrettable script,0\\r\\ngreat audio,1\\r\\none nice thing added gratuity bill since party larger didnt expect tip,1\\r\\nlame would best way describe,0\\r\\nburger good beef cooked right,1\\r\\nseriously believe owner many unexperienced employee running around like chicken head cut,0\\r\\nused two day wasnt always easy hear,0\\r\\nheadset easy use everyone love,1\\r\\nfilm deserves strong kudos taking stand exceptional acting mostly lesserknown cast superintelligent script doesnt insult audience take easy way come white racism,1\\r\\nearpiece large heavyit keep falling ear,0\\r\\nphone sturdy waterproof,1\\r\\nhorrible,0\\r\\nfirst phone ive cheaply made,0\\r\\nfit comfortably either ear sound clear loud charge last couple day,1\\r\\nlobster bisque bussell sprout risotto filet needed salt pepperand course none table,0\\r\\ncompletely grossed,0\\r\\ngo place gyro,1\\r\\ndefinitely cult classic well worth viewing sharing others,1\\r\\nsalad bland vinegrette baby green heart palm,0\\r\\nbad day low tolerance rude customer service people job nice polite wash dish otherwise,0\\r\\nfinal word show real torture,0\\r\\ngreat brunch spot,1\\r\\nraw sublimely moving,1\\r\\nfantastic food,1\\r\\nhell go back,0\\r\\nnevertheless yet another wonderful film great master stable,1\\r\\nim still trying get bad,0\\r\\nmuch say place walked expected amazing quickly disappointed,0\\r\\norder,1\\r\\ninsulted,0\\r\\nfootball scene end perplexing,0\\r\\nprice good,1\\r\\ngreat deal,1\\r\\nparticularly pleased acting ability dwight schultz,1\\r\\neven worse ticker,0\\r\\ndont waste time watching rubbish nonresearched film,0\\r\\nrecognizes phone storage device,0\\r\\nim sure long stood long enough begin feel awkwardly place,0\\r\\nweve tried like place time think done,0\\r\\ntruly truly bad film,0\\r\\nhowever decent acting action location work balance thing,0\\r\\nreading spec alone make say wow,1\\r\\nwork,0\\r\\neverything need couldnt ask,1\\r\\nstarted review two star im editing give one,0\\r\\ncomfortable nice range good battery life,1\\r\\nsure order dessert even need pack togo tiramisu cannoli die,1\\r\\nfirst doesnt wear well,0\\r\\nscene debated whether sack trumpeter falsely accused murder pure horror really stupid,0\\r\\nplace lacked style,0\\r\\nchicken dish ok beef like shoe leather,0\\r\\njalapeno bacon soooo good,1\\r\\nmanaged bend leaf spring back place metal enough stress break next drop,0\\r\\nguy steak steak loving son steak best worst place said best steak he ever eaten,1\\r\\nmovie mindbendingly awful couldnt even created,0\\r\\nknow sound funny seemed like sketchy technology wouldnt work wellwell one work great,1\\r\\nstaff spends time talking,0\\r\\nempty hollow shell movie,0\\r\\nclear skype call long battery life long range,1\\r\\ngreat product,1\\r\\nmeredith better right,1\\r\\nabsolutely amazing,1\\r\\nordered old classic new dish going time sorely disappointed everything,0\\r\\nfeel dining room college cooking course high class dining service slow best,0\\r\\nwhine internet goesthe use thing le like,0\\r\\ngreat place relax awesome burger beer,1\\r\\nmuch id like go back cant get passed atrocious service never return,0\\r\\nsteak shrimp opinion best entree gc,1\\r\\nparticular model would work motorola q smartphone,0\\r\\nfood terrible,0\\r\\nhardly meat,0\\r\\nglad purchased,1\\r\\nwhatever avoid groove antithesis good human traffic,0\\r\\nperhaps caught night judging review im inspired go back,0\\r\\nmemory murky say enjoyed every single episode product related show,1\\r\\nhe national treasure,1\\r\\nomg food delicioso,1\\r\\nfun experience,1\\r\\nill take business dinner dollar elsewhere,0\\r\\npurchase phone,0\\r\\nwish could return unit get back money,0\\r\\nim probably one people ever go ians like,0\\r\\nlove phone,1\\r\\npizza tasted old super chewy good way,0\\r\\none thing hate mode set button side,0\\r\\ngood thing ticket cost five dollar would mad id paid see crap,0\\r\\nbig disappointment calendar sync,0\\r\\nappears actually outperform original battery china came vi,1\\r\\nreal killer volume course breaking,0\\r\\nhoping,0\\r\\ngood thing fit comfortably small ear,1\\r\\ncable look thin flimsy scary,0\\r\\nwork described,1\\r\\nunfortunately ability actually know receiving call rather important feature phone pitiful respect,0\\r\\nim sorry really cant recommend anyone,0\\r\\nchoice headset yearsgreat sound good volume good noise cancellation,1\\r\\nnothing privileged workingeating,0\\r\\nwont back,0\\r\\nfilm made,0\\r\\ncomfortable wear well probably important aspect using case,1\\r\\nleave theater wanting go dance star,1\\r\\nchecked everywhere feature really disappointing,0\\r\\ncant get software work computer,0\\r\\nkeyboard really worthwhile usefulness sturdy enough dont expect problem,1\\r\\nmaybe would reasonable explanation atrocity,0\\r\\nused bitpim free program find internetto transfer data phonethe price cable excellent,1\\r\\nglad found place,1\\r\\nnone work dont buy,0\\r\\ntrumbull love lucy,1\\r\\nwork great,1\\r\\naailiyah pretty good akasha place compelling first entrance mini dance scene,1\\r\\ngood lunch spot,1\\r\\ncinematography film shot interesting way,1\\r\\nfit palm tungsten e broke first time tried plug,0\\r\\nwent tigerlilly fantastic afternoon,1\\r\\nalso took forever bring u check asked,0\\r\\nregardless film fails level,0\\r\\nyoull love movie bad bad film way long definitely one bad one movie received great quality film age john wayne incredible job young movie industry screen presence shined thought even though senior actor screen think must see older john wayne film really dont see anyone could enjoy movie dont think ive ever seen movie half boring selfindulgent piece junk probably would better director hadnt spent movie showcasing art work really isnt noteworthy another thing didnt really like character got punched face gallon blood would spew forth soon jamie foxx absolutely ray charles performance simply genius owns film spacek owned coal miner daughter quaid owned great ball fire,1\\r\\ncomplaint standard sound volume little low even turned,0\\r\\nphone get bought sa say wow,1\\r\\nservice give star,0\\r\\nreally want make experience good one,1\\r\\ncome strong light use light camera shot even flash so signal seriously,1\\r\\nevening drastically sick,0\\r\\nwaste buck,0\\r\\nextremely tasty,1\\r\\nlove place,1\\r\\nscallop dish quite appalling value well,0\\r\\neverything gross,0\\r\\ncast veteran actor nostalgia trip,1\\r\\nopened sandwich impressed good way,0\\r\\none big drawback mp player button phone front cover let pause skip song lock second,0\\r\\ngreat food great service clean friendly setting,1\\r\\nim terribly disappointed film would receive many award accolade especially far deserving work film,0\\r\\nrocked world certainly must see anyone social physical outlet,1\\r\\nalmost song cover girl oldfashioned tuneful,0\\r\\nunfortunately easy accidentally activate gentletouch button accidentally touch phone face listening,0\\r\\nwell never go,0\\r\\nmic doesnt work,0\\r\\nthink film like dream,1\\r\\none disappointing aspect lack notable gore,0\\r\\ncrouton also taste homemade extra plus,1\\r\\nwould reccommend,0\\r\\nreally impressive place hasnt closed,0\\r\\nyeah movie pretty much sucked,0\\r\\nplace jewel la vega exactly ive hoping find nearly ten year living,1\\r\\nguess nobody network aired dribble watched putting,0\\r\\nreaching bottom row uncomfortable send end key expect,0\\r\\nitem received counterfeit,0\\r\\nfar worked like charm,1\\r\\nplan use car forget,0\\r\\nactingeven professional drago debbie rochonwas terrible directing worse perhaps contributory former dialog chimplike camera work barely tolerable,0\\r\\ncow tongue cheek taco amazing,1\\r\\nriot see hugo weaving play sexobsessed gay real estate salesman us client house tryst flaming darren tom hollander,1\\r\\nplace good,1\\r\\nplot derivative predictable ending like mercy killing,0\\r\\nbattery excellent bargain,1\\r\\nrave review couldnt wait eat herewhat disappointment,0\\r\\nself proclaimed coffee cafe wildly disappointed,0\\r\\nbrought fresh batch fry thinking yay something warm,0\\r\\nlove death decay shakespears lyric one,1\\r\\nprice think place would much rather gone,0\\r\\nsteak well trimmed also perfectly cooked,1\\r\\nleopard print wonderfully wild,1\\r\\ndissapointing performance,0\\r\\ntotally unfunny movie top pathetic unrealistic throughout whole minute utter torture probably looked watch time,0\\r\\ngot small adorable,1\\r\\nanyone near hear part conversation,0\\r\\nimpressed going original battery extended battery,1\\r\\nsong best muppets hilarious,1\\r\\nlove color,1\\r\\nknow like restaurant something,0\\r\\nfilm sole bright spot jonah hill look almost unrecognizable fan recent superbad due amount weight lost interim,1\\r\\nserver negligent need made u feel unwelcome would suggest place,0\\r\\npan cake everyone raving taste like sugary disaster tailored palate six year old,0\\r\\nboring,0\\r\\nchicken wing contained driest chicken meat ever eaten,0\\r\\ntake picture battery drop bar start beeping letting know dieing,0\\r\\ndont much pasta love homemade hand made pasta thin pizza,1\\r\\nactually turned pretty decent far blist horrorsuspense film go,1\\r\\ngo store bought new nokia phone working great,1\\r\\nhowever finally watching film realized closed mind brilliance depicts also found watching,1\\r\\nlove thing,1\\r\\nalso served hot bread butter home made potato chip bacon bit topvery original good,1\\r\\nreal disappointment waiter,0\\r\\nlike building used couple location maybe poor hummh,0\\r\\nbrilliance indeed,1\\r\\nhighquality chicken chicken caesar salad,1\\r\\nsay,0\\r\\nworst experience ever,0\\r\\nbasically service bad,0\\r\\noverall impressed would go back,0\\r\\nweek later activated suddenly died,0\\r\\nline cut audio everything wrong,0\\r\\nshame see good actor like thomerson james make living mess like,0\\r\\nmention combination pear almond bacon big winner,1\\r\\nfilm highlight fundamental flaw legal process discovering guilt innocence rather present better court,1\\r\\nmuch disappointed company,0\\r\\nlong lasting battery dont recharge frequentyly flip phone,0\\r\\nthing went wrong burned saganaki,0\\r\\nfrog phone charm adorable eye catching,1\\r\\nrude inconsiderate management,0\\r\\nfinally three four time spring latch broke could use longer visor,0\\r\\nlike loud buzzing override conversation phone,0\\r\\nfeel comfortable headset wear glass get way sometimes,1\\r\\nuneasy bad movie scared,0\\r\\nwasted little money earpiece,0\\r\\ncg opening sequence space looked like could created microsoft slideshow god sake,0\\r\\nhope place stick around,1\\r\\nworst service boot least worry,0\\r\\nmajority logitech earbud headset failed,0\\r\\nspecial thanks dylan recommendation order yummy tummy,1\\r\\nservice outshining definitely recommend halibut,1\\r\\nlove place,1\\r\\nwasnt busy know,0\\r\\nrange decent ive able roam around house phone living room receptionsound quality issue,1\\r\\neverything fresh delicious,1\\r\\ntimely shipment quality product,1\\r\\nthree different occasion asked well done medium well three time got bloodiest piece meat plate,0\\r\\nredeeming quality restaurant inexpensive,1\\r\\nsure beat nacho movie would expect little bit coming restaurant,0\\r\\ncomfortable hand,1\\r\\nitem worked great broke month use,0\\r\\nunreliable im giving,0\\r\\nvictor mclaglen even bad brian donlevy almost unrecognizable,0\\r\\nfound place accident could happier,1\\r\\nfelt like gripping intelligent stage play without overly theatrical feeling one actually get watching people stage play everyones terror white lie escalating monstrous consequence,1\\r\\nmean terrible way,0\\r\\nimpressed would recommend item anyone,0\\r\\nbought two neither charge,0\\r\\nim bit disappointed,0\\r\\nlacked flavor seemed undercooked dry,0\\r\\ngive one look,1\\r\\nseveral different minute call experienced drop area bar,0\\r\\nhorrendous,0\\r\\nminute footage wasted show mediocre elderly actor awkwardly babbling overwrought pseudosatanic gibberish corny enough make teen goth blush almost always olde english sometimes latin may may made word,0\\r\\ngood food good service,1\\r\\ncase passed one year mark show sign wear functional,1\\r\\nshow made american stupid full hatred clichs admitted elsewhere,0\\r\\nside greek salad greek dressing tasty pita hummus refreshing,1\\r\\noverall like food service,1\\r\\nbuck head really expect better food,0\\r\\nevery time opened mouth expect hear see kid pulling plug mercy killing horrible show,0\\r\\ndit work time nokia,0\\r\\nheart attack grill downtown vega absolutely flatlined excuse restaurant,0\\r\\nstaff friendly wait time served horrible one even say hi first minute,0\\r\\nget absolutely horrible reception apartment phone problem,0\\r\\nworst one series,0\\r\\nended sliding edge pant back pocket instead,1\\r\\nfella got huevos rancheros didnt look appealing,0\\r\\nbest buffet town price beat,1\\r\\nsaw mirrormask last night unsatisfactory experience,0\\r\\nhighly recommend encourage people give try,1\\r\\nhappy,0\\r\\nfirst crawfish experience delicious,1\\r\\nessentially forget microsofts tech support,0\\r\\nfour star food guy blue shirt great vibe still letting u eat,1\\r\\nphone work great,1\\r\\nthing happen character personality change plot twist occur real reason script call,0\\r\\ntime film ended disliked despised,0\\r\\nanyways food definitely filling price pay expect,0\\r\\nfirst movie ive given year,1\\r\\nwould recommend others,1\\r\\nbought battery coupon amazon im happy purchase,1\\r\\nbought hoping could make bluetooth headset fit better thing made impossible wear,0\\r\\nlunch great experience,1\\r\\nuncomfortable ear dont use lg vx env,0\\r\\naggravating,0\\r\\niam pleased purchase,1\\r\\nhorrible horrible protector,0\\r\\ndont find bad unit come one earpad onlyi would recommend anyone,0\\r\\nworst phone samsungcrap crappy samsung e worst ever seeen,0\\r\\nservice excellent price pretty reasonable considering vega located inside crystal shopping mall aria,1\\r\\nplace two thumb upway,1\\r\\nkept well,1\\r\\ngave trying eat crust teeth still sore,0\\r\\nneed two hand operate screenthis software interface decade old compete new software design,0\\r\\nfly apple juice fly,0\\r\\nbuilding seems pretty neat bathroom pretty trippy wouldnt eat,0\\r\\nwell packaged arrived time work intended,1\\r\\nordered toasted english muffin came untoasted,0\\r\\nthing think could improve sound leak headset,0\\r\\ndespite hard rate business actually rare give star,0\\r\\ncharacter film tremendously well played,1\\r\\nwould casted role ready script,1\\r\\nbelieve screenwriter good job tying loose end,1\\r\\nyet plantronincs continues use flawed charger design,0\\r\\nachille philippa beautifully sing duet giovanni perfectly describes situation movie appreciate subtle layer excellent film,1\\r\\nseller shipped quickly much cheaper competitor,1\\r\\nbit predictable,0\\r\\nemily watson character strong give quick glance understand everything,1\\r\\ncase le extra originally put later discarded scratched ear,0\\r\\nchip sals amazing,1\\r\\nwould avoid place staying mirage,0\\r\\nprobably never coming back wouldnt recommend,0\\r\\nkeep watching,1\\r\\notherwise easy install use clear sound,1\\r\\ngood though,1\\r\\nservice beyond bad,0\\r\\nhour half waste time following bunch pretty high schoolers whine cry life,0\\r\\nalmost unbearable watch screen little charisma terrible comedic timing,0\\r\\nmight gotten defect would risk buying built quality alone,0\\r\\ndont,0\\r\\nplace pretty good nice little vibe restaurant,1\\r\\nfilm redeeming feature,0\\r\\nplace good film garbage,0\\r\\nservice fine waitress friendly,1\\r\\nlove product,1\\r\\ngood case excellent value,1\\r\\nhouse getting dropped coverage upstairs coverage basement,0\\r\\nattempt humor pitiful story awful dosent bear thinking basically involves vulcan stealing enterprise find god seriously didnt care film oh mention uhura belly dance distract male guard,0\\r\\nhighly recommend case,1\\r\\nwork,1\\r\\nallows possibility double booking date time first,0\\r\\nhappy product,1\\r\\ntime side restaurant almost empty excuse,0\\r\\nexperience terrible fourth bluetooth headset much comfortable last jabra hated,0\\r\\nwonderful inspiring watch hope get released video dvd,1\\r\\npurchased within day longer working,0\\r\\nbose noise cancelling amazing important nyc commuter,1\\r\\nwaiting hour seated greatest mood,0\\r\\nunfortunately work,0\\r\\ndisappointing thing speakerphone,0\\r\\nrestaurant always full never wait,1\\r\\nposted detailed comment grey black phone fire red great color,1\\r\\nvolume switch rocketed unit destination unknown,0\\r\\nsaid phone camera nice many cool effect play video decent well,1\\r\\npunishment park brilliant piece cinema,1\\r\\nseafood fresh generous portion,1\\r\\neven fully charged went bed turned blue tooth wifi noticed left morning,0\\r\\ngloriously fun fast paced fairly accurate portrayal night raver,1\\r\\ntotal letdown would much rather go camelback flower shop cartel coffee,0\\r\\ncomfortable ear,1\\r\\ngood phone,1\\r\\ncast good,1\\r\\nmonster chicken fried steak egg time favorite,1\\r\\nacting help writing along well maybe idiotsavant sister could played better real joy watch,1\\r\\nbest scene movie gerardo trying find song keep running head,1\\r\\nworse humiliated worker right front mebunch horrible name calling,0\\r\\none bite hooked,1\\r\\nbest electronics available fm transmitter,1\\r\\nservice little slow considering served people server food coming slow pace,0\\r\\ninside really quite nice clean,1\\r\\nthank wasting money,0\\r\\ngood money,0\\r\\nfantastic service,1\\r\\nverizons bill however difficult understand even though pricing plan simple,0\\r\\ngreek dressing creamy flavorful,1\\r\\nserver went back forth several time even much helped,0\\r\\npairing two device easy barely took couple minute started making call voice dialing feature,1\\r\\nscream legit booksomethats also pretty rare vega,1\\r\\nfilmmaker director would hide head sand id spent whatever amount money time movie,0\\r\\nexchanged sony ericson za im pretty happy decision,1\\r\\nutterly without merit level akin torture,0\\r\\ngreat subway fact good come every subway meet expectation,1\\r\\ngo watch,1\\r\\ngreat price also,1\\r\\nwarm feeling service felt like guest special treat,1\\r\\ndrive thru mean want wait around half hour food somehow end going make u wait wait,0\\r\\ngreat charger,1\\r\\nthink plan onethis sure last moto phone,0\\r\\nbus boy hand rude,0\\r\\nnearly good looking amazon picture make look,0\\r\\nmega pixel camera part phone reasonably good,1\\r\\nfabulous,1\\r\\ngo far many place ive never seen restaurant serf egg breakfast especially,0\\r\\nnice quality build unlike cheap,1\\r\\nunfortunately recharge iphone despite connecting multiple power source imac external battery wall outlet etc,0\\r\\nacting involved includes like shatner nimoy bad washed making seem old look real life special effect tacky like spock rescue kirk jet pack fall mountain,0\\r\\nalso music mark snow possibly best score ive ever heard,1\\r\\ndisappointed wondered could oscar shortlist,0\\r\\nfact im going round star awesome,1\\r\\nincredible,1\\r\\ndoesnt work europe asia,0\\r\\ngood joint,1\\r\\nyes shiny front side love,1\\r\\nnice sound,1\\r\\nfast service,1\\r\\ncashier care ever say still ended wayyy overpriced,0\\r\\npremise sound stupid thats,0\\r\\ntasted like dirt,0\\r\\ngood commentary today love undoubtedly film worth seeing,1\\r\\nreally nothing postinos hope experience better,0\\r\\nsetup couldnt simpler,1\\r\\nexcellent short film,1\\r\\nplace fairly clean food simply wasnt worth,0\\r\\npossible movie get worse,0\\r\\ngyro basically lettuce,0\\r\\nbother slow service,0\\r\\nlittle music anything speak,0\\r\\ngreat place highly recommend,1\\r\\nextraordinary film,1\\r\\ndisappointed,0\\r\\nlike design look jabra behing ear headset pretty comfortible wear hour day without pain ear,1\\r\\nribeye steak cooked perfectly great mesquite flavor,1\\r\\ndeal good enough would drag establishment,0\\r\\nphone try hard everything fails ability phone,0\\r\\noverall film interesting thoughtprovoking,1\\r\\nthought bad,0\\r\\nworth driving tucson,1\\r\\nfat computer geek unbelievable bible thumper badass girl actor,0\\r\\ngood ordered twice,1\\r\\ncontinuously beautiful look bertolucci relationship convincing narrative engaging master work,1\\r\\nwould take long describe bad customer service experience amazon,0\\r\\ngreat double cheeseburger,1\\r\\nkind hard mess steak,0\\r\\nreceived headset good time happy,1\\r\\nfeature want,1\\r\\ninitially local site film filmed buffalo intrigued,1\\r\\nbattery life also great,1\\r\\ntotally absolutely recommend movie anyone like good wholesome family movie exactly,1\\r\\naround year carry highest quality antiglare screen protector found date,1\\r\\nfood gooodd,1\\r\\npretty gross,0\\r\\nive never insulted felt disrespected,0\\r\\nmovie suffered writing needed suspense,0\\r\\ncouldnt use unit sunglass good texas,0\\r\\ndont know place managed served blandest food ever eaten preparing indian cuisine,0\\r\\nalways pleasure dealing,1\\r\\nlove device,1\\r\\nzero star would give zero star,0\\r\\nthing,0\\r\\nplace horrible way overpriced,0\\r\\nconclusion bother movie volcano los angeles nothing nonsense,0\\r\\nexcellent new restaurant experienced frenchman,1\\r\\npleased know modern day genius letting passion art drive taking u audience,1\\r\\ncool phone,1\\r\\nboy sucker dry,0\\r\\nreal improvement,0\\r\\nclever real crowdpleaserthis film still rank among mickey best film even wonderful year,1\\r\\nmine year christmas bought rest family,1\\r\\nfind better movie youtube,0\\r\\ntired clichs lazy writing come thick fast,0\\r\\ngot bored watching jessice lange take clothes,0\\r\\nwould go back,0\\r\\nheard good thing place exceeding every hope could dreamed,1\\r\\nmac salad pretty bland getting,0\\r\\neasy love even easy identify,1\\r\\nate twice last visit especially enjoyed salmon salad,1\\r\\ncoming like experiencing underwhelming relationship party cant wait person ask break,0\\r\\ngive thumb,0\\r\\npoor talk time performance,0\\r\\nmistake,0\\r\\nused talk hour battery would literally drained dying,0\\r\\nlot hole plot there nothing became emperor nothing spend year childhood mature age,0\\r\\nmiss wish one philadelphia,1\\r\\nsingle employee came see ok even needed water refill finally served u food,0\\r\\ngreat atmosphere friendly fast service,1\\r\\nperformed awful muffled tinny incoming sound severe echo end call,0\\r\\ndont miss,1\\r\\nfantastic buy get whatever next phone,1\\r\\nfinally get ending wouldve great handled competent people jerry falwell,0\\r\\nbelieve every one see movie think people outside south africa understand past attempted truth reconciliation process,1\\r\\nback,1\\r\\nsorry getting food anytime soon,0\\r\\nboyfriend came first time recent trip vega could pleased quality food service,1\\r\\nreally really good rice time,1\\r\\nwife hated meal coconut shrimp friend really enjoy meal either,0\\r\\ncant beat,1\\r\\nlast le minute actually try use phonemy wife phone problem,0\\r\\nim returning,0\\r\\noverall dont think would take parent place made similar complaint silently felt,0\\r\\nprobably would go,0\\r\\nphone pretty sturdy ive never large problem,1\\r\\nproblem item would order needed,1\\r\\nnice headset priced right,1\\r\\nplus movie rather modest budget fast running time amazing job,1\\r\\nplease dont waste money,0\\r\\nservice fantastic,1\\r\\nfilm dialogue natural real life,1\\r\\nnever heard except cole totally unbelievable part,0\\r\\noutstanding little restaurant best food ever tasted,1\\r\\nhuge awkward lb piece cow th gristle fat,0\\r\\neven love bad movie watch movie,0\\r\\nbuyer remorse one,0\\r\\nloved,1\\r\\nalways order vegetarian menu dinner wide array option choose,1\\r\\nweekly haunt definitely place come back every,1\\r\\ncomfortable,1\\r\\ndefinitely back,1\\r\\nunderstated film leaf lasting impression,1\\r\\nsteer clear product go genuine palm replacementr pen come threepack,0\\r\\nsomeone shouldve invented sooner,1\\r\\nfilm use word loosely insult moviegoing public,0\\r\\nlove fry bean,1\\r\\nmovie completely perfect titta di girolamo stay long time vision movie,1\\r\\nabsolutely problem headset linking blackberry curve,1\\r\\nmake strange ticking noise end call,0\\r\\njabra eargels fit ear well,1\\r\\nalso right balance war love,1\\r\\nhighlight great quality nigiri,1\\r\\nill even say torture,0\\r\\nhorrible switch time,0\\r\\nacting terrible writing worse,0\\r\\nplace handsdown one best place eat phoenix metro area,1\\r\\ncasting also horrible cause see really really bad actor period,0\\r\\ndeal included tasting drink jeff went beyond expected,1\\r\\ndefinitely worth seeing sort thought provoking film force question threshold loneliness,1\\r\\ntom wilkinson character man prepared ordeal begin take matter hand story progress great actor give performance make feel character anguish suffering,1\\r\\nwaitress manager friendly,1\\r\\nnever anything complain,1\\r\\nservice friendly inviting,1\\r\\nwent bachi burger friend recommendation disappointed,1\\r\\nreally wanted plantronics right one many issue methe good,0\\r\\nryans bar definitely one edinburgh establishment wont revisiting,0\\r\\nwaitress little slow service,0\\r\\nfriend pasta also bad barely touched,0\\r\\nawkward use unreliable,0\\r\\nprovides good protection look classy,1\\r\\nservice fair best,0\\r\\ntotal package,1\\r\\nbar vega ever recall charged tap water,0\\r\\nspend money time place else,0\\r\\nlooking headset long time ive got couldnt happier,1\\r\\nscreen get smudged easily touch ear face,0\\r\\ngood price,1\\r\\nslow,0\\r\\nstay away store careful,0\\r\\njamaican mojitos delicious,1\\r\\nim happy purchase good quality low price,1\\r\\nwould recommend,1\\r\\nassure ill back,1\\r\\nplus wellpaced suited relatively short run time,1\\r\\ngoat taco didnt skimp meat wow flavor,1\\r\\ngood thing waiter helpful kept bloddy mary coming,1\\r\\nblueant supertooth handsfree phone speaker awesome,1\\r\\nordered burger rare came well done,0\\r\\nstruggle find anything bad say,1\\r\\ngreat pocket pc phone combination,1\\r\\ncharacter funny peculiarity true lead character,1\\r\\npaid much,0\\r\\nmany close ups,0\\r\\nhoweverthe riingtones best neither game,0\\r\\ncant upload ringtones third party,0\\r\\nhand favorite italian restaurant,1\\r\\nrecommended friend,1\\r\\neven take self portrait outside exterior display cool,1\\r\\nwouldnt return,0\\r\\none movie need see whenever come tvnever mind fact already memorized,1\\r\\npda rock,1\\r\\ndespite pan reviewer liked movie,1\\r\\ntake battery phone put back together restart,0\\r\\nill drivng along headset start ringing reason,0\\r\\noriginal body soul masterpiece,1\\r\\nfun funny movie,1\\r\\ndont waste time,0\\r\\nsooooo good,1\\r\\nmain player mesmerising,1\\r\\nive better bagel grocery store,0\\r\\njabra earset happy sound quality especially outgoing better,1\\r\\nrecently tried caballeros back every week since,1\\r\\nwant real scare rent one,1\\r\\nhelen baxendale credible lady macbeth cheerfull time sometimes look like naughty girl deadly taste blood evil,1\\r\\nlive neighborhood disappointed wont back convenient location,0\\r\\nwhatever prompted documentary beyond,0\\r\\ncamera really like movie,1\\r\\nkeep getting better better third one ive numerous palm,1\\r\\nwork great car charger especially plug two adapter time,1\\r\\npoint finger item menu order wont disappointed,1\\r\\ntoro tartare cavier extraordinary liked thinly sliced wagyu white truffle,1\\r\\ndessert bit strange,0\\r\\nyoure familiar check,1\\r\\nive nearly year worked great,1\\r\\nbuffet bellagio far anticipated,0\\r\\nyes bad,0\\r\\ncame back today since relocated still impressed,0\\r\\nmovie creates universe fascinating every way,1\\r\\npizza good peanut sauce tasty,1\\r\\nwi superb,1\\r\\npretty easy,1\\r\\ndisappointed ordered big bay plater,0\\r\\nripped banana ripped petrified tasteless,0\\r\\nnice ambiance,1\\r\\nthird cheese friend burger cold,0\\r\\nstaff great food delish incredible beer selection,1\\r\\napplause given prelude however,1\\r\\nunbelievable bargain,1\\r\\nloved bacon wrapped date,1\\r\\ndidnt want clip going top ear causing discomfort,0\\r\\nsitting vehicle cradle belt headset lost signal,0\\r\\nterm writing fresh bold,1\\r\\nsimple use like,1\\r\\nplaced treo case snug lot extra room side,0\\r\\nive bluetoooth headset time still comfortable way fit ear,0\\r\\nfood way overpriced portion fucking small,0\\r\\nextremely slow take forever anything,0\\r\\nvomited bathroom mid lunch,0\\r\\nhighly recommend one blue tooth phone,1\\r\\nproblem thought actor playing villain low rent michael ironside,0\\r\\nset bad wouldnt look place thunderbird episode,0\\r\\nbought phone replacement startac regretted since,0\\r\\npretty picture world make piece work flawed core,0\\r\\nmay bad film ever made,0\\r\\npresentation food awful,0\\r\\ndisgusted pretty sure human hair,0\\r\\nwork cell phone plug set charger,0\\r\\nsuper charged use small hybrid palmtopcameracellphone excels role,1\\r\\nessentially communication tool communicate,0\\r\\nplot,0\\r\\navoid one,0\\r\\nwhole experience underwhelming think well go ninja sushi next time,0\\r\\npiece junk,0\\r\\nmagical help,1\\r\\ngirlfriend veal bad,0\\r\\nchosen tortured disgusting piece blatant american propaganda,0\\r\\ntable service pretty fast,1\\r\\nsound quality device unacceptableunless really quiet area almost hear nothing,0\\r\\ncharacter onedimensional even good guy especially bad guy,0\\r\\nsimilarly delivery man say word apology food minute late,0\\r\\nthink,0\\r\\nspend money elsewhere,0\\r\\ngreat disappointment,0\\r\\nmic joke volume quite low,0\\r\\nsending back,0\\r\\nmain thing didnt enjoy crowd older crowd around mid,0\\r\\nitem arrived quickly work great metro pc samsung schr slider phone sony premium sound ear plug,1\\r\\nserver pleasant deal dont always honor pizza hut coupon,0\\r\\nhigh adventure best,1\\r\\ngarbo showed right bat talent could carry silent era wanted see silent work netflix doesnt seem stocking,1\\r\\nliked way dustin hoffman character ready everything stay son,1\\r\\nproblem charge sandwich bigger subway sub offer better amount vegetable,0\\r\\ngood work fine,1\\r\\ngosh best phone ever,1\\r\\nwatched waiter pay lot attention table ignore u,0\\r\\nphone got year old slowly breaking despite much care part,0\\r\\nplace great,1\\r\\nfirst thought grtting good deal plugged phone vc razr,0\\r\\noverall wasnt impressed noca,0\\r\\nwont work right atleast,0\\r\\nstandout scene,1\\r\\nthing four kid get absolutely hilarious watch,1\\r\\nyear battery went completely dead headset,0\\r\\nwalked away stuffed happy first vega buffet experience,1\\r\\ntough short flavor,0\\r\\nearly film future goremeister lucio fulci good addition giallo subgenre,1\\r\\nfive star plus plus,1\\r\\nplethora salad sandwich everything ive tried get seal approval,1\\r\\ntwo bite refused eat anymore,0\\r\\nfresh subtle rather sublime effect,1\\r\\nwould given star able,0\\r\\neven dropped phone stream submerged second still work great,1\\r\\nbad lost heart finish,0\\r\\nmovie awesome,1\\r\\nordered product first unhappy immediately,0\\r\\ncamera color balance awful,0\\r\\nmom got home immediately got sick bite salad,0\\r\\nnice blanket moz top feel like done cover subpar food,1\\r\\nunfortunately must hit bakery leftover day everything ordered stale,0\\r\\ngoing first negatively review product,0\\r\\ngood time,1\\r\\nreception poor,0\\r\\nbest rotating feature helpful,1\\r\\nhate earbugs avoid phone mean,0\\r\\nwouldnt recommend buying product,0\\r\\nbattery chargelife quite long,1\\r\\nanswer call unit never worked,0\\r\\nsecondary plot line incomprehensible relation primary plot line mystifying,0\\r\\nplace nice surprise,1\\r\\nsay bye bye tip lady,0\\r\\nstaff always super friendly helpful especially cool bring two small boy baby,1\\r\\nmoviemaking,0\\r\\nincredible soundtrack truly capture essence film,1\\r\\nentertaining nonetheless,1\\r\\nambiance incredible,1\\r\\nsoftware great job could also make ringtones form existing cd without internet connection,1\\r\\ninteresting premise billy drago always good dangerous nutbag side note id love see drago stephen mchattie lance hendrikson flick together talk raging cheekbone,1\\r\\nfact stinker smell like directtovideo release,0\\r\\npoor reliability,0\\r\\nlewis black considerable talent wasted incendiary unrestrained pg rating certainly wont allow,0\\r\\nbluetooth range good day ago left phone trunk got call carried conversation without hitch,1\\r\\nwork comfortable,1\\r\\nthere barely boring moment film plenty humorous part,1\\r\\nmovie make lot serious mistake,0\\r\\nlook authentic thai food go else,0\\r\\ndisappointed,0\\r\\ndisappointing experience,0\\r\\ngo gave star rating please know third time eating bachi burger writing review,0\\r\\ndelicious nyc bagel good selection cream cheese real lox caper even,1\\r\\nsee probably leave shelf,0\\r\\nelia koteasjack palance play good role angelina hot get nakedbilly drago appears cool usual cameo sven ole thorsen help make enjoyable movie good acting decent budget,1\\r\\nbeware trashy cult movie trash period,0\\r\\nsum film breeder terrible cheaply made horror movie avoided like ebola virus,0\\r\\nmovie wellbalanced comedy drama thoroughly enjoyed,1\\r\\nbuyerbe careful,0\\r\\nwould recommend purchasing jabra jx series work flawlessly moto q go figure,1\\r\\nseveral moment movie didnt need excruciatingly slow moving,0\\r\\ngreat phone,1\\r\\nnice case feel good hand,1\\r\\nnacho must,1\\r\\ngood,0\\r\\nim az time new spot,1\\r\\nanyway plot flowed smoothly malebonding scene hoot,1\\r\\nsaw film recommend,1\\r\\ngood plot hold complete attention acting superb tom wilkinson fantastic emily watson also good,1\\r\\ngreat place fo take eat,1\\r\\npretty surprising wonderful film made hollywood generally collective head sand concerning black white issue time,1\\r\\neew location need complete overhaul,0\\r\\nhighly recommended,1\\r\\nowner really great people,1\\r\\ncoming back,0\\r\\nfar worst purchase ive made amazon,0\\r\\neasy turn car volume control quite accessable,1\\r\\nfood arrived quickly,1\\r\\nnine ten truly lovely film,1\\r\\ncontinue come lady night andddd date night highly recommend place anyone area,1\\r\\ngood job quite amusing,1\\r\\nordered motorola data cable got well finished working product,1\\r\\ngood selection food including massive meatloaf sandwich crispy chicken wrap delish tuna melt tasty burger,1\\r\\ngreat pork sandwich,1\\r\\nreally good product,1\\r\\nleast min passed u ordering food arriving wasnt busy,0\\r\\narrived quickly much le expensive others sold,1\\r\\neasy use,1\\r\\nwed definitely go back,1\\r\\ntmobile best customer service anywhere,1\\r\\nstory line totally predictable,0\\r\\nplace worth time let alone vega,0\\r\\nstrawberry tea good,1\\r\\nwork like charm work one got phone,1\\r\\ndont waste money,0\\r\\ncant go wrong food,1\\r\\nstaff also friendly efficient,1\\r\\nloved biscuit,1\\r\\ngreat pizza salad,1\\r\\nback good bbq lighter fare reasonable pricing tell public back old way,1\\r\\ngreat steak great side great wine amazing dessert,1\\r\\ngoogle mediocre imagine smashburger pop,0\\r\\nphone sturdy nokia bar phone,1\\r\\naccompanied software almost brilliant,1\\r\\nalways used corded headset freedom wireless helpful,1\\r\\nhumour get get day apt,1\\r\\nwanted leave,0\\r\\nlinked phone without effort,1\\r\\nsaw film christmas great film,1\\r\\nlove camera really pretty good quality,1\\r\\nplug wrong size,0\\r\\nwaited waited waited,0\\r\\ndel taco pretty nasty avoided possible,0\\r\\nparticularly remember sens assaulted strident cord music would blare little warning even le meaning,0\\r\\nlove able use one headset landline cell,1\\r\\nbasic premise wasted since sidelined inexplicable focus documentary crew,0\\r\\ngreat place eat reminds little mom pop shop san francisco bay area,1\\r\\nrolled eye may stayed sure go back try,0\\r\\nwaste money,0\\r\\ntasty texture nasty,0\\r\\nlove ownerchef one authentic japanese cool dude,1\\r\\ndefective crap,0\\r\\ncase flimsy piece plastic front side protection whatsoever,0\\r\\nproduct strong rubberpetroleum smell unbearable caused return,0\\r\\npoint proceeding look remotely like america,0\\r\\ndisapointing result,0\\r\\nlove great armband,1\\r\\nsee,1\\r\\nabsolutley fantastic,1\\r\\nget pay guess,0\\r\\nconnected wife bluetoothmotorola h phone worked like charm whether phone pocket case,1\\r\\nunderstand supposed cheap popcorn comedy doesnt mean completely insult intelligence writing incredibly hackneyed border offensive,0\\r\\none note ventilation could use upgrading,0\\r\\ndefinitely worth checking,1\\r\\nstill good actor around,1\\r\\nword embarrassing,0\\r\\nfood really good got full petty fast,1\\r\\nmotorola finally got voice quality bluetooth headset right,1\\r\\nwould recommend place,0\\r\\nrating,0\\r\\ndownside service,0\\r\\nnever brought salad asked,0\\r\\nduet astronaut doctor beginning movie perfect exchange one considers movie made well cold war astronaut biggest fear crashed ussr,1\\r\\ndont think redeeming quality remake,0\\r\\nmovie greatespecially enjoy visual art,1\\r\\neven bmw series fairly quiet trouble hearing person saying,0\\r\\ntracfonewebsite user friendly make easy toactivate etc,1\\r\\nanyway think go back,0\\r\\nburger got gold standard burger kind disappointed,0\\r\\nkrussel always good,1\\r\\nchicken got definitely reheated ok wedge cold soggy,0\\r\\nphone fall easily,0\\r\\nplace honestly blown,0\\r\\nphone take forever charge like hour literally,0\\r\\nwork fine,1\\r\\ntrack command sentiment actually contributing scene character,1\\r\\nsummarize food incredible nay transcendant nothing brings joy quite like memory pneumatic condiment dispenser,1\\r\\nthink restaurant suffers trying hard enough,0\\r\\nive also problem phone reading memory card always turn,0\\r\\nportable work,1\\r\\nacting like watching wooden puppet moving around reading book thats bad,0\\r\\ncutout button placed perfectly,1\\r\\nservice thought good,1\\r\\ndefinitely must state allow cell phone usage driving,1\\r\\nloved itfriendly server great food wonderful imaginative menu,1\\r\\ndelivery time,1\\r\\nplot whatsoever,0\\r\\nive missed numerous call reason,0\\r\\nportion huge,1\\r\\nambience wonderful music playing,1\\r\\ntext messaging feature really tricky use,0\\r\\npurchase different case,0\\r\\nmany people complained found headset microphone weak,0\\r\\ngood item worked started problem auto reverse tape player,0\\r\\nheadset work great packaged nicely avoid damage,1\\r\\nclose house lowkey nonfancy affordable price good food,1\\r\\nsaw child tv back stranger loved,1\\r\\nbeautiful styling though,1\\r\\ncrust good,0\\r\\ncant say enough good thing place,1\\r\\nservice perfect family atmosphere nice see,1\\r\\nfeel poorly constructed menu difficult navigate button recessed difficult push,0\\r\\nconvenient simple use get job done make car ride much smoother,1\\r\\nbad reception,0\\r\\nphenomenal food service ambiance,1\\r\\nbethe audio quality poor,0\\r\\ncomfort whole family,1\\r\\ntwo main character may two believable child ever saw put screen,1\\r\\nperformed,1\\r\\nmust say taped episode find watching,1\\r\\ndelicious,1\\r\\ngenerally line plot weaker average episode,0\\r\\neven squib look awful,0\\r\\nnokia ca usb cable work phone,0\\r\\ntime seems film animation dominated disneypixars cgi masterpiece refreshing comforting know miyazaki still relying traditional handdrawn animation tell charming enchanting story,1\\r\\nmovie pure disaster story stupid editing worst seen confuses incredibly,0\\r\\ndisappointing,0\\r\\none fails create real suspense,0\\r\\nscenery two daughter paint photograph beautiful,1\\r\\nmake call certain place,0\\r\\nfood good,1\\r\\nnicest chinese restaurant ive,1\\r\\ncould believe dirty oyster,0\\r\\ndelicious absolutely back,1\\r\\nearbud piece break easily,0\\r\\n'}"
            ]
          },
          "metadata": {
            "tags": []
          },
          "execution_count": 2
        }
      ]
    },
    {
      "cell_type": "markdown",
      "metadata": {
        "id": "pPqi1y8lDsg4"
      },
      "source": [
        "## Data Science Packages"
      ]
    },
    {
      "cell_type": "code",
      "metadata": {
        "id": "p4vgN955V0gu"
      },
      "source": [
        "import pandas as pd\n",
        "import numpy as np\n",
        "import seaborn as sns\n",
        "import matplotlib.pyplot as plt\n",
        "%matplotlib inline"
      ],
      "execution_count": 3,
      "outputs": []
    },
    {
      "cell_type": "markdown",
      "metadata": {
        "id": "-eNpijeMD03P"
      },
      "source": [
        "## fastai"
      ]
    },
    {
      "cell_type": "code",
      "metadata": {
        "id": "kZoGzFn9YdAH"
      },
      "source": [
        "from fastai.text import *\n",
        "from fastai.metrics import *"
      ],
      "execution_count": 4,
      "outputs": []
    },
    {
      "cell_type": "markdown",
      "metadata": {
        "id": "ihvqGnQHD8qE"
      },
      "source": [
        "## Transformer Pipeline _Tokenizer\n",
        "\n",
        "* RoBERTa uses different default special tokens from BERT. For example, instead of **[CLS]** and **[SEP]** for starting and ending tokens, **<s>** and **</s>** are used respectively."
      ]
    },
    {
      "cell_type": "code",
      "metadata": {
        "id": "t4rK4GXIFZS_"
      },
      "source": [
        "# Creating a config object to store task specific information\n",
        "class Config(dict):\n",
        "    def __init__(self, **kwargs):\n",
        "        super().__init__(**kwargs)\n",
        "        for k, v in kwargs.items():\n",
        "            setattr(self, k, v)\n",
        "    \n",
        "    def set(self, key, val):\n",
        "        self[key] = val\n",
        "        setattr(self, key, val)\n",
        "        \n",
        "config = Config(\n",
        "    testing=False,\n",
        "    seed = 2019,\n",
        "    roberta_model_name='roberta-base', # can also be exchnaged with roberta-large \n",
        "    max_lr=1e-5,\n",
        "    epochs=1,\n",
        "    use_fp16=False,\n",
        "    bs=4, \n",
        "    max_seq_len=256, \n",
        "    num_labels = 2,\n",
        "    hidden_dropout_prob=.05,\n",
        "    hidden_size=768, # 1024 for roberta-large\n",
        "    start_tok = \"<s>\",\n",
        "    end_tok = \"</s>\",\n",
        ")"
      ],
      "execution_count": 8,
      "outputs": []
    },
    {
      "cell_type": "code",
      "metadata": {
        "colab": {
          "base_uri": "https://localhost:8080/",
          "height": 166,
          "referenced_widgets": [
            "a6dd16be43c6433982f591c7eff8a0d4",
            "c610411e08fc41978e3e01c5bb1a70ae",
            "4c6f4f5fc10e44d6a637922b3870dbf7",
            "2e4e26932c144f339f833187a3d4b832",
            "5fcf4d42e7ac4a52b51a3417d85aabc0",
            "4c86872246ea4960a22c1bd0c7b9d939",
            "4ff6b48c5edc453c916f09d1e591837f",
            "585b7a3125a24801ae99e765980fe844",
            "648af0a833374e4b9943745d13341573",
            "5c0908b588144d56a0b902b46e26a966",
            "b822a818cc9f4ec99a8c1c5c3bbf5346",
            "f51c416b8c2f4af5887fff1ba9581117",
            "3e439431812c4b908a5e5f5ea9869fb9",
            "6f7705943848489aba8222c99538d900",
            "c791f03dcbae40aea3eebd3d87acd7f9",
            "1947bd5eef2d4d1aa69e998beabcb6a9",
            "67815652c7584b4780427ec461e459f5",
            "2a8b4794cc634b7081ca3ab9e1cf32a4",
            "2c229b9a3583476582cc61a5c7d8262d",
            "cccf631fc0984cd98e461040dbd16e85",
            "184101edea984c54b36d2584f2540bce",
            "320342ff2c4b414f8abbd9f65a828a4c",
            "ee39a5fa26a64117a5cfd87d5589e82e",
            "c4fb2607a5cf453cbd322022e1b85999"
          ]
        },
        "id": "v317I0n-D_4n",
        "outputId": "0c58735c-4ef5-4e78-c954-b36018ed51d0"
      },
      "source": [
        "from transformers import RobertaTokenizer\n",
        "roberta_tok = RobertaTokenizer.from_pretrained(\"roberta-base\")"
      ],
      "execution_count": 5,
      "outputs": [
        {
          "output_type": "display_data",
          "data": {
            "application/vnd.jupyter.widget-view+json": {
              "model_id": "a6dd16be43c6433982f591c7eff8a0d4",
              "version_minor": 0,
              "version_major": 2
            },
            "text/plain": [
              "HBox(children=(FloatProgress(value=0.0, description='Downloading', max=898823.0, style=ProgressStyle(descripti…"
            ]
          },
          "metadata": {
            "tags": []
          }
        },
        {
          "output_type": "stream",
          "text": [
            "\n"
          ],
          "name": "stdout"
        },
        {
          "output_type": "display_data",
          "data": {
            "application/vnd.jupyter.widget-view+json": {
              "model_id": "648af0a833374e4b9943745d13341573",
              "version_minor": 0,
              "version_major": 2
            },
            "text/plain": [
              "HBox(children=(FloatProgress(value=0.0, description='Downloading', max=456318.0, style=ProgressStyle(descripti…"
            ]
          },
          "metadata": {
            "tags": []
          }
        },
        {
          "output_type": "stream",
          "text": [
            "\n"
          ],
          "name": "stdout"
        },
        {
          "output_type": "display_data",
          "data": {
            "application/vnd.jupyter.widget-view+json": {
              "model_id": "67815652c7584b4780427ec461e459f5",
              "version_minor": 0,
              "version_major": 2
            },
            "text/plain": [
              "HBox(children=(FloatProgress(value=0.0, description='Downloading', max=1355863.0, style=ProgressStyle(descript…"
            ]
          },
          "metadata": {
            "tags": []
          }
        },
        {
          "output_type": "stream",
          "text": [
            "\n"
          ],
          "name": "stdout"
        }
      ]
    },
    {
      "cell_type": "markdown",
      "metadata": {
        "id": "NUB1NCQpEV03"
      },
      "source": [
        "## Create a Fastai wrapper around RobertaTokenizer"
      ]
    },
    {
      "cell_type": "code",
      "metadata": {
        "id": "TagDh90FEXWC"
      },
      "source": [
        "class FastAiRobertaTokenizer(BaseTokenizer):\n",
        "    def __init__(self, tokenizer: RobertaTokenizer, max_seq_len: int=128, **kwargs): \n",
        "        self._pretrained_tokenizer = tokenizer\n",
        "        self.max_seq_len = max_seq_len \n",
        "    def __call__(self, *args, **kwargs): \n",
        "        return self \n",
        "    def tokenizer(self, t:str) -> List[str]: \n",
        "        return [\"<s>\"] + self._pretrained_tokenizer.tokenize(t)[:self.max_seq_len - 2] + [\"</s>\"]\n"
      ],
      "execution_count": 6,
      "outputs": []
    },
    {
      "cell_type": "markdown",
      "metadata": {
        "id": "SnAb7GjpEkeD"
      },
      "source": [
        "## Initialize our Fastai tokenizer: \n",
        "\n",
        "(Note: we have to wrap our Fastai wrapper within the Tokenizer class for Fastai compatibility)"
      ]
    },
    {
      "cell_type": "code",
      "metadata": {
        "id": "V1pGXSItEjiP"
      },
      "source": [
        "fastai_tokenizer = Tokenizer(tok_func = FastAiRobertaTokenizer(roberta_tok, max_seq_len=256), pre_rules=[], post_rules=[])"
      ],
      "execution_count": 7,
      "outputs": []
    },
    {
      "cell_type": "markdown",
      "metadata": {
        "id": "MZVm_vmrEzzi"
      },
      "source": [
        "## Create fastai vocabulary for roberta -Load Roberta’s vocabulary."
      ]
    },
    {
      "cell_type": "code",
      "metadata": {
        "id": "P5Xzt_7jE1bP"
      },
      "source": [
        "path = Path()\n",
        "roberta_tok.save_vocabulary(path) \n",
        "with open('vocab.json', 'r') as f:\n",
        "    roberta_vocab_dict = json.load(f)\n",
        "    \n",
        "fastai_roberta_vocab = Vocab(list(roberta_vocab_dict.keys()))"
      ],
      "execution_count": 15,
      "outputs": []
    },
    {
      "cell_type": "markdown",
      "metadata": {
        "id": "7_4mOi8xGCyG"
      },
      "source": [
        "##  Setting up pre-processors"
      ]
    },
    {
      "cell_type": "code",
      "metadata": {
        "id": "wFrpMA8nGFxp"
      },
      "source": [
        "class RobertaTokenizeProcessor(TokenizeProcessor):\n",
        "    def __init__(self, tokenizer):\n",
        "         super().__init__(tokenizer=tokenizer, include_bos=False, include_eos=False)\n",
        "\n",
        "class RobertaNumericalizeProcessor(NumericalizeProcessor):\n",
        "    def __init__(self, *args, **kwargs):\n",
        "        super().__init__(*args, **kwargs)\n",
        "\n",
        "\n",
        "def get_roberta_processor(tokenizer:Tokenizer=None, vocab:Vocab=None):\n",
        "    \"\"\"\n",
        "    Constructing preprocessors for Roberta\n",
        "    We remove sos and eos tokens since we add that ourselves in the tokenizer.\n",
        "    We also use a custom vocabulary to match the numericalization with the original Roberta model.\n",
        "    \"\"\"\n",
        "    return [RobertaTokenizeProcessor(tokenizer=tokenizer), RobertaNumericalizeProcessor(vocab=vocab)]"
      ],
      "execution_count": 16,
      "outputs": []
    },
    {
      "cell_type": "markdown",
      "metadata": {
        "id": "uJnPq6WfFiFA"
      },
      "source": [
        "## Read Training and Test Data"
      ]
    },
    {
      "cell_type": "code",
      "metadata": {
        "id": "9UdbG-Z8ZMIB"
      },
      "source": [
        "train = pd.read_csv(\"/content/Train_Data.csv\")\n",
        "test = pd.read_csv(\"/content/Test_Data.csv\")"
      ],
      "execution_count": 9,
      "outputs": []
    },
    {
      "cell_type": "code",
      "metadata": {
        "colab": {
          "base_uri": "https://localhost:8080/",
          "height": 202
        },
        "id": "dip4k3BJZUMc",
        "outputId": "d3db227c-be01-4bfd-cfa2-65b481772110"
      },
      "source": [
        "train.head()"
      ],
      "execution_count": 10,
      "outputs": [
        {
          "output_type": "execute_result",
          "data": {
            "text/html": [
              "<div>\n",
              "<style scoped>\n",
              "    .dataframe tbody tr th:only-of-type {\n",
              "        vertical-align: middle;\n",
              "    }\n",
              "\n",
              "    .dataframe tbody tr th {\n",
              "        vertical-align: top;\n",
              "    }\n",
              "\n",
              "    .dataframe thead th {\n",
              "        text-align: right;\n",
              "    }\n",
              "</style>\n",
              "<table border=\"1\" class=\"dataframe\">\n",
              "  <thead>\n",
              "    <tr style=\"text-align: right;\">\n",
              "      <th></th>\n",
              "      <th>review</th>\n",
              "      <th>sentiment</th>\n",
              "    </tr>\n",
              "  </thead>\n",
              "  <tbody>\n",
              "    <tr>\n",
              "      <th>0</th>\n",
              "      <td>think robert ryans best film portrayed someone...</td>\n",
              "      <td>1</td>\n",
              "    </tr>\n",
              "    <tr>\n",
              "      <th>1</th>\n",
              "      <td>juano hernandez exceptional actor played suppo...</td>\n",
              "      <td>1</td>\n",
              "    </tr>\n",
              "    <tr>\n",
              "      <th>2</th>\n",
              "      <td>shocked sign indicate cash</td>\n",
              "      <td>0</td>\n",
              "    </tr>\n",
              "    <tr>\n",
              "      <th>3</th>\n",
              "      <td>sat another ten minute finally gave left</td>\n",
              "      <td>0</td>\n",
              "    </tr>\n",
              "    <tr>\n",
              "      <th>4</th>\n",
              "      <td>igo charger tip really great</td>\n",
              "      <td>1</td>\n",
              "    </tr>\n",
              "  </tbody>\n",
              "</table>\n",
              "</div>"
            ],
            "text/plain": [
              "                                              review  sentiment\n",
              "0  think robert ryans best film portrayed someone...          1\n",
              "1  juano hernandez exceptional actor played suppo...          1\n",
              "2                         shocked sign indicate cash          0\n",
              "3           sat another ten minute finally gave left          0\n",
              "4                       igo charger tip really great          1"
            ]
          },
          "metadata": {
            "tags": []
          },
          "execution_count": 10
        }
      ]
    },
    {
      "cell_type": "code",
      "metadata": {
        "id": "eEG6gvADJP9b"
      },
      "source": [
        "label_mapper = {0:'NEGATIVE',1:'POSITIVE'}"
      ],
      "execution_count": 33,
      "outputs": []
    },
    {
      "cell_type": "code",
      "metadata": {
        "id": "7A9rywFpJY_h"
      },
      "source": [
        "train['sentiment'] = train['sentiment'].map(label_mapper)"
      ],
      "execution_count": 34,
      "outputs": []
    },
    {
      "cell_type": "code",
      "metadata": {
        "id": "5TfJ26nvjosu"
      },
      "source": [
        "text = train.review.values.tolist()"
      ],
      "execution_count": 11,
      "outputs": []
    },
    {
      "cell_type": "code",
      "metadata": {
        "colab": {
          "base_uri": "https://localhost:8080/",
          "height": 365
        },
        "id": "d5qFiU7Ojxc8",
        "outputId": "cb9275b9-c7e8-4571-b4df-eb8ea67f70e3"
      },
      "source": [
        "from wordcloud import WordCloud\n",
        "wordclouds = WordCloud().generate(text[100])\n",
        "plt.figure(figsize=(12,8))\n",
        "plt.imshow(wordclouds)\n",
        "plt.axis('off')\n",
        "plt.show()"
      ],
      "execution_count": 43,
      "outputs": [
        {
          "output_type": "display_data",
          "data": {
            "image/png": "[encoded data removed]",
            "text/plain": [
              "<Figure size 864x576 with 1 Axes>"
            ]
          },
          "metadata": {
            "tags": [],
            "needs_background": "light"
          }
        }
      ]
    },
    {
      "cell_type": "code",
      "metadata": {
        "colab": {
          "base_uri": "https://localhost:8080/",
          "height": 202
        },
        "id": "q6G_8NJzZVlZ",
        "outputId": "2a1217ff-1683-4cdf-9606-4a70264e24eb"
      },
      "source": [
        "test.head()"
      ],
      "execution_count": 12,
      "outputs": [
        {
          "output_type": "execute_result",
          "data": {
            "text/html": [
              "<div>\n",
              "<style scoped>\n",
              "    .dataframe tbody tr th:only-of-type {\n",
              "        vertical-align: middle;\n",
              "    }\n",
              "\n",
              "    .dataframe tbody tr th {\n",
              "        vertical-align: top;\n",
              "    }\n",
              "\n",
              "    .dataframe thead th {\n",
              "        text-align: right;\n",
              "    }\n",
              "</style>\n",
              "<table border=\"1\" class=\"dataframe\">\n",
              "  <thead>\n",
              "    <tr style=\"text-align: right;\">\n",
              "      <th></th>\n",
              "      <th>review</th>\n",
              "    </tr>\n",
              "  </thead>\n",
              "  <tbody>\n",
              "    <tr>\n",
              "      <th>0</th>\n",
              "      <td>great service food</td>\n",
              "    </tr>\n",
              "    <tr>\n",
              "      <th>1</th>\n",
              "      <td>pairing iphone could happier far</td>\n",
              "    </tr>\n",
              "    <tr>\n",
              "      <th>2</th>\n",
              "      <td>plot hole pair fishnet stocking direction edit...</td>\n",
              "    </tr>\n",
              "    <tr>\n",
              "      <th>3</th>\n",
              "      <td>surely doesnt know make coherent action movie ...</td>\n",
              "    </tr>\n",
              "    <tr>\n",
              "      <th>4</th>\n",
              "      <td>still quite interesting entertaining follow</td>\n",
              "    </tr>\n",
              "  </tbody>\n",
              "</table>\n",
              "</div>"
            ],
            "text/plain": [
              "                                              review\n",
              "0                                 great service food\n",
              "1                   pairing iphone could happier far\n",
              "2  plot hole pair fishnet stocking direction edit...\n",
              "3  surely doesnt know make coherent action movie ...\n",
              "4        still quite interesting entertaining follow"
            ]
          },
          "metadata": {
            "tags": []
          },
          "execution_count": 12
        }
      ]
    },
    {
      "cell_type": "code",
      "metadata": {
        "colab": {
          "base_uri": "https://localhost:8080/",
          "height": 296
        },
        "id": "3HDpMoClZiDk",
        "outputId": "3b3f77f6-3dfa-41ba-d664-2915749e24cd"
      },
      "source": [
        "sns.countplot(x='sentiment',data=train)"
      ],
      "execution_count": 35,
      "outputs": [
        {
          "output_type": "execute_result",
          "data": {
            "text/plain": [
              "<matplotlib.axes._subplots.AxesSubplot at 0x7fdb93812f10>"
            ]
          },
          "metadata": {
            "tags": []
          },
          "execution_count": 35
        },
        {
          "output_type": "display_data",
          "data": {
            "image/png": "[encoded data removed]",
            "text/plain": [
              "<Figure size 432x288 with 1 Axes>"
            ]
          },
          "metadata": {
            "tags": [],
            "needs_background": "light"
          }
        }
      ]
    },
    {
      "cell_type": "code",
      "metadata": {
        "colab": {
          "base_uri": "https://localhost:8080/"
        },
        "id": "HwEHrStdnVuk",
        "outputId": "e5f3fdee-5e31-4cba-a19d-649d0171f396"
      },
      "source": [
        "train.shape"
      ],
      "execution_count": 14,
      "outputs": [
        {
          "output_type": "execute_result",
          "data": {
            "text/plain": [
              "(2060, 2)"
            ]
          },
          "metadata": {
            "tags": []
          },
          "execution_count": 14
        }
      ]
    },
    {
      "cell_type": "markdown",
      "metadata": {
        "id": "FRnzK-n6HCh4"
      },
      "source": [
        "## Setting up the DataBunch"
      ]
    },
    {
      "cell_type": "code",
      "metadata": {
        "id": "SQVvMbuwHIDw"
      },
      "source": [
        "# Creating a Roberta specific DataBunch class\n",
        "class RobertaDataBunch(TextDataBunch):\n",
        "    \"Create a `TextDataBunch` suitable for training Roberta\"\n",
        "    @classmethod\n",
        "    def create(cls, train_ds, valid_ds, test_ds=None, path:PathOrStr='.', bs:int=64, val_bs:int=None, pad_idx=1,\n",
        "               pad_first=True, device:torch.device=None, no_check:bool=False, backwards:bool=False, \n",
        "               dl_tfms:Optional[Collection[Callable]]=None, **dl_kwargs) -> DataBunch:\n",
        "        \"Function that transform the `datasets` in a `DataBunch` for classification. Passes `**dl_kwargs` on to `DataLoader()`\"\n",
        "        datasets = cls._init_ds(train_ds, valid_ds, test_ds)\n",
        "        val_bs = ifnone(val_bs, bs)\n",
        "        collate_fn = partial(pad_collate, pad_idx=pad_idx, pad_first=pad_first, backwards=backwards)\n",
        "        train_sampler = SortishSampler(datasets[0].x, key=lambda t: len(datasets[0][t][0].data), bs=bs)\n",
        "        train_dl = DataLoader(datasets[0], batch_size=bs, sampler=train_sampler, drop_last=True, **dl_kwargs)\n",
        "        dataloaders = [train_dl]\n",
        "        for ds in datasets[1:]:\n",
        "            lengths = [len(t) for t in ds.x.items]\n",
        "            sampler = SortSampler(ds.x, key=lengths.__getitem__)\n",
        "            dataloaders.append(DataLoader(ds, batch_size=val_bs, sampler=sampler, **dl_kwargs))\n",
        "        return cls(*dataloaders, path=path, device=device, dl_tfms=dl_tfms, collate_fn=collate_fn, no_check=no_check)"
      ],
      "execution_count": 17,
      "outputs": []
    },
    {
      "cell_type": "code",
      "metadata": {
        "id": "XjXWiVRPHWgZ"
      },
      "source": [
        "class RobertaTextList(TextList):\n",
        "    _bunch = RobertaDataBunch\n",
        "    _label_cls = TextList"
      ],
      "execution_count": 44,
      "outputs": []
    },
    {
      "cell_type": "markdown",
      "metadata": {
        "id": "HF4NJ3D9HcFx"
      },
      "source": [
        "## loading the tokenizer and vocab processors"
      ]
    },
    {
      "cell_type": "code",
      "metadata": {
        "id": "4JHtaC0THzZb"
      },
      "source": [
        "import warnings\n",
        "warnings.filterwarnings('ignore')"
      ],
      "execution_count": 22,
      "outputs": []
    },
    {
      "cell_type": "code",
      "metadata": {
        "id": "kPldwj9RHu71"
      },
      "source": [
        "feat_cols = \"review\"\n",
        "label_cols = \"sentiment\""
      ],
      "execution_count": 45,
      "outputs": []
    },
    {
      "cell_type": "code",
      "metadata": {
        "colab": {
          "base_uri": "https://localhost:8080/",
          "height": 16
        },
        "id": "yxixsBeTHeCg",
        "outputId": "9fc0cea6-9fc9-41b5-f3bf-8e7928db60cb"
      },
      "source": [
        "processor = get_roberta_processor(tokenizer=fastai_tokenizer, vocab=fastai_roberta_vocab)\n",
        "\n",
        "# creating our databunch \n",
        "data = RobertaTextList.from_df(train, \".\", cols=feat_cols, processor=processor) \\\n",
        "    .split_by_rand_pct(seed=config.seed) \\\n",
        "    .label_from_df(cols=label_cols,label_cls=CategoryList) \\\n",
        "    .databunch(bs=config.bs, pad_first=False, pad_idx=0)"
      ],
      "execution_count": 46,
      "outputs": [
        {
          "output_type": "display_data",
          "data": {
            "text/html": [
              ""
            ],
            "text/plain": [
              "<IPython.core.display.HTML object>"
            ]
          },
          "metadata": {
            "tags": []
          }
        },
        {
          "output_type": "display_data",
          "data": {
            "text/html": [
              ""
            ],
            "text/plain": [
              "<IPython.core.display.HTML object>"
            ]
          },
          "metadata": {
            "tags": []
          }
        }
      ]
    },
    {
      "cell_type": "code",
      "metadata": {
        "colab": {
          "base_uri": "https://localhost:8080/",
          "height": 321
        },
        "id": "Eq0ZcyeaJpFx",
        "outputId": "fd3d1863-9850-4ceb-fd46-796c70b94cfe"
      },
      "source": [
        "data.show_batch()"
      ],
      "execution_count": 39,
      "outputs": [
        {
          "output_type": "display_data",
          "data": {
            "text/html": [
              "<table border=\"1\" class=\"dataframe\">\n",
              "  <thead>\n",
              "    <tr style=\"text-align: right;\">\n",
              "      <th>text</th>\n",
              "      <th>target</th>\n",
              "    </tr>\n",
              "  </thead>\n",
              "  <tbody>\n",
              "    <tr>\n",
              "      <td>&lt;s&gt; fact Ġhard Ġremember Ġpart Ġray Ġchar les Ġacted Ġplayed Ġman Ġray Ġchar les Ġlegendary Ġray Ġchar les Ġlife Ġprovided Ġexcellent Ġbi ographical Ġmaterial Ġfilm Ġgo Ġwell Ġbeyond Ġanother Ġmovie Ġmusician Ġhitch cock Ġgreat Ġdirector Ġironically Ġmostly Ġfind Ġfilm Ġtotal Ġwaste Ġtime Ġwatch Ġsecondly Ġhitch cock Ġpretty Ġmuch Ġperfected Ġthriller Ġchase Ġmovie Ġpand ering Ġaudience Ġsabotage Ġfilm Ġhence Ġwhole Ġstory Ġlack Ġcertain Ġenergy Ġplot Ġsimply Ġrum ble Ġlike Ġmachine Ġdesperately</td>\n",
              "      <td>NEGATIVE</td>\n",
              "    </tr>\n",
              "    <tr>\n",
              "      <td>&lt;s&gt; ach ille Ġph ilipp a Ġbeautifully Ġsing Ġdu et Ġg iov anni Ġperfectly Ġdescribes Ġsituation Ġmovie Ġappreciate Ġsubtle Ġlayer Ġexcellent Ġfilm &lt;/s&gt; &lt;s&gt; &lt;s&gt; &lt;s&gt; &lt;s&gt; &lt;s&gt; &lt;s&gt; &lt;s&gt; &lt;s&gt; &lt;s&gt; &lt;s&gt; &lt;s&gt; &lt;s&gt; &lt;s&gt; &lt;s&gt; &lt;s&gt; &lt;s&gt; &lt;s&gt; &lt;s&gt; &lt;s&gt; &lt;s&gt; &lt;s&gt; &lt;s&gt; &lt;s&gt; &lt;s&gt; &lt;s&gt; &lt;s&gt; &lt;s&gt; &lt;s&gt; &lt;s&gt; &lt;s&gt; &lt;s&gt; &lt;s&gt; &lt;s&gt; &lt;s&gt; &lt;s&gt; &lt;s&gt; &lt;s&gt; &lt;s&gt; &lt;s&gt; &lt;s&gt; &lt;s&gt; &lt;s&gt; &lt;s&gt; &lt;s&gt; &lt;s&gt; &lt;s&gt; &lt;s&gt;</td>\n",
              "      <td>POSITIVE</td>\n",
              "    </tr>\n",
              "    <tr>\n",
              "      <td>&lt;s&gt; received Ġwhite Ġcolored Ġbattery Ġgo Ġdead Ġcouple Ġhour st he Ġoriginal Ġused Ġlast Ġweek Ġstill Ġlast Ġlonger Ġthere pl acement &lt;/s&gt; &lt;s&gt; &lt;s&gt; &lt;s&gt; &lt;s&gt; &lt;s&gt; &lt;s&gt; &lt;s&gt; &lt;s&gt; &lt;s&gt; &lt;s&gt; &lt;s&gt; &lt;s&gt; &lt;s&gt; &lt;s&gt; &lt;s&gt; &lt;s&gt; &lt;s&gt; &lt;s&gt; &lt;s&gt; &lt;s&gt; &lt;s&gt; &lt;s&gt; &lt;s&gt; &lt;s&gt; &lt;s&gt; &lt;s&gt; &lt;s&gt; &lt;s&gt; &lt;s&gt; &lt;s&gt; &lt;s&gt; &lt;s&gt; &lt;s&gt; &lt;s&gt; &lt;s&gt; &lt;s&gt; &lt;s&gt; &lt;s&gt; &lt;s&gt; &lt;s&gt; &lt;s&gt; &lt;s&gt; &lt;s&gt; &lt;s&gt; &lt;s&gt; &lt;s&gt; &lt;s&gt; &lt;s&gt;</td>\n",
              "      <td>NEGATIVE</td>\n",
              "    </tr>\n",
              "    <tr>\n",
              "      <td>&lt;s&gt; best Ġexample Ġdumb Ġwriting Ġestablished Ġturn Ġz omb iest ud ents Ġback Ġhuman Ġremoving Ġnecklace Ġcontaining Ġpiece Ġmeteor ite &lt;/s&gt; &lt;s&gt; &lt;s&gt; &lt;s&gt; &lt;s&gt; &lt;s&gt; &lt;s&gt; &lt;s&gt; &lt;s&gt; &lt;s&gt; &lt;s&gt; &lt;s&gt; &lt;s&gt; &lt;s&gt; &lt;s&gt; &lt;s&gt; &lt;s&gt; &lt;s&gt; &lt;s&gt; &lt;s&gt; &lt;s&gt; &lt;s&gt; &lt;s&gt; &lt;s&gt; &lt;s&gt; &lt;s&gt; &lt;s&gt; &lt;s&gt; &lt;s&gt; &lt;s&gt; &lt;s&gt; &lt;s&gt; &lt;s&gt; &lt;s&gt; &lt;s&gt; &lt;s&gt; &lt;s&gt; &lt;s&gt; &lt;s&gt; &lt;s&gt; &lt;s&gt; &lt;s&gt; &lt;s&gt; &lt;s&gt; &lt;s&gt; &lt;s&gt; &lt;s&gt; &lt;s&gt; &lt;s&gt; &lt;s&gt;</td>\n",
              "      <td>NEGATIVE</td>\n",
              "    </tr>\n",
              "  </tbody>\n",
              "</table>"
            ],
            "text/plain": [
              "<IPython.core.display.HTML object>"
            ]
          },
          "metadata": {
            "tags": []
          }
        }
      ]
    },
    {
      "cell_type": "markdown",
      "metadata": {
        "id": "LbHPBy-IIBZR"
      },
      "source": [
        "## Building the Model"
      ]
    },
    {
      "cell_type": "code",
      "metadata": {
        "id": "ZsuzUdwdICZg"
      },
      "source": [
        "import torch\n",
        "import torch.nn as nn\n",
        "from transformers import RobertaModel\n",
        "\n",
        "# defining our model architecture \n",
        "class CustomRobertaModel(nn.Module):\n",
        "    def __init__(self,num_labels=2):\n",
        "        super(CustomRobertaModel,self).__init__()\n",
        "        self.num_labels = num_labels\n",
        "        self.roberta = RobertaModel.from_pretrained(config.roberta_model_name)\n",
        "        self.dropout = nn.Dropout(config.hidden_dropout_prob)\n",
        "        self.classifier = nn.Linear(config.hidden_size, num_labels) # defining final output layer\n",
        "        \n",
        "    def forward(self, input_ids, token_type_ids=None, attention_mask=None, labels=None):\n",
        "        _ , pooled_output = self.roberta(input_ids, token_type_ids, attention_mask,return_dict=False) # \n",
        "        logits = self.classifier(pooled_output)        \n",
        "        return logits"
      ],
      "execution_count": 84,
      "outputs": []
    },
    {
      "cell_type": "markdown",
      "metadata": {
        "id": "nmJTE_JmUqbt"
      },
      "source": [
        "**Note**\n",
        "\n",
        " There is a class probably named Bert_Arch that inherits the nn.Module and this class has a overriden method named forward. Inside forward method just add the parameter **'return_dict=False'** to the self.bert() method call. in order to avoid the below error :-\n",
        "\n",
        " **TypeError: linear(): argument 'input' (position 1) must be Tensor, not str**"
      ]
    },
    {
      "cell_type": "code",
      "metadata": {
        "colab": {
          "base_uri": "https://localhost:8080/"
        },
        "id": "qT9RBJ3tIK0K",
        "outputId": "70958dd7-624f-4063-ef52-0d65a0e1646e"
      },
      "source": [
        "roberta_model = CustomRobertaModel(num_labels=2)\n",
        "\n",
        "learn = Learner(data, roberta_model, metrics=[accuracy])"
      ],
      "execution_count": 85,
      "outputs": [
        {
          "output_type": "stream",
          "text": [
            "Some weights of the model checkpoint at roberta-base were not used when initializing RobertaModel: ['lm_head.layer_norm.bias', 'lm_head.bias', 'lm_head.dense.weight', 'lm_head.dense.bias', 'lm_head.layer_norm.weight', 'lm_head.decoder.weight']\n",
            "- This IS expected if you are initializing RobertaModel from the checkpoint of a model trained on another task or with another architecture (e.g. initializing a BertForSequenceClassification model from a BertForPreTraining model).\n",
            "- This IS NOT expected if you are initializing RobertaModel from the checkpoint of a model that you expect to be exactly identical (initializing a BertForSequenceClassification model from a BertForSequenceClassification model).\n"
          ],
          "name": "stderr"
        }
      ]
    },
    {
      "cell_type": "code",
      "metadata": {
        "colab": {
          "base_uri": "https://localhost:8080/"
        },
        "id": "RHmLjg7XK5YR",
        "outputId": "d95183cf-f977-4101-ef84-4de4685e3d26"
      },
      "source": [
        "roberta_model "
      ],
      "execution_count": 86,
      "outputs": [
        {
          "output_type": "execute_result",
          "data": {
            "text/plain": [
              "CustomRobertaModel(\n",
              "  (roberta): RobertaModel(\n",
              "    (embeddings): RobertaEmbeddings(\n",
              "      (word_embeddings): Embedding(50265, 768, padding_idx=1)\n",
              "      (position_embeddings): Embedding(514, 768, padding_idx=1)\n",
              "      (token_type_embeddings): Embedding(1, 768)\n",
              "      (LayerNorm): LayerNorm((768,), eps=1e-05, elementwise_affine=True)\n",
              "      (dropout): Dropout(p=0.1, inplace=False)\n",
              "    )\n",
              "    (encoder): RobertaEncoder(\n",
              "      (layer): ModuleList(\n",
              "        (0): RobertaLayer(\n",
              "          (attention): RobertaAttention(\n",
              "            (self): RobertaSelfAttention(\n",
              "              (query): Linear(in_features=768, out_features=768, bias=True)\n",
              "              (key): Linear(in_features=768, out_features=768, bias=True)\n",
              "              (value): Linear(in_features=768, out_features=768, bias=True)\n",
              "              (dropout): Dropout(p=0.1, inplace=False)\n",
              "            )\n",
              "            (output): RobertaSelfOutput(\n",
              "              (dense): Linear(in_features=768, out_features=768, bias=True)\n",
              "              (LayerNorm): LayerNorm((768,), eps=1e-05, elementwise_affine=True)\n",
              "              (dropout): Dropout(p=0.1, inplace=False)\n",
              "            )\n",
              "          )\n",
              "          (intermediate): RobertaIntermediate(\n",
              "            (dense): Linear(in_features=768, out_features=3072, bias=True)\n",
              "          )\n",
              "          (output): RobertaOutput(\n",
              "            (dense): Linear(in_features=3072, out_features=768, bias=True)\n",
              "            (LayerNorm): LayerNorm((768,), eps=1e-05, elementwise_affine=True)\n",
              "            (dropout): Dropout(p=0.1, inplace=False)\n",
              "          )\n",
              "        )\n",
              "        (1): RobertaLayer(\n",
              "          (attention): RobertaAttention(\n",
              "            (self): RobertaSelfAttention(\n",
              "              (query): Linear(in_features=768, out_features=768, bias=True)\n",
              "              (key): Linear(in_features=768, out_features=768, bias=True)\n",
              "              (value): Linear(in_features=768, out_features=768, bias=True)\n",
              "              (dropout): Dropout(p=0.1, inplace=False)\n",
              "            )\n",
              "            (output): RobertaSelfOutput(\n",
              "              (dense): Linear(in_features=768, out_features=768, bias=True)\n",
              "              (LayerNorm): LayerNorm((768,), eps=1e-05, elementwise_affine=True)\n",
              "              (dropout): Dropout(p=0.1, inplace=False)\n",
              "            )\n",
              "          )\n",
              "          (intermediate): RobertaIntermediate(\n",
              "            (dense): Linear(in_features=768, out_features=3072, bias=True)\n",
              "          )\n",
              "          (output): RobertaOutput(\n",
              "            (dense): Linear(in_features=3072, out_features=768, bias=True)\n",
              "            (LayerNorm): LayerNorm((768,), eps=1e-05, elementwise_affine=True)\n",
              "            (dropout): Dropout(p=0.1, inplace=False)\n",
              "          )\n",
              "        )\n",
              "        (2): RobertaLayer(\n",
              "          (attention): RobertaAttention(\n",
              "            (self): RobertaSelfAttention(\n",
              "              (query): Linear(in_features=768, out_features=768, bias=True)\n",
              "              (key): Linear(in_features=768, out_features=768, bias=True)\n",
              "              (value): Linear(in_features=768, out_features=768, bias=True)\n",
              "              (dropout): Dropout(p=0.1, inplace=False)\n",
              "            )\n",
              "            (output): RobertaSelfOutput(\n",
              "              (dense): Linear(in_features=768, out_features=768, bias=True)\n",
              "              (LayerNorm): LayerNorm((768,), eps=1e-05, elementwise_affine=True)\n",
              "              (dropout): Dropout(p=0.1, inplace=False)\n",
              "            )\n",
              "          )\n",
              "          (intermediate): RobertaIntermediate(\n",
              "            (dense): Linear(in_features=768, out_features=3072, bias=True)\n",
              "          )\n",
              "          (output): RobertaOutput(\n",
              "            (dense): Linear(in_features=3072, out_features=768, bias=True)\n",
              "            (LayerNorm): LayerNorm((768,), eps=1e-05, elementwise_affine=True)\n",
              "            (dropout): Dropout(p=0.1, inplace=False)\n",
              "          )\n",
              "        )\n",
              "        (3): RobertaLayer(\n",
              "          (attention): RobertaAttention(\n",
              "            (self): RobertaSelfAttention(\n",
              "              (query): Linear(in_features=768, out_features=768, bias=True)\n",
              "              (key): Linear(in_features=768, out_features=768, bias=True)\n",
              "              (value): Linear(in_features=768, out_features=768, bias=True)\n",
              "              (dropout): Dropout(p=0.1, inplace=False)\n",
              "            )\n",
              "            (output): RobertaSelfOutput(\n",
              "              (dense): Linear(in_features=768, out_features=768, bias=True)\n",
              "              (LayerNorm): LayerNorm((768,), eps=1e-05, elementwise_affine=True)\n",
              "              (dropout): Dropout(p=0.1, inplace=False)\n",
              "            )\n",
              "          )\n",
              "          (intermediate): RobertaIntermediate(\n",
              "            (dense): Linear(in_features=768, out_features=3072, bias=True)\n",
              "          )\n",
              "          (output): RobertaOutput(\n",
              "            (dense): Linear(in_features=3072, out_features=768, bias=True)\n",
              "            (LayerNorm): LayerNorm((768,), eps=1e-05, elementwise_affine=True)\n",
              "            (dropout): Dropout(p=0.1, inplace=False)\n",
              "          )\n",
              "        )\n",
              "        (4): RobertaLayer(\n",
              "          (attention): RobertaAttention(\n",
              "            (self): RobertaSelfAttention(\n",
              "              (query): Linear(in_features=768, out_features=768, bias=True)\n",
              "              (key): Linear(in_features=768, out_features=768, bias=True)\n",
              "              (value): Linear(in_features=768, out_features=768, bias=True)\n",
              "              (dropout): Dropout(p=0.1, inplace=False)\n",
              "            )\n",
              "            (output): RobertaSelfOutput(\n",
              "              (dense): Linear(in_features=768, out_features=768, bias=True)\n",
              "              (LayerNorm): LayerNorm((768,), eps=1e-05, elementwise_affine=True)\n",
              "              (dropout): Dropout(p=0.1, inplace=False)\n",
              "            )\n",
              "          )\n",
              "          (intermediate): RobertaIntermediate(\n",
              "            (dense): Linear(in_features=768, out_features=3072, bias=True)\n",
              "          )\n",
              "          (output): RobertaOutput(\n",
              "            (dense): Linear(in_features=3072, out_features=768, bias=True)\n",
              "            (LayerNorm): LayerNorm((768,), eps=1e-05, elementwise_affine=True)\n",
              "            (dropout): Dropout(p=0.1, inplace=False)\n",
              "          )\n",
              "        )\n",
              "        (5): RobertaLayer(\n",
              "          (attention): RobertaAttention(\n",
              "            (self): RobertaSelfAttention(\n",
              "              (query): Linear(in_features=768, out_features=768, bias=True)\n",
              "              (key): Linear(in_features=768, out_features=768, bias=True)\n",
              "              (value): Linear(in_features=768, out_features=768, bias=True)\n",
              "              (dropout): Dropout(p=0.1, inplace=False)\n",
              "            )\n",
              "            (output): RobertaSelfOutput(\n",
              "              (dense): Linear(in_features=768, out_features=768, bias=True)\n",
              "              (LayerNorm): LayerNorm((768,), eps=1e-05, elementwise_affine=True)\n",
              "              (dropout): Dropout(p=0.1, inplace=False)\n",
              "            )\n",
              "          )\n",
              "          (intermediate): RobertaIntermediate(\n",
              "            (dense): Linear(in_features=768, out_features=3072, bias=True)\n",
              "          )\n",
              "          (output): RobertaOutput(\n",
              "            (dense): Linear(in_features=3072, out_features=768, bias=True)\n",
              "            (LayerNorm): LayerNorm((768,), eps=1e-05, elementwise_affine=True)\n",
              "            (dropout): Dropout(p=0.1, inplace=False)\n",
              "          )\n",
              "        )\n",
              "        (6): RobertaLayer(\n",
              "          (attention): RobertaAttention(\n",
              "            (self): RobertaSelfAttention(\n",
              "              (query): Linear(in_features=768, out_features=768, bias=True)\n",
              "              (key): Linear(in_features=768, out_features=768, bias=True)\n",
              "              (value): Linear(in_features=768, out_features=768, bias=True)\n",
              "              (dropout): Dropout(p=0.1, inplace=False)\n",
              "            )\n",
              "            (output): RobertaSelfOutput(\n",
              "              (dense): Linear(in_features=768, out_features=768, bias=True)\n",
              "              (LayerNorm): LayerNorm((768,), eps=1e-05, elementwise_affine=True)\n",
              "              (dropout): Dropout(p=0.1, inplace=False)\n",
              "            )\n",
              "          )\n",
              "          (intermediate): RobertaIntermediate(\n",
              "            (dense): Linear(in_features=768, out_features=3072, bias=True)\n",
              "          )\n",
              "          (output): RobertaOutput(\n",
              "            (dense): Linear(in_features=3072, out_features=768, bias=True)\n",
              "            (LayerNorm): LayerNorm((768,), eps=1e-05, elementwise_affine=True)\n",
              "            (dropout): Dropout(p=0.1, inplace=False)\n",
              "          )\n",
              "        )\n",
              "        (7): RobertaLayer(\n",
              "          (attention): RobertaAttention(\n",
              "            (self): RobertaSelfAttention(\n",
              "              (query): Linear(in_features=768, out_features=768, bias=True)\n",
              "              (key): Linear(in_features=768, out_features=768, bias=True)\n",
              "              (value): Linear(in_features=768, out_features=768, bias=True)\n",
              "              (dropout): Dropout(p=0.1, inplace=False)\n",
              "            )\n",
              "            (output): RobertaSelfOutput(\n",
              "              (dense): Linear(in_features=768, out_features=768, bias=True)\n",
              "              (LayerNorm): LayerNorm((768,), eps=1e-05, elementwise_affine=True)\n",
              "              (dropout): Dropout(p=0.1, inplace=False)\n",
              "            )\n",
              "          )\n",
              "          (intermediate): RobertaIntermediate(\n",
              "            (dense): Linear(in_features=768, out_features=3072, bias=True)\n",
              "          )\n",
              "          (output): RobertaOutput(\n",
              "            (dense): Linear(in_features=3072, out_features=768, bias=True)\n",
              "            (LayerNorm): LayerNorm((768,), eps=1e-05, elementwise_affine=True)\n",
              "            (dropout): Dropout(p=0.1, inplace=False)\n",
              "          )\n",
              "        )\n",
              "        (8): RobertaLayer(\n",
              "          (attention): RobertaAttention(\n",
              "            (self): RobertaSelfAttention(\n",
              "              (query): Linear(in_features=768, out_features=768, bias=True)\n",
              "              (key): Linear(in_features=768, out_features=768, bias=True)\n",
              "              (value): Linear(in_features=768, out_features=768, bias=True)\n",
              "              (dropout): Dropout(p=0.1, inplace=False)\n",
              "            )\n",
              "            (output): RobertaSelfOutput(\n",
              "              (dense): Linear(in_features=768, out_features=768, bias=True)\n",
              "              (LayerNorm): LayerNorm((768,), eps=1e-05, elementwise_affine=True)\n",
              "              (dropout): Dropout(p=0.1, inplace=False)\n",
              "            )\n",
              "          )\n",
              "          (intermediate): RobertaIntermediate(\n",
              "            (dense): Linear(in_features=768, out_features=3072, bias=True)\n",
              "          )\n",
              "          (output): RobertaOutput(\n",
              "            (dense): Linear(in_features=3072, out_features=768, bias=True)\n",
              "            (LayerNorm): LayerNorm((768,), eps=1e-05, elementwise_affine=True)\n",
              "            (dropout): Dropout(p=0.1, inplace=False)\n",
              "          )\n",
              "        )\n",
              "        (9): RobertaLayer(\n",
              "          (attention): RobertaAttention(\n",
              "            (self): RobertaSelfAttention(\n",
              "              (query): Linear(in_features=768, out_features=768, bias=True)\n",
              "              (key): Linear(in_features=768, out_features=768, bias=True)\n",
              "              (value): Linear(in_features=768, out_features=768, bias=True)\n",
              "              (dropout): Dropout(p=0.1, inplace=False)\n",
              "            )\n",
              "            (output): RobertaSelfOutput(\n",
              "              (dense): Linear(in_features=768, out_features=768, bias=True)\n",
              "              (LayerNorm): LayerNorm((768,), eps=1e-05, elementwise_affine=True)\n",
              "              (dropout): Dropout(p=0.1, inplace=False)\n",
              "            )\n",
              "          )\n",
              "          (intermediate): RobertaIntermediate(\n",
              "            (dense): Linear(in_features=768, out_features=3072, bias=True)\n",
              "          )\n",
              "          (output): RobertaOutput(\n",
              "            (dense): Linear(in_features=3072, out_features=768, bias=True)\n",
              "            (LayerNorm): LayerNorm((768,), eps=1e-05, elementwise_affine=True)\n",
              "            (dropout): Dropout(p=0.1, inplace=False)\n",
              "          )\n",
              "        )\n",
              "        (10): RobertaLayer(\n",
              "          (attention): RobertaAttention(\n",
              "            (self): RobertaSelfAttention(\n",
              "              (query): Linear(in_features=768, out_features=768, bias=True)\n",
              "              (key): Linear(in_features=768, out_features=768, bias=True)\n",
              "              (value): Linear(in_features=768, out_features=768, bias=True)\n",
              "              (dropout): Dropout(p=0.1, inplace=False)\n",
              "            )\n",
              "            (output): RobertaSelfOutput(\n",
              "              (dense): Linear(in_features=768, out_features=768, bias=True)\n",
              "              (LayerNorm): LayerNorm((768,), eps=1e-05, elementwise_affine=True)\n",
              "              (dropout): Dropout(p=0.1, inplace=False)\n",
              "            )\n",
              "          )\n",
              "          (intermediate): RobertaIntermediate(\n",
              "            (dense): Linear(in_features=768, out_features=3072, bias=True)\n",
              "          )\n",
              "          (output): RobertaOutput(\n",
              "            (dense): Linear(in_features=3072, out_features=768, bias=True)\n",
              "            (LayerNorm): LayerNorm((768,), eps=1e-05, elementwise_affine=True)\n",
              "            (dropout): Dropout(p=0.1, inplace=False)\n",
              "          )\n",
              "        )\n",
              "        (11): RobertaLayer(\n",
              "          (attention): RobertaAttention(\n",
              "            (self): RobertaSelfAttention(\n",
              "              (query): Linear(in_features=768, out_features=768, bias=True)\n",
              "              (key): Linear(in_features=768, out_features=768, bias=True)\n",
              "              (value): Linear(in_features=768, out_features=768, bias=True)\n",
              "              (dropout): Dropout(p=0.1, inplace=False)\n",
              "            )\n",
              "            (output): RobertaSelfOutput(\n",
              "              (dense): Linear(in_features=768, out_features=768, bias=True)\n",
              "              (LayerNorm): LayerNorm((768,), eps=1e-05, elementwise_affine=True)\n",
              "              (dropout): Dropout(p=0.1, inplace=False)\n",
              "            )\n",
              "          )\n",
              "          (intermediate): RobertaIntermediate(\n",
              "            (dense): Linear(in_features=768, out_features=3072, bias=True)\n",
              "          )\n",
              "          (output): RobertaOutput(\n",
              "            (dense): Linear(in_features=3072, out_features=768, bias=True)\n",
              "            (LayerNorm): LayerNorm((768,), eps=1e-05, elementwise_affine=True)\n",
              "            (dropout): Dropout(p=0.1, inplace=False)\n",
              "          )\n",
              "        )\n",
              "      )\n",
              "    )\n",
              "    (pooler): RobertaPooler(\n",
              "      (dense): Linear(in_features=768, out_features=768, bias=True)\n",
              "      (activation): Tanh()\n",
              "    )\n",
              "  )\n",
              "  (dropout): Dropout(p=0.05, inplace=False)\n",
              "  (classifier): Linear(in_features=768, out_features=2, bias=True)\n",
              ")"
            ]
          },
          "metadata": {
            "tags": []
          },
          "execution_count": 86
        }
      ]
    },
    {
      "cell_type": "code",
      "metadata": {
        "colab": {
          "base_uri": "https://localhost:8080/"
        },
        "id": "fhW_9npYIjxf",
        "outputId": "393c7b37-b8c9-4ba0-9fb3-844f00bb38f3"
      },
      "source": [
        "config"
      ],
      "execution_count": 87,
      "outputs": [
        {
          "output_type": "execute_result",
          "data": {
            "text/plain": [
              "{'bs': 4,\n",
              " 'end_tok': '</s>',\n",
              " 'epochs': 1,\n",
              " 'hidden_dropout_prob': 0.05,\n",
              " 'hidden_size': 768,\n",
              " 'max_lr': 1e-05,\n",
              " 'max_seq_len': 256,\n",
              " 'num_labels': 2,\n",
              " 'roberta_model_name': 'roberta-base',\n",
              " 'seed': 2019,\n",
              " 'start_tok': '<s>',\n",
              " 'testing': False,\n",
              " 'use_fp16': False}"
            ]
          },
          "metadata": {
            "tags": []
          },
          "execution_count": 87
        }
      ]
    },
    {
      "cell_type": "code",
      "metadata": {
        "colab": {
          "base_uri": "https://localhost:8080/"
        },
        "id": "-Fq1A5ENIa0_",
        "outputId": "c02f9c3b-ccb9-40df-d0be-2d7d7fe80d83"
      },
      "source": [
        "learn.model.roberta.train()\n"
      ],
      "execution_count": 88,
      "outputs": [
        {
          "output_type": "execute_result",
          "data": {
            "text/plain": [
              "RobertaModel(\n",
              "  (embeddings): RobertaEmbeddings(\n",
              "    (word_embeddings): Embedding(50265, 768, padding_idx=1)\n",
              "    (position_embeddings): Embedding(514, 768, padding_idx=1)\n",
              "    (token_type_embeddings): Embedding(1, 768)\n",
              "    (LayerNorm): LayerNorm((768,), eps=1e-05, elementwise_affine=True)\n",
              "    (dropout): Dropout(p=0.1, inplace=False)\n",
              "  )\n",
              "  (encoder): RobertaEncoder(\n",
              "    (layer): ModuleList(\n",
              "      (0): RobertaLayer(\n",
              "        (attention): RobertaAttention(\n",
              "          (self): RobertaSelfAttention(\n",
              "            (query): Linear(in_features=768, out_features=768, bias=True)\n",
              "            (key): Linear(in_features=768, out_features=768, bias=True)\n",
              "            (value): Linear(in_features=768, out_features=768, bias=True)\n",
              "            (dropout): Dropout(p=0.1, inplace=False)\n",
              "          )\n",
              "          (output): RobertaSelfOutput(\n",
              "            (dense): Linear(in_features=768, out_features=768, bias=True)\n",
              "            (LayerNorm): LayerNorm((768,), eps=1e-05, elementwise_affine=True)\n",
              "            (dropout): Dropout(p=0.1, inplace=False)\n",
              "          )\n",
              "        )\n",
              "        (intermediate): RobertaIntermediate(\n",
              "          (dense): Linear(in_features=768, out_features=3072, bias=True)\n",
              "        )\n",
              "        (output): RobertaOutput(\n",
              "          (dense): Linear(in_features=3072, out_features=768, bias=True)\n",
              "          (LayerNorm): LayerNorm((768,), eps=1e-05, elementwise_affine=True)\n",
              "          (dropout): Dropout(p=0.1, inplace=False)\n",
              "        )\n",
              "      )\n",
              "      (1): RobertaLayer(\n",
              "        (attention): RobertaAttention(\n",
              "          (self): RobertaSelfAttention(\n",
              "            (query): Linear(in_features=768, out_features=768, bias=True)\n",
              "            (key): Linear(in_features=768, out_features=768, bias=True)\n",
              "            (value): Linear(in_features=768, out_features=768, bias=True)\n",
              "            (dropout): Dropout(p=0.1, inplace=False)\n",
              "          )\n",
              "          (output): RobertaSelfOutput(\n",
              "            (dense): Linear(in_features=768, out_features=768, bias=True)\n",
              "            (LayerNorm): LayerNorm((768,), eps=1e-05, elementwise_affine=True)\n",
              "            (dropout): Dropout(p=0.1, inplace=False)\n",
              "          )\n",
              "        )\n",
              "        (intermediate): RobertaIntermediate(\n",
              "          (dense): Linear(in_features=768, out_features=3072, bias=True)\n",
              "        )\n",
              "        (output): RobertaOutput(\n",
              "          (dense): Linear(in_features=3072, out_features=768, bias=True)\n",
              "          (LayerNorm): LayerNorm((768,), eps=1e-05, elementwise_affine=True)\n",
              "          (dropout): Dropout(p=0.1, inplace=False)\n",
              "        )\n",
              "      )\n",
              "      (2): RobertaLayer(\n",
              "        (attention): RobertaAttention(\n",
              "          (self): RobertaSelfAttention(\n",
              "            (query): Linear(in_features=768, out_features=768, bias=True)\n",
              "            (key): Linear(in_features=768, out_features=768, bias=True)\n",
              "            (value): Linear(in_features=768, out_features=768, bias=True)\n",
              "            (dropout): Dropout(p=0.1, inplace=False)\n",
              "          )\n",
              "          (output): RobertaSelfOutput(\n",
              "            (dense): Linear(in_features=768, out_features=768, bias=True)\n",
              "            (LayerNorm): LayerNorm((768,), eps=1e-05, elementwise_affine=True)\n",
              "            (dropout): Dropout(p=0.1, inplace=False)\n",
              "          )\n",
              "        )\n",
              "        (intermediate): RobertaIntermediate(\n",
              "          (dense): Linear(in_features=768, out_features=3072, bias=True)\n",
              "        )\n",
              "        (output): RobertaOutput(\n",
              "          (dense): Linear(in_features=3072, out_features=768, bias=True)\n",
              "          (LayerNorm): LayerNorm((768,), eps=1e-05, elementwise_affine=True)\n",
              "          (dropout): Dropout(p=0.1, inplace=False)\n",
              "        )\n",
              "      )\n",
              "      (3): RobertaLayer(\n",
              "        (attention): RobertaAttention(\n",
              "          (self): RobertaSelfAttention(\n",
              "            (query): Linear(in_features=768, out_features=768, bias=True)\n",
              "            (key): Linear(in_features=768, out_features=768, bias=True)\n",
              "            (value): Linear(in_features=768, out_features=768, bias=True)\n",
              "            (dropout): Dropout(p=0.1, inplace=False)\n",
              "          )\n",
              "          (output): RobertaSelfOutput(\n",
              "            (dense): Linear(in_features=768, out_features=768, bias=True)\n",
              "            (LayerNorm): LayerNorm((768,), eps=1e-05, elementwise_affine=True)\n",
              "            (dropout): Dropout(p=0.1, inplace=False)\n",
              "          )\n",
              "        )\n",
              "        (intermediate): RobertaIntermediate(\n",
              "          (dense): Linear(in_features=768, out_features=3072, bias=True)\n",
              "        )\n",
              "        (output): RobertaOutput(\n",
              "          (dense): Linear(in_features=3072, out_features=768, bias=True)\n",
              "          (LayerNorm): LayerNorm((768,), eps=1e-05, elementwise_affine=True)\n",
              "          (dropout): Dropout(p=0.1, inplace=False)\n",
              "        )\n",
              "      )\n",
              "      (4): RobertaLayer(\n",
              "        (attention): RobertaAttention(\n",
              "          (self): RobertaSelfAttention(\n",
              "            (query): Linear(in_features=768, out_features=768, bias=True)\n",
              "            (key): Linear(in_features=768, out_features=768, bias=True)\n",
              "            (value): Linear(in_features=768, out_features=768, bias=True)\n",
              "            (dropout): Dropout(p=0.1, inplace=False)\n",
              "          )\n",
              "          (output): RobertaSelfOutput(\n",
              "            (dense): Linear(in_features=768, out_features=768, bias=True)\n",
              "            (LayerNorm): LayerNorm((768,), eps=1e-05, elementwise_affine=True)\n",
              "            (dropout): Dropout(p=0.1, inplace=False)\n",
              "          )\n",
              "        )\n",
              "        (intermediate): RobertaIntermediate(\n",
              "          (dense): Linear(in_features=768, out_features=3072, bias=True)\n",
              "        )\n",
              "        (output): RobertaOutput(\n",
              "          (dense): Linear(in_features=3072, out_features=768, bias=True)\n",
              "          (LayerNorm): LayerNorm((768,), eps=1e-05, elementwise_affine=True)\n",
              "          (dropout): Dropout(p=0.1, inplace=False)\n",
              "        )\n",
              "      )\n",
              "      (5): RobertaLayer(\n",
              "        (attention): RobertaAttention(\n",
              "          (self): RobertaSelfAttention(\n",
              "            (query): Linear(in_features=768, out_features=768, bias=True)\n",
              "            (key): Linear(in_features=768, out_features=768, bias=True)\n",
              "            (value): Linear(in_features=768, out_features=768, bias=True)\n",
              "            (dropout): Dropout(p=0.1, inplace=False)\n",
              "          )\n",
              "          (output): RobertaSelfOutput(\n",
              "            (dense): Linear(in_features=768, out_features=768, bias=True)\n",
              "            (LayerNorm): LayerNorm((768,), eps=1e-05, elementwise_affine=True)\n",
              "            (dropout): Dropout(p=0.1, inplace=False)\n",
              "          )\n",
              "        )\n",
              "        (intermediate): RobertaIntermediate(\n",
              "          (dense): Linear(in_features=768, out_features=3072, bias=True)\n",
              "        )\n",
              "        (output): RobertaOutput(\n",
              "          (dense): Linear(in_features=3072, out_features=768, bias=True)\n",
              "          (LayerNorm): LayerNorm((768,), eps=1e-05, elementwise_affine=True)\n",
              "          (dropout): Dropout(p=0.1, inplace=False)\n",
              "        )\n",
              "      )\n",
              "      (6): RobertaLayer(\n",
              "        (attention): RobertaAttention(\n",
              "          (self): RobertaSelfAttention(\n",
              "            (query): Linear(in_features=768, out_features=768, bias=True)\n",
              "            (key): Linear(in_features=768, out_features=768, bias=True)\n",
              "            (value): Linear(in_features=768, out_features=768, bias=True)\n",
              "            (dropout): Dropout(p=0.1, inplace=False)\n",
              "          )\n",
              "          (output): RobertaSelfOutput(\n",
              "            (dense): Linear(in_features=768, out_features=768, bias=True)\n",
              "            (LayerNorm): LayerNorm((768,), eps=1e-05, elementwise_affine=True)\n",
              "            (dropout): Dropout(p=0.1, inplace=False)\n",
              "          )\n",
              "        )\n",
              "        (intermediate): RobertaIntermediate(\n",
              "          (dense): Linear(in_features=768, out_features=3072, bias=True)\n",
              "        )\n",
              "        (output): RobertaOutput(\n",
              "          (dense): Linear(in_features=3072, out_features=768, bias=True)\n",
              "          (LayerNorm): LayerNorm((768,), eps=1e-05, elementwise_affine=True)\n",
              "          (dropout): Dropout(p=0.1, inplace=False)\n",
              "        )\n",
              "      )\n",
              "      (7): RobertaLayer(\n",
              "        (attention): RobertaAttention(\n",
              "          (self): RobertaSelfAttention(\n",
              "            (query): Linear(in_features=768, out_features=768, bias=True)\n",
              "            (key): Linear(in_features=768, out_features=768, bias=True)\n",
              "            (value): Linear(in_features=768, out_features=768, bias=True)\n",
              "            (dropout): Dropout(p=0.1, inplace=False)\n",
              "          )\n",
              "          (output): RobertaSelfOutput(\n",
              "            (dense): Linear(in_features=768, out_features=768, bias=True)\n",
              "            (LayerNorm): LayerNorm((768,), eps=1e-05, elementwise_affine=True)\n",
              "            (dropout): Dropout(p=0.1, inplace=False)\n",
              "          )\n",
              "        )\n",
              "        (intermediate): RobertaIntermediate(\n",
              "          (dense): Linear(in_features=768, out_features=3072, bias=True)\n",
              "        )\n",
              "        (output): RobertaOutput(\n",
              "          (dense): Linear(in_features=3072, out_features=768, bias=True)\n",
              "          (LayerNorm): LayerNorm((768,), eps=1e-05, elementwise_affine=True)\n",
              "          (dropout): Dropout(p=0.1, inplace=False)\n",
              "        )\n",
              "      )\n",
              "      (8): RobertaLayer(\n",
              "        (attention): RobertaAttention(\n",
              "          (self): RobertaSelfAttention(\n",
              "            (query): Linear(in_features=768, out_features=768, bias=True)\n",
              "            (key): Linear(in_features=768, out_features=768, bias=True)\n",
              "            (value): Linear(in_features=768, out_features=768, bias=True)\n",
              "            (dropout): Dropout(p=0.1, inplace=False)\n",
              "          )\n",
              "          (output): RobertaSelfOutput(\n",
              "            (dense): Linear(in_features=768, out_features=768, bias=True)\n",
              "            (LayerNorm): LayerNorm((768,), eps=1e-05, elementwise_affine=True)\n",
              "            (dropout): Dropout(p=0.1, inplace=False)\n",
              "          )\n",
              "        )\n",
              "        (intermediate): RobertaIntermediate(\n",
              "          (dense): Linear(in_features=768, out_features=3072, bias=True)\n",
              "        )\n",
              "        (output): RobertaOutput(\n",
              "          (dense): Linear(in_features=3072, out_features=768, bias=True)\n",
              "          (LayerNorm): LayerNorm((768,), eps=1e-05, elementwise_affine=True)\n",
              "          (dropout): Dropout(p=0.1, inplace=False)\n",
              "        )\n",
              "      )\n",
              "      (9): RobertaLayer(\n",
              "        (attention): RobertaAttention(\n",
              "          (self): RobertaSelfAttention(\n",
              "            (query): Linear(in_features=768, out_features=768, bias=True)\n",
              "            (key): Linear(in_features=768, out_features=768, bias=True)\n",
              "            (value): Linear(in_features=768, out_features=768, bias=True)\n",
              "            (dropout): Dropout(p=0.1, inplace=False)\n",
              "          )\n",
              "          (output): RobertaSelfOutput(\n",
              "            (dense): Linear(in_features=768, out_features=768, bias=True)\n",
              "            (LayerNorm): LayerNorm((768,), eps=1e-05, elementwise_affine=True)\n",
              "            (dropout): Dropout(p=0.1, inplace=False)\n",
              "          )\n",
              "        )\n",
              "        (intermediate): RobertaIntermediate(\n",
              "          (dense): Linear(in_features=768, out_features=3072, bias=True)\n",
              "        )\n",
              "        (output): RobertaOutput(\n",
              "          (dense): Linear(in_features=3072, out_features=768, bias=True)\n",
              "          (LayerNorm): LayerNorm((768,), eps=1e-05, elementwise_affine=True)\n",
              "          (dropout): Dropout(p=0.1, inplace=False)\n",
              "        )\n",
              "      )\n",
              "      (10): RobertaLayer(\n",
              "        (attention): RobertaAttention(\n",
              "          (self): RobertaSelfAttention(\n",
              "            (query): Linear(in_features=768, out_features=768, bias=True)\n",
              "            (key): Linear(in_features=768, out_features=768, bias=True)\n",
              "            (value): Linear(in_features=768, out_features=768, bias=True)\n",
              "            (dropout): Dropout(p=0.1, inplace=False)\n",
              "          )\n",
              "          (output): RobertaSelfOutput(\n",
              "            (dense): Linear(in_features=768, out_features=768, bias=True)\n",
              "            (LayerNorm): LayerNorm((768,), eps=1e-05, elementwise_affine=True)\n",
              "            (dropout): Dropout(p=0.1, inplace=False)\n",
              "          )\n",
              "        )\n",
              "        (intermediate): RobertaIntermediate(\n",
              "          (dense): Linear(in_features=768, out_features=3072, bias=True)\n",
              "        )\n",
              "        (output): RobertaOutput(\n",
              "          (dense): Linear(in_features=3072, out_features=768, bias=True)\n",
              "          (LayerNorm): LayerNorm((768,), eps=1e-05, elementwise_affine=True)\n",
              "          (dropout): Dropout(p=0.1, inplace=False)\n",
              "        )\n",
              "      )\n",
              "      (11): RobertaLayer(\n",
              "        (attention): RobertaAttention(\n",
              "          (self): RobertaSelfAttention(\n",
              "            (query): Linear(in_features=768, out_features=768, bias=True)\n",
              "            (key): Linear(in_features=768, out_features=768, bias=True)\n",
              "            (value): Linear(in_features=768, out_features=768, bias=True)\n",
              "            (dropout): Dropout(p=0.1, inplace=False)\n",
              "          )\n",
              "          (output): RobertaSelfOutput(\n",
              "            (dense): Linear(in_features=768, out_features=768, bias=True)\n",
              "            (LayerNorm): LayerNorm((768,), eps=1e-05, elementwise_affine=True)\n",
              "            (dropout): Dropout(p=0.1, inplace=False)\n",
              "          )\n",
              "        )\n",
              "        (intermediate): RobertaIntermediate(\n",
              "          (dense): Linear(in_features=768, out_features=3072, bias=True)\n",
              "        )\n",
              "        (output): RobertaOutput(\n",
              "          (dense): Linear(in_features=3072, out_features=768, bias=True)\n",
              "          (LayerNorm): LayerNorm((768,), eps=1e-05, elementwise_affine=True)\n",
              "          (dropout): Dropout(p=0.1, inplace=False)\n",
              "        )\n",
              "      )\n",
              "    )\n",
              "  )\n",
              "  (pooler): RobertaPooler(\n",
              "    (dense): Linear(in_features=768, out_features=768, bias=True)\n",
              "    (activation): Tanh()\n",
              "  )\n",
              ")"
            ]
          },
          "metadata": {
            "tags": []
          },
          "execution_count": 88
        }
      ]
    },
    {
      "cell_type": "code",
      "metadata": {
        "colab": {
          "base_uri": "https://localhost:8080/",
          "height": 141
        },
        "id": "zkbJPFgKLERw",
        "outputId": "4923788c-629b-4627-aeb8-052d24821a43"
      },
      "source": [
        "learn.fit_one_cycle(3, max_lr=1e-05)"
      ],
      "execution_count": 89,
      "outputs": [
        {
          "output_type": "display_data",
          "data": {
            "text/html": [
              "<table border=\"1\" class=\"dataframe\">\n",
              "  <thead>\n",
              "    <tr style=\"text-align: left;\">\n",
              "      <th>epoch</th>\n",
              "      <th>train_loss</th>\n",
              "      <th>valid_loss</th>\n",
              "      <th>accuracy</th>\n",
              "      <th>time</th>\n",
              "    </tr>\n",
              "  </thead>\n",
              "  <tbody>\n",
              "    <tr>\n",
              "      <td>0</td>\n",
              "      <td>0.402385</td>\n",
              "      <td>0.416808</td>\n",
              "      <td>0.837379</td>\n",
              "      <td>00:30</td>\n",
              "    </tr>\n",
              "    <tr>\n",
              "      <td>1</td>\n",
              "      <td>0.255522</td>\n",
              "      <td>0.294917</td>\n",
              "      <td>0.890777</td>\n",
              "      <td>00:30</td>\n",
              "    </tr>\n",
              "    <tr>\n",
              "      <td>2</td>\n",
              "      <td>0.193952</td>\n",
              "      <td>0.286495</td>\n",
              "      <td>0.895631</td>\n",
              "      <td>00:30</td>\n",
              "    </tr>\n",
              "  </tbody>\n",
              "</table>"
            ],
            "text/plain": [
              "<IPython.core.display.HTML object>"
            ]
          },
          "metadata": {
            "tags": []
          }
        }
      ]
    },
    {
      "cell_type": "markdown",
      "metadata": {
        "id": "4Ha6lycYRi8Y"
      },
      "source": [
        "## Saving/Loading the model weights"
      ]
    },
    {
      "cell_type": "code",
      "metadata": {
        "id": "LjcIiAu0R3_2"
      },
      "source": [
        "learn.save('base_model')"
      ],
      "execution_count": 91,
      "outputs": []
    },
    {
      "cell_type": "code",
      "metadata": {
        "colab": {
          "base_uri": "https://localhost:8080/"
        },
        "id": "vYOsb5qISF0A",
        "outputId": "9ca67066-b840-4e48-a03a-7ede43ed70cc"
      },
      "source": [
        "learn.load('base_model')"
      ],
      "execution_count": 92,
      "outputs": [
        {
          "output_type": "execute_result",
          "data": {
            "text/plain": [
              "Learner(data=RobertaDataBunch;\n",
              "\n",
              "Train: LabelList (1648 items)\n",
              "x: RobertaTextList\n",
              "<s> ju ano Ġher n and ez Ġexceptional Ġactor Ġplayed Ġsupporting Ġrole Ġmany Ġfilm Ġera Ġproud Ġblack Ġman Ġaccused Ġmurdering Ġwhite Ġman Ġsouth </s>,<s> sh ocked Ġsign Ġindicate Ġcash </s>,<s> sat Ġanother Ġten Ġminute Ġfinally Ġgave Ġleft </s>,<s> igo Ġcharger Ġtip Ġreally Ġgreat </s>,<s> wind Ġlion Ġsee Ġwonderful Ġrendering Ġameric a Ġimperial Ġage </s>\n",
              "y: CategoryList\n",
              "POSITIVE,NEGATIVE,NEGATIVE,POSITIVE,POSITIVE\n",
              "Path: .;\n",
              "\n",
              "Valid: LabelList (412 items)\n",
              "x: RobertaTextList\n",
              "<s> hor rible Ġattitude Ġtowards Ġcustomer Ġtalk Ġone Ġcustomer Ġdont Ġenjoy Ġfood </s>,<s> go Ġplace Ġgy ro </s>,<s> le ast Ġthink Ġrefill Ġwater Ġstruggle Ġwave Ġminute </s>,<s> inst ruction Ġdidnt Ġexplain Ġmicrophone Ġjack Ġcould Ġused </s>,<s> love Ġphone </s>\n",
              "y: CategoryList\n",
              "NEGATIVE,POSITIVE,NEGATIVE,NEGATIVE,POSITIVE\n",
              "Path: .;\n",
              "\n",
              "Test: LabelList (686 items)\n",
              "x: RobertaTextList\n",
              "<s> great Ġservice Ġfood </s>,<s> pair ing Ġ iph one Ġcould Ġhappier Ġfar </s>,<s> plot Ġhole Ġpair Ġfish net Ġstocking Ġdirection Ġediting Ġastonishing ly Ġham Ġf isted </s>,<s> sure ly Ġdoesnt Ġknow Ġmake Ġcoherent Ġaction Ġmovie Ġscreen writer Ġair Ġforce Ġone Ġobliged Ġwrite Ġscript Ġbig Ġsum Ġmoney </s>,<s> still Ġquite Ġinteresting Ġentertaining Ġfollow </s>\n",
              "y: EmptyLabelList\n",
              ",,,,\n",
              "Path: ., model=CustomRobertaModel(\n",
              "  (roberta): RobertaModel(\n",
              "    (embeddings): RobertaEmbeddings(\n",
              "      (word_embeddings): Embedding(50265, 768, padding_idx=1)\n",
              "      (position_embeddings): Embedding(514, 768, padding_idx=1)\n",
              "      (token_type_embeddings): Embedding(1, 768)\n",
              "      (LayerNorm): LayerNorm((768,), eps=1e-05, elementwise_affine=True)\n",
              "      (dropout): Dropout(p=0.1, inplace=False)\n",
              "    )\n",
              "    (encoder): RobertaEncoder(\n",
              "      (layer): ModuleList(\n",
              "        (0): RobertaLayer(\n",
              "          (attention): RobertaAttention(\n",
              "            (self): RobertaSelfAttention(\n",
              "              (query): Linear(in_features=768, out_features=768, bias=True)\n",
              "              (key): Linear(in_features=768, out_features=768, bias=True)\n",
              "              (value): Linear(in_features=768, out_features=768, bias=True)\n",
              "              (dropout): Dropout(p=0.1, inplace=False)\n",
              "            )\n",
              "            (output): RobertaSelfOutput(\n",
              "              (dense): Linear(in_features=768, out_features=768, bias=True)\n",
              "              (LayerNorm): LayerNorm((768,), eps=1e-05, elementwise_affine=True)\n",
              "              (dropout): Dropout(p=0.1, inplace=False)\n",
              "            )\n",
              "          )\n",
              "          (intermediate): RobertaIntermediate(\n",
              "            (dense): Linear(in_features=768, out_features=3072, bias=True)\n",
              "          )\n",
              "          (output): RobertaOutput(\n",
              "            (dense): Linear(in_features=3072, out_features=768, bias=True)\n",
              "            (LayerNorm): LayerNorm((768,), eps=1e-05, elementwise_affine=True)\n",
              "            (dropout): Dropout(p=0.1, inplace=False)\n",
              "          )\n",
              "        )\n",
              "        (1): RobertaLayer(\n",
              "          (attention): RobertaAttention(\n",
              "            (self): RobertaSelfAttention(\n",
              "              (query): Linear(in_features=768, out_features=768, bias=True)\n",
              "              (key): Linear(in_features=768, out_features=768, bias=True)\n",
              "              (value): Linear(in_features=768, out_features=768, bias=True)\n",
              "              (dropout): Dropout(p=0.1, inplace=False)\n",
              "            )\n",
              "            (output): RobertaSelfOutput(\n",
              "              (dense): Linear(in_features=768, out_features=768, bias=True)\n",
              "              (LayerNorm): LayerNorm((768,), eps=1e-05, elementwise_affine=True)\n",
              "              (dropout): Dropout(p=0.1, inplace=False)\n",
              "            )\n",
              "          )\n",
              "          (intermediate): RobertaIntermediate(\n",
              "            (dense): Linear(in_features=768, out_features=3072, bias=True)\n",
              "          )\n",
              "          (output): RobertaOutput(\n",
              "            (dense): Linear(in_features=3072, out_features=768, bias=True)\n",
              "            (LayerNorm): LayerNorm((768,), eps=1e-05, elementwise_affine=True)\n",
              "            (dropout): Dropout(p=0.1, inplace=False)\n",
              "          )\n",
              "        )\n",
              "        (2): RobertaLayer(\n",
              "          (attention): RobertaAttention(\n",
              "            (self): RobertaSelfAttention(\n",
              "              (query): Linear(in_features=768, out_features=768, bias=True)\n",
              "              (key): Linear(in_features=768, out_features=768, bias=True)\n",
              "              (value): Linear(in_features=768, out_features=768, bias=True)\n",
              "              (dropout): Dropout(p=0.1, inplace=False)\n",
              "            )\n",
              "            (output): RobertaSelfOutput(\n",
              "              (dense): Linear(in_features=768, out_features=768, bias=True)\n",
              "              (LayerNorm): LayerNorm((768,), eps=1e-05, elementwise_affine=True)\n",
              "              (dropout): Dropout(p=0.1, inplace=False)\n",
              "            )\n",
              "          )\n",
              "          (intermediate): RobertaIntermediate(\n",
              "            (dense): Linear(in_features=768, out_features=3072, bias=True)\n",
              "          )\n",
              "          (output): RobertaOutput(\n",
              "            (dense): Linear(in_features=3072, out_features=768, bias=True)\n",
              "            (LayerNorm): LayerNorm((768,), eps=1e-05, elementwise_affine=True)\n",
              "            (dropout): Dropout(p=0.1, inplace=False)\n",
              "          )\n",
              "        )\n",
              "        (3): RobertaLayer(\n",
              "          (attention): RobertaAttention(\n",
              "            (self): RobertaSelfAttention(\n",
              "              (query): Linear(in_features=768, out_features=768, bias=True)\n",
              "              (key): Linear(in_features=768, out_features=768, bias=True)\n",
              "              (value): Linear(in_features=768, out_features=768, bias=True)\n",
              "              (dropout): Dropout(p=0.1, inplace=False)\n",
              "            )\n",
              "            (output): RobertaSelfOutput(\n",
              "              (dense): Linear(in_features=768, out_features=768, bias=True)\n",
              "              (LayerNorm): LayerNorm((768,), eps=1e-05, elementwise_affine=True)\n",
              "              (dropout): Dropout(p=0.1, inplace=False)\n",
              "            )\n",
              "          )\n",
              "          (intermediate): RobertaIntermediate(\n",
              "            (dense): Linear(in_features=768, out_features=3072, bias=True)\n",
              "          )\n",
              "          (output): RobertaOutput(\n",
              "            (dense): Linear(in_features=3072, out_features=768, bias=True)\n",
              "            (LayerNorm): LayerNorm((768,), eps=1e-05, elementwise_affine=True)\n",
              "            (dropout): Dropout(p=0.1, inplace=False)\n",
              "          )\n",
              "        )\n",
              "        (4): RobertaLayer(\n",
              "          (attention): RobertaAttention(\n",
              "            (self): RobertaSelfAttention(\n",
              "              (query): Linear(in_features=768, out_features=768, bias=True)\n",
              "              (key): Linear(in_features=768, out_features=768, bias=True)\n",
              "              (value): Linear(in_features=768, out_features=768, bias=True)\n",
              "              (dropout): Dropout(p=0.1, inplace=False)\n",
              "            )\n",
              "            (output): RobertaSelfOutput(\n",
              "              (dense): Linear(in_features=768, out_features=768, bias=True)\n",
              "              (LayerNorm): LayerNorm((768,), eps=1e-05, elementwise_affine=True)\n",
              "              (dropout): Dropout(p=0.1, inplace=False)\n",
              "            )\n",
              "          )\n",
              "          (intermediate): RobertaIntermediate(\n",
              "            (dense): Linear(in_features=768, out_features=3072, bias=True)\n",
              "          )\n",
              "          (output): RobertaOutput(\n",
              "            (dense): Linear(in_features=3072, out_features=768, bias=True)\n",
              "            (LayerNorm): LayerNorm((768,), eps=1e-05, elementwise_affine=True)\n",
              "            (dropout): Dropout(p=0.1, inplace=False)\n",
              "          )\n",
              "        )\n",
              "        (5): RobertaLayer(\n",
              "          (attention): RobertaAttention(\n",
              "            (self): RobertaSelfAttention(\n",
              "              (query): Linear(in_features=768, out_features=768, bias=True)\n",
              "              (key): Linear(in_features=768, out_features=768, bias=True)\n",
              "              (value): Linear(in_features=768, out_features=768, bias=True)\n",
              "              (dropout): Dropout(p=0.1, inplace=False)\n",
              "            )\n",
              "            (output): RobertaSelfOutput(\n",
              "              (dense): Linear(in_features=768, out_features=768, bias=True)\n",
              "              (LayerNorm): LayerNorm((768,), eps=1e-05, elementwise_affine=True)\n",
              "              (dropout): Dropout(p=0.1, inplace=False)\n",
              "            )\n",
              "          )\n",
              "          (intermediate): RobertaIntermediate(\n",
              "            (dense): Linear(in_features=768, out_features=3072, bias=True)\n",
              "          )\n",
              "          (output): RobertaOutput(\n",
              "            (dense): Linear(in_features=3072, out_features=768, bias=True)\n",
              "            (LayerNorm): LayerNorm((768,), eps=1e-05, elementwise_affine=True)\n",
              "            (dropout): Dropout(p=0.1, inplace=False)\n",
              "          )\n",
              "        )\n",
              "        (6): RobertaLayer(\n",
              "          (attention): RobertaAttention(\n",
              "            (self): RobertaSelfAttention(\n",
              "              (query): Linear(in_features=768, out_features=768, bias=True)\n",
              "              (key): Linear(in_features=768, out_features=768, bias=True)\n",
              "              (value): Linear(in_features=768, out_features=768, bias=True)\n",
              "              (dropout): Dropout(p=0.1, inplace=False)\n",
              "            )\n",
              "            (output): RobertaSelfOutput(\n",
              "              (dense): Linear(in_features=768, out_features=768, bias=True)\n",
              "              (LayerNorm): LayerNorm((768,), eps=1e-05, elementwise_affine=True)\n",
              "              (dropout): Dropout(p=0.1, inplace=False)\n",
              "            )\n",
              "          )\n",
              "          (intermediate): RobertaIntermediate(\n",
              "            (dense): Linear(in_features=768, out_features=3072, bias=True)\n",
              "          )\n",
              "          (output): RobertaOutput(\n",
              "            (dense): Linear(in_features=3072, out_features=768, bias=True)\n",
              "            (LayerNorm): LayerNorm((768,), eps=1e-05, elementwise_affine=True)\n",
              "            (dropout): Dropout(p=0.1, inplace=False)\n",
              "          )\n",
              "        )\n",
              "        (7): RobertaLayer(\n",
              "          (attention): RobertaAttention(\n",
              "            (self): RobertaSelfAttention(\n",
              "              (query): Linear(in_features=768, out_features=768, bias=True)\n",
              "              (key): Linear(in_features=768, out_features=768, bias=True)\n",
              "              (value): Linear(in_features=768, out_features=768, bias=True)\n",
              "              (dropout): Dropout(p=0.1, inplace=False)\n",
              "            )\n",
              "            (output): RobertaSelfOutput(\n",
              "              (dense): Linear(in_features=768, out_features=768, bias=True)\n",
              "              (LayerNorm): LayerNorm((768,), eps=1e-05, elementwise_affine=True)\n",
              "              (dropout): Dropout(p=0.1, inplace=False)\n",
              "            )\n",
              "          )\n",
              "          (intermediate): RobertaIntermediate(\n",
              "            (dense): Linear(in_features=768, out_features=3072, bias=True)\n",
              "          )\n",
              "          (output): RobertaOutput(\n",
              "            (dense): Linear(in_features=3072, out_features=768, bias=True)\n",
              "            (LayerNorm): LayerNorm((768,), eps=1e-05, elementwise_affine=True)\n",
              "            (dropout): Dropout(p=0.1, inplace=False)\n",
              "          )\n",
              "        )\n",
              "        (8): RobertaLayer(\n",
              "          (attention): RobertaAttention(\n",
              "            (self): RobertaSelfAttention(\n",
              "              (query): Linear(in_features=768, out_features=768, bias=True)\n",
              "              (key): Linear(in_features=768, out_features=768, bias=True)\n",
              "              (value): Linear(in_features=768, out_features=768, bias=True)\n",
              "              (dropout): Dropout(p=0.1, inplace=False)\n",
              "            )\n",
              "            (output): RobertaSelfOutput(\n",
              "              (dense): Linear(in_features=768, out_features=768, bias=True)\n",
              "              (LayerNorm): LayerNorm((768,), eps=1e-05, elementwise_affine=True)\n",
              "              (dropout): Dropout(p=0.1, inplace=False)\n",
              "            )\n",
              "          )\n",
              "          (intermediate): RobertaIntermediate(\n",
              "            (dense): Linear(in_features=768, out_features=3072, bias=True)\n",
              "          )\n",
              "          (output): RobertaOutput(\n",
              "            (dense): Linear(in_features=3072, out_features=768, bias=True)\n",
              "            (LayerNorm): LayerNorm((768,), eps=1e-05, elementwise_affine=True)\n",
              "            (dropout): Dropout(p=0.1, inplace=False)\n",
              "          )\n",
              "        )\n",
              "        (9): RobertaLayer(\n",
              "          (attention): RobertaAttention(\n",
              "            (self): RobertaSelfAttention(\n",
              "              (query): Linear(in_features=768, out_features=768, bias=True)\n",
              "              (key): Linear(in_features=768, out_features=768, bias=True)\n",
              "              (value): Linear(in_features=768, out_features=768, bias=True)\n",
              "              (dropout): Dropout(p=0.1, inplace=False)\n",
              "            )\n",
              "            (output): RobertaSelfOutput(\n",
              "              (dense): Linear(in_features=768, out_features=768, bias=True)\n",
              "              (LayerNorm): LayerNorm((768,), eps=1e-05, elementwise_affine=True)\n",
              "              (dropout): Dropout(p=0.1, inplace=False)\n",
              "            )\n",
              "          )\n",
              "          (intermediate): RobertaIntermediate(\n",
              "            (dense): Linear(in_features=768, out_features=3072, bias=True)\n",
              "          )\n",
              "          (output): RobertaOutput(\n",
              "            (dense): Linear(in_features=3072, out_features=768, bias=True)\n",
              "            (LayerNorm): LayerNorm((768,), eps=1e-05, elementwise_affine=True)\n",
              "            (dropout): Dropout(p=0.1, inplace=False)\n",
              "          )\n",
              "        )\n",
              "        (10): RobertaLayer(\n",
              "          (attention): RobertaAttention(\n",
              "            (self): RobertaSelfAttention(\n",
              "              (query): Linear(in_features=768, out_features=768, bias=True)\n",
              "              (key): Linear(in_features=768, out_features=768, bias=True)\n",
              "              (value): Linear(in_features=768, out_features=768, bias=True)\n",
              "              (dropout): Dropout(p=0.1, inplace=False)\n",
              "            )\n",
              "            (output): RobertaSelfOutput(\n",
              "              (dense): Linear(in_features=768, out_features=768, bias=True)\n",
              "              (LayerNorm): LayerNorm((768,), eps=1e-05, elementwise_affine=True)\n",
              "              (dropout): Dropout(p=0.1, inplace=False)\n",
              "            )\n",
              "          )\n",
              "          (intermediate): RobertaIntermediate(\n",
              "            (dense): Linear(in_features=768, out_features=3072, bias=True)\n",
              "          )\n",
              "          (output): RobertaOutput(\n",
              "            (dense): Linear(in_features=3072, out_features=768, bias=True)\n",
              "            (LayerNorm): LayerNorm((768,), eps=1e-05, elementwise_affine=True)\n",
              "            (dropout): Dropout(p=0.1, inplace=False)\n",
              "          )\n",
              "        )\n",
              "        (11): RobertaLayer(\n",
              "          (attention): RobertaAttention(\n",
              "            (self): RobertaSelfAttention(\n",
              "              (query): Linear(in_features=768, out_features=768, bias=True)\n",
              "              (key): Linear(in_features=768, out_features=768, bias=True)\n",
              "              (value): Linear(in_features=768, out_features=768, bias=True)\n",
              "              (dropout): Dropout(p=0.1, inplace=False)\n",
              "            )\n",
              "            (output): RobertaSelfOutput(\n",
              "              (dense): Linear(in_features=768, out_features=768, bias=True)\n",
              "              (LayerNorm): LayerNorm((768,), eps=1e-05, elementwise_affine=True)\n",
              "              (dropout): Dropout(p=0.1, inplace=False)\n",
              "            )\n",
              "          )\n",
              "          (intermediate): RobertaIntermediate(\n",
              "            (dense): Linear(in_features=768, out_features=3072, bias=True)\n",
              "          )\n",
              "          (output): RobertaOutput(\n",
              "            (dense): Linear(in_features=3072, out_features=768, bias=True)\n",
              "            (LayerNorm): LayerNorm((768,), eps=1e-05, elementwise_affine=True)\n",
              "            (dropout): Dropout(p=0.1, inplace=False)\n",
              "          )\n",
              "        )\n",
              "      )\n",
              "    )\n",
              "    (pooler): RobertaPooler(\n",
              "      (dense): Linear(in_features=768, out_features=768, bias=True)\n",
              "      (activation): Tanh()\n",
              "    )\n",
              "  )\n",
              "  (dropout): Dropout(p=0.05, inplace=False)\n",
              "  (classifier): Linear(in_features=768, out_features=2, bias=True)\n",
              "), opt_func=functools.partial(<class 'torch.optim.adam.Adam'>, betas=(0.9, 0.99)), loss_func=FlattenedLoss of CrossEntropyLoss(), metrics=[<function accuracy at 0x7fdce3394200>], true_wd=True, bn_wd=True, wd=0.01, train_bn=True, path=PosixPath('.'), model_dir='models', callback_fns=[functools.partial(<class 'fastai.basic_train.Recorder'>, add_time=True, silent=False)], callbacks=[], layer_groups=[Sequential(\n",
              "  (0): Embedding(50265, 768, padding_idx=1)\n",
              "  (1): Embedding(514, 768, padding_idx=1)\n",
              "  (2): Embedding(1, 768)\n",
              "  (3): LayerNorm((768,), eps=1e-05, elementwise_affine=True)\n",
              "  (4): Dropout(p=0.1, inplace=False)\n",
              "  (5): Linear(in_features=768, out_features=768, bias=True)\n",
              "  (6): Linear(in_features=768, out_features=768, bias=True)\n",
              "  (7): Linear(in_features=768, out_features=768, bias=True)\n",
              "  (8): Dropout(p=0.1, inplace=False)\n",
              "  (9): Linear(in_features=768, out_features=768, bias=True)\n",
              "  (10): LayerNorm((768,), eps=1e-05, elementwise_affine=True)\n",
              "  (11): Dropout(p=0.1, inplace=False)\n",
              "  (12): Linear(in_features=768, out_features=3072, bias=True)\n",
              "  (13): Linear(in_features=3072, out_features=768, bias=True)\n",
              "  (14): LayerNorm((768,), eps=1e-05, elementwise_affine=True)\n",
              "  (15): Dropout(p=0.1, inplace=False)\n",
              "  (16): Linear(in_features=768, out_features=768, bias=True)\n",
              "  (17): Linear(in_features=768, out_features=768, bias=True)\n",
              "  (18): Linear(in_features=768, out_features=768, bias=True)\n",
              "  (19): Dropout(p=0.1, inplace=False)\n",
              "  (20): Linear(in_features=768, out_features=768, bias=True)\n",
              "  (21): LayerNorm((768,), eps=1e-05, elementwise_affine=True)\n",
              "  (22): Dropout(p=0.1, inplace=False)\n",
              "  (23): Linear(in_features=768, out_features=3072, bias=True)\n",
              "  (24): Linear(in_features=3072, out_features=768, bias=True)\n",
              "  (25): LayerNorm((768,), eps=1e-05, elementwise_affine=True)\n",
              "  (26): Dropout(p=0.1, inplace=False)\n",
              "  (27): Linear(in_features=768, out_features=768, bias=True)\n",
              "  (28): Linear(in_features=768, out_features=768, bias=True)\n",
              "  (29): Linear(in_features=768, out_features=768, bias=True)\n",
              "  (30): Dropout(p=0.1, inplace=False)\n",
              "  (31): Linear(in_features=768, out_features=768, bias=True)\n",
              "  (32): LayerNorm((768,), eps=1e-05, elementwise_affine=True)\n",
              "  (33): Dropout(p=0.1, inplace=False)\n",
              "  (34): Linear(in_features=768, out_features=3072, bias=True)\n",
              "  (35): Linear(in_features=3072, out_features=768, bias=True)\n",
              "  (36): LayerNorm((768,), eps=1e-05, elementwise_affine=True)\n",
              "  (37): Dropout(p=0.1, inplace=False)\n",
              "  (38): Linear(in_features=768, out_features=768, bias=True)\n",
              "  (39): Linear(in_features=768, out_features=768, bias=True)\n",
              "  (40): Linear(in_features=768, out_features=768, bias=True)\n",
              "  (41): Dropout(p=0.1, inplace=False)\n",
              "  (42): Linear(in_features=768, out_features=768, bias=True)\n",
              "  (43): LayerNorm((768,), eps=1e-05, elementwise_affine=True)\n",
              "  (44): Dropout(p=0.1, inplace=False)\n",
              "  (45): Linear(in_features=768, out_features=3072, bias=True)\n",
              "  (46): Linear(in_features=3072, out_features=768, bias=True)\n",
              "  (47): LayerNorm((768,), eps=1e-05, elementwise_affine=True)\n",
              "  (48): Dropout(p=0.1, inplace=False)\n",
              "  (49): Linear(in_features=768, out_features=768, bias=True)\n",
              "  (50): Linear(in_features=768, out_features=768, bias=True)\n",
              "  (51): Linear(in_features=768, out_features=768, bias=True)\n",
              "  (52): Dropout(p=0.1, inplace=False)\n",
              "  (53): Linear(in_features=768, out_features=768, bias=True)\n",
              "  (54): LayerNorm((768,), eps=1e-05, elementwise_affine=True)\n",
              "  (55): Dropout(p=0.1, inplace=False)\n",
              "  (56): Linear(in_features=768, out_features=3072, bias=True)\n",
              "  (57): Linear(in_features=3072, out_features=768, bias=True)\n",
              "  (58): LayerNorm((768,), eps=1e-05, elementwise_affine=True)\n",
              "  (59): Dropout(p=0.1, inplace=False)\n",
              "  (60): Linear(in_features=768, out_features=768, bias=True)\n",
              "  (61): Linear(in_features=768, out_features=768, bias=True)\n",
              "  (62): Linear(in_features=768, out_features=768, bias=True)\n",
              "  (63): Dropout(p=0.1, inplace=False)\n",
              "  (64): Linear(in_features=768, out_features=768, bias=True)\n",
              "  (65): LayerNorm((768,), eps=1e-05, elementwise_affine=True)\n",
              "  (66): Dropout(p=0.1, inplace=False)\n",
              "  (67): Linear(in_features=768, out_features=3072, bias=True)\n",
              "  (68): Linear(in_features=3072, out_features=768, bias=True)\n",
              "  (69): LayerNorm((768,), eps=1e-05, elementwise_affine=True)\n",
              "  (70): Dropout(p=0.1, inplace=False)\n",
              "  (71): Linear(in_features=768, out_features=768, bias=True)\n",
              "  (72): Linear(in_features=768, out_features=768, bias=True)\n",
              "  (73): Linear(in_features=768, out_features=768, bias=True)\n",
              "  (74): Dropout(p=0.1, inplace=False)\n",
              "  (75): Linear(in_features=768, out_features=768, bias=True)\n",
              "  (76): LayerNorm((768,), eps=1e-05, elementwise_affine=True)\n",
              "  (77): Dropout(p=0.1, inplace=False)\n",
              "  (78): Linear(in_features=768, out_features=3072, bias=True)\n",
              "  (79): Linear(in_features=3072, out_features=768, bias=True)\n",
              "  (80): LayerNorm((768,), eps=1e-05, elementwise_affine=True)\n",
              "  (81): Dropout(p=0.1, inplace=False)\n",
              "  (82): Linear(in_features=768, out_features=768, bias=True)\n",
              "  (83): Linear(in_features=768, out_features=768, bias=True)\n",
              "  (84): Linear(in_features=768, out_features=768, bias=True)\n",
              "  (85): Dropout(p=0.1, inplace=False)\n",
              "  (86): Linear(in_features=768, out_features=768, bias=True)\n",
              "  (87): LayerNorm((768,), eps=1e-05, elementwise_affine=True)\n",
              "  (88): Dropout(p=0.1, inplace=False)\n",
              "  (89): Linear(in_features=768, out_features=3072, bias=True)\n",
              "  (90): Linear(in_features=3072, out_features=768, bias=True)\n",
              "  (91): LayerNorm((768,), eps=1e-05, elementwise_affine=True)\n",
              "  (92): Dropout(p=0.1, inplace=False)\n",
              "  (93): Linear(in_features=768, out_features=768, bias=True)\n",
              "  (94): Linear(in_features=768, out_features=768, bias=True)\n",
              "  (95): Linear(in_features=768, out_features=768, bias=True)\n",
              "  (96): Dropout(p=0.1, inplace=False)\n",
              "  (97): Linear(in_features=768, out_features=768, bias=True)\n",
              "  (98): LayerNorm((768,), eps=1e-05, elementwise_affine=True)\n",
              "  (99): Dropout(p=0.1, inplace=False)\n",
              "  (100): Linear(in_features=768, out_features=3072, bias=True)\n",
              "  (101): Linear(in_features=3072, out_features=768, bias=True)\n",
              "  (102): LayerNorm((768,), eps=1e-05, elementwise_affine=True)\n",
              "  (103): Dropout(p=0.1, inplace=False)\n",
              "  (104): Linear(in_features=768, out_features=768, bias=True)\n",
              "  (105): Linear(in_features=768, out_features=768, bias=True)\n",
              "  (106): Linear(in_features=768, out_features=768, bias=True)\n",
              "  (107): Dropout(p=0.1, inplace=False)\n",
              "  (108): Linear(in_features=768, out_features=768, bias=True)\n",
              "  (109): LayerNorm((768,), eps=1e-05, elementwise_affine=True)\n",
              "  (110): Dropout(p=0.1, inplace=False)\n",
              "  (111): Linear(in_features=768, out_features=3072, bias=True)\n",
              "  (112): Linear(in_features=3072, out_features=768, bias=True)\n",
              "  (113): LayerNorm((768,), eps=1e-05, elementwise_affine=True)\n",
              "  (114): Dropout(p=0.1, inplace=False)\n",
              "  (115): Linear(in_features=768, out_features=768, bias=True)\n",
              "  (116): Linear(in_features=768, out_features=768, bias=True)\n",
              "  (117): Linear(in_features=768, out_features=768, bias=True)\n",
              "  (118): Dropout(p=0.1, inplace=False)\n",
              "  (119): Linear(in_features=768, out_features=768, bias=True)\n",
              "  (120): LayerNorm((768,), eps=1e-05, elementwise_affine=True)\n",
              "  (121): Dropout(p=0.1, inplace=False)\n",
              "  (122): Linear(in_features=768, out_features=3072, bias=True)\n",
              "  (123): Linear(in_features=3072, out_features=768, bias=True)\n",
              "  (124): LayerNorm((768,), eps=1e-05, elementwise_affine=True)\n",
              "  (125): Dropout(p=0.1, inplace=False)\n",
              "  (126): Linear(in_features=768, out_features=768, bias=True)\n",
              "  (127): Linear(in_features=768, out_features=768, bias=True)\n",
              "  (128): Linear(in_features=768, out_features=768, bias=True)\n",
              "  (129): Dropout(p=0.1, inplace=False)\n",
              "  (130): Linear(in_features=768, out_features=768, bias=True)\n",
              "  (131): LayerNorm((768,), eps=1e-05, elementwise_affine=True)\n",
              "  (132): Dropout(p=0.1, inplace=False)\n",
              "  (133): Linear(in_features=768, out_features=3072, bias=True)\n",
              "  (134): Linear(in_features=3072, out_features=768, bias=True)\n",
              "  (135): LayerNorm((768,), eps=1e-05, elementwise_affine=True)\n",
              "  (136): Dropout(p=0.1, inplace=False)\n",
              "  (137): Linear(in_features=768, out_features=768, bias=True)\n",
              "  (138): Tanh()\n",
              "  (139): Dropout(p=0.05, inplace=False)\n",
              "  (140): Linear(in_features=768, out_features=2, bias=True)\n",
              ")], add_time=True, silent=False)"
            ]
          },
          "metadata": {
            "tags": []
          },
          "execution_count": 92
        }
      ]
    },
    {
      "cell_type": "code",
      "metadata": {
        "id": "DZBk-yZnRk8Z"
      },
      "source": [
        "def save_model(learner, file_name):\n",
        "    st = learner.model.state_dict()\n",
        "    torch.save(st, file_name) # will save model in current dir # backend is pickle \n",
        "\n",
        "def load_model(learner, file_name):\n",
        "    st = torch.load(file_name)\n",
        "    learner.model.load_state_dict(st)\n",
        "\n",
        "# monkey patching Learner methods to save and load model file\n",
        "Learner.save_model = save_model\n",
        "Learner.load_model = load_model"
      ],
      "execution_count": null,
      "outputs": []
    },
    {
      "cell_type": "markdown",
      "metadata": {
        "id": "wBBMNhMfSKsP"
      },
      "source": [
        "## Fine Tune Learner"
      ]
    },
    {
      "cell_type": "code",
      "metadata": {
        "colab": {
          "base_uri": "https://localhost:8080/",
          "height": 374
        },
        "id": "Bp8NXmkUN-Nb",
        "outputId": "64528269-9646-4d72-ebe9-504fa2cad07a"
      },
      "source": [
        "learn.unfreeze()\n",
        "\n",
        "# select the appropriate learning rate\n",
        "learn.lr_find()\n",
        "\n",
        "# we typically find the point where the slope is steepest\n",
        "learn.recorder.plot()"
      ],
      "execution_count": 78,
      "outputs": [
        {
          "output_type": "display_data",
          "data": {
            "text/html": [
              "\n",
              "    <div>\n",
              "        <style>\n",
              "            /* Turns off some styling */\n",
              "            progress {\n",
              "                /* gets rid of default border in Firefox and Opera. */\n",
              "                border: none;\n",
              "                /* Needs to be in here for Safari polyfill so background images work as expected. */\n",
              "                background-size: auto;\n",
              "            }\n",
              "            .progress-bar-interrupted, .progress-bar-interrupted::-webkit-progress-bar {\n",
              "                background: #F44336;\n",
              "            }\n",
              "        </style>\n",
              "      <progress value='0' class='' max='1' style='width:300px; height:20px; vertical-align: middle;'></progress>\n",
              "      0.00% [0/1 00:00<00:00]\n",
              "    </div>\n",
              "    \n",
              "<table border=\"1\" class=\"dataframe\">\n",
              "  <thead>\n",
              "    <tr style=\"text-align: left;\">\n",
              "      <th>epoch</th>\n",
              "      <th>train_loss</th>\n",
              "      <th>valid_loss</th>\n",
              "      <th>accuracy</th>\n",
              "      <th>time</th>\n",
              "    </tr>\n",
              "  </thead>\n",
              "  <tbody>\n",
              "  </tbody>\n",
              "</table><p>\n",
              "\n",
              "    <div>\n",
              "        <style>\n",
              "            /* Turns off some styling */\n",
              "            progress {\n",
              "                /* gets rid of default border in Firefox and Opera. */\n",
              "                border: none;\n",
              "                /* Needs to be in here for Safari polyfill so background images work as expected. */\n",
              "                background-size: auto;\n",
              "            }\n",
              "            .progress-bar-interrupted, .progress-bar-interrupted::-webkit-progress-bar {\n",
              "                background: #F44336;\n",
              "            }\n",
              "        </style>\n",
              "      <progress value='40' class='' max='412' style='width:300px; height:20px; vertical-align: middle;'></progress>\n",
              "      9.71% [40/412 00:02<00:26 0.0409]\n",
              "    </div>\n",
              "    "
            ],
            "text/plain": [
              "<IPython.core.display.HTML object>"
            ]
          },
          "metadata": {
            "tags": []
          }
        },
        {
          "output_type": "stream",
          "text": [
            "LR Finder is complete, type {learner_name}.recorder.plot() to see the graph.\n"
          ],
          "name": "stdout"
        },
        {
          "output_type": "display_data",
          "data": {
            "image/png": "[encoded data removed]",
            "text/plain": [
              "<Figure size 432x288 with 1 Axes>"
            ]
          },
          "metadata": {
            "tags": [],
            "needs_background": "light"
          }
        }
      ]
    },
    {
      "cell_type": "code",
      "metadata": {
        "colab": {
          "base_uri": "https://localhost:8080/",
          "height": 202
        },
        "id": "hN07Yt87PWNS",
        "outputId": "a8019fc0-3e33-495f-9b31-1fc863db4486"
      },
      "source": [
        "learn.fit_one_cycle(5, max_lr=1e-05)"
      ],
      "execution_count": 83,
      "outputs": [
        {
          "output_type": "display_data",
          "data": {
            "text/html": [
              "<table border=\"1\" class=\"dataframe\">\n",
              "  <thead>\n",
              "    <tr style=\"text-align: left;\">\n",
              "      <th>epoch</th>\n",
              "      <th>train_loss</th>\n",
              "      <th>valid_loss</th>\n",
              "      <th>accuracy</th>\n",
              "      <th>time</th>\n",
              "    </tr>\n",
              "  </thead>\n",
              "  <tbody>\n",
              "    <tr>\n",
              "      <td>0</td>\n",
              "      <td>0.253355</td>\n",
              "      <td>0.507849</td>\n",
              "      <td>0.837379</td>\n",
              "      <td>00:30</td>\n",
              "    </tr>\n",
              "    <tr>\n",
              "      <td>1</td>\n",
              "      <td>0.321345</td>\n",
              "      <td>0.376927</td>\n",
              "      <td>0.844660</td>\n",
              "      <td>00:29</td>\n",
              "    </tr>\n",
              "    <tr>\n",
              "      <td>2</td>\n",
              "      <td>0.198286</td>\n",
              "      <td>0.421750</td>\n",
              "      <td>0.851942</td>\n",
              "      <td>00:29</td>\n",
              "    </tr>\n",
              "    <tr>\n",
              "      <td>3</td>\n",
              "      <td>0.192173</td>\n",
              "      <td>0.447749</td>\n",
              "      <td>0.851942</td>\n",
              "      <td>00:29</td>\n",
              "    </tr>\n",
              "    <tr>\n",
              "      <td>4</td>\n",
              "      <td>0.169698</td>\n",
              "      <td>0.470481</td>\n",
              "      <td>0.859223</td>\n",
              "      <td>00:29</td>\n",
              "    </tr>\n",
              "  </tbody>\n",
              "</table>"
            ],
            "text/plain": [
              "<IPython.core.display.HTML object>"
            ]
          },
          "metadata": {
            "tags": []
          }
        }
      ]
    },
    {
      "cell_type": "markdown",
      "metadata": {
        "id": "XPDXsZ1JSNaI"
      },
      "source": [
        "## Add Test Dataset to data"
      ]
    },
    {
      "cell_type": "code",
      "metadata": {
        "colab": {
          "base_uri": "https://localhost:8080/",
          "height": 321
        },
        "id": "AvzEXBy8Ngpp",
        "outputId": "7bf4fa1c-a286-4a41-efec-52c01474c896"
      },
      "source": [
        "test_datalist = TextList.from_df(test, cols='review', vocab=data.classes)\n",
        "\n",
        "data.add_test(test_datalist)\n",
        "data.show_batch()"
      ],
      "execution_count": 74,
      "outputs": [
        {
          "output_type": "display_data",
          "data": {
            "text/html": [
              ""
            ],
            "text/plain": [
              "<IPython.core.display.HTML object>"
            ]
          },
          "metadata": {
            "tags": []
          }
        },
        {
          "output_type": "display_data",
          "data": {
            "text/html": [
              "<table border=\"1\" class=\"dataframe\">\n",
              "  <thead>\n",
              "    <tr style=\"text-align: right;\">\n",
              "      <th>text</th>\n",
              "      <th>target</th>\n",
              "    </tr>\n",
              "  </thead>\n",
              "  <tbody>\n",
              "    <tr>\n",
              "      <td>&lt;s&gt; fact Ġhard Ġremember Ġpart Ġray Ġchar les Ġacted Ġplayed Ġman Ġray Ġchar les Ġlegendary Ġray Ġchar les Ġlife Ġprovided Ġexcellent Ġbi ographical Ġmaterial Ġfilm Ġgo Ġwell Ġbeyond Ġanother Ġmovie Ġmusician Ġhitch cock Ġgreat Ġdirector Ġironically Ġmostly Ġfind Ġfilm Ġtotal Ġwaste Ġtime Ġwatch Ġsecondly Ġhitch cock Ġpretty Ġmuch Ġperfected Ġthriller Ġchase Ġmovie Ġpand ering Ġaudience Ġsabotage Ġfilm Ġhence Ġwhole Ġstory Ġlack Ġcertain Ġenergy Ġplot Ġsimply Ġrum ble Ġlike Ġmachine Ġdesperately</td>\n",
              "      <td>NEGATIVE</td>\n",
              "    </tr>\n",
              "    <tr>\n",
              "      <td>&lt;s&gt; acting even Ġprofessional Ġdr ago Ġdeb bie Ġro ch on was Ġterrible Ġdirecting Ġworse Ġperhaps Ġcontribut ory Ġformer Ġdialog Ġchim pl ike Ġcamera Ġwork Ġbarely Ġtoler able &lt;/s&gt; &lt;s&gt; &lt;s&gt; &lt;s&gt; &lt;s&gt; &lt;s&gt; &lt;s&gt; &lt;s&gt; &lt;s&gt; &lt;s&gt; &lt;s&gt; &lt;s&gt; &lt;s&gt; &lt;s&gt; &lt;s&gt; &lt;s&gt; &lt;s&gt; &lt;s&gt; &lt;s&gt; &lt;s&gt; &lt;s&gt; &lt;s&gt; &lt;s&gt; &lt;s&gt; &lt;s&gt; &lt;s&gt; &lt;s&gt; &lt;s&gt; &lt;s&gt; &lt;s&gt; &lt;s&gt; &lt;s&gt; &lt;s&gt; &lt;s&gt; &lt;s&gt; &lt;s&gt; &lt;s&gt; &lt;s&gt; &lt;s&gt; &lt;s&gt; &lt;s&gt; &lt;s&gt;</td>\n",
              "      <td>NEGATIVE</td>\n",
              "    </tr>\n",
              "    <tr>\n",
              "      <td>&lt;s&gt; du et Ġastronaut Ġdoctor Ġbeginning Ġmovie Ġperfect Ġexchange Ġone Ġconsiders Ġmovie Ġmade Ġwell Ġcold Ġwar Ġastronaut Ġbiggest Ġfear Ġcrashed Ġus sr &lt;/s&gt; &lt;s&gt; &lt;s&gt; &lt;s&gt; &lt;s&gt; &lt;s&gt; &lt;s&gt; &lt;s&gt; &lt;s&gt; &lt;s&gt; &lt;s&gt; &lt;s&gt; &lt;s&gt; &lt;s&gt; &lt;s&gt; &lt;s&gt; &lt;s&gt; &lt;s&gt; &lt;s&gt; &lt;s&gt; &lt;s&gt; &lt;s&gt; &lt;s&gt; &lt;s&gt; &lt;s&gt; &lt;s&gt; &lt;s&gt; &lt;s&gt; &lt;s&gt; &lt;s&gt; &lt;s&gt; &lt;s&gt; &lt;s&gt; &lt;s&gt; &lt;s&gt; &lt;s&gt; &lt;s&gt; &lt;s&gt; &lt;s&gt; &lt;s&gt; &lt;s&gt; &lt;s&gt; &lt;s&gt; &lt;s&gt; &lt;s&gt; &lt;s&gt; &lt;s&gt; &lt;s&gt;</td>\n",
              "      <td>POSITIVE</td>\n",
              "    </tr>\n",
              "    <tr>\n",
              "      <td>&lt;s&gt; description Ġsaid Ġy um Ġy um Ġsauce Ġanother Ġsaid Ġe el Ġsauce Ġyet Ġanother Ġsaid Ġspicy Ġmay owell Ġnone Ġroll Ġsauce &lt;/s&gt; &lt;s&gt; &lt;s&gt; &lt;s&gt; &lt;s&gt; &lt;s&gt; &lt;s&gt; &lt;s&gt; &lt;s&gt; &lt;s&gt; &lt;s&gt; &lt;s&gt; &lt;s&gt; &lt;s&gt; &lt;s&gt; &lt;s&gt; &lt;s&gt; &lt;s&gt; &lt;s&gt; &lt;s&gt; &lt;s&gt; &lt;s&gt; &lt;s&gt; &lt;s&gt; &lt;s&gt; &lt;s&gt; &lt;s&gt; &lt;s&gt; &lt;s&gt; &lt;s&gt; &lt;s&gt; &lt;s&gt; &lt;s&gt; &lt;s&gt; &lt;s&gt; &lt;s&gt; &lt;s&gt; &lt;s&gt; &lt;s&gt; &lt;s&gt; &lt;s&gt; &lt;s&gt; &lt;s&gt; &lt;s&gt; &lt;s&gt; &lt;s&gt; &lt;s&gt; &lt;s&gt;</td>\n",
              "      <td>NEGATIVE</td>\n",
              "    </tr>\n",
              "  </tbody>\n",
              "</table>"
            ],
            "text/plain": [
              "<IPython.core.display.HTML object>"
            ]
          },
          "metadata": {
            "tags": []
          }
        }
      ]
    },
    {
      "cell_type": "code",
      "metadata": {
        "colab": {
          "base_uri": "https://localhost:8080/"
        },
        "id": "qG2D8UUiOWxe",
        "outputId": "4240681d-f997-4f79-d6d1-9fb9327b21e9"
      },
      "source": [
        "data"
      ],
      "execution_count": 75,
      "outputs": [
        {
          "output_type": "execute_result",
          "data": {
            "text/plain": [
              "RobertaDataBunch;\n",
              "\n",
              "Train: LabelList (1648 items)\n",
              "x: RobertaTextList\n",
              "<s> ju ano Ġher n and ez Ġexceptional Ġactor Ġplayed Ġsupporting Ġrole Ġmany Ġfilm Ġera Ġproud Ġblack Ġman Ġaccused Ġmurdering Ġwhite Ġman Ġsouth </s>,<s> sh ocked Ġsign Ġindicate Ġcash </s>,<s> sat Ġanother Ġten Ġminute Ġfinally Ġgave Ġleft </s>,<s> igo Ġcharger Ġtip Ġreally Ġgreat </s>,<s> wind Ġlion Ġsee Ġwonderful Ġrendering Ġameric a Ġimperial Ġage </s>\n",
              "y: CategoryList\n",
              "POSITIVE,NEGATIVE,NEGATIVE,POSITIVE,POSITIVE\n",
              "Path: .;\n",
              "\n",
              "Valid: LabelList (412 items)\n",
              "x: RobertaTextList\n",
              "<s> hor rible Ġattitude Ġtowards Ġcustomer Ġtalk Ġone Ġcustomer Ġdont Ġenjoy Ġfood </s>,<s> go Ġplace Ġgy ro </s>,<s> le ast Ġthink Ġrefill Ġwater Ġstruggle Ġwave Ġminute </s>,<s> inst ruction Ġdidnt Ġexplain Ġmicrophone Ġjack Ġcould Ġused </s>,<s> love Ġphone </s>\n",
              "y: CategoryList\n",
              "NEGATIVE,POSITIVE,NEGATIVE,NEGATIVE,POSITIVE\n",
              "Path: .;\n",
              "\n",
              "Test: LabelList (686 items)\n",
              "x: RobertaTextList\n",
              "<s> great Ġservice Ġfood </s>,<s> pair ing Ġ iph one Ġcould Ġhappier Ġfar </s>,<s> plot Ġhole Ġpair Ġfish net Ġstocking Ġdirection Ġediting Ġastonishing ly Ġham Ġf isted </s>,<s> sure ly Ġdoesnt Ġknow Ġmake Ġcoherent Ġaction Ġmovie Ġscreen writer Ġair Ġforce Ġone Ġobliged Ġwrite Ġscript Ġbig Ġsum Ġmoney </s>,<s> still Ġquite Ġinteresting Ġentertaining Ġfollow </s>\n",
              "y: EmptyLabelList\n",
              ",,,,\n",
              "Path: ."
            ]
          },
          "metadata": {
            "tags": []
          },
          "execution_count": 75
        }
      ]
    },
    {
      "cell_type": "code",
      "metadata": {
        "colab": {
          "base_uri": "https://localhost:8080/"
        },
        "id": "KOfVOM8gOaOw",
        "outputId": "1810a60a-f736-49cf-9565-e47bdb9cc275"
      },
      "source": [
        "data.c,data.classes"
      ],
      "execution_count": 73,
      "outputs": [
        {
          "output_type": "execute_result",
          "data": {
            "text/plain": [
              "(2, ['NEGATIVE', 'POSITIVE'])"
            ]
          },
          "metadata": {
            "tags": []
          },
          "execution_count": 73
        }
      ]
    },
    {
      "cell_type": "markdown",
      "metadata": {
        "id": "R0HYiCA3SRTW"
      },
      "source": [
        "## Make Predictions"
      ]
    },
    {
      "cell_type": "code",
      "metadata": {
        "id": "fnBr7rymMKzV"
      },
      "source": [
        "def get_preds_as_nparray(ds_type) -> np.ndarray:\n",
        "    learn.model.roberta.eval()\n",
        "    preds = learn.get_preds(ds_type)[0].detach().cpu().numpy()\n",
        "    sampler = [i for i in data.dl(ds_type).sampler]\n",
        "    reverse_sampler = np.argsort(sampler)\n",
        "    ordered_preds = preds[reverse_sampler, :]\n",
        "    pred_values = np.argmax(ordered_preds, axis=1)\n",
        "    return ordered_preds, pred_values"
      ],
      "execution_count": 93,
      "outputs": []
    },
    {
      "cell_type": "code",
      "metadata": {
        "colab": {
          "base_uri": "https://localhost:8080/",
          "height": 16
        },
        "id": "_mADC1KrMP54",
        "outputId": "4c91ab92-02b2-4de6-b784-dfd28d63e94b"
      },
      "source": [
        "preds, pred_values = get_preds_as_nparray(DatasetType.Valid)"
      ],
      "execution_count": 94,
      "outputs": [
        {
          "output_type": "display_data",
          "data": {
            "text/html": [
              ""
            ],
            "text/plain": [
              "<IPython.core.display.HTML object>"
            ]
          },
          "metadata": {
            "tags": []
          }
        }
      ]
    },
    {
      "cell_type": "code",
      "metadata": {
        "colab": {
          "base_uri": "https://localhost:8080/"
        },
        "id": "7LPEEoZfMSNv",
        "outputId": "272ad0fa-0be4-42b6-845b-a9588fafce52"
      },
      "source": [
        "pred_values"
      ],
      "execution_count": 64,
      "outputs": [
        {
          "output_type": "execute_result",
          "data": {
            "text/plain": [
              "array([0, 1, 0, 0, ..., 1, 1, 1, 1])"
            ]
          },
          "metadata": {
            "tags": []
          },
          "execution_count": 64
        }
      ]
    },
    {
      "cell_type": "markdown",
      "metadata": {
        "id": "ABB5HNDSSVo_"
      },
      "source": [
        "## Calculate Accuracy on validation dataset"
      ]
    },
    {
      "cell_type": "code",
      "metadata": {
        "colab": {
          "base_uri": "https://localhost:8080/"
        },
        "id": "nDZkfZe-MX1o",
        "outputId": "6f9361bc-f79a-4c0d-e5ca-243f8febb645"
      },
      "source": [
        "# accuracy on valid\n",
        "(pred_values == data.valid_ds.y.items).mean()"
      ],
      "execution_count": 95,
      "outputs": [
        {
          "output_type": "execute_result",
          "data": {
            "text/plain": [
              "0.8956310679611651"
            ]
          },
          "metadata": {
            "tags": []
          },
          "execution_count": 95
        }
      ]
    },
    {
      "cell_type": "markdown",
      "metadata": {
        "id": "mGTiT_8aSeAZ"
      },
      "source": [
        "## Confusion Matrix"
      ]
    },
    {
      "cell_type": "code",
      "metadata": {
        "colab": {
          "base_uri": "https://localhost:8080/",
          "height": 311
        },
        "id": "Le8yxZUFM7KQ",
        "outputId": "ba3f9351-9c13-4a5b-f6e8-d9093955755a"
      },
      "source": [
        "interp = ClassificationInterpretation.from_learner(learn)\n",
        "interp.plot_confusion_matrix()"
      ],
      "execution_count": 96,
      "outputs": [
        {
          "output_type": "display_data",
          "data": {
            "text/html": [
              ""
            ],
            "text/plain": [
              "<IPython.core.display.HTML object>"
            ]
          },
          "metadata": {
            "tags": []
          }
        },
        {
          "output_type": "display_data",
          "data": {
            "image/png": "[encoded data removed]",
            "text/plain": [
              "<Figure size 432x288 with 1 Axes>"
            ]
          },
          "metadata": {
            "tags": [],
            "needs_background": "light"
          }
        }
      ]
    },
    {
      "cell_type": "markdown",
      "metadata": {
        "id": "vVTLT-VdSnsS"
      },
      "source": [
        "## Make Predictions on Test Data"
      ]
    },
    {
      "cell_type": "code",
      "metadata": {
        "colab": {
          "base_uri": "https://localhost:8080/",
          "height": 16
        },
        "id": "a0ZS6N1YSqcG",
        "outputId": "e4859fff-c4b1-4456-e1e3-ecad8bfeb464"
      },
      "source": [
        "test_preds = get_preds_as_nparray(DatasetType.Test)"
      ],
      "execution_count": 97,
      "outputs": [
        {
          "output_type": "display_data",
          "data": {
            "text/html": [
              ""
            ],
            "text/plain": [
              "<IPython.core.display.HTML object>"
            ]
          },
          "metadata": {
            "tags": []
          }
        }
      ]
    },
    {
      "cell_type": "code",
      "metadata": {
        "id": "sJoNeF8tStNF"
      },
      "source": [
        "test['prediction'] = test_preds[1].tolist()"
      ],
      "execution_count": 101,
      "outputs": []
    },
    {
      "cell_type": "code",
      "metadata": {
        "colab": {
          "base_uri": "https://localhost:8080/",
          "height": 202
        },
        "id": "LU-lV6S8S8Cl",
        "outputId": "d80639d5-ee4b-4929-d8ac-1c5df69c0dff"
      },
      "source": [
        "test.head()"
      ],
      "execution_count": 102,
      "outputs": [
        {
          "output_type": "execute_result",
          "data": {
            "text/html": [
              "<div>\n",
              "<style scoped>\n",
              "    .dataframe tbody tr th:only-of-type {\n",
              "        vertical-align: middle;\n",
              "    }\n",
              "\n",
              "    .dataframe tbody tr th {\n",
              "        vertical-align: top;\n",
              "    }\n",
              "\n",
              "    .dataframe thead th {\n",
              "        text-align: right;\n",
              "    }\n",
              "</style>\n",
              "<table border=\"1\" class=\"dataframe\">\n",
              "  <thead>\n",
              "    <tr style=\"text-align: right;\">\n",
              "      <th></th>\n",
              "      <th>review</th>\n",
              "      <th>prediction</th>\n",
              "    </tr>\n",
              "  </thead>\n",
              "  <tbody>\n",
              "    <tr>\n",
              "      <th>0</th>\n",
              "      <td>great service food</td>\n",
              "      <td>1</td>\n",
              "    </tr>\n",
              "    <tr>\n",
              "      <th>1</th>\n",
              "      <td>pairing iphone could happier far</td>\n",
              "      <td>1</td>\n",
              "    </tr>\n",
              "    <tr>\n",
              "      <th>2</th>\n",
              "      <td>plot hole pair fishnet stocking direction edit...</td>\n",
              "      <td>1</td>\n",
              "    </tr>\n",
              "    <tr>\n",
              "      <th>3</th>\n",
              "      <td>surely doesnt know make coherent action movie ...</td>\n",
              "      <td>0</td>\n",
              "    </tr>\n",
              "    <tr>\n",
              "      <th>4</th>\n",
              "      <td>still quite interesting entertaining follow</td>\n",
              "      <td>1</td>\n",
              "    </tr>\n",
              "  </tbody>\n",
              "</table>\n",
              "</div>"
            ],
            "text/plain": [
              "                                              review  prediction\n",
              "0                                 great service food           1\n",
              "1                   pairing iphone could happier far           1\n",
              "2  plot hole pair fishnet stocking direction edit...           1\n",
              "3  surely doesnt know make coherent action movie ...           0\n",
              "4        still quite interesting entertaining follow           1"
            ]
          },
          "metadata": {
            "tags": []
          },
          "execution_count": 102
        }
      ]
    },
    {
      "cell_type": "markdown",
      "metadata": {
        "id": "W5E24lUATS9z"
      },
      "source": [
        "## Download Predictions to a csv file"
      ]
    },
    {
      "cell_type": "code",
      "metadata": {
        "id": "xxtri83yTSIk"
      },
      "source": [
        "test[['prediction']].to_csv('Roberta.csv',index=False)"
      ],
      "execution_count": 103,
      "outputs": []
    },
    {
      "cell_type": "markdown",
      "metadata": {
        "id": "WbdKR3x2TpiL"
      },
      "source": [
        "* **Submission successful! Your score is 83.09037900874635.**"
      ]
    }
  ]
}